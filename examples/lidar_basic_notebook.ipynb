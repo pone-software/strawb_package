{
 "cells": [
  {
   "cell_type": "code",
   "execution_count": null,
   "metadata": {},
   "outputs": [],
   "source": [
    "%matplotlib notebook\n",
    "\n",
    "# This examples shows who to download files from the ONC server\n",
    "import glob\n",
    "import os\n",
    "\n",
    "import numpy as np\n",
    "import datetime\n",
    "import matplotlib.pyplot as plt\n",
    "import matplotlib.dates as mdates\n",
    "\n",
    "import strawb\n",
    "import strawb.sensors.lidar\n",
    "import strawb.tools\n",
    "\n",
    "import plotly\n",
    "import plotly.graph_objs as go\n",
    "import plotly.express as px\n",
    "import pandas\n",
    "import plotly.io as pio\n",
    "pio.templates.default = \"plotly_white\"\n",
    "\n",
    "import random\n",
    "\n",
    "plt.rcParams.update({\"text.usetex\": False})  # fix time fmt of x_ticks"
   ]
  },
  {
   "cell_type": "markdown",
   "metadata": {},
   "source": [
    "# Load ONC DB and mask files of interest"
   ]
  },
  {
   "cell_type": "code",
   "execution_count": null,
   "metadata": {},
   "outputs": [],
   "source": [
    "# Check if DB exits, if not load it, but update it anyway\n",
    "if os.path.exists(strawb.Config.pandas_file_sync_db):\n",
    "    db = strawb.SyncDBHandler()  # loads the db from disc\n",
    "else:\n",
    "    db = strawb.SyncDBHandler(load_db=False)  # loads the db from ONC server\n",
    "\n",
    "db.load_onc_db_update(output=True, save_db=True)"
   ]
  },
  {
   "cell_type": "code",
   "execution_count": null,
   "metadata": {},
   "outputs": [],
   "source": [
    "# mask by device\n",
    "mask = db.dataframe['deviceCode'] == 'TUMLIDAR001'\n",
    "mask |= db.dataframe['deviceCode'] == 'TUMLIDAR002'\n",
    "\n",
    "mask &= db.dataframe.dataProductCode == 'LIDARSD'\n",
    "\n",
    "# 'measurement_type', 'file_version' and others are available once the files are synced\n",
    "# as the ONC DB isn't holding those informations. \n",
    "# A workaround is to donwload the DB from the VM which has all files loaded.\n",
    "# mask &= db.dataframe['measurement_type'] == 'laser_adjustment'\n",
    "\n",
    "db.dataframe[mask]  # plot the table"
   ]
  },
  {
   "cell_type": "markdown",
   "metadata": {},
   "source": [
    "# Get one file by time"
   ]
  },
  {
   "cell_type": "code",
   "execution_count": null,
   "metadata": {},
   "outputs": [],
   "source": [
    "mask_f = mask.copy()\n",
    "\n",
    "# get one specified file - 'TUMLIDAR001_20211118T153858.552Z-SDAQ-LIDAR.hdf5'\n",
    "mask_f &= db.dataframe.dateFrom >= \"2021-11-18T1530\"\n",
    "mask_f &= db.dataframe.dateFrom < \"2021-11-18T1540\"\n",
    "\n",
    "db.dataframe[mask_f]  # plot the table"
   ]
  },
  {
   "cell_type": "code",
   "execution_count": null,
   "metadata": {},
   "outputs": [],
   "source": [
    "# download the file, in case it isn't synced - otherwise skipp it\n",
    "db.get_files_from_names(db.dataframe[mask_f].filename)"
   ]
  },
  {
   "cell_type": "markdown",
   "metadata": {},
   "source": [
    "## Load the file"
   ]
  },
  {
   "cell_type": "code",
   "execution_count": null,
   "metadata": {},
   "outputs": [],
   "source": [
    "lidar = strawb.sensors.lidar.Lidar(file=db.dataframe[mask_f].fullPath.iloc[0])\n",
    "lidar.file_handler.file_attributes  # show the file attributes, time in seconds since epoch (1.1.1970) UTC"
   ]
  },
  {
   "cell_type": "code",
   "execution_count": null,
   "metadata": {},
   "outputs": [],
   "source": [
    "# What is in the file:\n",
    "for i in lidar.file_handler.__members__:\n",
    "    print(f'{i:30} : {lidar.file_handler.__getattribute__(i)}')"
   ]
  },
  {
   "cell_type": "markdown",
   "metadata": {},
   "source": [
    "# Plotting with pandas and plotly"
   ]
  },
  {
   "cell_type": "markdown",
   "metadata": {},
   "source": [
    "## Set up plotting function"
   ]
  },
  {
   "cell_type": "code",
   "execution_count": null,
   "metadata": {},
   "outputs": [],
   "source": [
    "def multiline_plot(data_frame):\n",
    "    columns = list(set(data_frame.columns).difference(['time']))\n",
    "    \n",
    "    fig = plotly.subplots.make_subplots(shared_xaxes=True,\n",
    "                                        rows=len(columns),\n",
    "                                        cols=1, \n",
    "                                        #subplot_titles=columns\n",
    "                                       )\n",
    "\n",
    "\n",
    "    fig.update_layout(\n",
    "        width=800,\n",
    "        height=150+100*len(columns),)\n",
    "\n",
    "    j = 1\n",
    "    for i, column_i in enumerate(columns):\n",
    "        fig.add_trace(go.Scatter(x=data_frame['time'], \n",
    "                                 y=data_frame[column_i],\n",
    "                                 name=column_i), \n",
    "                      row=i+1, col=1\n",
    "                     )\n",
    "\n",
    "    return fig"
   ]
  },
  {
   "cell_type": "markdown",
   "metadata": {},
   "source": [
    "## Get the DataFrames"
   ]
  },
  {
   "cell_type": "code",
   "execution_count": null,
   "metadata": {},
   "outputs": [],
   "source": [
    "df_daq = lidar.file_handler.get_pandas_daq()\n",
    "df_gimbal = lidar.file_handler.get_pandas_gimbal()\n",
    "df_laser = lidar.file_handler.get_pandas_laser()\n",
    "\n",
    "df_tot = lidar.file_handler.get_pandas_tot()\n",
    "df_counts = lidar.file_handler.get_pandas_counts()\n",
    "\n",
    "df_measurement = lidar.file_handler.get_pandas_measurement()\n",
    "\n",
    "df_dcounts = lidar.trb_rates.get_pandas_dcounts()\n",
    "df_rates = lidar.trb_rates.get_pandas_rate()"
   ]
  },
  {
   "cell_type": "markdown",
   "metadata": {},
   "source": [
    "## Basic plots to show the dataFrames"
   ]
  },
  {
   "cell_type": "code",
   "execution_count": null,
   "metadata": {},
   "outputs": [],
   "source": [
    "fig = multiline_plot(df_daq)\n",
    "fig.show()"
   ]
  },
  {
   "cell_type": "code",
   "execution_count": null,
   "metadata": {},
   "outputs": [],
   "source": [
    "fig = multiline_plot(df_gimbal)\n",
    "fig.show()"
   ]
  },
  {
   "cell_type": "code",
   "execution_count": null,
   "metadata": {},
   "outputs": [],
   "source": [
    "fig = multiline_plot(df_laser)\n",
    "fig.show()"
   ]
  },
  {
   "cell_type": "code",
   "execution_count": null,
   "metadata": {},
   "outputs": [],
   "source": [
    "fig = multiline_plot(df_measurement)\n",
    "fig.show()"
   ]
  },
  {
   "cell_type": "code",
   "execution_count": null,
   "metadata": {},
   "outputs": [],
   "source": [
    "# Plot the first 10'000 TOT data, as all is a lot of data\n",
    "fig = multiline_plot(df_tot.iloc[:10000])\n",
    "fig.show()\n",
    "\n",
    "df_tot.shape"
   ]
  },
  {
   "cell_type": "code",
   "execution_count": null,
   "metadata": {},
   "outputs": [],
   "source": [
    "# Plot the first 10'000 counter data, as it's less but 100Hz has some size.\n",
    "# Moreover those values have to be processed further. -> df_rates\n",
    "fig = multiline_plot(df_counts.iloc[:10000])\n",
    "fig.show()\n",
    "\n",
    "df_counts.shape"
   ]
  },
  {
   "cell_type": "markdown",
   "metadata": {},
   "source": [
    "# Counts and Rates"
   ]
  },
  {
   "cell_type": "code",
   "execution_count": null,
   "metadata": {},
   "outputs": [],
   "source": [
    "# dcounts are the diff of the stored TRB counts readings. As the readings can jitter a bit, dcounts_pmt jitter, too\n",
    "# to correct devide by dcounts_time to get a rate (or take df_rates) or \n",
    "# by dcounts_laser to get a success rate [events/trigger]\n",
    "fig = multiline_plot(df_dcounts.iloc[:10000])\n",
    "fig.show()"
   ]
  },
  {
   "cell_type": "code",
   "execution_count": null,
   "metadata": {},
   "outputs": [],
   "source": [
    "fig = multiline_plot(df_rates.iloc[:10000])\n",
    "fig.show()"
   ]
  },
  {
   "cell_type": "code",
   "execution_count": null,
   "metadata": {},
   "outputs": [],
   "source": []
  }
 ],
 "metadata": {
  "kernelspec": {
   "display_name": "Python 3",
   "language": "python",
   "name": "python3"
  },
  "language_info": {
   "codemirror_mode": {
    "name": "ipython",
    "version": 3
   },
   "file_extension": ".py",
   "mimetype": "text/x-python",
   "name": "python",
   "nbconvert_exporter": "python",
   "pygments_lexer": "ipython3",
   "version": "3.7.10"
  }
 },
 "nbformat": 4,
 "nbformat_minor": 4
}
