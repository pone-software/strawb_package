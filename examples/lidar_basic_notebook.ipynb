{
 "cells": [
  {
   "cell_type": "code",
   "execution_count": null,
   "metadata": {},
   "outputs": [],
   "source": [
    "%matplotlib notebook\n",
    "\n",
    "# This examples shows who to download files from the ONC server\n",
    "import glob\n",
    "import os\n",
    "\n",
    "import numpy as np\n",
    "import datetime\n",
    "import matplotlib.pyplot as plt\n",
    "import matplotlib.dates as mdates\n",
    "\n",
    "import strawb\n",
    "import strawb.sensors.lidar\n",
    "import strawb.tools\n",
    "\n",
    "import plotly\n",
    "import plotly.graph_objs as go\n",
    "import plotly.express as px\n",
    "import pandas\n",
    "import plotly.io as pio\n",
    "pio.templates.default = \"plotly_white\"\n",
    "\n",
    "import random\n",
    "\n",
    "plt.rcParams.update({\"text.usetex\": False})  # fix time fmt of x_ticks"
   ]
  },
  {
   "cell_type": "markdown",
   "metadata": {},
   "source": [
    "# Get a working file\n",
    "## Option 1:\n",
    "Get file from DB and df5 attribute measurement_type"
   ]
  },
  {
   "cell_type": "code",
   "execution_count": null,
   "metadata": {},
   "outputs": [],
   "source": [
    "# in case execute db.load_entire_db_from_ONC() to load the entire db\n",
    "db = strawb.SyncDBHandler(file_name='Default')  # loads the db"
   ]
  },
  {
   "cell_type": "code",
   "execution_count": null,
   "metadata": {},
   "outputs": [],
   "source": [
    "# mask by device\n",
    "mask = db.dataframe['deviceCode'] == 'TUMLIDAR001'\n",
    "mask |= db.dataframe['deviceCode'] == 'TUMLIDAR002'\n",
    "\n",
    "# and add mask by 'measurement_type'\n",
    "mask &= db.dataframe['measurement_type'] == 'laser_adjustment'\n",
    "\n",
    "db.dataframe[mask]  # plot the table"
   ]
  },
  {
   "cell_type": "markdown",
   "metadata": {},
   "source": [
    "# Option 2\n",
    "search in the strawb.Config.raw_data_dir for all files with the a given pattern"
   ]
  },
  {
   "cell_type": "code",
   "execution_count": null,
   "metadata": {},
   "outputs": [],
   "source": [
    "def find_files():\n",
    "    # Get all files available\n",
    "    # takes one file randomly, takes some seconds\n",
    "    file_list = strawb.sensors.lidar.FileHandler.find_files('*-SDAQ-LIDAR.hdf5',\n",
    "                                                            directory=strawb.Config.raw_data_dir,\n",
    "                                                            recursive=True,\n",
    "                                                            raise_nothing_found=True)\n",
    "    return file_list"
   ]
  },
  {
   "cell_type": "markdown",
   "metadata": {},
   "source": [
    "## Helper function"
   ]
  },
  {
   "cell_type": "code",
   "execution_count": null,
   "metadata": {},
   "outputs": [],
   "source": [
    "def get_working_file_randomly(file_list, file_version=1):\n",
    "    \"\"\"Some files fails with the file_handler, i.e., if a group is missing for older SDAQ versions.\n",
    "    To get one file randomly which works, try it until it works.\n",
    "    \"\"\"\n",
    "\n",
    "    success = False\n",
    "    file_list_trials = file_list.copy()\n",
    "    while len(file_list_trials) > 0 and not success:\n",
    "        i = np.random.randint(0,len(file_list_trials))\n",
    "        full_path = file_list_trials[i]\n",
    "        try:\n",
    "            lidar = strawb.sensors.lidar.FileHandler(full_path)\n",
    "        except Exception as a:\n",
    "            file_list_trials.pop(i)\n",
    "            print(f'Error: {full_path} failed with: {a}')\n",
    "        else:\n",
    "            print(f'Success: {full_path}, file_version={lidar.file_version}')\n",
    "            if lidar.file_version >= file_version:\n",
    "                return full_path\n",
    "            \n",
    "    return None\n",
    "        "
   ]
  },
  {
   "cell_type": "markdown",
   "metadata": {},
   "source": [
    "## Get a working file"
   ]
  },
  {
   "cell_type": "code",
   "execution_count": null,
   "metadata": {},
   "outputs": [],
   "source": [
    "file_version = 3  # select one of [1, 2, 3]\n",
    "\n",
    "if True:\n",
    "    file_list = db.dataframe[mask]['fullPath'].to_list()\n",
    "else:\n",
    "    file_list = find_files()\n",
    "\n",
    "full_path = get_working_file_randomly(file_list, file_version)  # select a random file\n",
    "\n",
    "print(f'Use: {full_path}')"
   ]
  },
  {
   "cell_type": "markdown",
   "metadata": {},
   "source": [
    "## Load the file"
   ]
  },
  {
   "cell_type": "code",
   "execution_count": null,
   "metadata": {},
   "outputs": [],
   "source": [
    "lidar = strawb.sensors.lidar.Lidar(file=full_path)\n",
    "lidar.file_handler.file_attributes  # show the file attributes, time in seconds since epoch (1.1.1970) UTC"
   ]
  },
  {
   "cell_type": "markdown",
   "metadata": {},
   "source": [
    "# Set up plotting function"
   ]
  },
  {
   "cell_type": "code",
   "execution_count": null,
   "metadata": {},
   "outputs": [],
   "source": [
    "def multiline_plot(data_frame):\n",
    "    columns = list(set(data_frame.columns).difference(['time']))\n",
    "    \n",
    "    fig = plotly.subplots.make_subplots(shared_xaxes=True,\n",
    "                                        rows=len(columns),\n",
    "                                        cols=1, \n",
    "                                        #subplot_titles=columns\n",
    "                                       )\n",
    "\n",
    "\n",
    "    fig.update_layout(\n",
    "        width=800,\n",
    "        height=150+100*len(columns),)\n",
    "\n",
    "    j = 1\n",
    "    for i, column_i in enumerate(columns):\n",
    "        fig.add_trace(go.Scatter(x=data_frame['time'], \n",
    "                                 y=data_frame[column_i],\n",
    "                                 name=column_i), \n",
    "                      row=i+1, col=1\n",
    "                     )\n",
    "\n",
    "    return fig"
   ]
  },
  {
   "cell_type": "markdown",
   "metadata": {},
   "source": [
    "# Plotting with pandas and plotly"
   ]
  },
  {
   "cell_type": "code",
   "execution_count": null,
   "metadata": {},
   "outputs": [],
   "source": [
    "df_daq = lidar.file_handler.get_pandas_daq()\n",
    "df_gimbal = lidar.file_handler.get_pandas_gimbal()\n",
    "df_laser = lidar.file_handler.get_pandas_laser()\n",
    "\n",
    "df_tot = lidar.file_handler.get_pandas_tot()\n",
    "df_counts = lidar.file_handler.get_pandas_counts()\n",
    "\n",
    "df_measurement = lidar.file_handler.get_pandas_measurement()\n",
    "\n",
    "df_dcounts = lidar.pds.get_pandas_dcounts()\n",
    "df_rates = lidar.pds.get_pandas_rate()"
   ]
  },
  {
   "cell_type": "markdown",
   "metadata": {},
   "source": [
    "# Basic plots direct from file"
   ]
  },
  {
   "cell_type": "code",
   "execution_count": null,
   "metadata": {},
   "outputs": [],
   "source": [
    "fig = multiline_plot(df_daq)\n",
    "fig.show()"
   ]
  },
  {
   "cell_type": "code",
   "execution_count": null,
   "metadata": {},
   "outputs": [],
   "source": [
    "fig = multiline_plot(df_gimbal)\n",
    "fig.show()"
   ]
  },
  {
   "cell_type": "code",
   "execution_count": null,
   "metadata": {},
   "outputs": [],
   "source": [
    "fig = multiline_plot(df_laser)\n",
    "fig.show()"
   ]
  },
  {
   "cell_type": "code",
   "execution_count": null,
   "metadata": {},
   "outputs": [],
   "source": [
    "fig = multiline_plot(df_measurement)\n",
    "fig.show()"
   ]
  },
  {
   "cell_type": "code",
   "execution_count": null,
   "metadata": {},
   "outputs": [],
   "source": [
    "# # Don't plot TOT data, it's a lot of data\n",
    "# fig = multiline_plot(df_tot)\n",
    "# fig.show()\n",
    "\n",
    "df_tot.shape"
   ]
  },
  {
   "cell_type": "code",
   "execution_count": null,
   "metadata": {},
   "outputs": [],
   "source": [
    "# # Don't plot counter data, it's less but 100Hz has some size.\n",
    "# # Moreover those values have to be processed further. -> df_rates\n",
    "# fig = multiline_plot(df_counter)\n",
    "# fig.show()\n",
    "\n",
    "df_counts.shape"
   ]
  },
  {
   "cell_type": "markdown",
   "metadata": {},
   "source": [
    "# Counts and Rates"
   ]
  },
  {
   "cell_type": "code",
   "execution_count": null,
   "metadata": {},
   "outputs": [],
   "source": [
    "# dcounts are the diff of the stored TRB counts readings. As the readings can jitter a bit, dcounts_pmt jitter, too\n",
    "# to correct devide by dcounts_time to get a rate (or take df_rates) or \n",
    "# by dcounts_laser to get a success rate [events/trigger]\n",
    "fig = multiline_plot(df_dcounts)\n",
    "fig.show()"
   ]
  },
  {
   "cell_type": "code",
   "execution_count": null,
   "metadata": {},
   "outputs": [],
   "source": [
    "fig = multiline_plot(df_rates)\n",
    "fig.show()"
   ]
  },
  {
   "cell_type": "code",
   "execution_count": null,
   "metadata": {},
   "outputs": [],
   "source": []
  }
 ],
 "metadata": {
  "kernelspec": {
   "display_name": "Python 3",
   "language": "python",
   "name": "python3"
  },
  "language_info": {
   "codemirror_mode": {
    "name": "ipython",
    "version": 3
   },
   "file_extension": ".py",
   "mimetype": "text/x-python",
   "name": "python",
   "nbconvert_exporter": "python",
   "pygments_lexer": "ipython3",
   "version": "3.7.10"
  }
 },
 "nbformat": 4,
 "nbformat_minor": 4
}
