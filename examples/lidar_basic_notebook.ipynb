{
 "cells": [
  {
   "cell_type": "code",
   "execution_count": null,
   "metadata": {},
   "outputs": [],
   "source": [
    "%matplotlib notebook\n",
    "\n",
    "# This examples shows who to download files from the ONC server\n",
    "import glob\n",
    "import os\n",
    "\n",
    "import numpy as np\n",
    "import datetime\n",
    "import matplotlib.pyplot as plt\n",
    "import matplotlib.dates as mdates\n",
    "\n",
    "import strawb\n",
    "import strawb.sensors.lidar\n",
    "import strawb.tools\n",
    "\n",
    "import plotly\n",
    "import plotly.graph_objs as go\n",
    "import plotly.express as px\n",
    "import pandas\n",
    "import plotly.io as pio\n",
    "pio.templates.default = \"plotly_white\"\n",
    "\n",
    "import random\n",
    "\n",
    "plt.rcParams.update({\"text.usetex\": False})  # fix time fmt of x_ticks"
   ]
  },
  {
   "cell_type": "code",
   "execution_count": null,
   "metadata": {},
   "outputs": [],
   "source": [
    "def get_working_file_randomly(file_list):\n",
    "    \"\"\"Some files fails with the file_handler, i.e., if a group is missing for older SDAQ versions.\n",
    "    To get one file randomly which works, try it untill it works.\n",
    "    \"\"\"\n",
    "\n",
    "    success = False\n",
    "    file_list_trials = file_list.copy()\n",
    "    while len(file_list_trials) > 0 and not success:\n",
    "        i = np.random.randint(0,len(file_list_trials))\n",
    "        full_path = file_list_trials[i]\n",
    "        try:\n",
    "            lidar = strawb.sensors.lidar.FileHandler(full_path)\n",
    "        except Exception as a:\n",
    "            file_list_trials.pop(i)\n",
    "            print(f'Error: {full_path} failed with: {a}')\n",
    "        else:\n",
    "            print(f'Success: {full_path}')\n",
    "            return full_path\n",
    "    return None\n",
    "        "
   ]
  },
  {
   "cell_type": "code",
   "execution_count": null,
   "metadata": {},
   "outputs": [],
   "source": [
    "if True: # takes one file randomly, takes some seconds\n",
    "    file_list = strawb.sensors.lidar.FileHandler.find_files('*-SDAQ-LIDAR.hdf5',\n",
    "                                               directory=strawb.Config.raw_data_dir,\n",
    "                                               recursive=True,\n",
    "                                               raise_nothing_found=True)\n",
    "\n",
    "    full_path = get_working_file_randomly(file_list)  # select a random file\n",
    "else:  # faster\n",
    "    full_path = '/dss/strawb/raw_module_data/tummuontracker001/old_files/sdaq/TUMMUONTRACKER001_20210806T000000.000Z_20210806T235959.999Z-SDAQ-MODULE.hdf5'\n",
    "#file_name = os.path.split(full_path)[-1]\n",
    "\n",
    "print(f'Use: {full_path}')"
   ]
  },
  {
   "cell_type": "code",
   "execution_count": null,
   "metadata": {},
   "outputs": [],
   "source": [
    "lidar = strawb.sensors.lidar.FileHandler(full_path)\n",
    "lidar.file_attributes  # show the file attributes, time in seconds since epoch (1.1.1970) UTC"
   ]
  },
  {
   "cell_type": "markdown",
   "metadata": {},
   "source": [
    "# Set up plotting function"
   ]
  },
  {
   "cell_type": "code",
   "execution_count": null,
   "metadata": {},
   "outputs": [],
   "source": [
    "def multiline_plot(data_frame):\n",
    "    columns = list(set(data_frame.columns).difference(['time']))\n",
    "    \n",
    "    fig = plotly.subplots.make_subplots(shared_xaxes=True,\n",
    "                                        rows=len(columns),\n",
    "                                        cols=1, \n",
    "                                        #subplot_titles=columns\n",
    "                                       )\n",
    "\n",
    "\n",
    "    fig.update_layout(\n",
    "        width=800,\n",
    "        height=150+100*len(columns),)\n",
    "\n",
    "    j = 1\n",
    "    for i, column_i in enumerate(columns):\n",
    "        fig.add_trace(go.Scatter(x=data_frame['time'], \n",
    "                                 y=data_frame[column_i],\n",
    "                                 name=column_i), \n",
    "                      row=i+1, col=1\n",
    "                     )\n",
    "\n",
    "    return fig"
   ]
  },
  {
   "cell_type": "markdown",
   "metadata": {},
   "source": [
    "# Plotting with pandas and plotly"
   ]
  },
  {
   "cell_type": "code",
   "execution_count": null,
   "metadata": {},
   "outputs": [],
   "source": [
    "df_daq = pandas.DataFrame(dict(time = lidar.daq_time.asdatetime()[:],\n",
    "                               frequency_pmt = lidar.daq_frequency_pmt,\n",
    "                               frequency_trigger = lidar.daq_frequency_trigger,\n",
    "                               pmt = lidar.daq_pmt,\n",
    "                               pulser_readout = lidar.daq_pulser_readout,\n",
    "                               pulser_trigger = lidar.daq_pulser_trigger,\n",
    "                               state = lidar.daq_state,\n",
    "                               trb = lidar.daq_trb))"
   ]
  },
  {
   "cell_type": "code",
   "execution_count": null,
   "metadata": {},
   "outputs": [],
   "source": [
    "# Gimbal\n",
    "df_gimabl = pandas.DataFrame(dict(time = lidar.gimbal_time.asdatetime()[:],\n",
    "                                  delay = lidar.gimbal_delay,\n",
    "                                  pos_x = lidar.gimbal_pos_x,\n",
    "                                  pos_y = lidar.gimbal_pos_y,\n",
    "                                  power = lidar.gimbal_power,)\n",
    "                         )"
   ]
  },
  {
   "cell_type": "code",
   "execution_count": null,
   "metadata": {},
   "outputs": [],
   "source": [
    "# Laser\n",
    "df_laser = pandas.DataFrame(dict(time = lidar.laser_time.asdatetime()[:],\n",
    "                                 diode = lidar.laser_diode,\n",
    "                                 frequency = lidar.laser_frequency,\n",
    "                                 power = lidar.laser_power,\n",
    "                                 pulsewidth = lidar.laser_pulsewidth,\n",
    "                                 set_adjust_x = lidar.laser_set_adjust_x,\n",
    "                                 set_adjust_y = lidar.laser_set_adjust_y,)\n",
    "                          )"
   ]
  },
  {
   "cell_type": "markdown",
   "metadata": {},
   "source": [
    "# Basic plots"
   ]
  },
  {
   "cell_type": "code",
   "execution_count": null,
   "metadata": {},
   "outputs": [],
   "source": [
    "fig = multiline_plot(df_daq)\n",
    "fig.show()"
   ]
  },
  {
   "cell_type": "code",
   "execution_count": null,
   "metadata": {},
   "outputs": [],
   "source": [
    "fig = multiline_plot(df_gimabl)\n",
    "fig.show()"
   ]
  },
  {
   "cell_type": "code",
   "execution_count": null,
   "metadata": {},
   "outputs": [],
   "source": [
    "fig = multiline_plot(df_laser)\n",
    "fig.show()"
   ]
  },
  {
   "cell_type": "markdown",
   "metadata": {},
   "source": [
    "# Load a file\n",
    "## can be a single or combined aka. virtual HDF5 file"
   ]
  },
  {
   "cell_type": "code",
   "execution_count": null,
   "metadata": {},
   "outputs": [],
   "source": [
    "# fig, ax = plt.subplots(nrows=8, squeeze=False, figsize=(7,15), sharex=True)\n",
    "# ax = ax.flatten()\n",
    "\n",
    "# i = 0\n",
    "\n",
    "# # ACCEL\n",
    "# strawb.tools.plot_binned_mean(module.accel_time, module.accel_x[:]*9.81, ax=ax[i], label='accel x')\n",
    "# strawb.tools.plot_binned_mean(module.accel_time, module.accel_y[:]*9.81, ax=ax[i], label='accel y')\n",
    "# ax[i].set_ylabel('Accel [m/s**2]')\n",
    "# i += 1\n",
    "# strawb.tools.plot_binned_mean(module.accel_time, module.accel_z[:]*9.81, ax=ax[i], label='accel z')\n",
    "# ax[i].set_ylabel('Accel [m/s**2]')\n",
    "# i += 1\n",
    "\n",
    "# # Magnet\n",
    "# strawb.tools.plot_binned_mean(module.magneto_time, module.magneto_x, ax=ax[i], label='magneto x')\n",
    "# strawb.tools.plot_binned_mean(module.magneto_time, module.magneto_y, ax=ax[i], label='magneto y')\n",
    "# strawb.tools.plot_binned_mean(module.magneto_time, module.magneto_z, ax=ax[i], label='magneto z')\n",
    "# ax[i].set_ylabel('Magneto [a.u.]')\n",
    "# i += 1\n",
    "\n",
    "# # TEMP.\n",
    "# strawb.tools.plot_binned_mean(module.temperatures_time, module.temperatures_temp1, ax=ax[i], label='temp 1')\n",
    "# strawb.tools.plot_binned_mean(module.temperatures_time, module.temperatures_temp2, ax=ax[i], label='temp 2')\n",
    "# ax[i].set_ylabel('Temp [C]')\n",
    "# i += 1\n",
    "# strawb.tools.plot_binned_mean(module.temperatures_time, module.temperatures_temp3, ax=ax[i], label='temp 3')\n",
    "# ax[i].set_ylabel('Temp [C]')\n",
    "# i += 1\n",
    "\n",
    "# # PTH\n",
    "# strawb.tools.plot_binned_mean(module.pth_time, module.pth_temperature, ax=ax[i], label='temp pth')\n",
    "# ax[i].set_ylabel('Temp [C]')\n",
    "# i += 1\n",
    "\n",
    "# strawb.tools.plot_binned_mean(module.pth_time, module.pth_humidity, ax=ax[i], label='pth humidity')\n",
    "# ax[i].set_ylabel('humidity [per]')\n",
    "# i += 1\n",
    "\n",
    "# strawb.tools.plot_binned_mean(module.pth_time, module.pth_pressure, ax=ax[i], label='pth pressure')\n",
    "# ax[i].set_ylabel('pressure [mbar]')\n",
    "# i += 1\n",
    "\n",
    "# for ax_i in ax:\n",
    "#     ax_i.legend(loc=1)\n",
    "#     ax_i.grid()\n",
    "\n",
    "# # # set limits\n",
    "# # limits = np.array([[ax_i.dataLim.x0, ax_i.dataLim.x1] for ax_i in ax])\n",
    "# # ax[-1].set_xlim((limits[:,0].min(), limits[:,1].max()))\n",
    "    \n",
    "# fig.autofmt_xdate()\n",
    "# locator = mdates.AutoDateLocator()\n",
    "# #fmt = mdates.AutoDateFormatter(locator, usetex=True)\n",
    "# fmt = mdates.ConciseDateFormatter(locator)\n",
    "# ax[-1].xaxis.set_major_formatter(fmt)\n",
    "# plt.tight_layout()"
   ]
  },
  {
   "cell_type": "code",
   "execution_count": null,
   "metadata": {},
   "outputs": [],
   "source": [
    "# limits = np.array([[ax_i.dataLim.x0, ax_i.dataLim.x1] for ax_i in ax])\n",
    "# limits"
   ]
  },
  {
   "cell_type": "markdown",
   "metadata": {},
   "source": [
    "## plot multiple modules (currently doesn't work: needs viratul hdf5 files or a file per moduel)"
   ]
  },
  {
   "cell_type": "code",
   "execution_count": null,
   "metadata": {},
   "outputs": [],
   "source": [
    "# module_list = []\n",
    "\n",
    "# for dev_i in strawb.dev_codes_deployed:\n",
    "#     # get a list with all filenames that should be included in the virtual HDF5 file\n",
    "#     f_names = glob.glob(f'{strawb.Config.raw_data_dir}/{dev_i}_*MODULE.hdf5')\n",
    "#     f_names.sort()  # f_names should be sorted\n",
    "\n",
    "#     # create the virtual HDF5 file, f_names should be sorted, otherwise the data isn't sorted\n",
    "#     virtual_hdf5_gen = strawb.VirtualHDF5(f'{dev_i}_MODULE.h5',\n",
    "#                                           f_names,\n",
    "#                                           obj_dict_filter=strawb.DatasetsInGroupSameSize)\n",
    "\n",
    "#     module_list.append(strawb.sensors.module.FileHandler(f'{dev_i}_MODULE.h5'))"
   ]
  },
  {
   "cell_type": "code",
   "execution_count": null,
   "metadata": {},
   "outputs": [],
   "source": [
    "# fig, ax = plt.subplots(nrows=6, squeeze=False, figsize=(10,15), sharex=True)\n",
    "# ax = ax.flatten()\n",
    "\n",
    "\n",
    "# for module in module_list:\n",
    "#     print(module.module)\n",
    "#     i = 0\n",
    "#     # TEMP.\n",
    "#     mask = module.temperatures_time[:] > datetime.datetime(year=2020,month=12,day=1).timestamp()\n",
    "#     plot_time = module.temperatures_time[:][mask]\n",
    "#     strawb.tools.plot_binned_mean(plot_time, module.temperatures_temp1[:][mask],\n",
    "#                                   ax=ax[i], label=f'temp 1 {module.module}')\n",
    "#     ax[i].set_ylabel('Temp [C]')\n",
    "#     i += 1\n",
    "\n",
    "#     strawb.tools.plot_binned_mean(plot_time, module.temperatures_temp2[:][mask],\n",
    "#                                   ax=ax[i], label=f'temp 2 {module.module}')\n",
    "#     ax[i].set_ylabel('Temp [C]')\n",
    "#     i += 1\n",
    "\n",
    "#     strawb.tools.plot_binned_mean(plot_time, module.temperatures_temp3[:][mask],\n",
    "#                                   ax=ax[i], label=f'temp 3 {module.module}')\n",
    "#     ax[i].set_ylabel('Temp [C]')\n",
    "#     i += 1\n",
    "\n",
    "#     # PTH\n",
    "#     mask = module.pth_time[:] > datetime.datetime(year=2020,month=12,day=1).timestamp()\n",
    "#     plot_time = module.pth_time[:][mask]\n",
    "#     strawb.tools.plot_binned_mean(plot_time, module.pth_temperature[:][mask],\n",
    "#                                   ax=ax[i], label=f'temp pth {module.module}')\n",
    "#     ax[i].set_ylabel('Temp [C]')\n",
    "#     i += 1\n",
    "\n",
    "#     strawb.tools.plot_binned_mean(plot_time, module.pth_humidity[:][mask],\n",
    "#                                   ax=ax[i], label=f'pth humidity {module.module}')\n",
    "#     ax[i].set_ylabel('humidity [per]')\n",
    "#     i += 1\n",
    "\n",
    "#     strawb.tools.plot_binned_mean(plot_time, module.pth_pressure[:][mask],\n",
    "#                                   ax=ax[i], label=f'pth pressure {module.module}')\n",
    "#     ax[i].set_ylabel('pressure [mbar]')\n",
    "#     i += 1\n",
    "\n",
    "# for ax_i in ax:\n",
    "#     ax_i.legend(loc=0)\n",
    "#     ax_i.grid()\n",
    "\n",
    "# # set limits\n",
    "# limits = np.array([[ax_i.dataLim.x0, ax_i.dataLim.x1] for ax_i in ax])\n",
    "# ax[-1].set_xlim((limits[:,0].min(), limits[:,1].max()))\n",
    "    \n",
    "# fig.autofmt_xdate()\n",
    "# locator = mdates.AutoDateLocator()\n",
    "# #fmt = mdates.AutoDateFormatter(locator, usetex=True)\n",
    "# fmt = mdates.ConciseDateFormatter(locator)\n",
    "# ax[-1].xaxis.set_major_formatter(fmt)\n",
    "# plt.tight_layout()"
   ]
  },
  {
   "cell_type": "code",
   "execution_count": null,
   "metadata": {},
   "outputs": [],
   "source": []
  }
 ],
 "metadata": {
  "kernelspec": {
   "display_name": "Python 3",
   "language": "python",
   "name": "python3"
  },
  "language_info": {
   "codemirror_mode": {
    "name": "ipython",
    "version": 3
   },
   "file_extension": ".py",
   "mimetype": "text/x-python",
   "name": "python",
   "nbconvert_exporter": "python",
   "pygments_lexer": "ipython3",
   "version": "3.7.10"
  }
 },
 "nbformat": 4,
 "nbformat_minor": 4
}
