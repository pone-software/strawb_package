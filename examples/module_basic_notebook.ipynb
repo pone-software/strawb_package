{
 "cells": [
  {
   "cell_type": "code",
   "execution_count": null,
   "metadata": {},
   "outputs": [],
   "source": [
    "%matplotlib notebook\n",
    "\n",
    "# This examples shows who to download files from the ONC server\n",
    "import glob\n",
    "import os\n",
    "\n",
    "import numpy as np\n",
    "import datetime\n",
    "import matplotlib.pyplot as plt\n",
    "import matplotlib.dates as mdates\n",
    "\n",
    "import strawb\n",
    "import strawb.sensors.module\n",
    "import strawb.tools\n",
    "\n",
    "import plotly.express as px\n",
    "import pandas\n",
    "import plotly.io as pio\n",
    "pio.templates.default = \"plotly_white\"\n",
    "\n",
    "import random\n",
    "\n",
    "plt.rcParams.update({\"text.usetex\": False})  # fix time fmt of x_ticks"
   ]
  },
  {
   "cell_type": "code",
   "execution_count": null,
   "metadata": {},
   "outputs": [],
   "source": [
    "# in case execute db.load_entire_db_from_ONC() to load the entire db\n",
    "db = strawb.SyncDBHandler()  # loads the db\n",
    "db.load_onc_db_update(output=True, save_db=True)"
   ]
  },
  {
   "cell_type": "markdown",
   "metadata": {},
   "source": [
    "## Select the files of interest"
   ]
  },
  {
   "cell_type": "code",
   "execution_count": null,
   "metadata": {},
   "outputs": [],
   "source": [
    "timestamp = np.datetime64('2021-09-01T01:00', 'h')  # the time of interst\n",
    "timerange = np.timedelta64(7*24, \"h\")  # select files covering the [timestamp, timestamp+timerange]\n",
    "\n",
    "# Mask files based on 'dateFrom' and 'dateTo' which overlap with the time range\n",
    "mask = db.date_mask_between(timestamp, timestamp+timerange)\n",
    "\n",
    "# mask by device and dataProductCode\n",
    "mask &= db.dataframe.dataProductCode == 'SMRD'\n",
    "mask &= db.dataframe.deviceCode == 'TUMPMTSPECTROMETER001'\n",
    "\n",
    "db.dataframe[mask]"
   ]
  },
  {
   "cell_type": "markdown",
   "metadata": {},
   "source": [
    "### Donwload files, if not all are synced"
   ]
  },
  {
   "cell_type": "code",
   "execution_count": null,
   "metadata": {},
   "outputs": [],
   "source": [
    "### this will download the selected file\n",
    "if not db.dataframe.synced[mask].all():\n",
    "    db.update_db_and_load_files(\n",
    "        db.dataframe[mask],\n",
    "        output=True,  # print output to console\n",
    "        download=True,  # download the files\n",
    "        #save_db=True\n",
    "    )\n",
    "    db.save_db()"
   ]
  },
  {
   "cell_type": "markdown",
   "metadata": {},
   "source": [
    "### Load the file\n",
    "Handles also multiple files in the timerange. Creats an virtualHDF5 and load it."
   ]
  },
  {
   "cell_type": "code",
   "execution_count": null,
   "metadata": {},
   "outputs": [],
   "source": [
    "# select the Module file(s) -> dataProductCode == 'MSSCD'\n",
    "item = db.dataframe[mask & (db.dataframe.dataProductCode == 'SMRD')]\n",
    "\n",
    "try:  # if the camera file is still open\n",
    "    module.file_handler.close()\n",
    "except:\n",
    "    pass\n",
    "    \n",
    "# generate a virtual hdf5 to combine the datasets if there are multiple files selected\n",
    "if len(item) > 1:\n",
    "    vhdf5 = strawb.VirtualHDF5('SMRD_event_view.hdf5', item.fullPath.to_list())  \n",
    "    file_name = vhdf5.file_name\n",
    "else:\n",
    "    file_name = item.fullPath[0]\n",
    "    \n",
    "module = strawb.sensors.Module(file=file_name)\n",
    "module.file_handler.file_attributes  # show the file attributes, time in seconds since epoch (1.1.1970) UTC"
   ]
  },
  {
   "cell_type": "markdown",
   "metadata": {},
   "source": [
    "# Plotting with pandas and plotly"
   ]
  },
  {
   "cell_type": "code",
   "execution_count": null,
   "metadata": {},
   "outputs": [],
   "source": [
    "df_accel = pandas.DataFrame(dict(time = module.file_handler.accel_time.asdatetime()[:],\n",
    "                                 x    = module.file_handler.accel_x,\n",
    "                                 y    = module.file_handler.accel_y,\n",
    "                                 z    = module.file_handler.accel_z,))"
   ]
  },
  {
   "cell_type": "code",
   "execution_count": null,
   "metadata": {},
   "outputs": [],
   "source": [
    "df_magneto = pandas.DataFrame(dict(time = module.file_handler.magneto_time.asdatetime()[:],\n",
    "                                   x    = module.file_handler.magneto_x,\n",
    "                                   y    = module.file_handler.magneto_y,\n",
    "                                   z    = module.file_handler.magneto_z,))"
   ]
  },
  {
   "cell_type": "code",
   "execution_count": null,
   "metadata": {},
   "outputs": [],
   "source": [
    "df_pth = pandas.DataFrame(dict(time        = module.file_handler.pth_time.asdatetime()[:],\n",
    "                               humidity    = module.file_handler.pth_humidity,\n",
    "                               temperature = module.file_handler.pth_temperature,\n",
    "                               pressure    = module.file_handler.pth_pressure,))"
   ]
  },
  {
   "cell_type": "code",
   "execution_count": null,
   "metadata": {},
   "outputs": [],
   "source": [
    "df_temperatures = pandas.DataFrame(dict(time  = module.file_handler.temperatures_time.asdatetime()[:],\n",
    "                                        temp1 = module.file_handler.temperatures_temp1,\n",
    "                                        temp2 = module.file_handler.temperatures_temp2,\n",
    "                                        temp3 = module.file_handler.temperatures_temp3))"
   ]
  },
  {
   "cell_type": "code",
   "execution_count": null,
   "metadata": {},
   "outputs": [],
   "source": [
    "df_pwrmoni = pandas.DataFrame(dict(time           = module.file_handler.pwrmoni_time.asdatetime()[:],\n",
    "                                   c2_current     = module.file_handler.pwrmoni_c2_current,\n",
    "                                   c2_voltage     = module.file_handler.pwrmoni_c2_voltage,\n",
    "                                   laser_current  = module.file_handler.pwrmoni_laser_current,\n",
    "                                   laser_voltage  = module.file_handler.pwrmoni_laser_voltage,\n",
    "                                   motor_current  = module.file_handler.pwrmoni_motor_current,\n",
    "                                   motor_voltage  = module.file_handler.pwrmoni_motor_voltage,\n",
    "                                   padiwa_current = module.file_handler.pwrmoni_padiwa_current,\n",
    "                                   padiwa_voltage = module.file_handler.pwrmoni_padiwa_voltage,\n",
    "                                   switch_current = module.file_handler.pwrmoni_switch_current,\n",
    "                                   switch_voltage = module.file_handler.pwrmoni_switch_voltage,\n",
    "                                   trb3sc_current = module.file_handler.pwrmoni_trb3sc_current,\n",
    "                                   trb3sc_voltage = module.file_handler.pwrmoni_trb3sc_voltage))"
   ]
  },
  {
   "cell_type": "code",
   "execution_count": null,
   "metadata": {},
   "outputs": [],
   "source": [
    "px.line(df_accel, x='time', y=['x', 'y', 'z'])"
   ]
  },
  {
   "cell_type": "code",
   "execution_count": null,
   "metadata": {},
   "outputs": [],
   "source": [
    "px.line(df_magneto, x='time', y=['x', 'y', 'z'])"
   ]
  },
  {
   "cell_type": "code",
   "execution_count": null,
   "metadata": {},
   "outputs": [],
   "source": [
    "px.line(df_pth, x='time', y=['humidity','temperature','pressure'])"
   ]
  },
  {
   "cell_type": "code",
   "execution_count": null,
   "metadata": {},
   "outputs": [],
   "source": [
    "px.line(df_temperatures, x='time', y=['temp1','temp2','temp3'])"
   ]
  },
  {
   "cell_type": "code",
   "execution_count": null,
   "metadata": {},
   "outputs": [],
   "source": [
    "px.line(df_pwrmoni, x='time', y=['c2_current', 'c2_voltage',\n",
    "                                 'laser_current', 'laser_voltage',\n",
    "                                 'motor_current', 'motor_voltage',\n",
    "                                 'padiwa_current', 'padiwa_voltage',\n",
    "                                 'switch_current', 'switch_voltage',\n",
    "                                 'trb3sc_current', 'trb3sc_voltage'])"
   ]
  },
  {
   "cell_type": "markdown",
   "metadata": {},
   "source": [
    "# Plot\n",
    "## Plot all module sensors"
   ]
  },
  {
   "cell_type": "code",
   "execution_count": null,
   "metadata": {},
   "outputs": [],
   "source": [
    "fig, ax = plt.subplots(nrows=7, squeeze=False, figsize=(7,15), sharex=True)\n",
    "ax = ax.flatten()\n",
    "\n",
    "i = 0\n",
    "\n",
    "# ACCEL\n",
    "strawb.tools.plot_binned_mean(module.file_handler.accel_time, \n",
    "                              module.file_handler.accel_x[:]*9.81, ax=ax[i], label='accel x')\n",
    "strawb.tools.plot_binned_mean(module.file_handler.accel_time, \n",
    "                              module.file_handler.accel_y[:]*9.81, ax=ax[i], label='accel y')\n",
    "ax[i].set_ylabel('Accel [m/s**2]')\n",
    "i += 1\n",
    "strawb.tools.plot_binned_mean(module.file_handler.accel_time, \n",
    "                              module.file_handler.accel_z[:]*9.81, ax=ax[i], label='accel z')\n",
    "ax[i].set_ylabel('Accel [m/s**2]')\n",
    "i += 1\n",
    "\n",
    "# Magnet\n",
    "strawb.tools.plot_binned_mean(module.file_handler.magneto_time, \n",
    "                              module.file_handler.magneto_x, ax=ax[i], label='magneto x')\n",
    "strawb.tools.plot_binned_mean(module.file_handler.magneto_time, \n",
    "                              module.file_handler.magneto_y, ax=ax[i], label='magneto y')\n",
    "strawb.tools.plot_binned_mean(module.file_handler.magneto_time, \n",
    "                              module.file_handler.magneto_z, ax=ax[i], label='magneto z')\n",
    "ax[i].set_ylabel('Magneto [a.u.]')\n",
    "i += 1\n",
    "\n",
    "# TEMP.\n",
    "strawb.tools.plot_binned_mean(module.file_handler.temperatures_time,\n",
    "                              module.file_handler.temperatures_temp1, ax=ax[i], label='temp 1')\n",
    "strawb.tools.plot_binned_mean(module.file_handler.temperatures_time,\n",
    "                              module.file_handler.temperatures_temp2, ax=ax[i], label='temp 2')\n",
    "ax[i].set_ylabel('Temp [C]')\n",
    "i += 1\n",
    "strawb.tools.plot_binned_mean(module.file_handler.temperatures_time, \n",
    "                              module.file_handler.temperatures_temp3, ax=ax[i], label='temp 3')\n",
    "ax[i].set_ylabel('Temp [C]')\n",
    "# i += 1\n",
    "\n",
    "# PTH\n",
    "strawb.tools.plot_binned_mean(module.file_handler.pth_time, \n",
    "                              module.file_handler.pth_temperature, ax=ax[i], label='temp pth')\n",
    "ax[i].set_ylabel('Temp [C]')\n",
    "i += 1\n",
    "\n",
    "strawb.tools.plot_binned_mean(module.file_handler.pth_time, \n",
    "                              module.file_handler.pth_humidity, ax=ax[i], label='pth humidity')\n",
    "ax[i].set_ylabel('humidity [per]')\n",
    "i += 1\n",
    "\n",
    "strawb.tools.plot_binned_mean(module.file_handler.pth_time, \n",
    "                              module.file_handler.pth_pressure, ax=ax[i], label='pth pressure')\n",
    "ax[i].set_ylabel('pressure [mbar]')\n",
    "i += 1\n",
    "\n",
    "for ax_i in ax:\n",
    "    ax_i.legend(loc=1)\n",
    "    ax_i.grid()\n",
    "\n",
    "# # set limits\n",
    "# limits = np.array([[ax_i.dataLim.x0, ax_i.dataLim.x1] for ax_i in ax])\n",
    "# ax[-1].set_xlim((limits[:,0].min(), limits[:,1].max()))\n",
    "    \n",
    "fig.autofmt_xdate()\n",
    "locator = mdates.AutoDateLocator()\n",
    "#fmt = mdates.AutoDateFormatter(locator, usetex=True)\n",
    "fmt = mdates.ConciseDateFormatter(locator)\n",
    "ax[-1].xaxis.set_major_formatter(fmt)\n",
    "plt.tight_layout()"
   ]
  },
  {
   "cell_type": "markdown",
   "metadata": {},
   "source": [
    "## Plot current, voltage, power for all subcomponents"
   ]
  },
  {
   "cell_type": "code",
   "execution_count": null,
   "metadata": {},
   "outputs": [],
   "source": [
    "fig, ax = plt.subplots(nrows=3, squeeze=False, figsize=(9,7), sharex=True)\n",
    "ax = ax.flatten()\n",
    "\n",
    "i = 0\n",
    "\n",
    "# ACCEL\n",
    "for dev_i in module.power.all_devices_list:\n",
    "    strawb.tools.plot_binned_mean(dev_i.time, \n",
    "                                  dev_i.current, \n",
    "                                  ax=ax[i], \n",
    "                                  label=dev_i.name)\n",
    "\n",
    "ax[i].set_ylabel('Current [A]')\n",
    "i += 1\n",
    "\n",
    "for dev_i in module.power.all_devices_list:\n",
    "    strawb.tools.plot_binned_mean(dev_i.time, \n",
    "                                  dev_i.voltage, \n",
    "                                  ax=ax[i], \n",
    "                                  label=dev_i.name)\n",
    "\n",
    "ax[i].set_ylabel('Voltage [V]')\n",
    "i += 1\n",
    "\n",
    "for dev_i in module.power.all_devices_list:\n",
    "    strawb.tools.plot_binned_mean(dev_i.time, \n",
    "                                  dev_i.watt, \n",
    "                                  ax=ax[i], \n",
    "                                  label=dev_i.name)\n",
    "\n",
    "ax[i].set_ylabel('Power [W]')\n",
    "i += 1\n",
    "\n",
    "for ax_i in ax:\n",
    "    ax_i.grid()\n",
    "    ax_i.set_ylim(0)\n",
    "    \n",
    "ax[0].legend(loc='lower center', bbox_to_anchor=(.5, 1.0), ncol=len(module.power.all_devices_list))\n",
    "\n",
    "# # set limits\n",
    "# limits = np.array([[ax_i.dataLim.x0, ax_i.dataLim.x1] for ax_i in ax])\n",
    "# ax[-1].set_xlim((limits[:,0].min(), limits[:,1].max()))\n",
    "    \n",
    "fig.autofmt_xdate()\n",
    "locator = mdates.AutoDateLocator()\n",
    "#fmt = mdates.AutoDateFormatter(locator, usetex=True)\n",
    "fmt = mdates.ConciseDateFormatter(locator)\n",
    "ax[-1].xaxis.set_major_formatter(fmt)\n",
    "ax[-1].autoscale(enable=True, axis='x', tight=True)\n",
    "plt.tight_layout()"
   ]
  },
  {
   "cell_type": "code",
   "execution_count": null,
   "metadata": {},
   "outputs": [],
   "source": []
  }
 ],
 "metadata": {
  "kernelspec": {
   "display_name": "Python 3",
   "language": "python",
   "name": "python3"
  },
  "language_info": {
   "codemirror_mode": {
    "name": "ipython",
    "version": 3
   },
   "file_extension": ".py",
   "mimetype": "text/x-python",
   "name": "python",
   "nbconvert_exporter": "python",
   "pygments_lexer": "ipython3",
   "version": "3.7.10"
  }
 },
 "nbformat": 4,
 "nbformat_minor": 4
}
