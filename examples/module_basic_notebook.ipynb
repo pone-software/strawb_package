{
 "cells": [
  {
   "cell_type": "code",
   "execution_count": null,
   "metadata": {},
   "outputs": [],
   "source": [
    "%matplotlib notebook\n",
    "\n",
    "# This examples shows who to download files from the ONC server\n",
    "import glob\n",
    "import os\n",
    "\n",
    "import numpy as np\n",
    "import datetime\n",
    "import matplotlib.pyplot as plt\n",
    "import matplotlib.dates as mdates\n",
    "\n",
    "import strawb\n",
    "import strawb.sensors.module\n",
    "import strawb.tools\n",
    "\n",
    "import plotly.express as px\n",
    "import pandas\n",
    "import plotly.io as pio\n",
    "pio.templates.default = \"plotly_white\"\n",
    "\n",
    "import random\n",
    "\n",
    "plt.rcParams.update({\"text.usetex\": False})  # fix time fmt of x_ticks"
   ]
  },
  {
   "cell_type": "code",
   "execution_count": null,
   "metadata": {},
   "outputs": [],
   "source": [
    "if True: # takes one file randomly, takes some seconds\n",
    "    file_list = module.FileHandler.find_files('*-SDAQ-MODULE.hdf5',\n",
    "                                               directory=strawb.Config.raw_data_dir,\n",
    "                                               recursive=True,\n",
    "                                               raise_nothing_found=True)\n",
    "\n",
    "    full_path = random.choice(file_list)  # select a random file\n",
    "else:  # faster\n",
    "    full_path = '/dss/strawb/raw_module_data/tummuontracker001/old_files/sdaq/TUMMUONTRACKER001_20210806T000000.000Z_20210806T235959.999Z-SDAQ-MODULE.hdf5'\n",
    "file_name = os.path.split(full_path)[-1]"
   ]
  },
  {
   "cell_type": "code",
   "execution_count": null,
   "metadata": {},
   "outputs": [],
   "source": [
    "module = strawb.sensors.module.FileHandler(full_path)\n",
    "module.file_attributes  # show the file attributes, time in seconds since epoch (1.1.1970) UTC"
   ]
  },
  {
   "cell_type": "markdown",
   "metadata": {},
   "source": [
    "# Plotting with pandas and plotly"
   ]
  },
  {
   "cell_type": "code",
   "execution_count": null,
   "metadata": {},
   "outputs": [],
   "source": [
    "df_accel = pandas.DataFrame(dict(time = module.accel_time.asdatetime()[:],\n",
    "                                 x    = module.accel_x,\n",
    "                                 y    = module.accel_y,\n",
    "                                 z    = module.accel_z,))"
   ]
  },
  {
   "cell_type": "code",
   "execution_count": null,
   "metadata": {},
   "outputs": [],
   "source": [
    "df_magneto = pandas.DataFrame(dict(time = module.magneto_time.asdatetime()[:],\n",
    "                                   x    = module.magneto_x,\n",
    "                                   y    = module.magneto_y,\n",
    "                                   z    = module.magneto_z,))"
   ]
  },
  {
   "cell_type": "code",
   "execution_count": null,
   "metadata": {},
   "outputs": [],
   "source": [
    "df_pth = pandas.DataFrame(dict(time        = module.pth_time.asdatetime()[:],\n",
    "                               humidity    = module.pth_humidity,\n",
    "                               temperature = module.pth_temperature,\n",
    "                               pressure    = module.pth_pressure,))"
   ]
  },
  {
   "cell_type": "code",
   "execution_count": null,
   "metadata": {},
   "outputs": [],
   "source": [
    "df_temperatures = pandas.DataFrame(dict(time  = module.temperatures_time.asdatetime()[:],\n",
    "                                        temp1 = module.temperatures_temp1,\n",
    "                                        temp2 = module.temperatures_temp2,\n",
    "                                        temp3 = module.temperatures_temp3))"
   ]
  },
  {
   "cell_type": "code",
   "execution_count": null,
   "metadata": {},
   "outputs": [],
   "source": [
    "df_pwrmoni = pandas.DataFrame(dict(time           = module.pwrmoni_time.asdatetime()[:],\n",
    "                                   c2_current     = module.pwrmoni_c2_current,\n",
    "                                   c2_voltage     = module.pwrmoni_c2_voltage,\n",
    "                                   laser_current  = module.pwrmoni_laser_current,\n",
    "                                   laser_voltage  = module.pwrmoni_laser_voltage,\n",
    "                                   motor_current  = module.pwrmoni_motor_current,\n",
    "                                   motor_voltage  = module.pwrmoni_motor_voltage,\n",
    "                                   padiwa_current = module.pwrmoni_padiwa_current,\n",
    "                                   padiwa_voltage = module.pwrmoni_padiwa_voltage,\n",
    "                                   switch_current = module.pwrmoni_switch_current,\n",
    "                                   switch_voltage = module.pwrmoni_switch_voltage,\n",
    "                                   trb3sc_current = module.pwrmoni_trb3sc_current,\n",
    "                                   trb3sc_voltage = module.pwrmoni_trb3sc_voltage))"
   ]
  },
  {
   "cell_type": "code",
   "execution_count": null,
   "metadata": {},
   "outputs": [],
   "source": [
    "px.line(df_accel, x='time', y=['x', 'y', 'z'])"
   ]
  },
  {
   "cell_type": "code",
   "execution_count": null,
   "metadata": {},
   "outputs": [],
   "source": [
    "px.line(df_magneto, x='time', y=['x', 'y', 'z'])"
   ]
  },
  {
   "cell_type": "code",
   "execution_count": null,
   "metadata": {},
   "outputs": [],
   "source": [
    "px.line(df_pth, x='time', y=['humidity','temperature','pressure'])"
   ]
  },
  {
   "cell_type": "code",
   "execution_count": null,
   "metadata": {},
   "outputs": [],
   "source": [
    "px.line(df_temperatures, x='time', y=['temp1','temp2','temp3'])"
   ]
  },
  {
   "cell_type": "code",
   "execution_count": null,
   "metadata": {},
   "outputs": [],
   "source": [
    "px.line(df_pwrmoni, x='time', y=['c2_current', 'c2_voltage',\n",
    "                                 'laser_current', 'laser_voltage',\n",
    "                                 'motor_current', 'motor_voltage',\n",
    "                                 'padiwa_current', 'padiwa_voltage',\n",
    "                                 'switch_current', 'switch_voltage',\n",
    "                                 'trb3sc_current', 'trb3sc_voltage'])"
   ]
  },
  {
   "cell_type": "markdown",
   "metadata": {},
   "source": [
    "# Load a file\n",
    "## can be a single or combined aka. virtual HDF5 file"
   ]
  },
  {
   "cell_type": "code",
   "execution_count": null,
   "metadata": {},
   "outputs": [],
   "source": [
    "fig, ax = plt.subplots(nrows=8, squeeze=False, figsize=(7,15), sharex=True)\n",
    "ax = ax.flatten()\n",
    "\n",
    "i = 0\n",
    "\n",
    "# ACCEL\n",
    "strawb.tools.plot_binned_mean(module.accel_time, module.accel_x[:]*9.81, ax=ax[i], label='accel x')\n",
    "strawb.tools.plot_binned_mean(module.accel_time, module.accel_y[:]*9.81, ax=ax[i], label='accel y')\n",
    "ax[i].set_ylabel('Accel [m/s**2]')\n",
    "i += 1\n",
    "strawb.tools.plot_binned_mean(module.accel_time, module.accel_z[:]*9.81, ax=ax[i], label='accel z')\n",
    "ax[i].set_ylabel('Accel [m/s**2]')\n",
    "i += 1\n",
    "\n",
    "# Magnet\n",
    "strawb.tools.plot_binned_mean(module.magneto_time, module.magneto_x, ax=ax[i], label='magneto x')\n",
    "strawb.tools.plot_binned_mean(module.magneto_time, module.magneto_y, ax=ax[i], label='magneto y')\n",
    "strawb.tools.plot_binned_mean(module.magneto_time, module.magneto_z, ax=ax[i], label='magneto z')\n",
    "ax[i].set_ylabel('Magneto [a.u.]')\n",
    "i += 1\n",
    "\n",
    "# TEMP.\n",
    "strawb.tools.plot_binned_mean(module.temperatures_time, module.temperatures_temp1, ax=ax[i], label='temp 1')\n",
    "strawb.tools.plot_binned_mean(module.temperatures_time, module.temperatures_temp2, ax=ax[i], label='temp 2')\n",
    "ax[i].set_ylabel('Temp [C]')\n",
    "i += 1\n",
    "strawb.tools.plot_binned_mean(module.temperatures_time, module.temperatures_temp3, ax=ax[i], label='temp 3')\n",
    "ax[i].set_ylabel('Temp [C]')\n",
    "i += 1\n",
    "\n",
    "# PTH\n",
    "strawb.tools.plot_binned_mean(module.pth_time, module.pth_temperature, ax=ax[i], label='temp pth')\n",
    "ax[i].set_ylabel('Temp [C]')\n",
    "i += 1\n",
    "\n",
    "strawb.tools.plot_binned_mean(module.pth_time, module.pth_humidity, ax=ax[i], label='pth humidity')\n",
    "ax[i].set_ylabel('humidity [per]')\n",
    "i += 1\n",
    "\n",
    "strawb.tools.plot_binned_mean(module.pth_time, module.pth_pressure, ax=ax[i], label='pth pressure')\n",
    "ax[i].set_ylabel('pressure [mbar]')\n",
    "i += 1\n",
    "\n",
    "for ax_i in ax:\n",
    "    ax_i.legend(loc=1)\n",
    "    ax_i.grid()\n",
    "\n",
    "# # set limits\n",
    "# limits = np.array([[ax_i.dataLim.x0, ax_i.dataLim.x1] for ax_i in ax])\n",
    "# ax[-1].set_xlim((limits[:,0].min(), limits[:,1].max()))\n",
    "    \n",
    "fig.autofmt_xdate()\n",
    "locator = mdates.AutoDateLocator()\n",
    "#fmt = mdates.AutoDateFormatter(locator, usetex=True)\n",
    "fmt = mdates.ConciseDateFormatter(locator)\n",
    "ax[-1].xaxis.set_major_formatter(fmt)\n",
    "plt.tight_layout()"
   ]
  },
  {
   "cell_type": "code",
   "execution_count": null,
   "metadata": {},
   "outputs": [],
   "source": [
    "limits = np.array([[ax_i.dataLim.x0, ax_i.dataLim.x1] for ax_i in ax])\n",
    "limits"
   ]
  },
  {
   "cell_type": "markdown",
   "metadata": {},
   "source": [
    "## plot multiple modules (currently doesn't work: needs viratul hdf5 files or a file per moduel)"
   ]
  },
  {
   "cell_type": "code",
   "execution_count": null,
   "metadata": {},
   "outputs": [],
   "source": [
    "# module_list = []\n",
    "\n",
    "# for dev_i in strawb.dev_codes_deployed:\n",
    "#     # get a list with all filenames that should be included in the virtual HDF5 file\n",
    "#     f_names = glob.glob(f'{strawb.Config.raw_data_dir}/{dev_i}_*MODULE.hdf5')\n",
    "#     f_names.sort()  # f_names should be sorted\n",
    "\n",
    "#     # create the virtual HDF5 file, f_names should be sorted, otherwise the data isn't sorted\n",
    "#     virtual_hdf5_gen = strawb.VirtualHDF5(f'{dev_i}_MODULE.h5',\n",
    "#                                           f_names,\n",
    "#                                           obj_dict_filter=strawb.DatasetsInGroupSameSize)\n",
    "\n",
    "#     module_list.append(strawb.sensors.module.FileHandler(f'{dev_i}_MODULE.h5'))"
   ]
  },
  {
   "cell_type": "code",
   "execution_count": null,
   "metadata": {},
   "outputs": [],
   "source": [
    "# fig, ax = plt.subplots(nrows=6, squeeze=False, figsize=(10,15), sharex=True)\n",
    "# ax = ax.flatten()\n",
    "\n",
    "\n",
    "# for module in module_list:\n",
    "#     print(module.module)\n",
    "#     i = 0\n",
    "#     # TEMP.\n",
    "#     mask = module.temperatures_time[:] > datetime.datetime(year=2020,month=12,day=1).timestamp()\n",
    "#     plot_time = module.temperatures_time[:][mask]\n",
    "#     strawb.tools.plot_binned_mean(plot_time, module.temperatures_temp1[:][mask],\n",
    "#                                   ax=ax[i], label=f'temp 1 {module.module}')\n",
    "#     ax[i].set_ylabel('Temp [C]')\n",
    "#     i += 1\n",
    "\n",
    "#     strawb.tools.plot_binned_mean(plot_time, module.temperatures_temp2[:][mask],\n",
    "#                                   ax=ax[i], label=f'temp 2 {module.module}')\n",
    "#     ax[i].set_ylabel('Temp [C]')\n",
    "#     i += 1\n",
    "\n",
    "#     strawb.tools.plot_binned_mean(plot_time, module.temperatures_temp3[:][mask],\n",
    "#                                   ax=ax[i], label=f'temp 3 {module.module}')\n",
    "#     ax[i].set_ylabel('Temp [C]')\n",
    "#     i += 1\n",
    "\n",
    "#     # PTH\n",
    "#     mask = module.pth_time[:] > datetime.datetime(year=2020,month=12,day=1).timestamp()\n",
    "#     plot_time = module.pth_time[:][mask]\n",
    "#     strawb.tools.plot_binned_mean(plot_time, module.pth_temperature[:][mask],\n",
    "#                                   ax=ax[i], label=f'temp pth {module.module}')\n",
    "#     ax[i].set_ylabel('Temp [C]')\n",
    "#     i += 1\n",
    "\n",
    "#     strawb.tools.plot_binned_mean(plot_time, module.pth_humidity[:][mask],\n",
    "#                                   ax=ax[i], label=f'pth humidity {module.module}')\n",
    "#     ax[i].set_ylabel('humidity [per]')\n",
    "#     i += 1\n",
    "\n",
    "#     strawb.tools.plot_binned_mean(plot_time, module.pth_pressure[:][mask],\n",
    "#                                   ax=ax[i], label=f'pth pressure {module.module}')\n",
    "#     ax[i].set_ylabel('pressure [mbar]')\n",
    "#     i += 1\n",
    "\n",
    "# for ax_i in ax:\n",
    "#     ax_i.legend(loc=0)\n",
    "#     ax_i.grid()\n",
    "\n",
    "# # set limits\n",
    "# limits = np.array([[ax_i.dataLim.x0, ax_i.dataLim.x1] for ax_i in ax])\n",
    "# ax[-1].set_xlim((limits[:,0].min(), limits[:,1].max()))\n",
    "    \n",
    "# fig.autofmt_xdate()\n",
    "# locator = mdates.AutoDateLocator()\n",
    "# #fmt = mdates.AutoDateFormatter(locator, usetex=True)\n",
    "# fmt = mdates.ConciseDateFormatter(locator)\n",
    "# ax[-1].xaxis.set_major_formatter(fmt)\n",
    "# plt.tight_layout()"
   ]
  },
  {
   "cell_type": "code",
   "execution_count": null,
   "metadata": {},
   "outputs": [],
   "source": []
  }
 ],
 "metadata": {
  "kernelspec": {
   "display_name": "Python 3 (ipykernel)",
   "language": "python",
   "name": "python3"
  },
  "language_info": {
   "codemirror_mode": {
    "name": "ipython",
    "version": 3
   },
   "file_extension": ".py",
   "mimetype": "text/x-python",
   "name": "python",
   "nbconvert_exporter": "python",
   "pygments_lexer": "ipython3",
   "version": "3.8.10"
  }
 },
 "nbformat": 4,
 "nbformat_minor": 4
}
