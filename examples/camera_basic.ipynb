{
 "cells": [
  {
   "cell_type": "code",
   "execution_count": 2,
   "metadata": {},
   "outputs": [],
   "source": [
    "import numpy as np\n",
    "import pandas as pd\n",
    "\n",
    "import strawb\n",
    "import strawb.sensors.camera as camera\n",
    "import os\n",
    "import matplotlib.pyplot as plt"
   ]
  },
  {
   "cell_type": "markdown",
   "metadata": {},
   "source": [
    "# Load files from the ONC server\n",
    "Be careful, depending on the amount of data this can take a while!!"
   ]
  },
  {
   "cell_type": "code",
   "execution_count": 3,
   "metadata": {},
   "outputs": [],
   "source": [
    "# load DB\n",
    "db = strawb.SyncDBHandler(file_name='Default')  # loads the db\n",
    "db.load_onc_db_update(save_db=True)  # update the DB, could take some time if it has to load info. from ONC"
   ]
  },
  {
   "cell_type": "markdown",
   "metadata": {},
   "source": [
    "Print some info from the DB"
   ]
  },
  {
   "cell_type": "code",
   "execution_count": 4,
   "metadata": {},
   "outputs": [
    {
     "name": "stdout",
     "output_type": "stream",
     "text": [
      "Index([     'archiveLocation',         'archivedDate',          'compression',\n",
      "            'dataProductCode',             'dateFrom',               'dateTo',\n",
      "                 'deviceCode',             'fileSize',             'filename',\n",
      "                 'modifyDate',                 'path', 'uncompressedFileSize',\n",
      "                    'outPath',             'fullPath',               'synced',\n",
      "                   'h5_attrs',             'dev_code',             'file_end',\n",
      "                    'file_id',           'file_start',    'following_file_id',\n",
      "                       'name',     'previous_file_id',    'rollover_interval',\n",
      "                    'run_end',            'run_start',         'write_period',\n",
      "               'file_version',                      0],\n",
      "      dtype='object')\n",
      "['ONCMJB016' 'TUMLIDAR001' 'TUMLIDAR002' 'TUMMINISPECTROMETER001'\n",
      " 'TUMMUONTRACKER001' 'TUMPMTSPECTROMETER001' 'TUMPMTSPECTROMETER002'\n",
      " 'TUMSTANDARDMODULE001' 'TUMSTANDARDMODULE004']\n",
      "['LF' 'PMTSD' 'SMRD' 'MSRD' 'PMTTC' 'LIDARSD' 'LIDARRD' 'LIDARTF' 'MTSD'\n",
      " 'MSCR' 'MSCRCC' 'MSID' 'MTRD' None 'LIDARTOT' 'PMTRD' 'MSSCD' 'MSSD'\n",
      " 'MTTOT' 'PMTTOT']\n"
     ]
    }
   ],
   "source": [
    "print(db.dataframe.columns)\n",
    "\n",
    "### these are the available device codes\n",
    "print(db.dataframe.deviceCode.unique())\n",
    "\n",
    "### different measurement types for PMTSPEC and LIDAR, \n",
    "# works only if hdf5 attributes are imported from files on disc\n",
    "#print(db.dataframe.measurement_type.unique())\n",
    "\n",
    "### these are the parts of each module that produce data\n",
    "print(db.dataframe.dataProductCode.unique())"
   ]
  },
  {
   "cell_type": "markdown",
   "metadata": {},
   "source": [
    "### Select (a) file(s) of interest"
   ]
  },
  {
   "cell_type": "code",
   "execution_count": 5,
   "metadata": {},
   "outputs": [
    {
     "data": {
      "text/html": [
       "<div>\n",
       "<style scoped>\n",
       "    .dataframe tbody tr th:only-of-type {\n",
       "        vertical-align: middle;\n",
       "    }\n",
       "\n",
       "    .dataframe tbody tr th {\n",
       "        vertical-align: top;\n",
       "    }\n",
       "\n",
       "    .dataframe thead th {\n",
       "        text-align: right;\n",
       "    }\n",
       "</style>\n",
       "<table border=\"1\" class=\"dataframe\">\n",
       "  <thead>\n",
       "    <tr style=\"text-align: right;\">\n",
       "      <th></th>\n",
       "      <th>archiveLocation</th>\n",
       "      <th>archivedDate</th>\n",
       "      <th>compression</th>\n",
       "      <th>dataProductCode</th>\n",
       "      <th>dateFrom</th>\n",
       "      <th>dateTo</th>\n",
       "      <th>deviceCode</th>\n",
       "      <th>fileSize</th>\n",
       "      <th>filename</th>\n",
       "      <th>modifyDate</th>\n",
       "      <th>...</th>\n",
       "      <th>file_start</th>\n",
       "      <th>following_file_id</th>\n",
       "      <th>name</th>\n",
       "      <th>previous_file_id</th>\n",
       "      <th>rollover_interval</th>\n",
       "      <th>run_end</th>\n",
       "      <th>run_start</th>\n",
       "      <th>write_period</th>\n",
       "      <th>file_version</th>\n",
       "      <th>0</th>\n",
       "    </tr>\n",
       "    <tr>\n",
       "      <th>fullPath</th>\n",
       "      <th></th>\n",
       "      <th></th>\n",
       "      <th></th>\n",
       "      <th></th>\n",
       "      <th></th>\n",
       "      <th></th>\n",
       "      <th></th>\n",
       "      <th></th>\n",
       "      <th></th>\n",
       "      <th></th>\n",
       "      <th></th>\n",
       "      <th></th>\n",
       "      <th></th>\n",
       "      <th></th>\n",
       "      <th></th>\n",
       "      <th></th>\n",
       "      <th></th>\n",
       "      <th></th>\n",
       "      <th></th>\n",
       "      <th></th>\n",
       "      <th></th>\n",
       "    </tr>\n",
       "  </thead>\n",
       "  <tbody>\n",
       "    <tr>\n",
       "      <th>/Users/kilian/vscode/strawb_package/raw_module_data/tumpmtspectrometer001/2021_09/TUMPMTSPECTROMETER001_20210904T230000.000Z-SDAQ-CAMERA.hdf5</th>\n",
       "      <td>/NA_Archive_04</td>\n",
       "      <td>2021-09-05 01:51:24.463000+00:00</td>\n",
       "      <td>None</td>\n",
       "      <td>MSSCD</td>\n",
       "      <td>2021-09-04 23:00:00+00:00</td>\n",
       "      <td>2021-09-04 23:59:59.999000+00:00</td>\n",
       "      <td>TUMPMTSPECTROMETER001</td>\n",
       "      <td>58043955</td>\n",
       "      <td>TUMPMTSPECTROMETER001_20210904T230000.000Z-SDA...</td>\n",
       "      <td>2021-09-05 01:51:26.475000+00:00</td>\n",
       "      <td>...</td>\n",
       "      <td>NaT</td>\n",
       "      <td>NaN</td>\n",
       "      <td>NaN</td>\n",
       "      <td>NaN</td>\n",
       "      <td>None</td>\n",
       "      <td>NaT</td>\n",
       "      <td>NaT</td>\n",
       "      <td>NaN</td>\n",
       "      <td>1.0</td>\n",
       "      <td>{'dev_code': 'TUMPMTSPECTROMETER001', 'file_en...</td>\n",
       "    </tr>\n",
       "  </tbody>\n",
       "</table>\n",
       "<p>1 rows × 29 columns</p>\n",
       "</div>"
      ],
      "text/plain": [
       "                                                   archiveLocation  \\\n",
       "fullPath                                                             \n",
       "/Users/kilian/vscode/strawb_package/raw_module_...  /NA_Archive_04   \n",
       "\n",
       "                                                                       archivedDate  \\\n",
       "fullPath                                                                              \n",
       "/Users/kilian/vscode/strawb_package/raw_module_... 2021-09-05 01:51:24.463000+00:00   \n",
       "\n",
       "                                                   compression  \\\n",
       "fullPath                                                         \n",
       "/Users/kilian/vscode/strawb_package/raw_module_...        None   \n",
       "\n",
       "                                                   dataProductCode  \\\n",
       "fullPath                                                             \n",
       "/Users/kilian/vscode/strawb_package/raw_module_...           MSSCD   \n",
       "\n",
       "                                                                    dateFrom  \\\n",
       "fullPath                                                                       \n",
       "/Users/kilian/vscode/strawb_package/raw_module_... 2021-09-04 23:00:00+00:00   \n",
       "\n",
       "                                                                             dateTo  \\\n",
       "fullPath                                                                              \n",
       "/Users/kilian/vscode/strawb_package/raw_module_... 2021-09-04 23:59:59.999000+00:00   \n",
       "\n",
       "                                                               deviceCode  \\\n",
       "fullPath                                                                    \n",
       "/Users/kilian/vscode/strawb_package/raw_module_...  TUMPMTSPECTROMETER001   \n",
       "\n",
       "                                                    fileSize  \\\n",
       "fullPath                                                       \n",
       "/Users/kilian/vscode/strawb_package/raw_module_...  58043955   \n",
       "\n",
       "                                                                                             filename  \\\n",
       "fullPath                                                                                                \n",
       "/Users/kilian/vscode/strawb_package/raw_module_...  TUMPMTSPECTROMETER001_20210904T230000.000Z-SDA...   \n",
       "\n",
       "                                                                         modifyDate  \\\n",
       "fullPath                                                                              \n",
       "/Users/kilian/vscode/strawb_package/raw_module_... 2021-09-05 01:51:26.475000+00:00   \n",
       "\n",
       "                                                    ... file_start  \\\n",
       "fullPath                                            ...              \n",
       "/Users/kilian/vscode/strawb_package/raw_module_...  ...        NaT   \n",
       "\n",
       "                                                    following_file_id name  \\\n",
       "fullPath                                                                     \n",
       "/Users/kilian/vscode/strawb_package/raw_module_...                NaN  NaN   \n",
       "\n",
       "                                                   previous_file_id  \\\n",
       "fullPath                                                              \n",
       "/Users/kilian/vscode/strawb_package/raw_module_...              NaN   \n",
       "\n",
       "                                                    rollover_interval run_end  \\\n",
       "fullPath                                                                        \n",
       "/Users/kilian/vscode/strawb_package/raw_module_...               None     NaT   \n",
       "\n",
       "                                                   run_start write_period  \\\n",
       "fullPath                                                                    \n",
       "/Users/kilian/vscode/strawb_package/raw_module_...       NaT          NaN   \n",
       "\n",
       "                                                    file_version  \\\n",
       "fullPath                                                           \n",
       "/Users/kilian/vscode/strawb_package/raw_module_...           1.0   \n",
       "\n",
       "                                                                                                    0  \n",
       "fullPath                                                                                               \n",
       "/Users/kilian/vscode/strawb_package/raw_module_...  {'dev_code': 'TUMPMTSPECTROMETER001', 'file_en...  \n",
       "\n",
       "[1 rows x 29 columns]"
      ]
     },
     "execution_count": 5,
     "metadata": {},
     "output_type": "execute_result"
    }
   ],
   "source": [
    "mask = (db.dataframe.deviceCode == 'TUMPMTSPECTROMETER001') # that's the pmtspec module\n",
    "mask &= (db.dataframe.dataProductCode =='MSSCD') # that's the camera data of the pmtspec module\n",
    "\n",
    "## select the file for the biolumi event\n",
    "timestamp = pd.Timestamp('2021-09-04T23:44:09').tz_localize('UTC')\n",
    "mask &= db.dataframe.dateFrom <= timestamp \n",
    "mask &= db.dataframe.dateTo >= timestamp\n",
    "\n",
    "### selected one file from the DB (it's the same as the file we selected above by hand)\n",
    "db.dataframe[mask]"
   ]
  },
  {
   "cell_type": "markdown",
   "metadata": {},
   "source": [
    "### Download the missing files which aren't synced so far from `db.dataframe[mask]`"
   ]
  },
  {
   "cell_type": "code",
   "execution_count": 6,
   "metadata": {},
   "outputs": [],
   "source": [
    "if not db.dataframe.synced[mask].all():\n",
    "    db.update_db_and_load_files(\n",
    "        db.dataframe[mask],\n",
    "        output=True,  # print output to console\n",
    "        download=True,  # download the files\n",
    "        save_db=True,\n",
    "    )  # update the DB"
   ]
  },
  {
   "cell_type": "markdown",
   "metadata": {},
   "source": [
    "# Import the file to the Camera Module "
   ]
  },
  {
   "cell_type": "code",
   "execution_count": 7,
   "metadata": {},
   "outputs": [
    {
     "name": "stdout",
     "output_type": "stream",
     "text": [
      "/Users/kilian/vscode/strawb_package/raw_module_data/tumpmtspectrometer001/2021_09/TUMPMTSPECTROMETER001_20210904T230000.000Z-SDAQ-CAMERA.hdf5\n"
     ]
    }
   ],
   "source": [
    "# select the filename\n",
    "file_name = db.dataframe.fullPath[mask].iloc[-1]\n",
    "print(file_name)\n",
    "\n",
    "# create an instance of the Camera\n",
    "camera = strawb.sensors.camera.Camera(file_name)"
   ]
  },
  {
   "cell_type": "markdown",
   "metadata": {},
   "source": [
    "### Print some parameters"
   ]
  },
  {
   "cell_type": "code",
   "execution_count": 8,
   "metadata": {},
   "outputs": [
    {
     "name": "stdout",
     "output_type": "stream",
     "text": [
      "Module: TUMPMTSPECTROMETER001\n",
      "Number of Frames: 36\n",
      "Date: 2021-09-04T22:59:18.344365 - 2021-09-04T23:57:27.277572\n",
      "Exposure Times [s]: [52.5]\n"
     ]
    }
   ],
   "source": [
    "print(f'Module: {camera.file_handler.module}')\n",
    "print(f'Number of Frames: {camera.file_handler.exposure_time.shape[0]}')\n",
    "print(f'Date: {np.min(camera.file_handler.time.asdatetime()[:])} - {np.max(camera.file_handler.time.asdatetime()[:])}')\n",
    "print(f'Exposure Times [s]: {np.unique(camera.file_handler.exposure_time)}')"
   ]
  },
  {
   "cell_type": "markdown",
   "metadata": {},
   "source": [
    "### Mask images to export (here only one)"
   ]
  },
  {
   "cell_type": "code",
   "execution_count": 9,
   "metadata": {},
   "outputs": [
    {
     "name": "stdout",
     "output_type": "stream",
     "text": [
      "[27]\n"
     ]
    }
   ],
   "source": [
    "# mask over a threshold + mask invalid frames + mask no lucifer enabled\n",
    "mask = (camera.images.integrated_minus_dark > 1e6) & camera.images.invalid_mask\n",
    "\n",
    "index = np.argsort(camera.images.integrated_minus_dark)  # sort by charge [min,...,max]\n",
    "index = index[mask[index]]  # remove invalid items  & cam_module.invalid_mask\n",
    "index = index[::-1]  # revers the order\n",
    "print(index)"
   ]
  },
  {
   "cell_type": "markdown",
   "metadata": {},
   "source": [
    "## Export the image as png and store it on disc"
   ]
  },
  {
   "cell_type": "code",
   "execution_count": 20,
   "metadata": {},
   "outputs": [
    {
     "data": {
      "text/plain": [
       "['/Users/kilian/vscode/strawb_package/examples/figures/bright_test_pic_0_2021_09_04_23_44_09.png']"
      ]
     },
     "execution_count": 20,
     "metadata": {},
     "output_type": "execute_result"
    }
   ],
   "source": [
    "camera.images.image2png(\n",
    "    index=index, \n",
    "    directory=\"./figures\", # add your preferred dir here\n",
    "    f_name_formatter='bright_test_pic_{i}_{datetime}.png')  # save the images"
   ]
  },
  {
   "cell_type": "code",
   "execution_count": 13,
   "metadata": {},
   "outputs": [
    {
     "data": {
      "text/plain": [
       "numpy.uint16"
      ]
     },
     "execution_count": 13,
     "metadata": {},
     "output_type": "execute_result"
    }
   ],
   "source": [
    "np.uint16"
   ]
  },
  {
   "cell_type": "markdown",
   "metadata": {},
   "source": [
    "## Show one image here"
   ]
  },
  {
   "cell_type": "code",
   "execution_count": 14,
   "metadata": {},
   "outputs": [
    {
     "data": {
      "image/png": "[encoded data removed]",
      "text/plain": [
       "<Figure size 432x288 with 1 Axes>"
      ]
     },
     "metadata": {
      "needs_background": "light"
     },
     "output_type": "display_data"
    }
   ],
   "source": [
    "plt.figure()\n",
    "rgb = camera.images.load_rgb(index=index)\n",
    "plt.imshow(rgb[0,:,:]/2**16)  # rgb[frame, row, col], /255 to get 0->1\n",
    "plt.savefig(\"figures/biolumi_demo.pdf\", backend=\"pdf\")\n",
    "plt.savefig(\"figures/biolumi_demo.png\", dpi=120)"
   ]
  },
  {
   "cell_type": "markdown",
   "metadata": {},
   "source": [
    "## How to access the raw data (numpy)"
   ]
  },
  {
   "cell_type": "code",
   "execution_count": 22,
   "metadata": {
    "tags": []
   },
   "outputs": [
    {
     "name": "stdout",
     "output_type": "stream",
     "text": [
      "(2, 1297, 977)\n",
      "(2, 1297, 977)\n",
      "[[    0     0  6128 ... 19248 28208 17968]\n",
      " [    0     0     0 ... 22448 14768 22288]\n",
      " [ 2128     0    48 ... 23568 28048 21648]\n",
      " ...\n",
      " [65504 65504 65504 ... 65504 65504 65504]\n",
      " [65504 65504 56848 ... 65504 65504 65504]\n",
      " [58928 65504 59248 ... 65504 65504 65504]]\n",
      "(1297, 977)\n",
      "(36, 1297, 977)\n"
     ]
    }
   ],
   "source": [
    "# The raw pixel values are NOT loaded by default to the module to save RAM.\n",
    "# They can be accessed directly from the file with the index, index = None (default) to loads all images\n",
    "a = camera.file_handler.raw[[1,3]]  # direct h5py access, allows only sorted (non-duplicate) index access.\n",
    "print(a.shape)\n",
    "\n",
    "a = camera.file_handler.raw.getunsorted([1,3])  # STRAWb helper to access it unsorted (and duplicate) by index\n",
    "print(a.shape)\n",
    "\n",
    "a = camera.file_handler.raw[:]  # get all images\n",
    "print(a[0]) # returns array on default, even if only one element is accessed\n",
    "print(a[0].shape) # 2D shape of picture\n",
    "print(a.shape) # n_pic x 2D shape of picture"
   ]
  },
  {
   "cell_type": "code",
   "execution_count": null,
   "metadata": {},
   "outputs": [],
   "source": [
    "plt.figure()\n",
    "\n",
    "plt.plot(raw[])"
   ]
  },
  {
   "cell_type": "code",
   "execution_count": 10,
   "metadata": {},
   "outputs": [
    {
     "ename": "AttributeError",
     "evalue": "'Images' object has no attribute '_rgb'",
     "output_type": "error",
     "traceback": [
      "\u001b[0;31m---------------------------------------------------------------------------\u001b[0m",
      "\u001b[0;31mAttributeError\u001b[0m                            Traceback (most recent call last)",
      "\u001b[1;32m/Users/kilian/vscode/strawb_package/examples/camera_basic.ipynb Cell 23'\u001b[0m in \u001b[0;36m<cell line: 1>\u001b[0;34m()\u001b[0m\n\u001b[0;32m----> <a href='vscode-notebook-cell:/Users/kilian/vscode/strawb_package/examples/camera_basic.ipynb#ch0000034?line=0'>1</a>\u001b[0m camera\u001b[39m.\u001b[39;49mimages\u001b[39m.\u001b[39;49m_rgb\n",
      "\u001b[0;31mAttributeError\u001b[0m: 'Images' object has no attribute '_rgb'"
     ]
    }
   ],
   "source": [
    "camera.images."
   ]
  },
  {
   "cell_type": "code",
   "execution_count": null,
   "metadata": {},
   "outputs": [],
   "source": []
  }
 ],
 "metadata": {
  "kernelspec": {
   "display_name": "Python 3",
   "language": "python",
   "name": "python3"
  },
  "language_info": {
   "codemirror_mode": {
    "name": "ipython",
    "version": 3
   },
   "file_extension": ".py",
   "mimetype": "text/x-python",
   "name": "python",
   "nbconvert_exporter": "python",
   "pygments_lexer": "ipython3",
   "version": "3.9.12"
  }
 },
 "nbformat": 4,
 "nbformat_minor": 4
}
