{
 "cells": [
  {
   "cell_type": "markdown",
   "id": "68f50afe",
   "metadata": {},
   "source": [
    "# PADIWA Rate Scan for PMTSpec"
   ]
  },
  {
   "cell_type": "code",
   "execution_count": null,
   "id": "9578821a",
   "metadata": {},
   "outputs": [],
   "source": [
    "%matplotlib notebook\n",
    "#%matplotlib qt\n",
    "#!/usr/bin/env python\n",
    "# coding: utf-8\n",
    "\n",
    "import numpy as np\n",
    "\n",
    "import matplotlib\n",
    "import matplotlib.pyplot as plt\n",
    "from mpl_toolkits.mplot3d import Axes3D\n",
    "import matplotlib.dates as mdates\n",
    "import copy \n",
    "\n",
    "import scipy\n",
    "import scipy.stats\n",
    "import scipy.signal\n",
    "import scipy.ndimage\n",
    "from scipy.interpolate import interp1d\n",
    "\n",
    "import tqdm\n",
    "import tqdm.notebook\n",
    "\n",
    "import cv2\n",
    "\n",
    "import os\n",
    "\n",
    "from inspect import getfullargspec\n",
    "\n",
    "import tables\n",
    "\n",
    "import strawb\n",
    "\n",
    "plt.rcParams.update({\"text.usetex\": False})  # fix time fmt of x_ticks"
   ]
  },
  {
   "cell_type": "code",
   "execution_count": null,
   "id": "d9557214",
   "metadata": {},
   "outputs": [],
   "source": [
    "# get DB and update\n",
    "db = strawb.SyncDBHandler()\n",
    "db.load_onc_db_update(output=True, save_db=True)"
   ]
  },
  {
   "cell_type": "code",
   "execution_count": null,
   "id": "6e291ff5",
   "metadata": {},
   "outputs": [],
   "source": [
    "f_s = ['TUMPMTSPECTROMETER001_20220310T030107.064Z-SDAQ-PMTSPEC.hdf5',\n",
    "       'TUMPMTSPECTROMETER001_20220317T130834.712Z-SDAQ-PMTSPEC.hdf5',\n",
    "       'TUMPMTSPECTROMETER001_20220317T144950.271Z-SDAQ-PMTSPEC.hdf5',\n",
    "       'TUMPMTSPECTROMETER001_20220318T152927.297Z-SDAQ-PMTSPEC.hdf5',\n",
    "       'TUMPMTSPECTROMETER001_20220321T110607.536Z-SDAQ-PMTSPEC.hdf5']\n",
    "\n",
    "print('check if files are available or download missing files')\n",
    "db.get_files_from_names(f_s)"
   ]
  },
  {
   "cell_type": "code",
   "execution_count": null,
   "id": "dd1788d2",
   "metadata": {},
   "outputs": [],
   "source": [
    "pmt_all = []\n",
    "print('Load the PMTSpec Instances')\n",
    "for i in tqdm.notebook.tqdm(f_s):\n",
    "    pmt = strawb.sensors.PMTSpec(i)\n",
    "    pmt.pmt_meta_data.add_colors()\n",
    "    \n",
    "    pmt_all.append(pmt)"
   ]
  },
  {
   "cell_type": "code",
   "execution_count": null,
   "id": "c0b94d27",
   "metadata": {},
   "outputs": [],
   "source": [
    "print('Check if all scans get extracted')\n",
    "for pmt_i in tqdm.notebook.tqdm(pmt_all):\n",
    "    pmt_i.rate_scan.scan_off\n",
    "    pmt_i.rate_scan.scan_on"
   ]
  },
  {
   "cell_type": "code",
   "execution_count": null,
   "id": "1d007d91",
   "metadata": {},
   "outputs": [],
   "source": [
    "pmt_i.file_handler.get_pandas_padiwa()"
   ]
  },
  {
   "cell_type": "markdown",
   "id": "3a5c7c7c",
   "metadata": {},
   "source": [
    "# test the unique_steps function"
   ]
  },
  {
   "cell_type": "code",
   "execution_count": null,
   "id": "aff89c06",
   "metadata": {},
   "outputs": [],
   "source": [
    "states = [np.array([-1,0,0,0,1,1,1,1,0,0,2,2,2,3,4,4,5,5]),\n",
    "          np.array([-1,-1,0,0,0,1,1,1,1,0,0,2,2,2,3,4,4,5]),\n",
    "#           np.array([-1,-1,0,0,0,1,1,1,1,0,0,2,2,2,3,4,4,5,5]),\n",
    "         ]\n",
    "\n",
    "\n",
    "for state in states:\n",
    "    t = np.arange(len(state))\n",
    "    \n",
    "    t_steps, state_steps = strawb.tools.unique_steps(t, state)\n",
    "    \n",
    "    plt.figure()\n",
    "    plt.plot(t, state, 'o:', label='raw', ms=7, alpha=1)\n",
    "    plt.plot(t_steps.T, state_steps.T, 'o-', ms=10, label='t_steps', alpha=.5)\n",
    "    # plt.plot(tt.T, state[mm].T, 'o--')-\n",
    "    # tt, state[mm].T, m, mm\n",
    "    plt.legend()\n",
    "    \n",
    "t_steps, state_steps"
   ]
  },
  {
   "cell_type": "markdown",
   "id": "478d6283",
   "metadata": {},
   "source": [
    "# Store Scan parameters and calculate the rate per threshold"
   ]
  },
  {
   "cell_type": "code",
   "execution_count": null,
   "id": "bb5b0df4",
   "metadata": {},
   "outputs": [],
   "source": [
    "def plot_time(pmt):\n",
    "    fig, ax = plt.subplots(nrows=3, figsize=(10,10), squeeze=False, sharex=True)\n",
    "    ax = ax.flatten()\n",
    "\n",
    "    scans = [pmt.rate_scan.scan_off, pmt.rate_scan.scan_on]\n",
    "    \n",
    "    for i, scan_i in enumerate(scans):\n",
    "        ax[0].plot(scan_i.time_padiwa,\n",
    "                   scan_i.steps_padiwa,\n",
    "                   'o-', label=scan_i.name)\n",
    "\n",
    "        for ch in pmt.pmt_meta_data.channel_meta_array:\n",
    "            if i == 0:\n",
    "                label=ch['label']\n",
    "            else:\n",
    "                label=None\n",
    "            \n",
    "            ax[1].plot(scan_i.time_interpolated,\n",
    "                       scan_i.rate_interpolated[ch['index']], \n",
    "                       'o-',\n",
    "                       color=ch['color'], label=label, \n",
    "                       alpha=.5)\n",
    "\n",
    "            ax[2].plot(scan_i.time_interpolated, \n",
    "                       scan_i.active_ratio[ch['index']], \n",
    "                       'o-',\n",
    "                       color=ch['color'], label=label, \n",
    "                       alpha=.5)\n",
    "\n",
    "    ax[0].set_ylabel('PADIWA Offsets')\n",
    "    ax[1].set_ylabel('avg. Rate per Step [Hz]')\n",
    "    ax[2].set_ylabel('ratio of active counter reads')\n",
    "    fig.supxlabel('Date')\n",
    "    for ax_i in ax:\n",
    "        ax_i.grid()\n",
    "        ax_i.legend(ncol=2)\n",
    "\n",
    "    fig.suptitle(os.path.basename(pmt.file_handler.file_name))\n",
    "    plt.tight_layout()\n",
    "    plt.show()\n",
    "    \n",
    "\n",
    "for pmt_i in pmt_all:\n",
    "    plot_time(pmt_i)"
   ]
  },
  {
   "cell_type": "markdown",
   "id": "c4b5801a",
   "metadata": {},
   "source": [
    "# Plot Threshold vs. rate (interpolated)"
   ]
  },
  {
   "cell_type": "code",
   "execution_count": null,
   "id": "902465ca",
   "metadata": {},
   "outputs": [],
   "source": [
    "def threshold_vs_rate(pmt):\n",
    "    fig, ax = plt.subplots(nrows=12, sharex=True, sharey=True, constrained_layout=True, figsize=(10,15))\n",
    "\n",
    "    ax = ax.flatten()\n",
    "    \n",
    "    scans = [pmt.rate_scan.scan_off, pmt.rate_scan.scan_on]\n",
    "\n",
    "    i_ax = 0\n",
    "    for ch in pmt.pmt_meta_data.channel_meta_array:\n",
    "        # print(ch)\n",
    "        threshold_0 = pmt.file_handler.__getattribute__(f\"padiwa_th{ch['padiwa']}\")[0]\n",
    "        offset_0 = pmt.file_handler.padiwa_offset[0]\n",
    "            \n",
    "#         print(scan_threshold, threshold_0)\n",
    "        for scan_i in scans:\n",
    "            # Get threshold: Threshold start - offset\n",
    "            thresholds = scan_i.scan_threshold_dict[ch['padiwa']] - scan_i.steps_padiwa[:-1]\n",
    "            ax[i_ax].plot(thresholds[::2], \n",
    "                          scan_i.rate_interpolated[ch['index'], ::2], '-',\n",
    "                          label=f\"Rate {scan_i.name}\")\n",
    "\n",
    "            ax[i_ax].plot(thresholds[::2], \n",
    "                          scan_i.active_ratio[ch['index'], ::2], '--',\n",
    "                          label=f\"Active count {scan_i.name}\")\n",
    "\n",
    "        ax[i_ax].legend(loc='center left', \n",
    "                        bbox_to_anchor=(1.0, 0.5), \n",
    "                        title=f\"Channel: {ch['label']}\")\n",
    "\n",
    "        threshold = pmt.file_handler.__getattribute__(f\"padiwa_th{ch['padiwa']}\")[0]\n",
    "        offset = pmt.file_handler.padiwa_offset[0]\n",
    "\n",
    "        # the x coords of this transformation are data, and the\n",
    "        # y coord are axes\n",
    "        trans = ax[i_ax].get_xaxis_transform()\n",
    "        ax[i_ax].axvline(x=threshold_0-offset_0, label='threshold', color='k')\n",
    "        ax[i_ax].text(threshold_0-offset_0-100, .90, 'current threshold', \n",
    "                      #rotation=90, \n",
    "                      fontsize=12,\n",
    "                      horizontalalignment='right',\n",
    "                      verticalalignment='top',\n",
    "                      transform=trans,\n",
    "                      bbox=dict(boxstyle=\"round\",\n",
    "                                alpha=.75,\n",
    "                                ec='gray',\n",
    "                                fc=(1., 1., 1.),),\n",
    "                     )\n",
    "        i_ax += 1\n",
    "\n",
    "    for ax_i in ax:\n",
    "        ax_i.set_yscale('log')\n",
    "    #     ax_i.legend(loc=1, ncol=2)\n",
    "    #     ax_i.legend(loc='center left', bbox_to_anchor=(1.0, 0.5))\n",
    "        ax_i.grid()\n",
    "\n",
    "    fig.supxlabel('PADIWA Threshold')\n",
    "    fig.supylabel('Rate [Hz] or Counts')    \n",
    "    fig.suptitle(os.path.basename(pmt.file_handler.file_name))\n",
    "    plt.show()\n",
    "    \n",
    "for pmt_i in pmt_all:\n",
    "    threshold_vs_rate(pmt_i)"
   ]
  },
  {
   "cell_type": "code",
   "execution_count": null,
   "id": "87a9a9d8",
   "metadata": {},
   "outputs": [],
   "source": []
  }
 ],
 "metadata": {
  "kernelspec": {
   "display_name": "Python 3",
   "language": "python",
   "name": "python3"
  },
  "language_info": {
   "codemirror_mode": {
    "name": "ipython",
    "version": 3
   },
   "file_extension": ".py",
   "mimetype": "text/x-python",
   "name": "python",
   "nbconvert_exporter": "python",
   "pygments_lexer": "ipython3",
   "version": "3.7.10"
  }
 },
 "nbformat": 4,
 "nbformat_minor": 5
}
