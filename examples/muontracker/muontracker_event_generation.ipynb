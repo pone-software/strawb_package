{
 "cells": [
  {
   "cell_type": "code",
   "execution_count": null,
   "id": "cc085565",
   "metadata": {},
   "outputs": [],
   "source": [
    "%matplotlib notebook\n",
    "\n",
    "# This examples shows who to download files from the ONC server\n",
    "import os\n",
    "\n",
    "import numpy as np\n",
    "import datetime\n",
    "\n",
    "import matplotlib.pyplot as plt\n",
    "import matplotlib.dates as mdates\n",
    "\n",
    "import strawb\n",
    "import strawb.sensors.module\n",
    "import strawb.tools\n",
    "\n",
    "import h5py \n",
    "\n",
    "import pandas\n",
    "import scipy.ndimage\n",
    "\n",
    "import glob\n",
    "import tqdm\n",
    "import tqdm.notebook"
   ]
  },
  {
   "cell_type": "markdown",
   "id": "47045159",
   "metadata": {},
   "source": [
    "# create working path"
   ]
  },
  {
   "cell_type": "code",
   "execution_count": null,
   "id": "e3eb9a7f",
   "metadata": {},
   "outputs": [],
   "source": [
    "path = os.path.abspath(os.path.join(strawb.Config.proc_data_dir, 'muontracker/muon_events'))\n",
    "os.makedirs(path, exist_ok=True)\n",
    "print(path)"
   ]
  },
  {
   "cell_type": "markdown",
   "id": "94efca89",
   "metadata": {},
   "source": [
    "# Load ONC DB and mask files of interest"
   ]
  },
  {
   "cell_type": "code",
   "execution_count": null,
   "id": "d1134136",
   "metadata": {},
   "outputs": [],
   "source": [
    "# Check if DB exits, if not load it, but update it anyway\n",
    "if os.path.exists(strawb.Config.pandas_file_sync_db):\n",
    "    db = strawb.SyncDBHandler()  # loads the db from disc\n",
    "else:\n",
    "    db = strawb.SyncDBHandler(load_db=False)  # loads the db from ONC server\n",
    "\n",
    "db.load_onc_db_update(output=True, save_db=True)"
   ]
  },
  {
   "cell_type": "code",
   "execution_count": null,
   "id": "20ff43aa",
   "metadata": {},
   "outputs": [],
   "source": [
    "# mask by device and data-product\n",
    "mask = db.dataframe['deviceCode'] == 'TUMMUONTRACKER001'\n",
    "mask &= db.dataframe.dataProductCode == 'MTSD'  # see SyncDBHandler.sensor_mapping\n",
    "mask &= db.dataframe.synced\n",
    "mask &= db.dataframe.file_version==4  # we need TOT\n",
    "mask &= db.dataframe.measurement_type == 'counts'  # no rate scan\n",
    "\n",
    "db.dataframe[mask]"
   ]
  },
  {
   "cell_type": "code",
   "execution_count": null,
   "id": "a7564110",
   "metadata": {},
   "outputs": [],
   "source": [
    "def get_file_name(file_i, path, threshold_ns):\n",
    "    str_formater = '{t_start:%Y%m}/{dev_code}_{t_start:%Y%m%dT%H%M%S}_{t_end:%Y%m%dT%H%M%S}_muon-events_threshold-ns_{threshold_ns}.gz'\n",
    "\n",
    "    # generate resulting file name\n",
    "    formater_dict = {\n",
    "        'dev_code': file_i.deviceCode,\n",
    "        't_start': file_i.dateFrom,\n",
    "        't_end': file_i.dateTo,\n",
    "        'threshold_ns': f'{threshold_ns:.0f}',\n",
    "    }\n",
    "    file_name = os.path.join(path, str_formater.format(**formater_dict))\n",
    "    return file_name\n",
    "\n",
    "def save_dataframe(full_path, dataframe, path, threshold_ns=20, reduce_dataframe=True, skipp=True):\n",
    "    file_i = dataframe.loc[full_path]\n",
    "    file_name = get_file_name(file_i, path, threshold_ns)\n",
    "    if skipp and os.path.exists(file_name):\n",
    "        return 0\n",
    "    \n",
    "    os.makedirs(os.path.dirname(file_name), exist_ok=True)\n",
    "    \n",
    "    df = create_dataframe(full_path, dataframe, \n",
    "                          threshold_ns=threshold_ns, reduce_dataframe=reduce_dataframe)\n",
    "    df.to_pickle(file_name)\n",
    "    \n",
    "    return 1\n",
    "\n",
    "def create_dataframe(full_path, dataframe, threshold_ns=20, reduce_dataframe=True):    \n",
    "    muon = strawb.MuonTracker(full_path)\n",
    "    return muon.event_builder.event_builder(reduce_dataframe=reduce_dataframe, \n",
    "                                            threshold_ns=threshold_ns)\n",
    "\n",
    "# Test\n",
    "full_path = db.dataframe[mask].iloc[-1].fullPath\n",
    "threshold_ns = 20.0\n",
    "\n",
    "df = create_dataframe(full_path, db.dataframe[mask], threshold_ns=threshold_ns)\n",
    "df"
   ]
  },
  {
   "cell_type": "markdown",
   "id": "f060ed43",
   "metadata": {},
   "source": [
    "# loop over all files and extract the events"
   ]
  },
  {
   "cell_type": "code",
   "execution_count": null,
   "id": "4dabce9f",
   "metadata": {},
   "outputs": [],
   "source": [
    "import tqdm\n",
    "import tqdm.notebook\n",
    "\n",
    "mask_small_files = mask & (db.dataframe.fileSize < 1e6)\n",
    "full_path_list = list(db.dataframe[mask].fullPath)[:20]\n",
    "\n",
    "threshold_ns = 20.0\n",
    "\n",
    "path = os.path.abspath(os.path.join(strawb.Config.proc_data_dir, 'muontracker/muon_events'))\n",
    "os.makedirs(path, exist_ok=True)\n",
    "print(path)\n",
    "\n",
    "mpi = strawb.MProcessIterator(processes=9,\n",
    "                                   progress_bar=tqdm.tqdm,\n",
    "                                   with_sys_log=False)\n",
    "\n",
    "results = mpi.run(save_dataframe, full_path_list,\n",
    "        dataframe=db.dataframe[mask], path=path, threshold_ns=threshold_ns,\n",
    "                 skipp=False)"
   ]
  },
  {
   "cell_type": "code",
   "execution_count": null,
   "id": "73519e5c",
   "metadata": {},
   "outputs": [],
   "source": [
    "mpi_results = {'error' : mpi.error_dict,\n",
    "          'success': mpi.success_dict}\n",
    "\n",
    "for i in mpi_results:\n",
    "    print(f'{i:8}: {len(mpi_results[i]):4}')"
   ]
  },
  {
   "cell_type": "markdown",
   "id": "c30e7112",
   "metadata": {},
   "source": [
    "# combine the dataframes to a monthly dataframe and store it"
   ]
  },
  {
   "cell_type": "code",
   "execution_count": null,
   "id": "b7b1d1c5",
   "metadata": {},
   "outputs": [],
   "source": [
    "import glob\n",
    "\n",
    "def get_db_pandas():\n",
    "    # get all monthly Cluster DBs; they have the endinng `_image_cluster.gz`\n",
    "    search_str = os.path.join(path, '**/*_muon-events_*.gz')\n",
    "    df_data = pandas.DataFrame({'fullPath': glob.glob(search_str)})\n",
    "\n",
    "    # extract the informations from the file name\n",
    "    ps_file_name = df_data.fullPath.str.rsplit('/', 1, True)[1]  # extract the filename\n",
    "    ps_file_name = ps_file_name.str.rsplit('.', 1, True)[0]  # remove file ending\n",
    "    # split the filename in its components; 4 columns means 3 splits\n",
    "    df_data[['deviceCode','dateFrom', 'dateTo', 'threshold_ns']] = ps_file_name.str.split('_', 5, True)[[0,1,2,5]]\n",
    "\n",
    "    # convert the dtypes\n",
    "    df_data.dateFrom = pandas.to_datetime(df_data.dateFrom, unit='ns')\n",
    "    df_data.dateTo = pandas.to_datetime(df_data.dateTo, unit='ns')\n",
    "    df_data.threshold_ns = df_data.threshold_ns.astype(float)\n",
    "    \n",
    "    # get file size\n",
    "    df_data['file_size'] = df_data.fullPath.apply(os.path.getsize)\n",
    "    df_data['file_size_str'] = df_data.file_size.apply(strawb.tools.human_size)\n",
    "    \n",
    "    df_data.sort_values(['deviceCode', 'dateFrom'], inplace=True, ignore_index=True)\n",
    "    return df_data\n",
    "\n",
    "df_single = get_db_pandas()\n",
    "\n",
    "print('Detected Groups: ', *df_single.groupby(['deviceCode']).groups, sep='\\n')\n",
    "\n",
    "df_single"
   ]
  },
  {
   "cell_type": "markdown",
   "id": "9f4c5e77",
   "metadata": {},
   "source": [
    "# generate the monthly files"
   ]
  },
  {
   "cell_type": "code",
   "execution_count": null,
   "id": "02ca2daf",
   "metadata": {},
   "outputs": [],
   "source": [
    "def get_file_name_monthly(dev_code, date_from, date_to, path, threshold_ns):\n",
    "    str_formater = '{dev_code}_{t_start:%Y%m%dT%H%M%S}_{t_end:%Y%m%dT%H%M%S}_muon-events-merge_threshold-ns_{threshold_ns}.gz'\n",
    "\n",
    "    # generate resulting file name\n",
    "    formater_dict = {\n",
    "        'dev_code': dev_code,\n",
    "        't_start': date_from,\n",
    "        't_end': date_to,\n",
    "        'threshold_ns': f'{threshold_ns:.0f}',\n",
    "    }\n",
    "    file_name = os.path.join(path, str_formater.format(**formater_dict))\n",
    "    return file_name\n",
    "\n",
    "\n",
    "# get the time range\n",
    "dt_month=pandas.offsets.MonthBegin(1)\n",
    "dr = pandas.date_range(df_single.dateFrom.min()-dt_month, df_single.dateFrom.max(), freq=dt_month, normalize = True)\n",
    "\n",
    "# loop ovoer the time range\n",
    "for dr_i in tqdm.notebook.tqdm(dr):\n",
    "    file_name = get_file_name_monthly('TUMMUONTRACKER001', \n",
    "                                      dr_i, dr_i+dt_month-pandas.Timedelta('00:00:01'), \n",
    "                                      path, 20)\n",
    "    print(file_name)\n",
    "    mask_dates = (df_single.dateFrom >= dr_i) & (df_single.dateFrom < dr_i+dt_month)\n",
    "\n",
    "    df_list = []\n",
    "    for i, row_i in df_single[mask_dates].iterrows():\n",
    "        df_list.append(strawb.BaseDBHandler(row_i.fullPath).dataframe)\n",
    "\n",
    "    df_all = pandas.concat(df_list, ignore_index=True)\n",
    "\n",
    "    df_all.to_pickle(file_name)"
   ]
  },
  {
   "cell_type": "markdown",
   "id": "51957b7c",
   "metadata": {},
   "source": [
    "# get a DataFrame with all monthly files"
   ]
  },
  {
   "cell_type": "code",
   "execution_count": null,
   "id": "75208a88",
   "metadata": {},
   "outputs": [],
   "source": [
    "def get_db_pandas_monthly():\n",
    "    # get all monthly Cluster DBs; they have the endinng `_image_cluster.gz`\n",
    "    search_str = os.path.join(path, '*_muon-events-merge_*.gz')\n",
    "    df_data = pandas.DataFrame({'fullPath': glob.glob(search_str)})\n",
    "\n",
    "    # extract the informations from the file name\n",
    "    ps_file_name = df_data.fullPath.str.rsplit('/', 1, True)[1]  # extract the filename\n",
    "    ps_file_name = ps_file_name.str.rsplit('.', 1, True)[0]  # remove file ending\n",
    "    # split the filename in its components; 4 columns means 3 splits\n",
    "    df_data[['deviceCode','dateFrom', 'dateTo', 'threshold_ns']] = ps_file_name.str.split('_', 5, True)[[0,1,2,5]]\n",
    "\n",
    "    # convert the dtypes\n",
    "    df_data.dateFrom = pandas.to_datetime(df_data.dateFrom, unit='ns')\n",
    "    df_data.dateTo = pandas.to_datetime(df_data.dateTo, unit='ns')\n",
    "    df_data.threshold_ns = df_data.threshold_ns.astype(float)\n",
    "    \n",
    "    # get file size\n",
    "    df_data['file_size'] = df_data.fullPath.apply(os.path.getsize)\n",
    "    df_data['file_size_str'] = df_data.file_size.apply(strawb.tools.human_size)\n",
    "\n",
    "    df_data.sort_values(['deviceCode','dateFrom'], inplace=True, ignore_index=True)\n",
    "    return df_data\n",
    "\n",
    "df_monthly = get_db_pandas_monthly()\n",
    "\n",
    "print('Detected Groups: ', *df_monthly.groupby(['deviceCode']).groups, sep='\\n')\n",
    "\n",
    "df_monthly"
   ]
  },
  {
   "cell_type": "markdown",
   "id": "12d164cd",
   "metadata": {},
   "source": [
    "# Do some plotting"
   ]
  },
  {
   "cell_type": "code",
   "execution_count": null,
   "id": "4de0aa84",
   "metadata": {},
   "outputs": [],
   "source": [
    "# extract the rate over all monthly files\n",
    "dt = 30*60  # [s]\n",
    "\n",
    "df_list = []\n",
    "\n",
    "for i in df_monthly.fullPath:\n",
    "    print(i)\n",
    "    df = pandas.read_pickle(i)\n",
    "    df['time'] = pandas.to_datetime(df['time']*1e9)\n",
    "    df.label = (df.label.diff().fillna(0)!=0).cumsum()\n",
    "    \n",
    "    bins = pandas.to_numeric(\n",
    "        pandas.date_range(df['time'].min(),\n",
    "                          df['time'].max()+pandas.Timedelta('1H'), \n",
    "                          normalize=True, \n",
    "                          freq='1h'))\n",
    "\n",
    "    for j in range(df.scintillator_double_count.max()):\n",
    "        t = df[df.scintillator_double_count==j+1].groupby('label').time.min()\n",
    "        counts, edges = np.histogram(pandas.to_numeric(t), bins=bins)\n",
    "        \n",
    "        \n",
    "        df_list.append(pandas.DataFrame({'counts': counts,\n",
    "                                         'time': (edges[1:] + edges[:-1])*.5,\n",
    "                                         'scintillator_double_count': j+1}))\n",
    "\n",
    "df_all = pandas.concat(df_list)\n",
    "df_all['time'] = pandas.to_datetime(df_all['time'])"
   ]
  },
  {
   "cell_type": "code",
   "execution_count": null,
   "id": "309ee558",
   "metadata": {},
   "outputs": [],
   "source": [
    "nrows = 1\n",
    "fig, ax = plt.subplots(ncols=1, nrows=nrows, #layout=\"constrained\", \n",
    "                       squeeze=False, sharex=True, \n",
    "                       figsize=(9,3*nrows),\n",
    "#                        gridspec_kw=dict(height_ratios=[5,1])\n",
    "                      )\n",
    "ax_shape = ax.shape\n",
    "\n",
    "ax_shape = ax.shape\n",
    "ax = ax.flatten()\n",
    "\n",
    "for i in df_all.scintillator_double_count.unique():\n",
    "    mask_sc = df_all.scintillator_double_count == i\n",
    "    \n",
    "    ax[0].plot(df_all[mask_sc].time, df_all[mask_sc].counts)\n",
    "    \n",
    "plt.yscale('log')\n",
    "plt.grid()\n",
    "plt.tight_layout()"
   ]
  },
  {
   "cell_type": "code",
   "execution_count": null,
   "id": "9f2f5759",
   "metadata": {},
   "outputs": [],
   "source": []
  }
 ],
 "metadata": {
  "kernelspec": {
   "display_name": "py39",
   "language": "python",
   "name": "py39"
  },
  "language_info": {
   "codemirror_mode": {
    "name": "ipython",
    "version": 3
   },
   "file_extension": ".py",
   "mimetype": "text/x-python",
   "name": "python",
   "nbconvert_exporter": "python",
   "pygments_lexer": "ipython3",
   "version": "3.7.10"
  },
  "varInspector": {
   "cols": {
    "lenName": 16,
    "lenType": 16,
    "lenVar": 40
   },
   "kernels_config": {
    "python": {
     "delete_cmd_postfix": "",
     "delete_cmd_prefix": "del ",
     "library": "var_list.py",
     "varRefreshCmd": "print(var_dic_list())"
    },
    "r": {
     "delete_cmd_postfix": ") ",
     "delete_cmd_prefix": "rm(",
     "library": "var_list.r",
     "varRefreshCmd": "cat(var_dic_list()) "
    }
   },
   "types_to_exclude": [
    "module",
    "function",
    "builtin_function_or_method",
    "instance",
    "_Feature"
   ],
   "window_display": false
  }
 },
 "nbformat": 4,
 "nbformat_minor": 5
}
