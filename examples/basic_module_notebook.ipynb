{
 "cells": [
  {
   "cell_type": "code",
   "execution_count": null,
   "metadata": {},
   "outputs": [],
   "source": [
    "# interactive\n",
    "%matplotlib notebook\n",
    "# QT exterenal window\n",
    "# %matplotlib qt\n",
    "# non interactive\n",
    "# %matplotlib inline\n",
    "\n",
    "# This examples shows who to download files from the ONC server\n",
    "import glob\n",
    "import os\n",
    "\n",
    "import numpy as np\n",
    "import datetime\n",
    "import matplotlib.pyplot as plt\n",
    "import matplotlib.dates as mdates\n",
    "\n",
    "import strawb\n",
    "import strawb.sensors.module\n",
    "import strawb.tools\n",
    "\n",
    "plt.rcParams.update({\"text.usetex\": False})  # fix time fmt of x_ticks"
   ]
  },
  {
   "cell_type": "code",
   "execution_count": null,
   "metadata": {},
   "outputs": [],
   "source": [
    "# module_name = 'TUMSTANDARDMODULE001'\n",
    "\n",
    "# get all possible dev_codes\n",
    "dev_codes = set([i['dev_code'] for i in strawb.module_onc_id.values()])\n",
    "# subtract not deployed dev_codes\n",
    "dev_codes = dev_codes.difference(['TEST', 'UNITTEST', 'TUMSTANDARDMODULE002', 'TUMSTANDARDMODULE003'])\n",
    "\n",
    "module_list = []"
   ]
  },
  {
   "cell_type": "markdown",
   "metadata": {},
   "source": [
    "## Download the files from the ONC server"
   ]
  },
  {
   "cell_type": "code",
   "execution_count": null,
   "metadata": {},
   "outputs": [],
   "source": [
    "onc_downloader = strawb.ONCDownloader(showInfo=False)\n",
    "\n",
    "for dev_i in dev_codes:\n",
    "    filters = {'deviceCode': dev_i,\n",
    "               'dateFrom': '2021-01-01T00:00:00.000Z',\n",
    "               'dateTo': '2022-01-01T23:59:59.000Z',\n",
    "               'dataProductCode': 'SMRD',  # download only 'MODULE' data\n",
    "               'extension': 'hdf5'}\n",
    "\n",
    "    # download in foreground, (use 'onc_downloader.start(...)' for background)\n",
    "    onc_downloader.download_file(filters=filters, allPages=True)"
   ]
  },
  {
   "cell_type": "markdown",
   "metadata": {},
   "source": [
    "# create a combined HDF5 file"
   ]
  },
  {
   "cell_type": "code",
   "execution_count": null,
   "metadata": {},
   "outputs": [],
   "source": [
    "for dev_i in dev_codes:\n",
    "    # get a list with all filenames that should be included in the virtual HDF5 file\n",
    "    f_names = glob.glob(f'{strawb.config_parser.config_parser.Config.raw_data_dir}/{module_name}_*MODULE.hdf5')\n",
    "    f_names.sort()  # f_names should be sorted\n",
    "\n",
    "    # create the virtual HDF5 file, f_names should be sorted, otherwise the data isn't sorted\n",
    "    strawb.VirtualHDF5(f'{module_name}_MODULE.h5',\n",
    "                       f_names,\n",
    "                       obj_dict_filter=strawb.DatasetsInGroupSameSize)"
   ]
  },
  {
   "cell_type": "markdown",
   "metadata": {},
   "source": [
    "# Load a file\n",
    "## can be a single or combined aka. virtual HDF5 file"
   ]
  },
  {
   "cell_type": "code",
   "execution_count": null,
   "metadata": {},
   "outputs": [],
   "source": [
    "# get all possible dev_codes\n",
    "dev_codes = set([i['dev_code'] for i in strawb.module_onc_id.values()])\n",
    "# subtract not deployed dev_codes\n",
    "dev_codes = dev_codes.difference(['TEST', 'UNITTEST', 'TUMSTANDARDMODULE002', 'TUMSTANDARDMODULE003'])\n",
    "\n",
    "module_list = []\n",
    "\n",
    "for dev_i in dev_codes:\n",
    "    module_list.append(strawb.sensors.module.FileHandler(f'{dev_i}_MODULE.h5'))"
   ]
  },
  {
   "cell_type": "code",
   "execution_count": null,
   "metadata": {},
   "outputs": [],
   "source": [
    "module_list"
   ]
  },
  {
   "cell_type": "code",
   "execution_count": null,
   "metadata": {},
   "outputs": [],
   "source": [
    "for module in module_list:\n",
    "    print([i for i in module.file if 'lucifer' in i])"
   ]
  },
  {
   "cell_type": "code",
   "execution_count": null,
   "metadata": {},
   "outputs": [],
   "source": [
    "module.accel_time[:]"
   ]
  },
  {
   "cell_type": "code",
   "execution_count": null,
   "metadata": {},
   "outputs": [],
   "source": [
    "plt.figure()\n",
    "\n",
    "plt.plot(module.accel_time[:] > 0)"
   ]
  },
  {
   "cell_type": "code",
   "execution_count": null,
   "metadata": {},
   "outputs": [],
   "source": []
  },
  {
   "cell_type": "code",
   "execution_count": null,
   "metadata": {},
   "outputs": [],
   "source": [
    "fig, ax = plt.subplots(nrows=8, squeeze=False, figsize=(10,15), sharex=True)\n",
    "ax = ax.flatten()\n",
    "\n",
    "i = 0\n",
    "\n",
    "# ACCEL\n",
    "strawb.tools.plot_binned_mean(module.accel_time, module.accel_x[:]*9.81, ax=ax[i], label='accel x')\n",
    "strawb.tools.plot_binned_mean(module.accel_time, module.accel_y[:]*9.81, ax=ax[i], label='accel y')\n",
    "ax[i].set_ylabel('Accel [m/s**2]')\n",
    "i += 1\n",
    "strawb.tools.plot_binned_mean(module.accel_time, module.accel_z[:]*9.81, ax=ax[i], label='accel z')\n",
    "ax[i].set_ylabel('Accel [m/s**2]')\n",
    "i += 1\n",
    "\n",
    "# Magnet\n",
    "strawb.tools.plot_binned_mean(module.magneto_time, module.magneto_x, ax=ax[i], label='magneto x')\n",
    "strawb.tools.plot_binned_mean(module.magneto_time, module.magneto_y, ax=ax[i], label='magneto y')\n",
    "strawb.tools.plot_binned_mean(module.magneto_time, module.magneto_z, ax=ax[i], label='magneto z')\n",
    "ax[i].set_ylabel('Magneto [a.u.]')\n",
    "i += 1\n",
    "\n",
    "# TEMP.\n",
    "strawb.tools.plot_binned_mean(module.temperatures_time, module.temperatures_temp1, ax=ax[i], label='temp 1')\n",
    "strawb.tools.plot_binned_mean(module.temperatures_time, module.temperatures_temp2, ax=ax[i], label='temp 2')\n",
    "ax[i].set_ylabel('Temp [C]')\n",
    "i += 1\n",
    "strawb.tools.plot_binned_mean(module.temperatures_time, module.temperatures_temp3, ax=ax[i], label='temp 3')\n",
    "ax[i].set_ylabel('Temp [C]')\n",
    "i += 1\n",
    "\n",
    "# PTH\n",
    "strawb.tools.plot_binned_mean(module.pth_time, module.pth_temperature, ax=ax[i], label='temp pth')\n",
    "ax[i].set_ylabel('Temp [C]')\n",
    "i += 1\n",
    "\n",
    "strawb.tools.plot_binned_mean(module.pth_time, module.pth_humidity, ax=ax[i], label='pth humidity')\n",
    "ax[i].set_ylabel('humidity [per]')\n",
    "i += 1\n",
    "\n",
    "strawb.tools.plot_binned_mean(module.pth_time, module.pth_pressure, ax=ax[i], label='pth pressure')\n",
    "ax[i].set_ylabel('pressure [mbar]')\n",
    "i += 1\n",
    "\n",
    "for ax_i in ax:\n",
    "    ax_i.legend(loc=1)\n",
    "    ax_i.grid()\n",
    "\n",
    "# # set limits\n",
    "# limits = np.array([[ax_i.dataLim.x0, ax_i.dataLim.x1] for ax_i in ax])\n",
    "# ax[-1].set_xlim((limits[:,0].min(), limits[:,1].max()))\n",
    "    \n",
    "fig.autofmt_xdate()\n",
    "locator = mdates.AutoDateLocator()\n",
    "#fmt = mdates.AutoDateFormatter(locator, usetex=True)\n",
    "fmt = mdates.ConciseDateFormatter(locator)\n",
    "ax[-1].xaxis.set_major_formatter(fmt)\n",
    "plt.tight_layout()"
   ]
  },
  {
   "cell_type": "code",
   "execution_count": null,
   "metadata": {},
   "outputs": [],
   "source": [
    "limits = np.array([[ax_i.dataLim.x0, ax_i.dataLim.x1] for ax_i in ax])\n",
    "limits"
   ]
  },
  {
   "cell_type": "code",
   "execution_count": null,
   "metadata": {},
   "outputs": [],
   "source": [
    "# get all possible dev_codes\n",
    "dev_codes = set([i['dev_code'] for i in strawb.module_onc_id.values()])\n",
    "# subtract not deployed dev_codes\n",
    "dev_codes = dev_codes.difference(['TEST', 'UNITTEST', 'TUMSTANDARDMODULE002', 'TUMSTANDARDMODULE003'])\n",
    "\n",
    "module_list = []\n",
    "\n",
    "for dev_i in dev_codes:\n",
    "    # get a list with all filenames that should be included in the virtual HDF5 file\n",
    "    f_names = glob.glob(f'{strawb.config_parser.config_parser.Config.raw_data_dir}/{dev_i}_*MODULE.hdf5')\n",
    "    f_names.sort()  # f_names should be sorted\n",
    "\n",
    "    # create the virtual HDF5 file, f_names should be sorted, otherwise the data isn't sorted\n",
    "    virtual_hdf5_gen = strawb.VirtualHDF5(f'{dev_i}_MODULE.h5',\n",
    "                                          f_names,\n",
    "                                          obj_dict_filter=strawb.DatasetsInGroupSameSize)\n",
    "\n",
    "    module_list.append(strawb.sensors.module.FileHandler(f'{dev_i}_MODULE.h5'))"
   ]
  },
  {
   "cell_type": "code",
   "execution_count": null,
   "metadata": {},
   "outputs": [],
   "source": [
    "fig, ax = plt.subplots(nrows=6, squeeze=False, figsize=(10,15), sharex=True)\n",
    "ax = ax.flatten()\n",
    "\n",
    "\n",
    "for module in module_list:\n",
    "    print(module.module)\n",
    "    i = 0\n",
    "    # TEMP.\n",
    "    mask = module.temperatures_time[:] > datetime.datetime(year=2020,month=12,day=1).timestamp()\n",
    "    plot_time = module.temperatures_time[:][mask]\n",
    "    strawb.tools.plot_binned_mean(plot_time, module.temperatures_temp1[:][mask],\n",
    "                                  ax=ax[i], label=f'temp 1 {module.module}')\n",
    "    ax[i].set_ylabel('Temp [C]')\n",
    "    i += 1\n",
    "\n",
    "    strawb.tools.plot_binned_mean(plot_time, module.temperatures_temp2[:][mask],\n",
    "                                  ax=ax[i], label=f'temp 2 {module.module}')\n",
    "    ax[i].set_ylabel('Temp [C]')\n",
    "    i += 1\n",
    "\n",
    "    strawb.tools.plot_binned_mean(plot_time, module.temperatures_temp3[:][mask],\n",
    "                                  ax=ax[i], label=f'temp 3 {module.module}')\n",
    "    ax[i].set_ylabel('Temp [C]')\n",
    "    i += 1\n",
    "\n",
    "    # PTH\n",
    "    mask = module.pth_time[:] > datetime.datetime(year=2020,month=12,day=1).timestamp()\n",
    "    plot_time = module.pth_time[:][mask]\n",
    "    strawb.tools.plot_binned_mean(plot_time, module.pth_temperature[:][mask],\n",
    "                                  ax=ax[i], label=f'temp pth {module.module}')\n",
    "    ax[i].set_ylabel('Temp [C]')\n",
    "    i += 1\n",
    "\n",
    "    strawb.tools.plot_binned_mean(plot_time, module.pth_humidity[:][mask],\n",
    "                                  ax=ax[i], label=f'pth humidity {module.module}')\n",
    "    ax[i].set_ylabel('humidity [per]')\n",
    "    i += 1\n",
    "\n",
    "    strawb.tools.plot_binned_mean(plot_time, module.pth_pressure[:][mask],\n",
    "                                  ax=ax[i], label=f'pth pressure {module.module}')\n",
    "    ax[i].set_ylabel('pressure [mbar]')\n",
    "    i += 1\n",
    "\n",
    "for ax_i in ax:\n",
    "    ax_i.legend(loc=0)\n",
    "    ax_i.grid()\n",
    "\n",
    "# set limits\n",
    "limits = np.array([[ax_i.dataLim.x0, ax_i.dataLim.x1] for ax_i in ax])\n",
    "ax[-1].set_xlim((limits[:,0].min(), limits[:,1].max()))\n",
    "    \n",
    "fig.autofmt_xdate()\n",
    "locator = mdates.AutoDateLocator()\n",
    "#fmt = mdates.AutoDateFormatter(locator, usetex=True)\n",
    "fmt = mdates.ConciseDateFormatter(locator)\n",
    "ax[-1].xaxis.set_major_formatter(fmt)\n",
    "plt.tight_layout()"
   ]
  },
  {
   "cell_type": "code",
   "execution_count": null,
   "metadata": {},
   "outputs": [],
   "source": [
    "import datetime\n",
    "date_str = [f_names_i.split(module_name+'_')[-1].split('.')[0] for f_names_i in f_names]\n",
    "date_datetime = [datetime.datetime.strptime(date_i, '%Y%m%dT%H%M%S') for date_i in date_str]\n",
    "date_np = np.array(date_datetime, dtype=np.datetime64)\n",
    "size = np.array([os.path.getsize(f_names_i) for f_names_i in f_names])"
   ]
  },
  {
   "cell_type": "code",
   "execution_count": null,
   "metadata": {},
   "outputs": [],
   "source": [
    "ax_i.set_ylim(200,400)"
   ]
  },
  {
   "cell_type": "code",
   "execution_count": null,
   "metadata": {},
   "outputs": [],
   "source": [
    "plt.figure()\n",
    "plt.plot(date_np, size)\n",
    "plt.grid()"
   ]
  },
  {
   "cell_type": "code",
   "execution_count": null,
   "metadata": {},
   "outputs": [],
   "source": []
  }
 ],
 "metadata": {
  "kernelspec": {
   "display_name": "Python 3",
   "language": "python",
   "name": "python3"
  },
  "language_info": {
   "codemirror_mode": {
    "name": "ipython",
    "version": 3
   },
   "file_extension": ".py",
   "mimetype": "text/x-python",
   "name": "python",
   "nbconvert_exporter": "python",
   "pygments_lexer": "ipython3",
   "version": "3.7.10"
  }
 },
 "nbformat": 4,
 "nbformat_minor": 4
}
