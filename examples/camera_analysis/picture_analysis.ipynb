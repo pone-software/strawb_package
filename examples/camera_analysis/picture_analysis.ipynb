{
 "cells": [
  {
   "cell_type": "code",
   "execution_count": null,
   "metadata": {},
   "outputs": [],
   "source": [
    "import numpy as np\n",
    "import pandas as pd\n",
    "\n",
    "import strawb\n",
    "import os\n",
    "import matplotlib.pyplot as plt\n",
    "import matplotlib.dates as mdates\n",
    "\n",
    "import scipy.interpolate\n",
    "import matplotlib.colors\n",
    "import matplotlib.ticker"
   ]
  },
  {
   "cell_type": "markdown",
   "metadata": {},
   "source": [
    "# Import Data"
   ]
  },
  {
   "cell_type": "code",
   "execution_count": null,
   "metadata": {},
   "outputs": [],
   "source": [
    "# DataFrame ueber mehrere Tage\n",
    "\n",
    "cluster_temp_fname = 'TUMPMTSPECTROMETER001.gz'  # database of the camera you want to analyse the pictures of\n",
    "\n",
    "if not os.path.exists(cluster_temp_fname):\n",
    "    print(\"Doesn't exist\")\n",
    "else:\n",
    "    image_cluster_db = strawb.sync_db_handler.ImageClusterDB(file_name=cluster_temp_fname)"
   ]
  },
  {
   "cell_type": "markdown",
   "metadata": {},
   "source": [
    "Load files from the ONC server."
   ]
  },
  {
   "cell_type": "code",
   "execution_count": null,
   "metadata": {},
   "outputs": [],
   "source": [
    "# load DB\n",
    "db = strawb.SyncDBHandler(file_name='Default')  # loads the db\n",
    "db.load_onc_db_update(save_db=True)  # update the DB, could take some time if it has to load info. from ONC"
   ]
  },
  {
   "cell_type": "code",
   "execution_count": null,
   "metadata": {},
   "outputs": [],
   "source": [
    "mask = (db.dataframe.deviceCode == 'TUMPMTSPECTROMETER001') # that's the pmtspec module\n",
    "mask &= (db.dataframe.dataProductCode =='MSSCD') # that's the camera data of the pmtspec module\n",
    "\n",
    "## select the file for the biolumi event with a window of +- 5 hours\n",
    "# timestamp = pd.Timestamp('2022-03-04T23:44:09', tz='UTC')  # gain = 30\n",
    "timestamp = pd.Timestamp('2021-09-04T23:44:09', tz='UTC')  # gain = 50\n",
    "mask &= db.dataframe.dateFrom >= timestamp - pd.Timedelta('5H')  # - 5 hours\n",
    "mask &= db.dataframe.dateFrom <= timestamp + pd.Timedelta('5H')  # - 5 hours\n",
    "\n",
    "### selected one file from the DB (it's the same as the file we selected above by hand)\n",
    "db.dataframe[mask]"
   ]
  },
  {
   "cell_type": "markdown",
   "metadata": {},
   "source": [
    "Download the missing files which aren't synced so far from `db.dataframe[mask]`"
   ]
  },
  {
   "cell_type": "code",
   "execution_count": null,
   "metadata": {},
   "outputs": [],
   "source": [
    "if not db.dataframe.synced[mask].all():\n",
    "    db.update_db_and_load_files(\n",
    "        db.dataframe[mask],\n",
    "        output=True,  # print output to console\n",
    "        download=True,  # download the files\n",
    "        save_db=True,\n",
    "    )  # update the DB"
   ]
  },
  {
   "cell_type": "markdown",
   "metadata": {},
   "source": [
    "Import the file to the Camera Module "
   ]
  },
  {
   "cell_type": "code",
   "execution_count": null,
   "metadata": {},
   "outputs": [],
   "source": [
    "# select the Camera file(s) -> dataProductCode == 'MSSCD'\n",
    "item = db.dataframe[mask & (db.dataframe.dataProductCode =='MSSCD')]\n",
    "\n",
    "try: # if the pmtspec file is still open\n",
    "    camera.file_handler.close()\n",
    "except:\n",
    "    pass\n",
    "    \n",
    "# generate a virtual hdf5 to combine the datasets if there are multiple files selected\n",
    "if len(item) > 1:\n",
    "    vhdf5 = strawb.VirtualHDF5('MSSCD_event_view.hdf5', item.fullPath.to_list())  \n",
    "    file_name = vhdf5.file_name\n",
    "else:\n",
    "    file_name = item.fullPath[0]\n",
    "\n",
    "# create an instance of the Camera\n",
    "camera = strawb.Camera(file_name)"
   ]
  },
  {
   "cell_type": "markdown",
   "metadata": {},
   "source": [
    "## ----------------------------------------------------------------------------------------------------------"
   ]
  },
  {
   "cell_type": "markdown",
   "metadata": {},
   "source": [
    "# Adjust Dataframe"
   ]
  },
  {
   "cell_type": "code",
   "execution_count": null,
   "metadata": {},
   "outputs": [],
   "source": [
    "# drop entries with label 0 (background)\n",
    "df = image_cluster_db.dataframe[image_cluster_db.dataframe.label!=0]  "
   ]
  },
  {
   "cell_type": "code",
   "execution_count": null,
   "metadata": {},
   "outputs": [],
   "source": [
    "# create a mask for the dataframe\n",
    "\n",
    "limit = 20  # limit from plot\n",
    "limit_max = 1e5  # limit from plot\n",
    "parameter = 'n_pixel'\n",
    "\n",
    "mask_para = df[parameter]  > limit\n",
    "mask_para &= df[parameter]  < limit_max"
   ]
  },
  {
   "cell_type": "code",
   "execution_count": null,
   "metadata": {},
   "outputs": [],
   "source": [
    "df_cut = df[mask_para]  # keep only entries with 20 < n_pixel < 1e5"
   ]
  },
  {
   "cell_type": "markdown",
   "metadata": {},
   "source": [
    "##### Import the mask for the mounting of the camera."
   ]
  },
  {
   "cell_type": "code",
   "execution_count": null,
   "metadata": {},
   "outputs": [],
   "source": [
    "#  get the mounting\n",
    "\n",
    "from strawb.sensors.camera.config import Config\n",
    "\n",
    "cam_config = Config(device_code='TUMPMTSPECTROMETER001')\n",
    "mounting_cam = cam_config.mask_mounting"
   ]
  },
  {
   "cell_type": "markdown",
   "metadata": {},
   "source": [
    "## ----------------------------------------------------------------------------------------------------------"
   ]
  },
  {
   "cell_type": "markdown",
   "metadata": {},
   "source": [
    "# Center of Mass/Pixels/Minimum Bounding Box"
   ]
  },
  {
   "cell_type": "markdown",
   "metadata": {},
   "source": [
    "#### Center of Mass"
   ]
  },
  {
   "cell_type": "code",
   "execution_count": null,
   "metadata": {},
   "outputs": [],
   "source": [
    "# position of the module above the camera for TUMPMTSPECTROMETER001\n",
    "module_y = (694.507043+693.768910+686.917549+686.774601)/4\n",
    "module_x = (353.492346+353.288075+357.290158+356.768160)/4"
   ]
  },
  {
   "cell_type": "code",
   "execution_count": null,
   "metadata": {},
   "outputs": [],
   "source": [
    "center_of_mass_y = df_cut['center_of_mass_x'].to_numpy()\n",
    "center_of_mass_x = df_cut['center_of_mass_y'].to_numpy()\n",
    "\n",
    "### Scatter plot ###\n",
    "# def. linear norm function for marker size, maps [c.min(), c.max()] -> [s_min, s_max]\n",
    "# min and max size of markers\n",
    "s_min=1.\n",
    "s_max=5e2\n",
    "norm_size = scipy.interpolate.interp1d([df_cut.n_pixel.min(), df_cut.n_pixel.max()], [s_min, s_max])\n",
    "\n",
    "# def. cmap, select one\n",
    "#cmap=strawb.tools.cmap_manipulator('viridis_r', v_min=.03, v_max=1)  # v_min=.03 - cuts the yellow part\n",
    "cmap=strawb.tools.cmap_manipulator('viridis', v_min=0, v_max=.97)  # v_max=.97 - cuts the yellow part\n",
    "#cmap=strawb.tools.cmap_manipulator('Blues', v_min=.35, v_max=1)  #  v_min=.3 - cuts the white part\n",
    "\n",
    "\n",
    "### PLOT\n",
    "fig, ax = plt.subplots()\n",
    "sc = plt.scatter(center_of_mass_x, center_of_mass_y, c=df_cut.n_pixel, s=norm_size(df_cut.n_pixel), \n",
    "                 cmap=cmap, norm=matplotlib.colors.LogNorm(),\n",
    "                 alpha=.3)\n",
    "\n",
    "\n",
    "# circle around the module above the camera\n",
    "plt.scatter(module_x, module_y, s=200, facecolors='none', edgecolors='red', \n",
    "            label='Module above camera', linewidth=1.5) \n",
    "# lines for the data cable and steel cable\n",
    "ax.plot([625, module_x], [300, module_y], 'r-', linewidth=1.5, label='Data cable')\n",
    "ax.plot([678, module_x], [320, module_y], 'r', linewidth=1.5, linestyle='--', label = 'Steel cable')\n",
    "ax.legend(loc='lower right', prop={'size':12})\n",
    "\n",
    "legend1 = ax.legend(loc='lower left', bbox_to_anchor = (1.35, .27))\n",
    "ax.add_artist(legend1)\n",
    "\n",
    "\n",
    "# colorbar\n",
    "cb = plt.colorbar(sc)\n",
    "cb.set_label(\"Size of Cluster [Pixel]\")\n",
    "\n",
    "\n",
    "### LEGEND START\n",
    "# get the legend - maybe there is a better solution\n",
    "num = matplotlib.ticker.LogLocator(numticks=6).tick_values(df_cut.n_pixel.min(), df_cut.n_pixel.max())\n",
    "\n",
    "fmt = \"{x:.0f} Pixel\"\n",
    "legends_c = sc.legend_elements(prop=\"colors\", num=num, fmt=fmt)\n",
    "\n",
    "# generate the legend entries with color and size\n",
    "# generation of legends_c_pos must match! sc.legend_elements(..., fmt,...)\n",
    "fmt_e = fmt.split('{x')[1].split('}', 1)[1]\n",
    "fmt_s = fmt.split('{x')[0]\n",
    "\n",
    "legends_c_pos = np.array([i.replace(fmt_e, '').replace(fmt_s, '') for i in legends_c[1]], dtype=float)\n",
    "legends_c_size = np.sqrt(norm_size(legends_c_pos))\n",
    "\n",
    "for i, size_i in enumerate(legends_c_pos):\n",
    "    legends_c[0][i].set_markersize(legends_c_size[i])\n",
    "\n",
    "plt.legend(*legends_c, title=\"Size of Cluster\", bbox_to_anchor=(1.35, -.018), loc='lower left')\n",
    "### LEGEND DONE\n",
    "\n",
    "\n",
    "plt.xlim(0, 960)\n",
    "plt.ylim(1280, 0)\n",
    "ax.set_aspect('equal', 'box')\n",
    "\n",
    "plt.grid()\n",
    "plt.gca().set_axisbelow(True)  # move grid behind scatter plot\n",
    "plt.tight_layout()\n",
    "#plt.savefig('center_of_mass.pdf', bbox_inches='tight')"
   ]
  },
  {
   "cell_type": "markdown",
   "metadata": {},
   "source": [
    "#### Center of Pixels"
   ]
  },
  {
   "cell_type": "code",
   "execution_count": null,
   "metadata": {},
   "outputs": [],
   "source": [
    "center_of_pix_y = df_cut['center_of_pix_x'].to_numpy()\n",
    "center_of_pix_x = df_cut['center_of_pix_y'].to_numpy()\n",
    "\n",
    "### Scatter plot ###\n",
    "# def. linear norm function for marker size, maps [c.min(), c.max()] -> [s_min, s_max]\n",
    "# min and max size of markers\n",
    "s_min=1.\n",
    "s_max=5e2\n",
    "norm_size = scipy.interpolate.interp1d([df_cut.n_pixel.min(), df_cut.n_pixel.max()], [s_min, s_max])\n",
    "\n",
    "# def. cmap, select one\n",
    "#cmap=strawb.tools.cmap_manipulator('viridis_r', v_min=.03, v_max=1)  # v_min=.03 - cuts the yellow part\n",
    "cmap=strawb.tools.cmap_manipulator('viridis', v_min=0, v_max=.97)  # v_max=.97 - cuts the yellow part\n",
    "#cmap=strawb.tools.cmap_manipulator('Blues', v_min=.35, v_max=1)  #  v_min=.3 - cuts the white part\n",
    "\n",
    "\n",
    "### PLOT\n",
    "fig, ax = plt.subplots()\n",
    "sc = plt.scatter(center_of_pix_x, center_of_pix_y, c=df_cut.n_pixel, s=norm_size(df_cut.n_pixel), \n",
    "                 cmap=cmap, norm=matplotlib.colors.LogNorm(),\n",
    "                 alpha=.3)\n",
    "\n",
    "\n",
    "# circle around the module above the camera\n",
    "plt.scatter(module_x, module_y, s=200, facecolors='none', edgecolors='red', \n",
    "            label='Module above camera', linewidth=1.5) \n",
    "# lines for the data cable and steel cable\n",
    "ax.plot([625, module_x], [300, module_y], 'r-', linewidth=1.5, label='Data cable')\n",
    "ax.plot([678, module_x], [320, module_y], 'r', linewidth=1.5, linestyle='--', label = 'Steel cable')\n",
    "ax.legend(loc='lower right', prop={'size':12})\n",
    "\n",
    "legend1 = ax.legend(loc='lower left', bbox_to_anchor = (1.35, .27))\n",
    "ax.add_artist(legend1)\n",
    "\n",
    "\n",
    "# colorbar\n",
    "cb = plt.colorbar(sc)\n",
    "cb.set_label(\"Size of Cluster [Pixel]\")\n",
    "\n",
    "\n",
    "### LEGEND START\n",
    "# get the legend - maybe there is a better solution\n",
    "num = matplotlib.ticker.LogLocator(numticks=6).tick_values(df_cut.n_pixel.min(), df_cut.n_pixel.max())\n",
    "\n",
    "fmt = \"{x:.0f} Pixel\"\n",
    "legends_c = sc.legend_elements(prop=\"colors\", num=num, fmt=fmt)\n",
    "\n",
    "# generate the legend entries with color and size\n",
    "# generation of legends_c_pos must match! sc.legend_elements(..., fmt,...)\n",
    "fmt_e = fmt.split('{x')[1].split('}', 1)[1]\n",
    "fmt_s = fmt.split('{x')[0]\n",
    "\n",
    "legends_c_pos = np.array([i.replace(fmt_e, '').replace(fmt_s, '') for i in legends_c[1]], dtype=float)\n",
    "legends_c_size = np.sqrt(norm_size(legends_c_pos))\n",
    "\n",
    "for i, size_i in enumerate(legends_c_pos):\n",
    "    legends_c[0][i].set_markersize(legends_c_size[i])\n",
    "\n",
    "plt.legend(*legends_c, title=\"Size of Cluster\", bbox_to_anchor=(1.35, -.018), loc='lower left')\n",
    "### LEGEND DONE\n",
    "\n",
    "\n",
    "plt.xlim(0, 960)\n",
    "plt.ylim(1280, 0)\n",
    "ax.set_aspect('equal', 'box')\n",
    "\n",
    "plt.grid()\n",
    "plt.gca().set_axisbelow(True)  # move grid behind scatter plot\n",
    "plt.tight_layout()\n",
    "#plt.savefig('center_of_mass.pdf', bbox_inches='tight')"
   ]
  },
  {
   "cell_type": "markdown",
   "metadata": {},
   "source": [
    "#### Center of the Minimum Bounding Boxes"
   ]
  },
  {
   "cell_type": "code",
   "execution_count": null,
   "metadata": {},
   "outputs": [],
   "source": [
    "box_center_y = df_cut['box_center_x'].to_numpy()\n",
    "box_center_x = df_cut['box_center_y'].to_numpy()\n",
    "\n",
    "### Scatter plot ###\n",
    "# def. linear norm function for marker size, maps [c.min(), c.max()] -> [s_min, s_max]\n",
    "# min and max size of markers\n",
    "s_min=1.\n",
    "s_max=5e2\n",
    "norm_size = scipy.interpolate.interp1d([df_cut.n_pixel.min(), df_cut.n_pixel.max()], [s_min, s_max])\n",
    "\n",
    "# def. cmap, select one\n",
    "#cmap=strawb.tools.cmap_manipulator('viridis_r', v_min=.03, v_max=1)  # v_min=.03 - cuts the yellow part\n",
    "cmap=strawb.tools.cmap_manipulator('viridis', v_min=0, v_max=.97)  # v_max=.97 - cuts the yellow part\n",
    "#cmap=strawb.tools.cmap_manipulator('Blues', v_min=.35, v_max=1)  #  v_min=.3 - cuts the white part\n",
    "\n",
    "\n",
    "### PLOT\n",
    "fig, ax = plt.subplots()\n",
    "sc = plt.scatter(box_center_x, box_center_y, c=df_cut.n_pixel, s=norm_size(df_cut.n_pixel), \n",
    "                 cmap=cmap, norm=matplotlib.colors.LogNorm(),\n",
    "                 alpha=.3)\n",
    "\n",
    "\n",
    "# circle around the module above the camera\n",
    "plt.scatter(module_x, module_y, s=200, facecolors='none', edgecolors='red', \n",
    "            label='Module above camera', linewidth=1.5) \n",
    "# lines for the data cable and steel cable\n",
    "ax.plot([625, module_x], [300, module_y], 'r-', linewidth=1.5, label='Data cable')\n",
    "ax.plot([678, module_x], [320, module_y], 'r', linewidth=1.5, linestyle='--', label = 'Steel cable')\n",
    "ax.legend(loc='lower right', prop={'size':12})\n",
    "\n",
    "legend1 = ax.legend(loc='lower left', bbox_to_anchor = (1.35, .27))\n",
    "ax.add_artist(legend1)\n",
    "\n",
    "\n",
    "# colorbar\n",
    "cb = plt.colorbar(sc)\n",
    "cb.set_label(\"Size of Cluster [Pixel]\")\n",
    "\n",
    "\n",
    "### LEGEND START\n",
    "# get the legend - maybe there is a better solution\n",
    "num = matplotlib.ticker.LogLocator(numticks=6).tick_values(df_cut.n_pixel.min(), df_cut.n_pixel.max())\n",
    "\n",
    "fmt = \"{x:.0f} Pixel\"\n",
    "legends_c = sc.legend_elements(prop=\"colors\", num=num, fmt=fmt)\n",
    "\n",
    "# generate the legend entries with color and size\n",
    "# generation of legends_c_pos must match! sc.legend_elements(..., fmt,...)\n",
    "fmt_e = fmt.split('{x')[1].split('}', 1)[1]\n",
    "fmt_s = fmt.split('{x')[0]\n",
    "\n",
    "legends_c_pos = np.array([i.replace(fmt_e, '').replace(fmt_s, '') for i in legends_c[1]], dtype=float)\n",
    "legends_c_size = np.sqrt(norm_size(legends_c_pos))\n",
    "\n",
    "for i, size_i in enumerate(legends_c_pos):\n",
    "    legends_c[0][i].set_markersize(legends_c_size[i])\n",
    "\n",
    "plt.legend(*legends_c, title=\"Size of Cluster\", bbox_to_anchor=(1.35, -.018), loc='lower left')\n",
    "### LEGEND DONE\n",
    "\n",
    "\n",
    "plt.xlim(0, 960)\n",
    "plt.ylim(1280, 0)\n",
    "ax.set_aspect('equal', 'box')\n",
    "\n",
    "plt.grid()\n",
    "plt.gca().set_axisbelow(True)  # move grid behind scatter plot\n",
    "plt.tight_layout()\n",
    "#plt.savefig('center_of_mass.pdf', bbox_inches='tight')"
   ]
  },
  {
   "cell_type": "markdown",
   "metadata": {},
   "source": [
    "## ----------------------------------------------------------------------------------------------------------"
   ]
  },
  {
   "cell_type": "markdown",
   "metadata": {},
   "source": [
    "# Time Dependency\n",
    "Histograms for the total number of pictures taken, the number of pictures with bioluminescent events on them and for the probability that a picture shows an event."
   ]
  },
  {
   "cell_type": "code",
   "execution_count": null,
   "metadata": {},
   "outputs": [],
   "source": [
    "# define size of the bins\n",
    "\n",
    "t_tot = pd.to_numeric(image_cluster_db.dataframe.time[~image_cluster_db.dataframe.time.isnull()]) * 1e-9 # convert to seconds\n",
    "\n",
    "t_tot_u = np.unique(t_tot)\n",
    "steps = 24*3600  # how many seconds are in one bin\n",
    "t_start = t_tot_u[0] - t_tot_u[0] % steps # start the bins at midnight\n",
    "t_end = t_tot_u[-1] - t_tot_u[-1] % steps + steps\n",
    "bins = np.arange(t_start , t_end, steps)  # number of bins = number of days\n",
    "\n",
    "\n",
    "# histogram of all pictures\n",
    "\n",
    "counts_tot, bin_edges_tot = np.histogram(t_tot_u, bins=bins)\n",
    "counts_tot = np.ma.masked_equal(counts_tot, 0)\n",
    "\n",
    "date_edges = strawb.tools.asdatetime(bin_edges_tot)\n",
    "\n",
    "fig, ax = plt.subplots(2, figsize=(6, 7), sharex=True)\n",
    "\n",
    "plt.sca(ax[0])\n",
    "plt.xticks(rotation=45)\n",
    "plt.stairs(counts_tot, date_edges)\n",
    "#plt.xlabel('Date')\n",
    "plt.ylabel('Total number of pictures [1/day]')\n",
    "plt.grid(color='lightgray')\n",
    "plt.gca().set_axisbelow(True)\n",
    "\n",
    "\n",
    "# histogram of pictures with animals\n",
    "\n",
    "t = pd.to_numeric(df_cut.time[mask_para][~image_cluster_db.dataframe.time.isnull()]) * 1e-9 # convert to seconds\n",
    "t_u = np.unique(t)\n",
    "\n",
    "counts, bin_edges = np.histogram(t_u, bins=bins)\n",
    "\n",
    "plt.sca(ax[1])\n",
    "plt.xticks(rotation=45)\n",
    "plt.stairs(counts, date_edges)\n",
    "plt.xlabel('Date')\n",
    "plt.ylabel(\"\"\"Pictures with \n",
    "bioluminescent events [1/day]\"\"\")\n",
    "plt.grid(color='lightgray')\n",
    "plt.gca().set_axisbelow(True)\n",
    "fig.subplots_adjust(hspace=0.1)  # adjust the vertical space between the subplots\n",
    "\n",
    "#plt.savefig('total_number_of_pictures_and_with_animals.pdf', bbox_inches='tight')\n",
    "\n",
    "plt.show()\n",
    "\n",
    "\n",
    "p_animal = (counts/counts_tot)*100  # probability that a picture shows an animal\n",
    "\n",
    "date = pd.to_datetime(strawb.tools.cal_middle(bin_edges)/(1e-9))\n",
    "\n",
    "min_time = camera.file_handler.measured_capture_time[:].min() # minimal time needed for exposure + download \n",
    "theo_pix_min = (24*3600)/min_time  # maximal number of pictures per day\n",
    "\n",
    "\n",
    "# probability that a picture shows an animal for each day\n",
    "\n",
    "fig, ax = plt.subplots()\n",
    "plt.xticks(rotation=45)\n",
    "ax.plot(date, p_animal)\n",
    "plt.xlabel('Date')\n",
    "plt.ylabel(\"\"\"Probability that a picture shows \n",
    "a bioluminescent event [%]\"\"\")\n",
    "\n",
    "# number of pictures with animals per day if the camera was performing ideally and \n",
    "# there was no time needed for the download of the pictures\n",
    "\n",
    "ax2 = ax.secondary_yaxis('right', \n",
    "                         functions = (lambda x: (x/100)* theo_pix_min * (min_time / camera.file_handler.exposure_time[:][0]),\n",
    "                         lambda x: (x/100)/ (theo_pix_min * (min_time / camera.file_handler.exposure_time[:][0])) ))\n",
    "ax2.set_ylabel(\"\"\"Pictures with bioluminescent events\n",
    "for ideal camera performance [1/day]\"\"\")\n",
    "plt.grid(color='lightgray')\n",
    "plt.gca().set_axisbelow(True)\n",
    "#plt.savefig('probability_and_number_of_pictures_ideal.pdf', bbox_inches='tight')\n",
    "plt.show()"
   ]
  },
  {
   "cell_type": "markdown",
   "metadata": {},
   "source": [
    "## ----------------------------------------------------------------------------------------------------------"
   ]
  }
 ],
 "metadata": {
  "kernelspec": {
   "display_name": "Python 3.8.8 ('base')",
   "language": "python",
   "name": "python3"
  },
  "language_info": {
   "name": "python",
   "version": "3.8.8"
  },
  "orig_nbformat": 4,
  "vscode": {
   "interpreter": {
    "hash": "3dbe8948e6ba6f7b500cbad156adccce2d4d02afc71091580e98904bda0c5804"
   }
  }
 },
 "nbformat": 4,
 "nbformat_minor": 2
}
