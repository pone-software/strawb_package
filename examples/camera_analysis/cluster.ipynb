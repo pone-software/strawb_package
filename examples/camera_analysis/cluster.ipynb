{
 "cells": [
  {
   "cell_type": "code",
   "execution_count": 65,
   "metadata": {},
   "outputs": [],
   "source": [
    "import numpy as np\n",
    "import pandas as pd\n",
    "import os"
   ]
  },
  {
   "cell_type": "markdown",
   "metadata": {},
   "source": [
    "# Camera in PMT1 Spectrometer Module\n",
    "Import the cluster dataframe for the field of view of the camera (PMT1 Spectrometer Module) and create a new dataframe with the clusters that are actual bioluminescent events."
   ]
  },
  {
   "cell_type": "code",
   "execution_count": 6,
   "metadata": {},
   "outputs": [],
   "source": [
    "# cluster dataframe for PMT001 camera, field of view only\n",
    "\n",
    "# database of the camera you want to analyse the pictures of\n",
    "file = 'cluster_lucifer_db/TUMPMTSPECTROMETER001_20210401T000000_20220901T000000_image_cluster_merge_npixel15.gz'  \n",
    "\n",
    "if not os.path.exists(file):\n",
    "    print(\"Doesn't exist\")\n",
    "else:\n",
    "    df1 = pd.read_pickle(file)\n",
    "\n",
    "\n",
    "# delete background clusters with label 0\n",
    "df1 = df1[df1.label != 0]\n",
    "\n",
    "\n",
    "# mask events (20 < n_pixel < 1e5)\n",
    "\n",
    "limit = 20  # limit from plot\n",
    "limit_max = 1e5  # limit from plot\n",
    "parameter = 'n_pixel'\n",
    "\n",
    "size1 = df1[parameter]  > limit\n",
    "size1 &= df1[parameter]  < limit_max\n",
    "\n",
    "df1 = df1[size1]"
   ]
  },
  {
   "cell_type": "code",
   "execution_count": 7,
   "metadata": {},
   "outputs": [],
   "source": [
    "# get rid of pictures with LEDs on\n",
    "\n",
    "# import lucifer settings\n",
    "led = pd.read_pickle('cluster_lucifer_db/lucifer_settings_20210225T152529_20220907T212744.gz')\n",
    "led = led[~led.t_previous_image.isnull()]\n",
    "led.t_previous_image = pd.to_datetime(led.t_previous_image, utc=True)\n",
    "\n",
    "# get the time stamps of all pictures with LEDs in the module above the camera on\n",
    "t_lidar1 = [i for i in led[led.deviceCode == 'TUMLIDAR001'].t_previous_image]\n",
    "\n",
    "# df without LED pictures\n",
    "events1 = df1[~df1['time'].isin(t_lidar1)]"
   ]
  },
  {
   "cell_type": "code",
   "execution_count": 61,
   "metadata": {},
   "outputs": [],
   "source": [
    "# save df \n",
    "events1.to_pickle('TUMPMTSPECTROMETER001_20210401T000000_20220901T000000_events.gz')"
   ]
  },
  {
   "cell_type": "markdown",
   "metadata": {},
   "source": [
    "-------------------------------------------------------------------------------------------------------------"
   ]
  },
  {
   "cell_type": "markdown",
   "metadata": {},
   "source": [
    "# Camera in PMT2 Spectrometer Module\n",
    "Import the cluster dataframe for the field of view of the camera (PMT2 Spectrometer Module) and create a new dataframe with the clusters that are actual bioluminescent events."
   ]
  },
  {
   "cell_type": "code",
   "execution_count": 62,
   "metadata": {},
   "outputs": [],
   "source": [
    "# cluster dataframe for PMT001 camera, field of view only\n",
    "\n",
    "# database of the camera you want to analyse the pictures of\n",
    "file2 = 'cluster_lucifer_db/TUMPMTSPECTROMETER002_20210401T000000_20220901T000000_image_cluster_merge_npixel15.gz'  \n",
    "\n",
    "if not os.path.exists(file2):\n",
    "    print(\"Doesn't exist\")\n",
    "else:\n",
    "    df2 = pd.read_pickle(file2)\n",
    "\n",
    "# delete background clusters with label 0\n",
    "df2 = df2[df2.label != 0]\n",
    "\n",
    "\n",
    "# mask events (20 < n_pixel < 1e5)\n",
    "\n",
    "size2 = df2[parameter]  > limit\n",
    "size2 &= df2[parameter]  < limit_max\n",
    "\n",
    "df2 = df2[size2]"
   ]
  },
  {
   "cell_type": "code",
   "execution_count": 63,
   "metadata": {},
   "outputs": [],
   "source": [
    "# get rid of pictures with LEDs on\n",
    "\n",
    "# get the time stamps of all pictures with LEDs in the module above the camera on\n",
    "t_lidar2 = [i for i in led[led.deviceCode == 'TUMLIDAR002'].t_previous_image]\n",
    "\n",
    "# df without LED pictures\n",
    "events2 = df2[~df2['time'].isin(t_lidar2)]\n",
    "\n",
    "\n",
    "# only consider events since 2021-07 because DAQ did not work properly before\n",
    "events2 = events2[events2.time >= '2021-07']\n",
    "\n",
    "\n",
    "# get rid of the rest of the pictures with LEDs on (not stored in lucifer data)\n",
    "\n",
    "# mask area where LED clusters are\n",
    "led_cluster = events2['center_of_mass_y'] < 400\n",
    "led_cluster &= events2['center_of_mass_y'] > 200\n",
    "led_cluster &= events2['center_of_mass_x'] > 700\n",
    "led_cluster &= events2['center_of_mass_x'] < 820\n",
    "led_cluster &= events2['n_pixel'] > 10000\n",
    "\n",
    "events2 = events2[~events2.time.isin(events2[led_cluster].time)]"
   ]
  },
  {
   "cell_type": "code",
   "execution_count": 60,
   "metadata": {},
   "outputs": [],
   "source": [
    "# save df\n",
    "events2.to_pickle('TUMPMTSPECTROMETER002_20210701T000000_20220901T000000_events.gz')"
   ]
  },
  {
   "cell_type": "code",
   "execution_count": null,
   "metadata": {},
   "outputs": [],
   "source": []
  }
 ],
 "metadata": {
  "kernelspec": {
   "display_name": "Python 3.8.8 ('base')",
   "language": "python",
   "name": "python3"
  },
  "language_info": {
   "codemirror_mode": {
    "name": "ipython",
    "version": 3
   },
   "file_extension": ".py",
   "mimetype": "text/x-python",
   "name": "python",
   "nbconvert_exporter": "python",
   "pygments_lexer": "ipython3",
   "version": "3.8.8"
  },
  "orig_nbformat": 4,
  "vscode": {
   "interpreter": {
    "hash": "3dbe8948e6ba6f7b500cbad156adccce2d4d02afc71091580e98904bda0c5804"
   }
  }
 },
 "nbformat": 4,
 "nbformat_minor": 2
}
