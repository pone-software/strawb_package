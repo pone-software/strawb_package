{
 "cells": [
  {
   "cell_type": "code",
   "execution_count": null,
   "metadata": {},
   "outputs": [],
   "source": [
    "%matplotlib notebook\n",
    "\n",
    "# This examples shows who to download files from the ONC server\n",
    "import os\n",
    "\n",
    "import numpy as np\n",
    "import datetime\n",
    "\n",
    "import matplotlib.pyplot as plt\n",
    "import matplotlib.dates as mdates\n",
    "\n",
    "import strawb\n",
    "import strawb.sensors.module\n",
    "import strawb.tools\n",
    "\n",
    "import h5py \n",
    "\n",
    "import pandas"
   ]
  },
  {
   "cell_type": "markdown",
   "metadata": {},
   "source": [
    "# Load ONC DB and mask files of interest"
   ]
  },
  {
   "cell_type": "code",
   "execution_count": null,
   "metadata": {},
   "outputs": [],
   "source": [
    "# in case execute db.load_onc_db_update to load the entire db\n",
    "if os.path.exists(strawb.Config.pandas_file_sync_db):\n",
    "    db = strawb.SyncDBHandler()  # loads the db\n",
    "else:\n",
    "    db = strawb.SyncDBHandler(load_db=False)  # loads the db\n",
    "    db.load_onc_db_update(output=True, save_db=True)\n",
    "\n",
    "# mask by device\n",
    "mask = db.dataframe['deviceCode'] == 'TUMMUONTRACKER001'\n",
    "mask &= db.dataframe.dataProductCode == 'MTSD'  # see SyncDBHandler.sensor_mapping"
   ]
  },
  {
   "cell_type": "code",
   "execution_count": null,
   "metadata": {},
   "outputs": [],
   "source": [
    "# show some masked entries\n",
    "db.dataframe[mask].iloc[-5:]"
   ]
  },
  {
   "cell_type": "markdown",
   "metadata": {},
   "source": [
    "# Download a specific file, needs some minutes if file isn't synced"
   ]
  },
  {
   "cell_type": "code",
   "execution_count": null,
   "metadata": {},
   "outputs": [],
   "source": [
    "file_list = ['TUMMUONTRACKER001_20220731T001146.146Z-SDAQ-MUON.hdf5']\n",
    "db_i = db.get_files_from_names(file_list)\n",
    "db_i"
   ]
  },
  {
   "cell_type": "markdown",
   "metadata": {},
   "source": [
    "# Load the file"
   ]
  },
  {
   "cell_type": "code",
   "execution_count": null,
   "metadata": {},
   "outputs": [],
   "source": [
    "muon = strawb.MuonTracker(file_list[0])"
   ]
  },
  {
   "cell_type": "markdown",
   "metadata": {},
   "source": [
    "## show file version - 4 has tot data, which we need"
   ]
  },
  {
   "cell_type": "code",
   "execution_count": null,
   "metadata": {},
   "outputs": [],
   "source": [
    "muon.file_handler.file_version"
   ]
  },
  {
   "cell_type": "markdown",
   "metadata": {},
   "source": [
    "## Show data structure"
   ]
  },
  {
   "cell_type": "code",
   "execution_count": null,
   "metadata": {},
   "outputs": [],
   "source": [
    "# all have the same shape -> entry i represents one event\n",
    "print(f'tot_time   : {muon.file_handler.tot_time.shape}')\n",
    "print(f'tot_time_ns: {muon.file_handler.tot_time_ns.shape}')\n",
    "print(f'tot_channel: {muon.file_handler.tot_channel.shape}')\n",
    "print(f'tot_tot    : {muon.file_handler.tot_tot.shape}')"
   ]
  },
  {
   "cell_type": "code",
   "execution_count": null,
   "metadata": {},
   "outputs": [],
   "source": [
    "# show the first n events\n",
    "n = 5\n",
    "\n",
    "# Absolute Timestamp in seconds [s] with resolution [ns]\n",
    "print(f'tot_time   : {muon.file_handler.tot_time[:n]}')\n",
    "\n",
    "# Absolute Timestamp in seconds [s] with resolution [ns], converted to dateformat\n",
    "print(f'tot_time   : {muon.file_handler.tot_time.asdatetime()[:n]}')\n",
    "\n",
    "# TRB Timestamp in [ns] - not absolute therefore most precise\n",
    "print(f'tot_time_ns: {muon.file_handler.tot_time_ns[:n]}')\n",
    "\n",
    "# TRB Channel of the event\n",
    "print(f'tot_channel: {muon.file_handler.tot_channel[:n]}')\n",
    "\n",
    "# TRB time over threshold in [ns]\n",
    "print(f'tot_tot    : {muon.file_handler.tot_tot[:n]}')"
   ]
  },
  {
   "cell_type": "markdown",
   "metadata": {},
   "source": [
    "# Load and Cut Data"
   ]
  },
  {
   "cell_type": "code",
   "execution_count": null,
   "metadata": {},
   "outputs": [],
   "source": [
    "tot = muon.file_handler.tot_tot[:]\n",
    "\n",
    "max_tot = 1 * 1e3 # cut at 1us - [ns]\n",
    "\n",
    "mask = (tot<max_tot) & (tot > 0)\n",
    "\n",
    "print(f'exclude {np.sum(~mask)} events')\n",
    "\n",
    "time_masked = muon.file_handler.tot_time[mask]\n",
    "time_ns_masked = muon.file_handler.tot_time_ns[mask]\n",
    "channel_masked = muon.file_handler.tot_channel[mask]\n",
    "tot_masked = muon.file_handler.tot_tot[mask]\n",
    "\n",
    "# free RAM - parameter not needed\n",
    "del tot, mask"
   ]
  },
  {
   "cell_type": "markdown",
   "metadata": {},
   "source": [
    "# Plot"
   ]
  },
  {
   "cell_type": "code",
   "execution_count": null,
   "metadata": {},
   "outputs": [],
   "source": [
    "# timeline of events\n",
    "\n",
    "plt.figure()\n",
    "\n",
    "n = 1000\n",
    "sc = plt.scatter(strawb.tools.asdatetime(time_masked)[:n],\n",
    "            tot_masked[:n],\n",
    "            c=channel_masked[:n])\n",
    "\n",
    "plt.colorbar(sc, label='Channel')\n",
    "\n",
    "ax = plt.gca()\n",
    "ax.xaxis.set_major_formatter(\n",
    "    mdates.ConciseDateFormatter(ax.xaxis.get_major_locator())\n",
    ")\n",
    "ax.set_axisbelow(True)  # show grid behind scatter\n",
    "\n",
    "plt.ylabel('ToT [ns]')\n",
    "plt.xlabel('Date [ns]')\n",
    "plt.grid()"
   ]
  },
  {
   "cell_type": "markdown",
   "metadata": {},
   "source": [
    "## Show short tot's"
   ]
  },
  {
   "cell_type": "code",
   "execution_count": null,
   "metadata": {},
   "outputs": [],
   "source": [
    "# gen. hist\n",
    "counts, edges = np.histogram(tot_masked, bins=1000)\n",
    "\n",
    "# plot hist\n",
    "plt.figure()\n",
    "plt.stairs(counts, edges=edges)\n",
    "plt.xlabel('ToT [ns]')\n",
    "plt.ylabel('Counts [ns]')\n",
    "plt.yscale('log')"
   ]
  },
  {
   "cell_type": "code",
   "execution_count": null,
   "metadata": {},
   "outputs": [],
   "source": []
  }
 ],
 "metadata": {
  "kernelspec": {
   "display_name": "Python 3",
   "language": "python",
   "name": "python3"
  },
  "language_info": {
   "codemirror_mode": {
    "name": "ipython",
    "version": 3
   },
   "file_extension": ".py",
   "mimetype": "text/x-python",
   "name": "python",
   "nbconvert_exporter": "python",
   "pygments_lexer": "ipython3",
   "version": "3.7.10"
  }
 },
 "nbformat": 4,
 "nbformat_minor": 4
}
