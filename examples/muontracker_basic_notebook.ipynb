{
 "cells": [
  {
   "cell_type": "code",
   "execution_count": null,
   "metadata": {},
   "outputs": [],
   "source": [
    "%matplotlib notebook\n",
    "\n",
    "# This examples shows who to download files from the ONC server\n",
    "import os\n",
    "\n",
    "import numpy as np\n",
    "import datetime\n",
    "\n",
    "import matplotlib.pyplot as plt\n",
    "import matplotlib.dates as mdates\n",
    "\n",
    "import strawb\n",
    "import strawb.sensors.module\n",
    "import strawb.tools\n",
    "\n",
    "import h5py \n",
    "\n",
    "import pandas\n",
    "import scipy.ndimage"
   ]
  },
  {
   "cell_type": "markdown",
   "metadata": {},
   "source": [
    "# Load ONC DB and mask files of interest"
   ]
  },
  {
   "cell_type": "code",
   "execution_count": null,
   "metadata": {},
   "outputs": [],
   "source": [
    "# Check if DB exits, if not load it, but update it anyway\n",
    "if os.path.exists(strawb.Config.pandas_file_sync_db):\n",
    "    db = strawb.SyncDBHandler()  # loads the db from disc\n",
    "else:\n",
    "    db = strawb.SyncDBHandler(load_db=False)  # loads the db from ONC server\n",
    "\n",
    "db.load_onc_db_update(output=True, save_db=True)"
   ]
  },
  {
   "cell_type": "code",
   "execution_count": null,
   "metadata": {},
   "outputs": [],
   "source": [
    "# mask by device and data-product\n",
    "mask = db.dataframe['deviceCode'] == 'TUMMUONTRACKER001'\n",
    "mask &= db.dataframe.dataProductCode == 'MTSD'  # see SyncDBHandler.sensor_mapping"
   ]
  },
  {
   "cell_type": "code",
   "execution_count": null,
   "metadata": {},
   "outputs": [],
   "source": [
    "db.dataframe.dateTo.max()"
   ]
  },
  {
   "cell_type": "code",
   "execution_count": null,
   "metadata": {},
   "outputs": [],
   "source": [
    "# show some masked entries\n",
    "db.dataframe[mask].iloc[-5:]"
   ]
  },
  {
   "cell_type": "markdown",
   "metadata": {},
   "source": [
    "# Download a specific file, needs some minutes if file isn't synced"
   ]
  },
  {
   "cell_type": "code",
   "execution_count": null,
   "metadata": {},
   "outputs": [],
   "source": [
    "file_list = ['TUMMUONTRACKER001_20220731T001146.146Z-SDAQ-MUON.hdf5']\n",
    "db_i = db.get_files_from_names(file_list)\n",
    "db_i"
   ]
  },
  {
   "cell_type": "markdown",
   "metadata": {},
   "source": [
    "# Load the file"
   ]
  },
  {
   "cell_type": "code",
   "execution_count": null,
   "metadata": {},
   "outputs": [],
   "source": [
    "muon = strawb.MuonTracker(file_list[0])"
   ]
  },
  {
   "cell_type": "markdown",
   "metadata": {},
   "source": [
    "## show file version - 4 has tot data, which we need"
   ]
  },
  {
   "cell_type": "code",
   "execution_count": null,
   "metadata": {},
   "outputs": [],
   "source": [
    "muon.file_handler.file_version"
   ]
  },
  {
   "cell_type": "markdown",
   "metadata": {},
   "source": [
    "## Show data structure"
   ]
  },
  {
   "cell_type": "code",
   "execution_count": null,
   "metadata": {},
   "outputs": [],
   "source": [
    "# all have the same shape -> entry i represents one event\n",
    "print(f'tot_time   : {muon.file_handler.tot_time.shape}')\n",
    "print(f'tot_time_ns: {muon.file_handler.tot_time_ns.shape}')\n",
    "print(f'tot_channel: {muon.file_handler.tot_channel.shape}')\n",
    "print(f'tot_tot    : {muon.file_handler.tot_tot.shape}')"
   ]
  },
  {
   "cell_type": "code",
   "execution_count": null,
   "metadata": {},
   "outputs": [],
   "source": [
    "# show the first n events\n",
    "n = 5\n",
    "\n",
    "# Absolute Timestamp in seconds [s] with resolution [ns]\n",
    "print(f'tot_time   : {muon.file_handler.tot_time[:n]}')\n",
    "\n",
    "# Absolute Timestamp in seconds [s] with resolution [ns], converted to dateformat\n",
    "print(f'tot_time   : {muon.file_handler.tot_time.asdatetime()[:n]}')\n",
    "\n",
    "# TRB Timestamp in [ns] - not absolute therefore most precise\n",
    "print(f'tot_time_ns: {muon.file_handler.tot_time_ns[:n]}')\n",
    "\n",
    "# TRB Channel of the event\n",
    "print(f'tot_channel: {muon.file_handler.tot_channel[:n]}')\n",
    "\n",
    "# TRB time over threshold in [ns]\n",
    "print(f'tot_tot    : {muon.file_handler.tot_tot[:n]}')"
   ]
  },
  {
   "cell_type": "markdown",
   "metadata": {},
   "source": [
    "# Load and Cut Data\n",
    "It seems, the TRB has an overflow at 2750 in both time data. (can be corrected with np.unwrap)"
   ]
  },
  {
   "cell_type": "code",
   "execution_count": null,
   "metadata": {},
   "outputs": [],
   "source": [
    "tot = muon.file_handler.tot_tot[:]\n",
    "\n",
    "# some tot values are very high ~1e12, exclude them here or not\n",
    "if True:\n",
    "    max_tot = 1 * 1e3 # cut at 1us - [ns]\n",
    "    mask = (tot<max_tot) & (tot > 0)\n",
    "    print(f'exclude {np.sum(~mask)} events')\n",
    "else:\n",
    "    mask = np.ones_like(tot, dtype=bool)\n",
    "\n",
    "trb_overflow = 2750.\n",
    "\n",
    "# time in seconds, time_masked since epoch (1.1.1970) and time_ns_masked TRB internal (more precise)\n",
    "time_masked = np.unwrap(muon.file_handler.tot_time[mask], period=trb_overflow)\n",
    "time_ns_masked = np.unwrap(muon.file_handler.tot_time_ns[mask], period=trb_overflow)\n",
    "\n",
    "# tot in nano-seconds\n",
    "tot_masked = tot[mask]\n",
    "\n",
    "# channel id\n",
    "channel_masked = muon.file_handler.tot_channel[mask]\n",
    "\n",
    "# the time isn't sorted correctly, do it here\n",
    "index_sort = np.argsort(time_ns_masked)\n",
    "\n",
    "time_masked = time_masked[index_sort]\n",
    "time_ns_masked  = time_ns_masked[index_sort]\n",
    "channel_masked = channel_masked[index_sort]\n",
    "tot_masked = tot_masked[index_sort]\n",
    "\n",
    "# free RAM - parameter not needed\n",
    "del tot, mask, index_sort"
   ]
  },
  {
   "cell_type": "markdown",
   "metadata": {},
   "source": [
    "# Plot"
   ]
  },
  {
   "cell_type": "code",
   "execution_count": null,
   "metadata": {},
   "outputs": [],
   "source": [
    "# timeline of events\n",
    "\n",
    "plt.figure()\n",
    "\n",
    "n = 1000\n",
    "sc = plt.scatter(strawb.tools.asdatetime(time_masked)[:n],\n",
    "            tot_masked[:n],\n",
    "            c=channel_masked[:n])\n",
    "\n",
    "plt.colorbar(sc, label='Channel')\n",
    "\n",
    "ax = plt.gca()\n",
    "ax.xaxis.set_major_formatter(\n",
    "    mdates.ConciseDateFormatter(ax.xaxis.get_major_locator())\n",
    ")\n",
    "ax.set_axisbelow(True)  # show grid behind scatter\n",
    "\n",
    "plt.ylabel('ToT [ns]')\n",
    "plt.xlabel('Date [s]')\n",
    "plt.grid()\n",
    "plt.tight_layout()"
   ]
  },
  {
   "cell_type": "markdown",
   "metadata": {},
   "source": [
    "## Show short ToT's"
   ]
  },
  {
   "cell_type": "code",
   "execution_count": null,
   "metadata": {},
   "outputs": [],
   "source": [
    "# gen. hist\n",
    "counts, edges = np.histogram(tot_masked, bins=1000)\n",
    "\n",
    "# plot hist\n",
    "plt.figure()\n",
    "plt.stairs(counts, edges=edges)\n",
    "plt.xlabel('ToT [ns]')\n",
    "plt.ylabel('Counts')\n",
    "plt.yscale('log')\n",
    "plt.grid()\n",
    "plt.tight_layout()"
   ]
  },
  {
   "cell_type": "code",
   "execution_count": null,
   "metadata": {},
   "outputs": [],
   "source": [
    "plt.figure()\n",
    "plt.hist(np.diff(time_ns_masked), bins=1000)\n",
    "plt.yscale('log')\n",
    "plt.xlabel('Delta time between events [s]')\n",
    "plt.ylabel('Counts')\n",
    "plt.grid()\n",
    "plt.tight_layout()"
   ]
  },
  {
   "cell_type": "markdown",
   "metadata": {},
   "source": [
    "# Event builder\n",
    "Detect and build events. A event is defined as set of tot-events where the timestamps between the singel tot-events isn't greater as a limit (`dt_max`). Muons are traveling with ~c and 1ns corresbonds to 0.3m distance. The mountracker has a diameter of 13\", so ~0.3m.    "
   ]
  },
  {
   "cell_type": "code",
   "execution_count": null,
   "metadata": {},
   "outputs": [],
   "source": [
    "# Test values code for event builder\n",
    "x = np.array([0, 1, 2, 2.1, 2.2, 2.3, 3, 3.1, 4, 5])\n",
    "target = np.array([0, 0, 1,   1,   1,   1, 2, 2, 0, 0])\n",
    "\n",
    "m = np.diff(x) < .2\n",
    "label_diff, num_features = scipy.ndimage.label(m)\n",
    "# print('label: ', label)\n",
    "\n",
    "label = np.zeros(x.shape, dtype=label_diff.dtype)\n",
    "label[1:][label_diff!=0] = label_diff[label_diff!=0]\n",
    "label[:-1][label_diff!=0] = label_diff[label_diff!=0]\n",
    "\n",
    "del label_diff, m\n",
    "\n",
    "print('label: ', label)\n",
    "label - target"
   ]
  },
  {
   "cell_type": "markdown",
   "metadata": {},
   "source": [
    "## Build events for dataset"
   ]
  },
  {
   "cell_type": "code",
   "execution_count": null,
   "metadata": {},
   "outputs": [],
   "source": [
    "import scipy.ndimage\n",
    "\n",
    "dt_max = 5e-9  # in seconds, e.g. 1e-8=10ns <-> 3m for light (in vacuum)\n",
    "\n",
    "m = np.diff(time_ns_masked) < dt_max\n",
    "label_diff, num_features = scipy.ndimage.label(m)\n",
    "\n",
    "label = np.zeros(time_ns_masked.shape, dtype=label_diff.dtype)\n",
    "label[1:][label_diff!=0] = label_diff[label_diff!=0]\n",
    "label[:-1][label_diff!=0] = label_diff[label_diff!=0]\n",
    "del label_diff, m\n",
    "\n",
    "# get the slices for each event\n",
    "slices = scipy.ndimage.measurements.find_objects(label)\n",
    "\n",
    "# get the number of channels in a event\n",
    "label_u, counts = np.unique(label, return_counts=True)\n",
    "counts_events = counts[label_u>0]"
   ]
  },
  {
   "cell_type": "markdown",
   "metadata": {},
   "source": [
    "### Show one Event"
   ]
  },
  {
   "cell_type": "code",
   "execution_count": null,
   "metadata": {},
   "outputs": [],
   "source": [
    "# show one Event, here the one with maximum active channels in the dataset\n",
    "# get\n",
    "l_i = np.argwhere(counts_events.max() == counts).flatten()\n",
    "l_i -= 1  # because find_objects ignores label=0\n",
    "slice_i = slices[l_i[0]]\n",
    "time_ns_masked[slice_i] - time_ns_masked[slice_i][0], channel_masked[slice_i], tot_masked[slice_i]"
   ]
  },
  {
   "cell_type": "markdown",
   "metadata": {},
   "source": [
    "# PLOT"
   ]
  },
  {
   "cell_type": "code",
   "execution_count": null,
   "metadata": {},
   "outputs": [],
   "source": [
    "# plot the active channels per event\n",
    "plt.figure()\n",
    "\n",
    "plt.hist(counts_events, bins=np.arange(2, counts_events.max()+1)-.5)\n",
    "plt.yscale('log')\n",
    "plt.xlabel('Delta time between events [s]')\n",
    "plt.ylabel('Counts')\n",
    "\n",
    "plt.grid()\n",
    "plt.tight_layout()"
   ]
  },
  {
   "cell_type": "markdown",
   "metadata": {},
   "source": [
    "# Build events with multiplicity `length`"
   ]
  },
  {
   "cell_type": "code",
   "execution_count": null,
   "metadata": {},
   "outputs": [],
   "source": [
    "import scipy.stats\n",
    "import tqdm.notebook"
   ]
  },
  {
   "cell_type": "code",
   "execution_count": null,
   "metadata": {},
   "outputs": [],
   "source": [
    "length = 2\n",
    "args_select = np.argwhere(counts[1:]==length).flatten()\n",
    "\n",
    "event_channels = np.zeros((len(args_select), length), dtype=np.uint8)\n",
    "event_tot = np.zeros((len(args_select), length), dtype=float)\n",
    "event_t_ns = np.zeros((len(args_select), length), dtype=float)\n",
    "\n",
    "for i, s_i in tqdm.notebook.tqdm(enumerate(args_select), total=len(args_select)):\n",
    "    slice_i = slices[s_i]\n",
    "    event_channels[i] = channel_masked[slice_i]\n",
    "    event_tot[i] = tot_masked[slice_i]\n",
    "    event_t_ns[i] = time_ns_masked[slice_i]"
   ]
  },
  {
   "cell_type": "code",
   "execution_count": null,
   "metadata": {},
   "outputs": [],
   "source": [
    "# print the unique pairs with count\n",
    "u, c = np.unique(np.sort(event_channels, axis=-1), axis=0, return_counts=True)\n",
    "print('Counts; Channel_i')\n",
    "np.append(c[None], u.T, axis=0).T"
   ]
  },
  {
   "cell_type": "code",
   "execution_count": null,
   "metadata": {},
   "outputs": [],
   "source": [
    "binned_stat = scipy.stats.binned_statistic_dd(np.sort(event_channels),\n",
    "                                              np.ones(len(event_channels)),\n",
    "                                              bins=[np.arange(0, 18)-.5]*2,\n",
    "                                              statistic='count')\n",
    "\n",
    "statistic = np.ma.masked_less(binned_stat.statistic.copy(), 1)"
   ]
  },
  {
   "cell_type": "code",
   "execution_count": null,
   "metadata": {},
   "outputs": [],
   "source": [
    "statistic_i = statistic.copy()\n",
    "statistic_i[statistic_i>1e4] = 1e4\n",
    "\n",
    "cb = plt.matshow(np.log(statistic_i.filled(np.nan)), vmin=1)\n",
    "plt.colorbar(cb, shrink=.6, label='log(counts)')\n",
    "plt.xlabel('channel')\n",
    "plt.ylabel('channel')\n",
    "plt.grid(lw=.5)\n",
    "plt.xlim(.5, 16.5)\n",
    "plt.ylim(16.5, .5)\n",
    "plt.xticks(ticks=np.arange(1,17))\n",
    "plt.yticks(ticks=np.arange(1,17))\n",
    "\n",
    "plt.show()"
   ]
  },
  {
   "cell_type": "code",
   "execution_count": null,
   "metadata": {},
   "outputs": [],
   "source": []
  }
 ],
 "metadata": {
  "kernelspec": {
   "display_name": "py39",
   "language": "python",
   "name": "py39"
  },
  "language_info": {
   "codemirror_mode": {
    "name": "ipython",
    "version": 3
   },
   "file_extension": ".py",
   "mimetype": "text/x-python",
   "name": "python",
   "nbconvert_exporter": "python",
   "pygments_lexer": "ipython3",
   "version": "3.7.10"
  }
 },
 "nbformat": 4,
 "nbformat_minor": 4
}
