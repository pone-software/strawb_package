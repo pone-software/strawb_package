{
 "cells": [
  {
   "cell_type": "code",
   "execution_count": 1,
   "metadata": {},
   "outputs": [],
   "source": [
    "import numpy as np\n",
    "import pandas as pd\n",
    "\n",
    "import strawb\n",
    "import strawb.sensors.camera as camera\n",
    "import os\n",
    "import matplotlib.pyplot as plt"
   ]
  },
  {
   "cell_type": "markdown",
   "metadata": {},
   "source": [
    "# Load files from the ONC server\n",
    "Be careful, depending on the amount of data this can take a while!!"
   ]
  },
  {
   "cell_type": "markdown",
   "metadata": {},
   "source": [
    "## Version 1: Manual version\n",
    "If file name is known. If not use the database DB"
   ]
  },
  {
   "cell_type": "code",
   "execution_count": 2,
   "metadata": {},
   "outputs": [],
   "source": [
    "# onc_downloader = strawb.ONCDownloader(showInfo=False)\n",
    "\n",
    "# # download files selected by `date_from`, `date_to`,...\n",
    "# onc_downloader.download_structured(extensions='hdf5',\n",
    "#                                    date_from = '2021-07-01T23:00:00.000Z',\n",
    "#                                    date_to = '2021-07-01T23:59:59.000Z',\n",
    "#                                    dev_codes ='TUMPMTSPECTROMETER002',\n",
    "#                                    dataProductCode = 'MSSCD',  # short for 'dataProductName': 'Mini Spectrometer Sensor Camera Data',\n",
    "#                                   )"
   ]
  },
  {
   "cell_type": "code",
   "execution_count": 3,
   "metadata": {},
   "outputs": [],
   "source": [
    "# # where data is located on the LRZ VM\n",
    "# basepath = join(strawb.Config.raw_data_dir, 'tumpmtspectrometer001/2021_09/')\n",
    "# file_name = os.path.join(basepath, 'TUMPMTSPECTROMETER001_20210904T230000.000Z-SDAQ-CAMERA.hdf5')\n",
    "\n",
    "\n",
    "# cam_run = camera.FileHandler(file_name)\n",
    "# picture_handler = camera.Images(cam_run)"
   ]
  },
  {
   "cell_type": "markdown",
   "metadata": {},
   "source": [
    "## Version 2 (recommended): use the database (DB) to find a valid file"
   ]
  },
  {
   "cell_type": "code",
   "execution_count": 4,
   "metadata": {},
   "outputs": [],
   "source": [
    "# load DB\n",
    "db = strawb.SyncDBHandler(file_name='Default')  # loads the db\n",
    "db.load_onc_db_update(save_db=True)  # update the DB, could take some time if it has to load info. from ONC"
   ]
  },
  {
   "cell_type": "markdown",
   "metadata": {},
   "source": [
    "Print some info from the DB"
   ]
  },
  {
   "cell_type": "code",
   "execution_count": 5,
   "metadata": {},
   "outputs": [
    {
     "name": "stdout",
     "output_type": "stream",
     "text": [
      "Index(['archiveLocation', 'archivedDate', 'compression', 'dataProductCode',\n",
      "       'dateFrom', 'dateTo', 'deviceCode', 'fileSize', 'filename',\n",
      "       'modifyDate', 'path', 'uncompressedFileSize', 'outPath', 'fullPath',\n",
      "       'synced', 'h5_attrs', 'dev_code', 'file_end', 'file_id', 'file_start',\n",
      "       'following_file_id', 'name', 'previous_file_id', 'rollover_interval',\n",
      "       'run_end', 'run_start', 'write_period', 'write_period_jitter',\n",
      "       'measurement_type', 'write_error', 'measurement_duration',\n",
      "       'measurement_steps', 'laser_position_x0', 'laser_position_y0',\n",
      "       'measurement_step_width', 'measurement_subtype', 'file_version',\n",
      "       'index_start_valid_data', 'dt_step', 'lower_threshold',\n",
      "       'lower_threshold_hv', 'step_size', 'step_size_hv', 'upper_threshold',\n",
      "       'upper_threshold_hv'],\n",
      "      dtype='object')\n",
      "['ONCMJB016' 'TUMLIDAR001' 'TUMLIDAR002' 'TUMMINISPECTROMETER001'\n",
      " 'TUMMUONTRACKER001' 'TUMPMTSPECTROMETER001' 'TUMPMTSPECTROMETER002'\n",
      " 'TUMSTANDARDMODULE001' 'TUMSTANDARDMODULE004']\n",
      "['LF' 'PMTSD' 'SMRD' 'MSRD' 'PMTTC' 'LIDARSD' 'LIDARRD' 'LIDARTF' 'MTSD'\n",
      " 'MSCR' 'MSCRCC' 'MSID' 'MTRD' None 'LIDARTOT' 'PMTRD' 'MSSCD' 'MSSD'\n",
      " 'MTTOT' 'PMTTOT']\n"
     ]
    }
   ],
   "source": [
    "print(db.dataframe.columns)\n",
    "\n",
    "### these are the available device codes\n",
    "print(db.dataframe.deviceCode.unique())\n",
    "\n",
    "### different measurement types for PMTSPEC and LIDAR, \n",
    "# works only if hdf5 attributes are imported from files on disc\n",
    "#print(db.dataframe.measurement_type.unique())\n",
    "\n",
    "### these are the parts of each module that produce data\n",
    "print(db.dataframe.dataProductCode.unique())"
   ]
  },
  {
   "cell_type": "markdown",
   "metadata": {},
   "source": [
    "### Select (a) file(s) of interest"
   ]
  },
  {
   "cell_type": "code",
   "execution_count": 6,
   "metadata": {},
   "outputs": [
    {
     "data": {
      "text/html": [
       "<div>\n",
       "<style scoped>\n",
       "    .dataframe tbody tr th:only-of-type {\n",
       "        vertical-align: middle;\n",
       "    }\n",
       "\n",
       "    .dataframe tbody tr th {\n",
       "        vertical-align: top;\n",
       "    }\n",
       "\n",
       "    .dataframe thead th {\n",
       "        text-align: right;\n",
       "    }\n",
       "</style>\n",
       "<table border=\"1\" class=\"dataframe\">\n",
       "  <thead>\n",
       "    <tr style=\"text-align: right;\">\n",
       "      <th></th>\n",
       "      <th>archiveLocation</th>\n",
       "      <th>archivedDate</th>\n",
       "      <th>compression</th>\n",
       "      <th>dataProductCode</th>\n",
       "      <th>dateFrom</th>\n",
       "      <th>dateTo</th>\n",
       "      <th>deviceCode</th>\n",
       "      <th>fileSize</th>\n",
       "      <th>filename</th>\n",
       "      <th>modifyDate</th>\n",
       "      <th>...</th>\n",
       "      <th>measurement_subtype</th>\n",
       "      <th>file_version</th>\n",
       "      <th>index_start_valid_data</th>\n",
       "      <th>dt_step</th>\n",
       "      <th>lower_threshold</th>\n",
       "      <th>lower_threshold_hv</th>\n",
       "      <th>step_size</th>\n",
       "      <th>step_size_hv</th>\n",
       "      <th>upper_threshold</th>\n",
       "      <th>upper_threshold_hv</th>\n",
       "    </tr>\n",
       "    <tr>\n",
       "      <th>fullPath</th>\n",
       "      <th></th>\n",
       "      <th></th>\n",
       "      <th></th>\n",
       "      <th></th>\n",
       "      <th></th>\n",
       "      <th></th>\n",
       "      <th></th>\n",
       "      <th></th>\n",
       "      <th></th>\n",
       "      <th></th>\n",
       "      <th></th>\n",
       "      <th></th>\n",
       "      <th></th>\n",
       "      <th></th>\n",
       "      <th></th>\n",
       "      <th></th>\n",
       "      <th></th>\n",
       "      <th></th>\n",
       "      <th></th>\n",
       "      <th></th>\n",
       "      <th></th>\n",
       "    </tr>\n",
       "  </thead>\n",
       "  <tbody>\n",
       "    <tr>\n",
       "      <th>/dss/strawb/raw_module_data/tumpmtspectrometer001/2021_09/TUMPMTSPECTROMETER001_20210904T230000.000Z-SDAQ-CAMERA.hdf5</th>\n",
       "      <td>/NA_Archive_04</td>\n",
       "      <td>2021-09-05 01:51:24.463000+00:00</td>\n",
       "      <td>None</td>\n",
       "      <td>MSSCD</td>\n",
       "      <td>2021-09-04 23:00:00+00:00</td>\n",
       "      <td>2021-09-04 23:59:59.999000+00:00</td>\n",
       "      <td>TUMPMTSPECTROMETER001</td>\n",
       "      <td>58043955</td>\n",
       "      <td>TUMPMTSPECTROMETER001_20210904T230000.000Z-SDA...</td>\n",
       "      <td>2021-09-05 01:51:26.475000+00:00</td>\n",
       "      <td>...</td>\n",
       "      <td>NaN</td>\n",
       "      <td>1.0</td>\n",
       "      <td>NaN</td>\n",
       "      <td>NaN</td>\n",
       "      <td>NaN</td>\n",
       "      <td>NaN</td>\n",
       "      <td>NaN</td>\n",
       "      <td>NaN</td>\n",
       "      <td>NaN</td>\n",
       "      <td>NaN</td>\n",
       "    </tr>\n",
       "  </tbody>\n",
       "</table>\n",
       "<p>1 rows × 45 columns</p>\n",
       "</div>"
      ],
      "text/plain": [
       "                                                   archiveLocation  \\\n",
       "fullPath                                                             \n",
       "/dss/strawb/raw_module_data/tumpmtspectrometer0...  /NA_Archive_04   \n",
       "\n",
       "                                                                       archivedDate  \\\n",
       "fullPath                                                                              \n",
       "/dss/strawb/raw_module_data/tumpmtspectrometer0... 2021-09-05 01:51:24.463000+00:00   \n",
       "\n",
       "                                                   compression  \\\n",
       "fullPath                                                         \n",
       "/dss/strawb/raw_module_data/tumpmtspectrometer0...        None   \n",
       "\n",
       "                                                   dataProductCode  \\\n",
       "fullPath                                                             \n",
       "/dss/strawb/raw_module_data/tumpmtspectrometer0...           MSSCD   \n",
       "\n",
       "                                                                    dateFrom  \\\n",
       "fullPath                                                                       \n",
       "/dss/strawb/raw_module_data/tumpmtspectrometer0... 2021-09-04 23:00:00+00:00   \n",
       "\n",
       "                                                                             dateTo  \\\n",
       "fullPath                                                                              \n",
       "/dss/strawb/raw_module_data/tumpmtspectrometer0... 2021-09-04 23:59:59.999000+00:00   \n",
       "\n",
       "                                                               deviceCode  \\\n",
       "fullPath                                                                    \n",
       "/dss/strawb/raw_module_data/tumpmtspectrometer0...  TUMPMTSPECTROMETER001   \n",
       "\n",
       "                                                    fileSize  \\\n",
       "fullPath                                                       \n",
       "/dss/strawb/raw_module_data/tumpmtspectrometer0...  58043955   \n",
       "\n",
       "                                                                                             filename  \\\n",
       "fullPath                                                                                                \n",
       "/dss/strawb/raw_module_data/tumpmtspectrometer0...  TUMPMTSPECTROMETER001_20210904T230000.000Z-SDA...   \n",
       "\n",
       "                                                                         modifyDate  \\\n",
       "fullPath                                                                              \n",
       "/dss/strawb/raw_module_data/tumpmtspectrometer0... 2021-09-05 01:51:26.475000+00:00   \n",
       "\n",
       "                                                    ... measurement_subtype  \\\n",
       "fullPath                                            ...                       \n",
       "/dss/strawb/raw_module_data/tumpmtspectrometer0...  ...                 NaN   \n",
       "\n",
       "                                                    file_version  \\\n",
       "fullPath                                                           \n",
       "/dss/strawb/raw_module_data/tumpmtspectrometer0...           1.0   \n",
       "\n",
       "                                                   index_start_valid_data  \\\n",
       "fullPath                                                                    \n",
       "/dss/strawb/raw_module_data/tumpmtspectrometer0...                    NaN   \n",
       "\n",
       "                                                   dt_step  lower_threshold  \\\n",
       "fullPath                                                                      \n",
       "/dss/strawb/raw_module_data/tumpmtspectrometer0...     NaN              NaN   \n",
       "\n",
       "                                                   lower_threshold_hv  \\\n",
       "fullPath                                                                \n",
       "/dss/strawb/raw_module_data/tumpmtspectrometer0...                NaN   \n",
       "\n",
       "                                                   step_size step_size_hv  \\\n",
       "fullPath                                                                    \n",
       "/dss/strawb/raw_module_data/tumpmtspectrometer0...       NaN          NaN   \n",
       "\n",
       "                                                    upper_threshold  \\\n",
       "fullPath                                                              \n",
       "/dss/strawb/raw_module_data/tumpmtspectrometer0...              NaN   \n",
       "\n",
       "                                                   upper_threshold_hv  \n",
       "fullPath                                                               \n",
       "/dss/strawb/raw_module_data/tumpmtspectrometer0...                NaN  \n",
       "\n",
       "[1 rows x 45 columns]"
      ]
     },
     "execution_count": 6,
     "metadata": {},
     "output_type": "execute_result"
    }
   ],
   "source": [
    "mask = (db.dataframe.deviceCode == 'TUMPMTSPECTROMETER001') # that's the pmtspec module\n",
    "mask &= (db.dataframe.dataProductCode =='MSSCD') # that's the camera data of the pmtspec module\n",
    "\n",
    "## select 1h frame around the biolumi event\n",
    "timestamp = np.datetime64('2021-09-04T23:44:09')\n",
    "mask &= db.dataframe.dateFrom >= pd.Timestamp(np.datetime64(timestamp, \"h\"), tz=\"UTC\")\n",
    "mask &= db.dataframe.dateFrom < pd.Timestamp(np.datetime64(timestamp, \"h\"), tz=\"UTC\") + np.timedelta64(1, \"h\")\n",
    "\n",
    "### selected one file from the DB (it's the same as the file we selected above by hand)\n",
    "db.dataframe[mask]"
   ]
  },
  {
   "cell_type": "markdown",
   "metadata": {},
   "source": [
    "### Download the missing files which aren't synced so far from `db.dataframe[mask]`"
   ]
  },
  {
   "cell_type": "code",
   "execution_count": 7,
   "metadata": {},
   "outputs": [],
   "source": [
    "if not db.dataframe.synced[mask].all():\n",
    "    db.update_db_and_load_files(\n",
    "        db.dataframe[mask],\n",
    "        output=True,  # print output to console\n",
    "        download=True,  # download the files\n",
    "        save_db=True,\n",
    "    )  # update the DB"
   ]
  },
  {
   "cell_type": "markdown",
   "metadata": {},
   "source": [
    "# Import the file to the Camera Module "
   ]
  },
  {
   "cell_type": "code",
   "execution_count": 8,
   "metadata": {},
   "outputs": [
    {
     "name": "stdout",
     "output_type": "stream",
     "text": [
      "/dss/strawb/raw_module_data/tumpmtspectrometer001/2021_09/TUMPMTSPECTROMETER001_20210904T230000.000Z-SDAQ-CAMERA.hdf5\n"
     ]
    }
   ],
   "source": [
    "# select the filename\n",
    "file_name = db.dataframe.fullPath[mask].iloc[-1]\n",
    "print(file_name)\n",
    "\n",
    "# create an instance of the Camera\n",
    "camera = strawb.sensors.camera.Camera(file_name)"
   ]
  },
  {
   "cell_type": "markdown",
   "metadata": {},
   "source": [
    "### Print some parameters"
   ]
  },
  {
   "cell_type": "code",
   "execution_count": 9,
   "metadata": {},
   "outputs": [
    {
     "name": "stdout",
     "output_type": "stream",
     "text": [
      "Module: PMTSPECTROMETER001\n",
      "Number of Frames: 36\n",
      "Date: 2021-09-04T22:59:18.344365 - 2021-09-04T23:57:27.277572\n",
      "Exposure Times [s]: [52.5]\n"
     ]
    }
   ],
   "source": [
    "print(f'Module: {camera.file_handler.module}')\n",
    "print(f'Number of Frames: {camera.file_handler.exposure_time.shape[0]}')\n",
    "print(f'Date: {np.min(camera.file_handler.time.asdatetime()[:])} - {np.max(camera.file_handler.time.asdatetime()[:])}')\n",
    "print(f'Exposure Times [s]: {np.unique(camera.file_handler.exposure_time)}')"
   ]
  },
  {
   "cell_type": "markdown",
   "metadata": {},
   "source": [
    "### Mask images to export (here only one)"
   ]
  },
  {
   "cell_type": "code",
   "execution_count": 10,
   "metadata": {},
   "outputs": [
    {
     "name": "stdout",
     "output_type": "stream",
     "text": [
      "[27]\n"
     ]
    }
   ],
   "source": [
    "# mask over a threshold + mask invalid frames + mask no lucifer enabled\n",
    "mask = (camera.images.integrated_minus_dark > 1e6) & camera.images.invalid_mask\n",
    "\n",
    "index = np.argsort(camera.images.integrated_minus_dark)  # sort by charge [min,...,max]\n",
    "index = index[mask[index]]  # remove invalid items  & cam_module.invalid_mask\n",
    "index = index[::-1]  # revers the order\n",
    "print(index)"
   ]
  },
  {
   "cell_type": "markdown",
   "metadata": {},
   "source": [
    "## Export the image as png and store it on disc"
   ]
  },
  {
   "cell_type": "code",
   "execution_count": 11,
   "metadata": {},
   "outputs": [
    {
     "data": {
      "text/plain": [
       "['/home/di46lez/strawb_package/examples/figures/bright_test_pic_0_2021_09_04_23_44_09.png']"
      ]
     },
     "execution_count": 11,
     "metadata": {},
     "output_type": "execute_result"
    }
   ],
   "source": [
    "camera.images.image2png(\n",
    "    index=index, \n",
    "    directory=\"./figures\", # add your preferred dir here\n",
    "    f_name_formatter='bright_test_pic_{i}_{datetime}.png')  # save the images"
   ]
  },
  {
   "cell_type": "markdown",
   "metadata": {},
   "source": [
    "## Show one image here"
   ]
  },
  {
   "cell_type": "code",
   "execution_count": 16,
   "metadata": {},
   "outputs": [
    {
     "data": {
      "image/png": "[encoded data removed]",
      "text/plain": [
       "<Figure size 432x288 with 1 Axes>"
      ]
     },
     "metadata": {
      "needs_background": "light"
     },
     "output_type": "display_data"
    }
   ],
   "source": [
    "plt.figure()\n",
    "plt.imshow(camera.images._rgb[0,:,:]/255)\n",
    "plt.savefig(\"figures/biolumi_demo.pdf\", backend=\"pdf\")\n",
    "plt.savefig(\"figures/biolumi_demo.png\", dpi=120)"
   ]
  },
  {
   "cell_type": "markdown",
   "metadata": {},
   "source": [
    "## How to access the raw data (numpy)"
   ]
  },
  {
   "cell_type": "code",
   "execution_count": null,
   "metadata": {
    "tags": []
   },
   "outputs": [],
   "source": [
    "# The raw pixel values are NOT loaded by default to the module to save RAM.\n",
    "# They can be accessed directly from the file with the index, index = None (default) to loads all images\n",
    "a = camera.file_handler.raw[[1,3]]  # direct h5py access, allows only sorted (non-dublicate) index access.\n",
    "print(a.shape)\n",
    "\n",
    "a = camera.file_handler.raw.getunsorted([1,3])  # STRAWb helper to access it unsorted (and dublicat) by index\n",
    "print(a.shape)\n",
    "\n",
    "a = camera.file_handler.raw[:]  # get all images\n",
    "print(a[0]) # returns array on default, even if only one element is accessed\n",
    "print(a[0].shape) # 2D shape of picture\n",
    "print(a.shape) # n_pic x 2D shape of picture"
   ]
  },
  {
   "cell_type": "markdown",
   "metadata": {},
   "source": [
    "# Store the images with Lucifer enabled\n",
    "You'd need to download a lot of data to do this, so be careful.\n",
    "\n",
    "## Download files first"
   ]
  },
  {
   "cell_type": "code",
   "execution_count": null,
   "metadata": {},
   "outputs": [],
   "source": [
    "# mask Camera files\n",
    "mask = db.dataframe.dataProductCode == 'MSSCD'\n",
    "\n",
    "# mask the devices. 'TUMPMTSPECTROMETER002' or 'TUMPMTSPECTROMETER001'\n",
    "mask_device = db.dataframe.deviceCode == 'TUMPMTSPECTROMETER002'\n",
    "mask_device |= db.dataframe.deviceCode == 'TUMMINISPECTROMETER001'\n",
    "\n",
    "mask &= mask_device  # combine both masks\n",
    "\n",
    "## select filese in a 2h window\n",
    "timestamp = np.datetime64('2021-05-23T01:00:00')\n",
    "mask &= db.dataframe.dateFrom >= pd.Timestamp(np.datetime64(timestamp, \"h\"), tz=\"UTC\")\n",
    "mask &= db.dataframe.dateFrom < pd.Timestamp(np.datetime64(timestamp, \"h\"), tz=\"UTC\") + np.timedelta64(2, \"h\")\n",
    "\n",
    "### check before downloading\n",
    "total_size = db.dataframe.uncompressedFileSize[mask].sum()\n",
    "# strawb.tools.human_size converts to e.g. '10.3 KB', '2.7 MB',...\n",
    "print(f'Total download size: {strawb.tools.human_size(total_size)}')\n",
    "\n",
    "# show files\n",
    "db.dataframe[mask]"
   ]
  },
  {
   "cell_type": "markdown",
   "metadata": {},
   "source": [
    "### Download the files"
   ]
  },
  {
   "cell_type": "code",
   "execution_count": null,
   "metadata": {},
   "outputs": [],
   "source": [
    "db.update_db_and_load_files(db.dataframe[mask],\n",
    "                            output=True,\n",
    "                            download=True,\n",
    "                            save_db=True,)"
   ]
  },
  {
   "cell_type": "markdown",
   "metadata": {},
   "source": [
    "## Process Files\n",
    "### Define a function which process a single file"
   ]
  },
  {
   "cell_type": "code",
   "execution_count": null,
   "metadata": {},
   "outputs": [],
   "source": [
    "# define a function which process a single file\n",
    "def process_file(file_name):\n",
    "    camera = strawb.sensors.camera.Camera(file_name)\n",
    "    \n",
    "    ### Store the 'brightest' images\n",
    "    mode_list, mask_list = camera.images.get_lucifer_mask()  # returns a mask for each lucifer setting\n",
    "    mask_lucifer = np.any(mask_list, axis=0)  # compress the masks to one mask\n",
    "    \n",
    "    # mask over a threshold + mask invalid frames + mask lucifer (=LED) enabled\n",
    "    mask = (camera.images.integrated_minus_dark > 1e6) & camera.images.invalid_mask & mask_lucifer\n",
    "    \n",
    "    if np.any(mask):\n",
    "        print(\"found some!\")\n",
    "        index = np.argsort(camera.images.integrated_minus_dark)  # sort by charge [min,...,max]\n",
    "        index = index[mask[index]]  # remove invalid items  & cam_module.invalid_mask\n",
    "        index = index[::-1]  # revers the order\n",
    "        print(index)\n",
    "\n",
    "        ## save just the first two pictures\n",
    "        # directory='...{module_lower}` is a placeholder. Check out the ./figures afer processing.\n",
    "        camera.images.image2png(\n",
    "            index=index[:2],\n",
    "            directory=\"./figures/{module_lower}\",\n",
    "            f_name_formatter='lucifer_{i}_{datetime}.png'\n",
    "        )  # save the images"
   ]
  },
  {
   "cell_type": "markdown",
   "metadata": {},
   "source": [
    "## Run code for every file"
   ]
  },
  {
   "cell_type": "code",
   "execution_count": null,
   "metadata": {},
   "outputs": [],
   "source": [
    "# use the STRAWb helper Class to execute the function. \n",
    "# This features, a progress bar, will continue if files fail, and allows multiple threads \n",
    "sjt = strawb.tools.ShareJobThreads(thread_n=1, unit='files')\n",
    "sjt.do(process_file, db.dataframe.fullPath[mask])"
   ]
  },
  {
   "cell_type": "code",
   "execution_count": null,
   "metadata": {},
   "outputs": [],
   "source": []
  }
 ],
 "metadata": {
  "kernelspec": {
   "display_name": "Python 3",
   "language": "python",
   "name": "python3"
  },
  "language_info": {
   "codemirror_mode": {
    "name": "ipython",
    "version": 3
   },
   "file_extension": ".py",
   "mimetype": "text/x-python",
   "name": "python",
   "nbconvert_exporter": "python",
   "pygments_lexer": "ipython3",
   "version": "3.8.10"
  }
 },
 "nbformat": 4,
 "nbformat_minor": 4
}
