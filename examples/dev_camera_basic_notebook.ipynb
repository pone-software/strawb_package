{
 "cells": [
  {
   "cell_type": "code",
   "execution_count": null,
   "metadata": {},
   "outputs": [],
   "source": [
    "import numpy as np\n",
    "import sys\n",
    "import h5py\n",
    "import pandas as pd\n",
    "\n",
    "import strawb\n",
    "import strawb.sensors.camera as camera\n",
    "import os\n",
    "import matplotlib.pyplot as plt"
   ]
  },
  {
   "cell_type": "markdown",
   "metadata": {},
   "source": [
    "# Load files from the ONC server\n",
    "Be careful, depending on the amount of data this can take a while!!"
   ]
  },
  {
   "cell_type": "markdown",
   "metadata": {},
   "source": [
    "## Version 1: Manual version\n",
    "If file name is known. If not use the database DB"
   ]
  },
  {
   "cell_type": "code",
   "execution_count": null,
   "metadata": {},
   "outputs": [],
   "source": [
    "# onc_downloader = strawb.ONCDownloader(showInfo=False)\n",
    "\n",
    "# # download files selected by `date_from`, `date_to`,...\n",
    "# onc_downloader.download_structured(extensions='hdf5',\n",
    "#                                    date_from = '2021-07-01T23:00:00.000Z',\n",
    "#                                    date_to = '2021-07-01T23:59:59.000Z',\n",
    "#                                    dev_codes ='TUMPMTSPECTROMETER002',\n",
    "#                                    dataProductCode = 'MSSCD',  # short for 'dataProductName': 'Mini Spectrometer Sensor Camera Data',\n",
    "#                                   )"
   ]
  },
  {
   "cell_type": "code",
   "execution_count": null,
   "metadata": {},
   "outputs": [],
   "source": [
    "# # where data is located on the LRZ VM\n",
    "# basepath = join(strawb.Config.raw_data_dir, 'tumpmtspectrometer001/2021_09/')\n",
    "# file_name = os.path.join(basepath, 'TUMPMTSPECTROMETER001_20210904T230000.000Z-SDAQ-CAMERA.hdf5')\n",
    "\n",
    "\n",
    "# cam_run = camera.FileHandler(file_name)\n",
    "# picture_handler = camera.Images(cam_run)"
   ]
  },
  {
   "cell_type": "markdown",
   "metadata": {},
   "source": [
    "## Version 2 (recommended): use the database (DB) to find a valid file"
   ]
  },
  {
   "cell_type": "code",
   "execution_count": null,
   "metadata": {},
   "outputs": [],
   "source": [
    "# load DB\n",
    "db = strawb.SyncDBHandler(file_name='Default')  # loads the db\n",
    "db.load_onc_db_update(save_db=True)  # update the DB, could take some time if it has to load info. from ONC"
   ]
  },
  {
   "cell_type": "markdown",
   "metadata": {},
   "source": [
    "Print some info from the DB"
   ]
  },
  {
   "cell_type": "code",
   "execution_count": null,
   "metadata": {},
   "outputs": [],
   "source": [
    "print(db.dataframe.columns)\n",
    "\n",
    "### these are the available device codes\n",
    "print(db.dataframe.deviceCode.unique())\n",
    "\n",
    "### different measurement types for PMTSPEC and LIDAR, \n",
    "# works only if hdf5 attributes are imported from files on disc\n",
    "#print(db.dataframe.measurement_type.unique())\n",
    "\n",
    "### these are the parts of each module that produce data\n",
    "print(db.dataframe.dataProductCode.unique())"
   ]
  },
  {
   "cell_type": "markdown",
   "metadata": {},
   "source": [
    "### Select (a) file(s) of interest"
   ]
  },
  {
   "cell_type": "code",
   "execution_count": null,
   "metadata": {},
   "outputs": [],
   "source": [
    "mask = (db.dataframe.deviceCode == 'TUMPMTSPECTROMETER001') # that's the pmtspec module\n",
    "mask &= (db.dataframe.dataProductCode =='MSSCD') # that's the camera data of the pmtspec module\n",
    "\n",
    "## select 1h frame around the biolumi event\n",
    "timestamp = np.datetime64('2021-09-04T23:44:09')\n",
    "mask &= db.dataframe.dateFrom >= pd.Timestamp(np.datetime64(timestamp, \"h\"), tz=\"UTC\")\n",
    "mask &= db.dataframe.dateFrom < pd.Timestamp(np.datetime64(timestamp, \"h\"), tz=\"UTC\") + np.timedelta64(1, \"h\")\n",
    "\n",
    "### selected one file from the DB (it's the same as the file we selected above by hand)\n",
    "db.dataframe[mask]"
   ]
  },
  {
   "cell_type": "markdown",
   "metadata": {},
   "source": [
    "### Download the missing files which aren't synced so far from `db.dataframe[mask]`"
   ]
  },
  {
   "cell_type": "code",
   "execution_count": null,
   "metadata": {},
   "outputs": [],
   "source": [
    "if not db.dataframe.synced[mask].all():\n",
    "    db.update_db_and_load_files(\n",
    "        db.dataframe[mask],\n",
    "        output=True,  # print output to console\n",
    "        download=True,  # download the files\n",
    "        save_db=True,\n",
    "    )  # update the DB"
   ]
  },
  {
   "cell_type": "markdown",
   "metadata": {},
   "source": [
    "# Import the file to the Camera Module "
   ]
  },
  {
   "cell_type": "code",
   "execution_count": null,
   "metadata": {},
   "outputs": [],
   "source": [
    "# select the filename\n",
    "file_name = db.dataframe.fullPath[mask].iloc[-1]\n",
    "print(file_name)\n",
    "\n",
    "# create an instance of the Camera\n",
    "camera = strawb.sensors.camera.Camera(file_name)"
   ]
  },
  {
   "cell_type": "markdown",
   "metadata": {},
   "source": [
    "### Print some parameters"
   ]
  },
  {
   "cell_type": "code",
   "execution_count": null,
   "metadata": {},
   "outputs": [],
   "source": [
    "print(f'Module: {camera.file_handler.module}')\n",
    "print(f'Number of Frames: {camera.file_handler.exposure_time.shape[0]}')\n",
    "print(f'Date: {np.min(camera.file_handler.time.asdatetime()[:])} - {np.max(camera.file_handler.time.asdatetime()[:])}')\n",
    "print(f'Exposure Times [s]: {np.unique(camera.file_handler.exposure_time)}')"
   ]
  },
  {
   "cell_type": "markdown",
   "metadata": {},
   "source": [
    "### Mask images to export (here only one)"
   ]
  },
  {
   "cell_type": "code",
   "execution_count": null,
   "metadata": {},
   "outputs": [],
   "source": [
    "# mask over a threshold + mask invalid frames + mask no lucifer enabled\n",
    "mask = (camera.images.integrated_minus_dark > 1e6) & camera.images.invalid_mask\n",
    "\n",
    "index = np.argsort(camera.images.integrated_minus_dark)  # sort by charge [min,...,max]\n",
    "index = index[mask[index]]  # remove invalid items  & cam_module.invalid_mask\n",
    "index = index[::-1]  # revers the order\n",
    "print(index)"
   ]
  },
  {
   "cell_type": "markdown",
   "metadata": {},
   "source": [
    "## Export the image as png and store it on disc"
   ]
  },
  {
   "cell_type": "code",
   "execution_count": null,
   "metadata": {},
   "outputs": [],
   "source": [
    "camera.images.image2png(\n",
    "    index=index, \n",
    "    directory=\"./figures\", # add your preferred dir here\n",
    "    f_name_formatter='bright_test_pic_{i}_{datetime}.png')  # save the images"
   ]
  },
  {
   "cell_type": "markdown",
   "metadata": {},
   "source": [
    "## Show one image here"
   ]
  },
  {
   "cell_type": "code",
   "execution_count": null,
   "metadata": {},
   "outputs": [],
   "source": [
    "plt.figure()\n",
    "plt.imshow(camera.images._rgb[0,:,:]/255)\n",
    "plt.show()"
   ]
  },
  {
   "cell_type": "markdown",
   "metadata": {},
   "source": [
    "## How to access the raw data (numpy)"
   ]
  },
  {
   "cell_type": "code",
   "execution_count": null,
   "metadata": {
    "tags": []
   },
   "outputs": [],
   "source": [
    "# The raw pixel values are NOT loaded by default to the module to save RAM.\n",
    "# They can be accessed directly from the file with the index, index = None (default) to loads all images\n",
    "a = camera.file_handler.raw[[1,3]]  # direct h5py access, allows only sorted (non-dublicate) index access.\n",
    "print(a.shape)\n",
    "\n",
    "a = camera.file_handler.raw.getunsorted([1,3])  # STRAWb helper to access it unsorted (and dublicat) by index\n",
    "print(a.shape)\n",
    "\n",
    "a = camera.file_handler.raw[:]  # get all images\n",
    "print(a[0]) # returns array on default, even if only one element is accessed\n",
    "print(a[0].shape) # 2D shape of picture\n",
    "print(a.shape) # n_pic x 2D shape of picture"
   ]
  },
  {
   "cell_type": "markdown",
   "metadata": {},
   "source": [
    "# Store the images with Lucifer enabled\n",
    "You'd need to download a lot of data to do this, so be careful.\n",
    "\n",
    "## Download files first"
   ]
  },
  {
   "cell_type": "code",
   "execution_count": null,
   "metadata": {},
   "outputs": [],
   "source": [
    "# mask Camera files\n",
    "mask = db.dataframe.dataProductCode == 'MSSCD'\n",
    "\n",
    "# mask the devices. 'TUMPMTSPECTROMETER002' or 'TUMPMTSPECTROMETER001'\n",
    "mask_device = db.dataframe.deviceCode == 'TUMPMTSPECTROMETER002'\n",
    "mask_device |= db.dataframe.deviceCode == 'TUMMINISPECTROMETER001'\n",
    "\n",
    "mask &= mask_device  # combine both masks\n",
    "\n",
    "## select filese in a 2h window\n",
    "timestamp = np.datetime64('2021-05-23T01:00:00')\n",
    "mask &= db.dataframe.dateFrom >= pd.Timestamp(np.datetime64(timestamp, \"h\"), tz=\"UTC\")\n",
    "mask &= db.dataframe.dateFrom < pd.Timestamp(np.datetime64(timestamp, \"h\"), tz=\"UTC\") + np.timedelta64(2, \"h\")\n",
    "\n",
    "### check before downloading\n",
    "total_size = db.dataframe.uncompressedFileSize[mask].sum()\n",
    "# strawb.tools.human_size converts to e.g. '10.3 KB', '2.7 MB',...\n",
    "print(f'Total download size: {strawb.tools.human_size(total_size)}')\n",
    "\n",
    "# show files\n",
    "db.dataframe[mask]"
   ]
  },
  {
   "cell_type": "markdown",
   "metadata": {},
   "source": [
    "### Download the files"
   ]
  },
  {
   "cell_type": "code",
   "execution_count": null,
   "metadata": {},
   "outputs": [],
   "source": [
    "db.update_db_and_load_files(db.dataframe[mask],\n",
    "                            output=True,\n",
    "                            download=True,\n",
    "                            save_db=True,)"
   ]
  },
  {
   "cell_type": "markdown",
   "metadata": {},
   "source": [
    "## Process Files\n",
    "### Define a function which process a single file"
   ]
  },
  {
   "cell_type": "code",
   "execution_count": null,
   "metadata": {},
   "outputs": [],
   "source": [
    "# define a function which process a single file\n",
    "def process_file(file_name):\n",
    "    camera = strawb.sensors.camera.Camera(file_name)\n",
    "    \n",
    "    ### Store the 'brightest' images\n",
    "    mode_list, mask_list = camera.images.get_lucifer_mask()  # returns a mask for each lucifer setting\n",
    "    mask_lucifer = np.any(mask_list, axis=0)  # compress the masks to one mask\n",
    "    \n",
    "    # mask over a threshold + mask invalid frames + mask lucifer (=LED) enabled\n",
    "    mask = (camera.images.integrated_minus_dark > 1e6) & camera.images.invalid_mask & mask_lucifer\n",
    "    \n",
    "    if np.any(mask):\n",
    "        print(\"found some!\")\n",
    "        index = np.argsort(camera.images.integrated_minus_dark)  # sort by charge [min,...,max]\n",
    "        index = index[mask[index]]  # remove invalid items  & cam_module.invalid_mask\n",
    "        index = index[::-1]  # revers the order\n",
    "        print(index)\n",
    "\n",
    "        ## save just the first two pictures\n",
    "        # directory='...{module_lower}` is a placeholder. Check out the ./figures afer processing.\n",
    "        camera.images.image2png(\n",
    "            index=index[:2],\n",
    "            directory=\"./figures/{module_lower}\",\n",
    "            f_name_formatter='lucifer_{i}_{datetime}.png'\n",
    "        )  # save the images"
   ]
  },
  {
   "cell_type": "markdown",
   "metadata": {},
   "source": [
    "## Run code for every file"
   ]
  },
  {
   "cell_type": "code",
   "execution_count": null,
   "metadata": {},
   "outputs": [],
   "source": [
    "# use the STRAWb helper Class to execute the function. \n",
    "# This features, a progress bar, will continue if files fail, and allows multiple threads \n",
    "sjt = strawb.tools.ShareJobThreads(thread_n=1, unit='files')\n",
    "sjt.do(process_file, db.dataframe.fullPath[mask])"
   ]
  },
  {
   "cell_type": "code",
   "execution_count": null,
   "metadata": {},
   "outputs": [],
   "source": []
  }
 ],
 "metadata": {
  "kernelspec": {
   "display_name": "Python 3",
   "language": "python",
   "name": "python3"
  },
  "language_info": {
   "codemirror_mode": {
    "name": "ipython",
    "version": 3
   },
   "file_extension": ".py",
   "mimetype": "text/x-python",
   "name": "python",
   "nbconvert_exporter": "python",
   "pygments_lexer": "ipython3",
   "version": "3.7.10"
  }
 },
 "nbformat": 4,
 "nbformat_minor": 4
}
