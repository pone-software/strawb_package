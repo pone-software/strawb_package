{
 "cells": [
  {
   "cell_type": "code",
   "execution_count": null,
   "metadata": {},
   "outputs": [],
   "source": [
    "%matplotlib notebook\n",
    "\n",
    "# This examples shows who to download files from the ONC server\n",
    "import glob\n",
    "import os\n",
    "\n",
    "import pandas as pd\n",
    "import numpy as np\n",
    "import datetime\n",
    "import matplotlib.pyplot as plt\n",
    "import matplotlib.dates as mdates\n",
    "\n",
    "import strawb\n",
    "import strawb.sensors.pmtspec\n",
    "import strawb.tools\n",
    "\n",
    "import plotly\n",
    "import plotly.graph_objs as go\n",
    "import plotly.express as px\n",
    "import plotly.io as pio\n",
    "pio.templates.default = \"plotly_white\"\n",
    "\n",
    "import random\n",
    "\n",
    "plt.rcParams.update({\"text.usetex\": False})  # fix time fmt of x_ticks"
   ]
  },
  {
   "cell_type": "markdown",
   "metadata": {},
   "source": [
    "# Get a working file\n",
    "\n",
    "Get file from DB and df5 attribute measurement_type"
   ]
  },
  {
   "cell_type": "code",
   "execution_count": null,
   "metadata": {},
   "outputs": [],
   "source": [
    "# in case execute db.load_entire_db_from_ONC() to load the entire db\n",
    "db = strawb.SyncDBHandler(file_name='Default')  # loads the db"
   ]
  },
  {
   "cell_type": "code",
   "execution_count": null,
   "metadata": {},
   "outputs": [],
   "source": [
    "# mask by device\n",
    "mask = db.dataframe['deviceCode'] == 'TUMPMTSPECTROMETER001'\n",
    "\n",
    "mask &= db.dataframe['dataProductCode'] == 'PMTSD'\n",
    "\n",
    "# and add mask by 'measurement_type'\n",
    "mask &= db.dataframe['synced']\n",
    "\n",
    "# and add mask by 'measurement_type'\n",
    "# mask &= db.dataframe['measurement_type'] == 'laser_adjustment'\n",
    "\n",
    "db.dataframe[mask]  # plot the table"
   ]
  },
  {
   "cell_type": "markdown",
   "metadata": {},
   "source": [
    "## In case none of the files is synced, download some files"
   ]
  },
  {
   "cell_type": "code",
   "execution_count": null,
   "metadata": {},
   "outputs": [],
   "source": [
    "mask = db.dataframe['deviceCode'] == 'TUMPMTSPECTROMETER001'\n",
    "mask &= db.dataframe['dataProductCode'] == 'PMTSD'\n",
    "\n",
    "## select 1h frame around one biolumi event\n",
    "timestamp = np.datetime64('2021-09-04T23:44:09')\n",
    "mask &= db.dataframe.dateFrom >= pd.Timestamp(np.datetime64(timestamp, \"h\"), tz=\"UTC\")\n",
    "mask &= db.dataframe.dateFrom < pd.Timestamp(np.datetime64(timestamp, \"h\"), tz=\"UTC\") + np.timedelta64(1, \"h\")\n",
    "\n",
    "### show selected file from the DB - here its 1 file only\n",
    "db.dataframe[mask]"
   ]
  },
  {
   "cell_type": "code",
   "execution_count": null,
   "metadata": {},
   "outputs": [],
   "source": [
    "### this will download the selected file\n",
    "if not db.dataframe.synced[mask].all():\n",
    "    db.update_db_and_load_files(\n",
    "        db.dataframe[mask],\n",
    "        output=True,  # print output to console\n",
    "        download=True,  # download the files\n",
    "        #save_db=True\n",
    "    )\n",
    "    db.save_db()"
   ]
  },
  {
   "cell_type": "markdown",
   "metadata": {},
   "source": [
    "this is now all included in db.update_db_and_load_files()\n",
    "\n",
    "\n",
    "    if mask.sum() < 5:\n",
    "        onc_downloader = strawb.ONCDownloader()\n",
    "        onc_downloader.download_structured(db.dataframe[~mask_download].iloc[-5:])\n",
    "        print('\\n Download done. Update DB.')\n",
    "        db.update_sync_state()\n",
    "        db.update_hdf5_attributes()\n",
    "        db.save_db()\n",
    "    else:\n",
    "        print(f'{mask_download.sum()} files exists, no download.')"
   ]
  },
  {
   "cell_type": "markdown",
   "metadata": {},
   "source": [
    "## Helper function"
   ]
  },
  {
   "cell_type": "code",
   "execution_count": null,
   "metadata": {},
   "outputs": [],
   "source": [
    "def get_working_file_randomly(file_list, file_version=1):\n",
    "    \"\"\"Some files fails with the file_handler, i.e., if a group is missing for older SDAQ versions.\n",
    "    To get one file randomly which works, try it until it works.\n",
    "    \"\"\"\n",
    "\n",
    "    file_list_trials = file_list.copy()\n",
    "    while len(file_list_trials) > 0:\n",
    "        i = np.random.randint(0,len(file_list_trials))\n",
    "        full_path = file_list_trials[i]\n",
    "        try:\n",
    "            spec = strawb.sensors.pmtspec.FileHandler(full_path)\n",
    "        except Exception as a:\n",
    "            file_list_trials.pop(i)\n",
    "            print(f'Error: {full_path} failed with: {a}')\n",
    "        else:\n",
    "            if spec.file_version >= file_version:\n",
    "                print(f'Success: {full_path}, file_version={spec.file_version}')\n",
    "                return full_path\n",
    "            else:\n",
    "                file_list_trials.pop(i)\n",
    "                print(f'Error: {full_path}, file_version: {spec.file_version}')\n",
    "            \n",
    "    return None"
   ]
  },
  {
   "cell_type": "markdown",
   "metadata": {},
   "source": [
    "## Get a working file"
   ]
  },
  {
   "cell_type": "code",
   "execution_count": null,
   "metadata": {},
   "outputs": [],
   "source": [
    "file_version = 1  # select one of [1, 2, 3]\n",
    "\n",
    "file_list = db.dataframe[mask]['fullPath'].to_list()\n",
    "\n",
    "full_path = get_working_file_randomly(file_list, file_version)  # select a random file\n",
    "\n",
    "print(f'Use: {full_path}')"
   ]
  },
  {
   "cell_type": "markdown",
   "metadata": {},
   "source": [
    "## Load the file"
   ]
  },
  {
   "cell_type": "code",
   "execution_count": null,
   "metadata": {},
   "outputs": [],
   "source": [
    "pmtspec = strawb.sensors.PMTSpec(file=full_path)\n",
    "pmtspec.file_handler.file_attributes  # show the file attributes, time in seconds since epoch (1.1.1970) UTC"
   ]
  },
  {
   "cell_type": "markdown",
   "metadata": {},
   "source": [
    "# Set up plotting function"
   ]
  },
  {
   "cell_type": "code",
   "execution_count": null,
   "metadata": {},
   "outputs": [],
   "source": [
    "def multiline_plot(data_frame):\n",
    "    columns = list(set(data_frame.columns).difference(['time']))\n",
    "    \n",
    "    fig = plotly.subplots.make_subplots(shared_xaxes=True,\n",
    "                                        rows=len(columns),\n",
    "                                        cols=1, \n",
    "                                        #subplot_titles=columns\n",
    "                                       )\n",
    "\n",
    "\n",
    "    fig.update_layout(\n",
    "        width=800,\n",
    "        height=150+100*len(columns),)\n",
    "\n",
    "    j = 1\n",
    "    for i, column_i in enumerate(columns):\n",
    "        fig.add_trace(go.Scatter(x=data_frame['time'], \n",
    "                                 y=data_frame[column_i],\n",
    "                                 name=column_i), \n",
    "                      row=i+1, col=1\n",
    "                     )\n",
    "\n",
    "    return fig"
   ]
  },
  {
   "cell_type": "markdown",
   "metadata": {},
   "source": [
    "# Plotting with pandas and plotly"
   ]
  },
  {
   "cell_type": "code",
   "execution_count": null,
   "metadata": {},
   "outputs": [],
   "source": [
    "df_daq = pmtspec.file_handler.get_pandas_daq()\n",
    "df_hv = pmtspec.file_handler.get_pandas_hv()\n",
    "df_padiwa = pmtspec.file_handler.get_pandas_padiwa()\n",
    "\n",
    "df_counts = pmtspec.file_handler.get_pandas_counts()\n",
    "\n",
    "df_dcounts = pmtspec.trb_rates.get_pandas_dcounts()\n",
    "df_rates = pmtspec.trb_rates.get_pandas_rate()"
   ]
  },
  {
   "cell_type": "markdown",
   "metadata": {},
   "source": [
    "# Basic plots direct from file"
   ]
  },
  {
   "cell_type": "code",
   "execution_count": null,
   "metadata": {},
   "outputs": [],
   "source": [
    "fig = multiline_plot(df_daq)\n",
    "fig.show()"
   ]
  },
  {
   "cell_type": "code",
   "execution_count": null,
   "metadata": {},
   "outputs": [],
   "source": [
    "fig = multiline_plot(df_hv)\n",
    "fig.show()"
   ]
  },
  {
   "cell_type": "code",
   "execution_count": null,
   "metadata": {
    "tags": []
   },
   "outputs": [],
   "source": [
    "fig = multiline_plot(df_padiwa)\n",
    "fig.show()"
   ]
  },
  {
   "cell_type": "markdown",
   "metadata": {},
   "source": [
    "# Counts and Rates"
   ]
  },
  {
   "cell_type": "code",
   "execution_count": null,
   "metadata": {},
   "outputs": [],
   "source": [
    "# Don't plot counter data, it's less but 100Hz has some size.\n",
    "# fig = multiline_plot(df_counts)\n",
    "# fig.show()"
   ]
  },
  {
   "cell_type": "code",
   "execution_count": null,
   "metadata": {},
   "outputs": [],
   "source": [
    "# # Don't plot TOT data, it's a lot of data\n",
    "# fig = multiline_plot(df_tot)\n",
    "# fig.show()\n",
    "\n",
    "# dcounts are the diff of the stored TRB counts readings. As the readings can jitter a bit, dcounts_pmt jitter, too\n",
    "# to correct device by dcounts_time to get a rate (or take df_rates) or \n",
    "# by dcounts_laser to get a success rate [events/trigger]\n",
    "df_counts.shape"
   ]
  },
  {
   "cell_type": "code",
   "execution_count": null,
   "metadata": {},
   "outputs": [],
   "source": [
    "# Moreover those values have to be processed further. -> df_rates\n",
    "# fig = multiline_plot(df_rates)\n",
    "# fig.show()\n",
    "\n",
    "df_rates.shape"
   ]
  },
  {
   "cell_type": "markdown",
   "metadata": {},
   "source": [
    "# Select a couple of seconds for plotting PMT rates"
   ]
  },
  {
   "cell_type": "code",
   "execution_count": null,
   "metadata": {},
   "outputs": [],
   "source": [
    "### plot the PMT spectra using their correct wavelength filter color\n",
    "from strawb.tools import wavelength_to_rgb"
   ]
  },
  {
   "cell_type": "code",
   "execution_count": null,
   "metadata": {},
   "outputs": [],
   "source": [
    "%matplotlib inline"
   ]
  },
  {
   "cell_type": "code",
   "execution_count": null,
   "metadata": {},
   "outputs": [],
   "source": [
    "### this is the event we found in dev_camera_basic_notebook.ipynb\n",
    "timestamp = np.datetime64('2021-09-04T23:44:09')\n",
    "\n",
    "### use a nice colormap, or use wavelength_to_rgb for conversion\n",
    "pmtspec.pmt_meta_data.add_colors(\n",
    "        plt.cm.get_cmap('viridis'),\n",
    "        None,\n",
    "        plt.cm.get_cmap(\"gist_heat\") # reddish color\n",
    "    )\n",
    "\n",
    "times_ns = strawb.tools.asdatetime(pmtspec.trb_rates.time, 'ns')\n",
    "### select a couple of seconds around biolumi events\n",
    "## you can adjust this time for zoom-in/out\n",
    "timemask = times_ns >= timestamp + np.timedelta64(15, \"s\") # - np.timedelta64(2, \"m\")\n",
    "timemask &= times_ns <= timestamp + np.timedelta64(30, \"s\")\n",
    "masked_times_ns = times_ns[timemask]\n",
    "\n",
    "plt.figure(figsize=(15,6))\n",
    "plt.title(timestamp)\n",
    "for ch in pmtspec.pmt_meta_data.channel_meta_array:\n",
    "    _ = plt.plot(\n",
    "        masked_times_ns,\n",
    "        pmtspec.trb_rates.rate.T[timemask][:,ch[\"index\"]], \n",
    "        color = wavelength_to_rgb(ch, gamma=0.4),\n",
    "        label = ch[\"label\"],\n",
    "        marker=\"o\", lw=0, alpha=0.3, ms=5\n",
    "    )\n",
    "plt.legend(loc=2, ncol=2)\n",
    "# that's when the camera frame starts\n",
    "#plt.axvline(timestamp, lw=1, color=\"k\")\n",
    "plt.ylim(0, np.max(pmtspec.trb_rates.rate.T[timemask])*1.05)"
   ]
  },
  {
   "cell_type": "code",
   "execution_count": null,
   "metadata": {},
   "outputs": [],
   "source": []
  }
 ],
 "metadata": {
  "kernelspec": {
   "display_name": "Python 3",
   "language": "python",
   "name": "python3"
  },
  "language_info": {
   "codemirror_mode": {
    "name": "ipython",
    "version": 3
   },
   "file_extension": ".py",
   "mimetype": "text/x-python",
   "name": "python",
   "nbconvert_exporter": "python",
   "pygments_lexer": "ipython3",
   "version": "3.7.10"
  }
 },
 "nbformat": 4,
 "nbformat_minor": 4
}
