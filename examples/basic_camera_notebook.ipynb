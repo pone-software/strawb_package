{
 "cells": [
  {
   "cell_type": "code",
   "execution_count": 1,
   "metadata": {},
   "outputs": [],
   "source": [
    "# This examples shows who to download files from the ONC server\n",
    "\n",
    "import numpy as np\n",
    "import sys\n",
    "\n",
    "import h5py\n",
    "from tqdm import tqdm\n",
    "\n",
    "import strawb\n",
    "import strawb.sensors.camera as camera"
   ]
  },
  {
   "cell_type": "markdown",
   "metadata": {},
   "source": [
    "## Download the files from the ONC server"
   ]
  },
  {
   "cell_type": "code",
   "execution_count": 2,
   "metadata": {},
   "outputs": [
    {
     "name": "stdout",
     "output_type": "stream",
     "text": [
      "Download in directory: /Users/kilian/PycharmProjects/strawb_package/raw_module_data\n",
      "100%|██████████| 292/292 [03:15<00:00,  1.50file/s, i=TUMPMTSPECTROMETER002_20210701T230000.000Z-SDAQ-CAMERA.hdf5]  \n",
      "19 files (1.1 GB) downloaded\n",
      "Total Download Time: 12 minutes\n"
     ]
    }
   ],
   "source": [
    "onc_downloader = strawb.ONCDownloader(showInfo=False)\n",
    "\n",
    "filters = {'deviceCode': 'TUMPMTSPECTROMETER002',\n",
    "           'dataProductCode': 'MSSCD',  # short for 'dataProductName': 'Mini Spectrometer Sensor Camera Data',\n",
    "           'dateFrom': '2021-06-20T00:00:00.000Z',\n",
    "           'dateTo': '2021-07-01T23:59:59.000Z',\n",
    "           'extension': 'hdf5'}\n",
    "\n",
    "# download in foreground\n",
    "onc_downloader.download_file(filters=filters, allPages=True)"
   ]
  },
  {
   "cell_type": "markdown",
   "metadata": {},
   "source": [
    "# Load a single File"
   ]
  },
  {
   "cell_type": "code",
   "execution_count": 3,
   "metadata": {},
   "outputs": [],
   "source": [
    "file_name = 'TUMPMTSPECTROMETER002_20210501T210000.000Z-SDAQ-CAMERA.hdf5'\n",
    "cam_run = camera.FileHandler(file_name)\n",
    "picture_handler = camera.PictureHandler(cam_run)"
   ]
  },
  {
   "cell_type": "code",
   "execution_count": 4,
   "metadata": {},
   "outputs": [
    {
     "name": "stdout",
     "output_type": "stream",
     "text": [
      "Module: PMTSPECTROMETER002\n",
      "Number of Frames: 36\n",
      "Date: 2021-05-01T21:00:20.443638 - 2021-05-01T21:58:39.505904\n",
      "Exposure Times [s]: [63.5]\n"
     ]
    }
   ],
   "source": [
    "# print some parameters\n",
    "print(f'Module: {cam_run.module}')\n",
    "print(f'Number of Frames: {cam_run.exposure_time.shape[0]}')\n",
    "print(f'Date: {np.min(cam_run.time.asdatetime()[:])} - {np.max(cam_run.time.asdatetime()[:])}')\n",
    "print(f'Exposure Times [s]: {np.unique(cam_run.exposure_time)}')"
   ]
  },
  {
   "cell_type": "code",
   "execution_count": 5,
   "metadata": {},
   "outputs": [
    {
     "data": {
      "text/plain": [
       "array([[[ 3568,  2448,  8208, ..., 21168, 22608, 17488],\n",
       "        [    0,  3888,     0, ..., 17008, 14128, 30928],\n",
       "        [ 4208,   688,     0, ..., 16528, 14448, 10288],\n",
       "        ...,\n",
       "        [54768, 65504, 65504, ..., 65504, 65504, 65504],\n",
       "        [65504, 65504, 65504, ..., 65504, 65504, 65504],\n",
       "        [52848, 65504, 65504, ..., 65504, 65504, 65504]],\n",
       "\n",
       "       [[ 2432,  2592,  1792, ..., 20032, 12672, 24032],\n",
       "        [    0,  3712,   672, ...,  9792, 11552, 12192],\n",
       "        [ 2912,  3872,     0, ..., 17472, 19872,  7712],\n",
       "        ...,\n",
       "        [65504, 64672, 65504, ..., 65504, 65504, 65504],\n",
       "        [65504, 63232, 65504, ..., 65504, 65504, 65504],\n",
       "        [63072, 65504, 65504, ..., 65504, 65504, 65504]],\n",
       "\n",
       "       [[ 3568,  2448,  8208, ..., 21168, 22608, 17488],\n",
       "        [    0,  3888,     0, ..., 17008, 14128, 30928],\n",
       "        [ 4208,   688,     0, ..., 16528, 14448, 10288],\n",
       "        ...,\n",
       "        [54768, 65504, 65504, ..., 65504, 65504, 65504],\n",
       "        [65504, 65504, 65504, ..., 65504, 65504, 65504],\n",
       "        [52848, 65504, 65504, ..., 65504, 65504, 65504]]], dtype=uint16)"
      ]
     },
     "execution_count": 5,
     "metadata": {},
     "output_type": "execute_result"
    }
   ],
   "source": [
    "# Rhe raw pixel values are NOT loaded by default to the module to save RAM.\n",
    "# They can be accessed directly from the file with the index, index = None (default) to loads all images\n",
    "cam_run.raw.getunsorted([1,3,1])"
   ]
  },
  {
   "cell_type": "markdown",
   "metadata": {},
   "source": [
    "### Store the images with Lucifer enabled"
   ]
  },
  {
   "cell_type": "code",
   "execution_count": 6,
   "metadata": {},
   "outputs": [],
   "source": [
    "picture_handler = camera.PictureHandler(cam_run)"
   ]
  },
  {
   "cell_type": "code",
   "execution_count": 7,
   "metadata": {},
   "outputs": [
    {
     "data": {
      "text/plain": [
       "{'[   1    0   15 -125]': ['/Users/kilian/PycharmProjects/strawb_package/processed_data/PMTSPECTROMETER002/TORCH_0_15/2021_05_01_21_58_39.png'],\n",
       " '[   1    1   15 -125]': ['/Users/kilian/PycharmProjects/strawb_package/processed_data/PMTSPECTROMETER002/TORCH_1_15/2021_05_01_21_00_20.png'],\n",
       " '[   1    2   15 -125]': ['/Users/kilian/PycharmProjects/strawb_package/processed_data/PMTSPECTROMETER002/TORCH_2_15/2021_05_01_21_02_02.png'],\n",
       " '[   1    3   15 -125]': ['/Users/kilian/PycharmProjects/strawb_package/processed_data/PMTSPECTROMETER002/TORCH_3_15/2021_05_01_21_03_44.png'],\n",
       " '[   1    4   15 -125]': ['/Users/kilian/PycharmProjects/strawb_package/processed_data/PMTSPECTROMETER002/TORCH_4_15/2021_05_01_21_05_26.png'],\n",
       " '[ 2  0 15  7]': ['/Users/kilian/PycharmProjects/strawb_package/processed_data/PMTSPECTROMETER002/FLASH_0_15_7/2021_05_01_21_53_38.png']}"
      ]
     },
     "execution_count": 7,
     "metadata": {},
     "output_type": "execute_result"
    }
   ],
   "source": [
    "picture_handler.image2png_lucifer()"
   ]
  },
  {
   "cell_type": "code",
   "execution_count": 4,
   "metadata": {},
   "outputs": [
    {
     "name": "stdout",
     "output_type": "stream",
     "text": [
      "  0%|          | 1/275 [00:03<14:58,  3.28s/file, file=/Users/kilian/PycharmProjects/strawb_package/raw_module_data/TUMPMTSPECTROMETER002_20210629T090000.000Z-SDAQ-CAMERA.hdf5]error /Users/kilian/PycharmProjects/strawb_package/raw_module_data/TUMPMTSPECTROMETER002_20210629T090000.000Z-SDAQ-CAMERA.hdf5 boolean index did not match indexed array along dimension 0; dimension is 35 but corresponding boolean dimension is 36\n",
      "  3%|▎         | 7/275 [00:20<14:27,  3.24s/file, file=/Users/kilian/PycharmProjects/strawb_package/raw_module_data/TUMPMTSPECTROMETER002_20210622T160000.000Z-SDAQ-CAMERA.hdf5]error /Users/kilian/PycharmProjects/strawb_package/raw_module_data/TUMPMTSPECTROMETER002_20210622T160000.000Z-SDAQ-CAMERA.hdf5 boolean index did not match indexed array along dimension 0; dimension is 35 but corresponding boolean dimension is 36\n",
      "  9%|▊         | 24/275 [01:20<15:30,  3.71s/file, file=/Users/kilian/PycharmProjects/strawb_package/raw_module_data/TUMPMTSPECTROMETER002_20210628T000000.000Z-SDAQ-CAMERA.hdf5]error /Users/kilian/PycharmProjects/strawb_package/raw_module_data/TUMPMTSPECTROMETER002_20210628T000000.000Z-SDAQ-CAMERA.hdf5 boolean index did not match indexed array along dimension 0; dimension is 34 but corresponding boolean dimension is 35\n",
      "  9%|▉         | 25/275 [01:21<11:45,  2.82s/file, file=/Users/kilian/PycharmProjects/strawb_package/raw_module_data/TUMPMTSPECTROMETER002_20210620T180000.000Z-SDAQ-CAMERA.hdf5]error /Users/kilian/PycharmProjects/strawb_package/raw_module_data/TUMPMTSPECTROMETER002_20210620T180000.000Z-SDAQ-CAMERA.hdf5 boolean index did not match indexed array along dimension 0; dimension is 34 but corresponding boolean dimension is 35\n",
      " 13%|█▎        | 36/275 [01:57<14:24,  3.62s/file, file=/Users/kilian/PycharmProjects/strawb_package/raw_module_data/TUMPMTSPECTROMETER002_20210623T100000.000Z-SDAQ-CAMERA.hdf5]error /Users/kilian/PycharmProjects/strawb_package/raw_module_data/TUMPMTSPECTROMETER002_20210623T100000.000Z-SDAQ-CAMERA.hdf5 boolean index did not match indexed array along dimension 0; dimension is 36 but corresponding boolean dimension is 37\n",
      " 15%|█▍        | 40/275 [02:06<10:45,  2.75s/file, file=/Users/kilian/PycharmProjects/strawb_package/raw_module_data/TUMPMTSPECTROMETER002_20210630T000000.000Z-SDAQ-CAMERA.hdf5]error /Users/kilian/PycharmProjects/strawb_package/raw_module_data/TUMPMTSPECTROMETER002_20210630T000000.000Z-SDAQ-CAMERA.hdf5 boolean index did not match indexed array along dimension 0; dimension is 35 but corresponding boolean dimension is 36\n",
      " 16%|█▋        | 45/275 [02:19<10:23,  2.71s/file, file=/Users/kilian/PycharmProjects/strawb_package/raw_module_data/TUMPMTSPECTROMETER002_20210625T000000.000Z-SDAQ-CAMERA.hdf5]error /Users/kilian/PycharmProjects/strawb_package/raw_module_data/TUMPMTSPECTROMETER002_20210625T000000.000Z-SDAQ-CAMERA.hdf5 boolean index did not match indexed array along dimension 0; dimension is 35 but corresponding boolean dimension is 36\n",
      " 17%|█▋        | 46/275 [02:19<08:08,  2.13s/file, file=/Users/kilian/PycharmProjects/strawb_package/raw_module_data/TUMPMTSPECTROMETER002_20210620T170000.000Z-SDAQ-CAMERA.hdf5]error /Users/kilian/PycharmProjects/strawb_package/raw_module_data/TUMPMTSPECTROMETER002_20210620T170000.000Z-SDAQ-CAMERA.hdf5 boolean index did not match indexed array along dimension 0; dimension is 35 but corresponding boolean dimension is 36\n",
      " 21%|██        | 57/275 [02:56<12:38,  3.48s/file, file=/Users/kilian/PycharmProjects/strawb_package/raw_module_data/TUMPMTSPECTROMETER002_20210621T160000.000Z-SDAQ-CAMERA.hdf5]error /Users/kilian/PycharmProjects/strawb_package/raw_module_data/TUMPMTSPECTROMETER002_20210621T160000.000Z-SDAQ-CAMERA.hdf5 boolean index did not match indexed array along dimension 0; dimension is 36 but corresponding boolean dimension is 37\n",
      " 27%|██▋       | 73/275 [03:47<11:01,  3.27s/file, file=/Users/kilian/PycharmProjects/strawb_package/raw_module_data/TUMPMTSPECTROMETER002_20210624T220000.000Z-SDAQ-CAMERA.hdf5]error /Users/kilian/PycharmProjects/strawb_package/raw_module_data/TUMPMTSPECTROMETER002_20210624T220000.000Z-SDAQ-CAMERA.hdf5 boolean index did not match indexed array along dimension 0; dimension is 34 but corresponding boolean dimension is 35\n",
      " 30%|██▉       | 82/275 [04:14<10:20,  3.22s/file, file=/Users/kilian/PycharmProjects/strawb_package/raw_module_data/TUMPMTSPECTROMETER002_20210601T230000.000Z-SDAQ-CAMERA.hdf5]error /Users/kilian/PycharmProjects/strawb_package/raw_module_data/TUMPMTSPECTROMETER002_20210601T230000.000Z-SDAQ-CAMERA.hdf5 boolean index did not match indexed array along dimension 0; dimension is 34 but corresponding boolean dimension is 35\n",
      " 34%|███▍      | 94/275 [04:50<09:43,  3.22s/file, file=/Users/kilian/PycharmProjects/strawb_package/raw_module_data/TUMPMTSPECTROMETER002_20210625T230000.000Z-SDAQ-CAMERA.hdf5]error /Users/kilian/PycharmProjects/strawb_package/raw_module_data/TUMPMTSPECTROMETER002_20210625T230000.000Z-SDAQ-CAMERA.hdf5 boolean index did not match indexed array along dimension 0; dimension is 34 but corresponding boolean dimension is 35\n",
      " 36%|███▌      | 99/275 [05:04<08:48,  3.00s/file, file=/Users/kilian/PycharmProjects/strawb_package/raw_module_data/TUMPMTSPECTROMETER002_20210629T190000.000Z-SDAQ-CAMERA.hdf5]error /Users/kilian/PycharmProjects/strawb_package/raw_module_data/TUMPMTSPECTROMETER002_20210629T190000.000Z-SDAQ-CAMERA.hdf5 boolean index did not match indexed array along dimension 0; dimension is 33 but corresponding boolean dimension is 36\n",
      " 40%|███▉      | 109/275 [05:33<08:47,  3.18s/file, file=/Users/kilian/PycharmProjects/strawb_package/raw_module_data/TUMPMTSPECTROMETER002_20210621T090000.000Z-SDAQ-CAMERA.hdf5]error /Users/kilian/PycharmProjects/strawb_package/raw_module_data/TUMPMTSPECTROMETER002_20210621T090000.000Z-SDAQ-CAMERA.hdf5 boolean index did not match indexed array along dimension 0; dimension is 35 but corresponding boolean dimension is 36\n",
      " 46%|████▌     | 127/275 [06:27<07:39,  3.11s/file, file=/Users/kilian/PycharmProjects/strawb_package/raw_module_data/TUMPMTSPECTROMETER002_20210623T070000.000Z-SDAQ-CAMERA.hdf5]error /Users/kilian/PycharmProjects/strawb_package/raw_module_data/TUMPMTSPECTROMETER002_20210623T070000.000Z-SDAQ-CAMERA.hdf5 boolean index did not match indexed array along dimension 0; dimension is 15 but corresponding boolean dimension is 16\n",
      " 48%|████▊     | 132/275 [06:40<07:02,  2.96s/file, file=/Users/kilian/PycharmProjects/strawb_package/raw_module_data/TUMPMTSPECTROMETER002_20210621T150000.000Z-SDAQ-CAMERA.hdf5]error /Users/kilian/PycharmProjects/strawb_package/raw_module_data/TUMPMTSPECTROMETER002_20210621T150000.000Z-SDAQ-CAMERA.hdf5 boolean index did not match indexed array along dimension 0; dimension is 34 but corresponding boolean dimension is 35\n",
      " 52%|█████▏    | 142/275 [07:09<06:49,  3.08s/file, file=/Users/kilian/PycharmProjects/strawb_package/raw_module_data/TUMPMTSPECTROMETER002_20210629T050000.000Z-SDAQ-CAMERA.hdf5]error /Users/kilian/PycharmProjects/strawb_package/raw_module_data/TUMPMTSPECTROMETER002_20210629T050000.000Z-SDAQ-CAMERA.hdf5 boolean index did not match indexed array along dimension 0; dimension is 35 but corresponding boolean dimension is 36\n",
      " 52%|█████▏    | 143/275 [07:10<05:16,  2.39s/file, file=/Users/kilian/PycharmProjects/strawb_package/raw_module_data/TUMPMTSPECTROMETER002_20210627T050000.000Z-SDAQ-CAMERA.hdf5]error /Users/kilian/PycharmProjects/strawb_package/raw_module_data/TUMPMTSPECTROMETER002_20210627T050000.000Z-SDAQ-CAMERA.hdf5 boolean index did not match indexed array along dimension 0; dimension is 34 but corresponding boolean dimension is 35\n",
      " 53%|█████▎    | 147/275 [07:18<05:11,  2.43s/file, file=/Users/kilian/PycharmProjects/strawb_package/raw_module_data/TUMPMTSPECTROMETER002_20210625T160000.000Z-SDAQ-CAMERA.hdf5]error /Users/kilian/PycharmProjects/strawb_package/raw_module_data/TUMPMTSPECTROMETER002_20210625T160000.000Z-SDAQ-CAMERA.hdf5 boolean index did not match indexed array along dimension 0; dimension is 35 but corresponding boolean dimension is 36\n"
     ]
    },
    {
     "name": "stdout",
     "output_type": "stream",
     "text": [
      " 57%|█████▋    | 157/275 [07:48<06:09,  3.13s/file, file=/Users/kilian/PycharmProjects/strawb_package/raw_module_data/TUMPMTSPECTROMETER002_20210620T140000.000Z-SDAQ-CAMERA.hdf5]error /Users/kilian/PycharmProjects/strawb_package/raw_module_data/TUMPMTSPECTROMETER002_20210620T140000.000Z-SDAQ-CAMERA.hdf5 boolean index did not match indexed array along dimension 0; dimension is 35 but corresponding boolean dimension is 36\n",
      " 60%|█████▉    | 164/275 [08:09<06:21,  3.44s/file, file=/Users/kilian/PycharmProjects/strawb_package/raw_module_data/TUMPMTSPECTROMETER002_20210628T040000.000Z-SDAQ-CAMERA.hdf5]error /Users/kilian/PycharmProjects/strawb_package/raw_module_data/TUMPMTSPECTROMETER002_20210628T040000.000Z-SDAQ-CAMERA.hdf5 boolean index did not match indexed array along dimension 0; dimension is 35 but corresponding boolean dimension is 36\n",
      " 61%|██████    | 168/275 [08:20<05:26,  3.05s/file, file=/Users/kilian/PycharmProjects/strawb_package/raw_module_data/TUMPMTSPECTROMETER002_20210623T140000.000Z-SDAQ-CAMERA.hdf5]error /Users/kilian/PycharmProjects/strawb_package/raw_module_data/TUMPMTSPECTROMETER002_20210623T140000.000Z-SDAQ-CAMERA.hdf5 boolean index did not match indexed array along dimension 0; dimension is 35 but corresponding boolean dimension is 36\n",
      " 65%|██████▌   | 180/275 [08:56<05:03,  3.19s/file, file=/Users/kilian/PycharmProjects/strawb_package/raw_module_data/TUMPMTSPECTROMETER002_20210602T030000.000Z-SDAQ-CAMERA.hdf5]error /Users/kilian/PycharmProjects/strawb_package/raw_module_data/TUMPMTSPECTROMETER002_20210602T030000.000Z-SDAQ-CAMERA.hdf5 boolean index did not match indexed array along dimension 0; dimension is 34 but corresponding boolean dimension is 35\n",
      " 66%|██████▌   | 182/275 [09:00<04:07,  2.66s/file, file=/Users/kilian/PycharmProjects/strawb_package/raw_module_data/TUMPMTSPECTROMETER002_20210629T170000.000Z-SDAQ-CAMERA.hdf5]error /Users/kilian/PycharmProjects/strawb_package/raw_module_data/TUMPMTSPECTROMETER002_20210629T170000.000Z-SDAQ-CAMERA.hdf5 boolean index did not match indexed array along dimension 0; dimension is 35 but corresponding boolean dimension is 36\n",
      " 67%|██████▋   | 185/275 [09:07<04:00,  2.67s/file, file=/Users/kilian/PycharmProjects/strawb_package/raw_module_data/TUMPMTSPECTROMETER002_20210623T090000.000Z-SDAQ-CAMERA.hdf5]error /Users/kilian/PycharmProjects/strawb_package/raw_module_data/TUMPMTSPECTROMETER002_20210623T090000.000Z-SDAQ-CAMERA.hdf5 boolean index did not match indexed array along dimension 0; dimension is 35 but corresponding boolean dimension is 36\n",
      " 69%|██████▉   | 190/275 [09:20<04:02,  2.85s/file, file=/Users/kilian/PycharmProjects/strawb_package/raw_module_data/TUMPMTSPECTROMETER002_20210629T020000.000Z-SDAQ-CAMERA.hdf5]error /Users/kilian/PycharmProjects/strawb_package/raw_module_data/TUMPMTSPECTROMETER002_20210629T020000.000Z-SDAQ-CAMERA.hdf5 boolean index did not match indexed array along dimension 0; dimension is 33 but corresponding boolean dimension is 35\n",
      " 75%|███████▌  | 207/275 [10:08<03:25,  3.02s/file, file=/Users/kilian/PycharmProjects/strawb_package/raw_module_data/TUMPMTSPECTROMETER002_20210623T040000.000Z-SDAQ-CAMERA.hdf5]error /Users/kilian/PycharmProjects/strawb_package/raw_module_data/TUMPMTSPECTROMETER002_20210623T040000.000Z-SDAQ-CAMERA.hdf5 boolean index did not match indexed array along dimension 0; dimension is 33 but corresponding boolean dimension is 34\n",
      " 80%|███████▉  | 219/275 [10:42<02:51,  3.07s/file, file=/Users/kilian/PycharmProjects/strawb_package/raw_module_data/TUMPMTSPECTROMETER002_20210626T200000.000Z-SDAQ-CAMERA.hdf5]error /Users/kilian/PycharmProjects/strawb_package/raw_module_data/TUMPMTSPECTROMETER002_20210626T200000.000Z-SDAQ-CAMERA.hdf5 boolean index did not match indexed array along dimension 0; dimension is 34 but corresponding boolean dimension is 36\n",
      " 82%|████████▏ | 226/275 [10:58<02:10,  2.66s/file, file=/Users/kilian/PycharmProjects/strawb_package/raw_module_data/TUMPMTSPECTROMETER002_20210623T190000.000Z-SDAQ-CAMERA.hdf5]error /Users/kilian/PycharmProjects/strawb_package/raw_module_data/TUMPMTSPECTROMETER002_20210623T190000.000Z-SDAQ-CAMERA.hdf5 boolean index did not match indexed array along dimension 0; dimension is 35 but corresponding boolean dimension is 36\n",
      " 83%|████████▎ | 228/275 [11:02<01:52,  2.39s/file, file=/Users/kilian/PycharmProjects/strawb_package/raw_module_data/TUMPMTSPECTROMETER002_20210625T010000.000Z-SDAQ-CAMERA.hdf5]error /Users/kilian/PycharmProjects/strawb_package/raw_module_data/TUMPMTSPECTROMETER002_20210625T010000.000Z-SDAQ-CAMERA.hdf5 boolean index did not match indexed array along dimension 0; dimension is 35 but corresponding boolean dimension is 36\n",
      " 83%|████████▎ | 229/275 [11:03<01:27,  1.89s/file, file=/Users/kilian/PycharmProjects/strawb_package/raw_module_data/TUMPMTSPECTROMETER002_20210621T020000.000Z-SDAQ-CAMERA.hdf5]error /Users/kilian/PycharmProjects/strawb_package/raw_module_data/TUMPMTSPECTROMETER002_20210621T020000.000Z-SDAQ-CAMERA.hdf5 boolean index did not match indexed array along dimension 0; dimension is 35 but corresponding boolean dimension is 36\n",
      " 85%|████████▍ | 233/275 [11:13<01:46,  2.53s/file, file=/Users/kilian/PycharmProjects/strawb_package/raw_module_data/TUMPMTSPECTROMETER002_20210622T230000.000Z-SDAQ-CAMERA.hdf5]error /Users/kilian/PycharmProjects/strawb_package/raw_module_data/TUMPMTSPECTROMETER002_20210622T230000.000Z-SDAQ-CAMERA.hdf5 boolean index did not match indexed array along dimension 0; dimension is 35 but corresponding boolean dimension is 36\n",
      " 87%|████████▋ | 239/275 [11:28<01:42,  2.85s/file, file=/Users/kilian/PycharmProjects/strawb_package/raw_module_data/TUMPMTSPECTROMETER002_20210630T200000.000Z-SDAQ-CAMERA.hdf5]error /Users/kilian/PycharmProjects/strawb_package/raw_module_data/TUMPMTSPECTROMETER002_20210630T200000.000Z-SDAQ-CAMERA.hdf5 boolean index did not match indexed array along dimension 0; dimension is 34 but corresponding boolean dimension is 35\n",
      " 90%|█████████ | 248/275 [11:48<00:56,  2.11s/file, file=/Users/kilian/PycharmProjects/strawb_package/raw_module_data/TUMPMTSPECTROMETER002_20210601T200000.000Z-SDAQ-CAMERA.hdf5]error /Users/kilian/PycharmProjects/strawb_package/raw_module_data/TUMPMTSPECTROMETER002_20210601T200000.000Z-SDAQ-CAMERA.hdf5 boolean index did not match indexed array along dimension 0; dimension is 36 but corresponding boolean dimension is 37\n",
      " 91%|█████████ | 249/275 [11:48<00:43,  1.68s/file, file=/Users/kilian/PycharmProjects/strawb_package/raw_module_data/TUMPMTSPECTROMETER002_20210625T060000.000Z-SDAQ-CAMERA.hdf5]error /Users/kilian/PycharmProjects/strawb_package/raw_module_data/TUMPMTSPECTROMETER002_20210625T060000.000Z-SDAQ-CAMERA.hdf5 boolean index did not match indexed array along dimension 0; dimension is 34 but corresponding boolean dimension is 35\n",
      " 92%|█████████▏| 252/275 [11:55<00:50,  2.18s/file, file=/Users/kilian/PycharmProjects/strawb_package/raw_module_data/TUMPMTSPECTROMETER002_20210621T230000.000Z-SDAQ-CAMERA.hdf5]error /Users/kilian/PycharmProjects/strawb_package/raw_module_data/TUMPMTSPECTROMETER002_20210621T230000.000Z-SDAQ-CAMERA.hdf5 boolean index did not match indexed array along dimension 0; dimension is 35 but corresponding boolean dimension is 36\n",
      " 95%|█████████▍| 260/275 [12:17<00:43,  2.93s/file, file=/Users/kilian/PycharmProjects/strawb_package/raw_module_data/TUMPMTSPECTROMETER002_20210624T210000.000Z-SDAQ-CAMERA.hdf5]error /Users/kilian/PycharmProjects/strawb_package/raw_module_data/TUMPMTSPECTROMETER002_20210624T210000.000Z-SDAQ-CAMERA.hdf5 boolean index did not match indexed array along dimension 0; dimension is 35 but corresponding boolean dimension is 36\n",
      " 95%|█████████▌| 262/275 [12:21<00:32,  2.50s/file, file=/Users/kilian/PycharmProjects/strawb_package/raw_module_data/TUMPMTSPECTROMETER002_20210629T000000.000Z-SDAQ-CAMERA.hdf5]error /Users/kilian/PycharmProjects/strawb_package/raw_module_data/TUMPMTSPECTROMETER002_20210629T000000.000Z-SDAQ-CAMERA.hdf5 boolean index did not match indexed array along dimension 0; dimension is 35 but corresponding boolean dimension is 36\n"
     ]
    },
    {
     "name": "stdout",
     "output_type": "stream",
     "text": [
      " 99%|█████████▊| 271/275 [12:41<00:08,  2.08s/file, file=/Users/kilian/PycharmProjects/strawb_package/raw_module_data/TUMPMTSPECTROMETER002_20210624T070000.000Z-SDAQ-CAMERA.hdf5]error /Users/kilian/PycharmProjects/strawb_package/raw_module_data/TUMPMTSPECTROMETER002_20210624T070000.000Z-SDAQ-CAMERA.hdf5 boolean index did not match indexed array along dimension 0; dimension is 35 but corresponding boolean dimension is 36\n",
      " 99%|█████████▉| 272/275 [12:41<00:04,  1.67s/file, file=/Users/kilian/PycharmProjects/strawb_package/raw_module_data/TUMPMTSPECTROMETER002_20210627T080000.000Z-SDAQ-CAMERA.hdf5]error /Users/kilian/PycharmProjects/strawb_package/raw_module_data/TUMPMTSPECTROMETER002_20210627T080000.000Z-SDAQ-CAMERA.hdf5 boolean index did not match indexed array along dimension 0; dimension is 34 but corresponding boolean dimension is 35\n",
      "100%|██████████| 275/275 [12:48<00:00,  2.79s/file, file=/Users/kilian/PycharmProjects/strawb_package/raw_module_data/TUMPMTSPECTROMETER002_20210620T220000.000Z-SDAQ-CAMERA.hdf5]\n"
     ]
    }
   ],
   "source": [
    "import glob\n",
    "search_str = f'{strawb.config_parser.config_parser.Config.raw_data_dir}/TUMPMTSPECTROMETER002*202106*-SDAQ-CAMERA.hdf5'\n",
    "\n",
    "a = []\n",
    "\n",
    "bar = tqdm(glob.glob(search_str)[5:], file=sys.stdout, unit='file')\n",
    "        \n",
    "for filename in bar:\n",
    "    bar.set_postfix({'file': filename})\n",
    "    try:\n",
    "        cam_run = camera.FileHandler(filename)\n",
    "        picture_handler = camera.PictureHandler(cam_run)\n",
    "        a.append(picture_handler.image2png_lucifer())\n",
    "    except Exception as err:\n",
    "        print('error', filename, err)"
   ]
  },
  {
   "cell_type": "markdown",
   "metadata": {},
   "source": [
    "### Store the 'brightest' images"
   ]
  },
  {
   "cell_type": "code",
   "execution_count": 23,
   "metadata": {},
   "outputs": [
    {
     "name": "stdout",
     "output_type": "stream",
     "text": [
      "save: /Users/kilian/PycharmProjects/strawb_package/processed_data/PMTSPECTROMETER002/0_2021_05_01_19_26_56.png\n",
      "save: /Users/kilian/PycharmProjects/strawb_package/processed_data/PMTSPECTROMETER002/1_2021_05_01_19_21_57.png\n",
      "save: /Users/kilian/PycharmProjects/strawb_package/processed_data/PMTSPECTROMETER002/2_2021_05_01_19_35_14.png\n",
      "save: /Users/kilian/PycharmProjects/strawb_package/processed_data/PMTSPECTROMETER002/3_2021_05_01_19_40_13.png\n",
      "save: /Users/kilian/PycharmProjects/strawb_package/processed_data/PMTSPECTROMETER002/4_2021_05_01_19_36_53.png\n",
      "save: /Users/kilian/PycharmProjects/strawb_package/processed_data/PMTSPECTROMETER002/5_2021_05_01_19_46_51.png\n",
      "save: /Users/kilian/PycharmProjects/strawb_package/processed_data/PMTSPECTROMETER002/6_2021_05_01_19_51_50.png\n",
      "save: /Users/kilian/PycharmProjects/strawb_package/processed_data/PMTSPECTROMETER002/7_2021_05_01_19_25_16.png\n",
      "save: /Users/kilian/PycharmProjects/strawb_package/processed_data/PMTSPECTROMETER002/8_2021_05_01_19_10_20.png\n",
      "save: /Users/kilian/PycharmProjects/strawb_package/processed_data/PMTSPECTROMETER002/9_2021_05_01_19_33_34.png\n",
      "save: /Users/kilian/PycharmProjects/strawb_package/processed_data/PMTSPECTROMETER002/10_2021_05_01_19_08_40.png\n",
      "save: /Users/kilian/PycharmProjects/strawb_package/processed_data/PMTSPECTROMETER002/11_2021_05_01_19_41_52.png\n",
      "save: /Users/kilian/PycharmProjects/strawb_package/processed_data/PMTSPECTROMETER002/12_2021_05_01_19_28_35.png\n",
      "save: /Users/kilian/PycharmProjects/strawb_package/processed_data/PMTSPECTROMETER002/13_2021_05_01_19_11_59.png\n",
      "save: /Users/kilian/PycharmProjects/strawb_package/processed_data/PMTSPECTROMETER002/14_2021_05_01_19_15_19.png\n",
      "save: /Users/kilian/PycharmProjects/strawb_package/processed_data/PMTSPECTROMETER002/15_2021_05_01_19_38_33.png\n"
     ]
    }
   ],
   "source": [
    "mode_list, mask_list = cam_run.get_lucifer_mask()  # returns a mask for each lucifer setting\n",
    "mask_lucifer = np.any(mask_list, axis=0)  # coomopress the masks to one mask\n",
    "\n",
    "# mask over a threshold + mask invalid frames + mask no lucifer enabled\n",
    "mask = (cam_run.integrated_minus_dark > 1e3) & cam_run.invalid_mask & ~mask_lucifer\n",
    "\n",
    "index = np.argsort(cam_run.integrated_minus_dark)  # sort by charge [min,...,max]\n",
    "index = index[mask[index]]  # remove invalid items  & cam_module.invalid_mask\n",
    "index = index[::-1]  # revers the order\n",
    "cam_run.image2png(index=index, f_name_formatter='{i}_{datetime}.png')  # save the images"
   ]
  },
  {
   "cell_type": "code",
   "execution_count": null,
   "metadata": {},
   "outputs": [],
   "source": []
  }
 ],
 "metadata": {
  "kernelspec": {
   "display_name": "Python 3",
   "language": "python",
   "name": "python3"
  },
  "language_info": {
   "codemirror_mode": {
    "name": "ipython",
    "version": 3
   },
   "file_extension": ".py",
   "mimetype": "text/x-python",
   "name": "python",
   "nbconvert_exporter": "python",
   "pygments_lexer": "ipython3",
   "version": "3.7.10"
  }
 },
 "nbformat": 4,
 "nbformat_minor": 4
}
