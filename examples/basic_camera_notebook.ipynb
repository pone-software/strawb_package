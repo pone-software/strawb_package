{
 "cells": [
  {
   "cell_type": "code",
   "execution_count": 1,
   "metadata": {},
   "outputs": [],
   "source": [
    "# This examples shows who to download files from the ONC server\n",
    "\n",
    "import numpy as np\n",
    "\n",
    "import strawb\n",
    "import strawb.sensors.camera as camera"
   ]
  },
  {
   "cell_type": "markdown",
   "metadata": {},
   "source": [
    "## Download the files from the ONC server"
   ]
  },
  {
   "cell_type": "code",
   "execution_count": 2,
   "metadata": {},
   "outputs": [
    {
     "name": "stdout",
     "output_type": "stream",
     "text": [
      "Download in directory: /Users/ruohanli/Documents/Programs/strawb_package/raw_module_data\n",
      "Obtained a list of 5 files to download.\n",
      "   Skipping \"TUMMINISPECTROMETER001_20210501T000000.000Z-SDAQ-MINISPEC.hdf5\": File already exists.\n",
      "   Skipping \"TUMMINISPECTROMETER001_20210501T000000.000Z-SDAQ-MODULE.hdf5\": File already exists.\n",
      "   Skipping \"TUMMINISPECTROMETER001_20210501T190000.000Z-SDAQ-CAMERA.hdf5\": File already exists.\n",
      "   Skipping \"TUMMINISPECTROMETER001_20210501T200000.000Z-SDAQ-CAMERA.hdf5\": File already exists.\n",
      "   Skipping \"TUMMINISPECTROMETER001_20210501T210000.000Z-SDAQ-CAMERA.hdf5\": File already exists.\n",
      "0 files (0 Bytes) downloaded\n",
      "Total Download Time: 0.000 seconds\n"
     ]
    }
   ],
   "source": [
    "onc_downloader = strawb.ONCDownloader(showInfo=False)\n",
    "\n",
    "filters = {'deviceCode': 'TUMMINISPECTROMETER001',\n",
    "           'dateFrom': '2021-05-01T19:00:00.000Z',\n",
    "           'dateTo': '2021-05-01T21:59:59.000Z',\n",
    "           'extension': 'hdf5'}\n",
    "\n",
    "# download in foreground\n",
    "onc_downloader.download_file(filters=filters, allPages=True)"
   ]
  },
  {
   "cell_type": "markdown",
   "metadata": {},
   "source": [
    "# Load a single File"
   ]
  },
  {
   "cell_type": "code",
   "execution_count": 5,
   "metadata": {},
   "outputs": [],
   "source": [
    "file_name = 'TUMMINISPECTROMETER001_20210501T190000.000Z-SDAQ-CAMERA.hdf5'\n",
    "cam_run = camera.FileHandler(file_name)"
   ]
  },
  {
   "cell_type": "code",
   "execution_count": 6,
   "metadata": {},
   "outputs": [
    {
     "name": "stdout",
     "output_type": "stream",
     "text": [
      "Module: MINISPECTROMETER001\n",
      "Number of Frames: 36\n",
      "Date: 2021-05-01T18:59:33.334768 - 2021-05-01T19:58:09.306084\n",
      "Exposure Times [s]: [63.5]\n"
     ]
    }
   ],
   "source": [
    "# print some parameters\n",
    "print(f'Module: {cam_run.module}')\n",
    "print(f'Number of Frames: {cam_run.exposure_time.shape[0]}')\n",
    "print(f'Date: {np.min(cam_run.time)} - {np.max(cam_run.time)}')\n",
    "print(f'Exposure Times [s]: {np.unique(cam_run.exposure_time)}')"
   ]
  },
  {
   "cell_type": "code",
   "execution_count": 7,
   "metadata": {},
   "outputs": [
    {
     "data": {
      "text/plain": [
       "array([[[    0,     0,     0, ..., 20384, 31424, 18784],\n",
       "        [    0,  7904,     0, ..., 25504, 30144, 19264],\n",
       "        [ 1984,  5824,  5344, ..., 28224, 32864, 19104],\n",
       "        ...,\n",
       "        [53824, 65504, 65504, ..., 65504, 65504, 65504],\n",
       "        [65504, 65504, 65504, ..., 65504, 65504, 65504],\n",
       "        [65504, 65504, 65504, ..., 65504, 65504, 65504]],\n",
       "\n",
       "       [[    0,     0,     0, ..., 25920, 32480, 37120],\n",
       "        [  640,     0,  2400, ..., 27520, 28320, 29280],\n",
       "        [ 1440,   480,     0, ..., 36160, 22240, 34560],\n",
       "        ...,\n",
       "        [65504, 65504, 65504, ..., 65504, 65504, 65504],\n",
       "        [65504, 65504, 65504, ..., 65504, 65504, 65504],\n",
       "        [63840, 65504, 64160, ..., 65504, 65504, 65504]],\n",
       "\n",
       "       [[    0,     0,     0, ..., 36592, 41392, 14032],\n",
       "        [ 5392,  4752,  4112, ..., 28592, 31472, 23312],\n",
       "        [ 1552,     0,   112, ..., 21392, 12432, 28912],\n",
       "        ...,\n",
       "        [65504, 60432, 60912, ..., 65504, 65504, 65504],\n",
       "        [65504, 65504, 65504, ..., 65504, 65504, 65504],\n",
       "        [65504, 65504, 65504, ..., 65504, 65504, 65504]]], dtype=uint16)"
      ]
     },
     "execution_count": 7,
     "metadata": {},
     "output_type": "execute_result"
    }
   ],
   "source": [
    "# Rhe raw pixel values are NOT loaded by default to the module to save RAM.\n",
    "# They can be accessed directly from the file with the index, index = None (default) to loads all images\n",
    "cam_run.load_raw(index=[1,3,4])"
   ]
  },
  {
   "cell_type": "markdown",
   "metadata": {},
   "source": [
    "### Store the images with Lucifer enabled"
   ]
  },
  {
   "cell_type": "code",
   "execution_count": 8,
   "metadata": {},
   "outputs": [
    {
     "name": "stdout",
     "output_type": "stream",
     "text": [
      "save: /Users/ruohanli/Documents/Programs/strawb_package/processed_data/MINISPECTROMETER001/TORCH_0_15/2021_05_01_19_24_37.png\n",
      "save: /Users/ruohanli/Documents/Programs/strawb_package/processed_data/MINISPECTROMETER001/TORCH_1_15/2021_05_01_19_26_21.png\n",
      "save: /Users/ruohanli/Documents/Programs/strawb_package/processed_data/MINISPECTROMETER001/TORCH_2_15/2021_05_01_19_28_04.png\n",
      "save: /Users/ruohanli/Documents/Programs/strawb_package/processed_data/MINISPECTROMETER001/TORCH_3_15/2021_05_01_19_29_45.png\n",
      "save: /Users/ruohanli/Documents/Programs/strawb_package/processed_data/MINISPECTROMETER001/TORCH_4_15/2021_05_01_19_31_27.png\n",
      "save: /Users/ruohanli/Documents/Programs/strawb_package/processed_data/MINISPECTROMETER001/FLASH_0_15_7/2021_05_01_19_19_34.png\n"
     ]
    }
   ],
   "source": [
    "cam_run.image2png_lucifer()"
   ]
  },
  {
   "cell_type": "code",
   "execution_count": 11,
   "metadata": {},
   "outputs": [
    {
     "data": {
      "text/plain": [
       "'19'"
      ]
     },
     "execution_count": 11,
     "metadata": {},
     "output_type": "execute_result"
    }
   ],
   "source": [
    "test_str = \"2021_05_01_19_19_34.png\"\n",
    "test_str[11:13]"
   ]
  },
  {
   "cell_type": "code",
   "execution_count": null,
   "metadata": {},
   "outputs": [],
   "source": []
  },
  {
   "cell_type": "markdown",
   "metadata": {},
   "source": [
    "### Store the 'brightest' images"
   ]
  },
  {
   "cell_type": "code",
   "execution_count": 23,
   "metadata": {},
   "outputs": [
    {
     "name": "stdout",
     "output_type": "stream",
     "text": [
      "save: /Users/kilian/PycharmProjects/strawb_package/processed_data/PMTSPECTROMETER002/0_2021_05_01_19_26_56.png\n",
      "save: /Users/kilian/PycharmProjects/strawb_package/processed_data/PMTSPECTROMETER002/1_2021_05_01_19_21_57.png\n",
      "save: /Users/kilian/PycharmProjects/strawb_package/processed_data/PMTSPECTROMETER002/2_2021_05_01_19_35_14.png\n",
      "save: /Users/kilian/PycharmProjects/strawb_package/processed_data/PMTSPECTROMETER002/3_2021_05_01_19_40_13.png\n",
      "save: /Users/kilian/PycharmProjects/strawb_package/processed_data/PMTSPECTROMETER002/4_2021_05_01_19_36_53.png\n",
      "save: /Users/kilian/PycharmProjects/strawb_package/processed_data/PMTSPECTROMETER002/5_2021_05_01_19_46_51.png\n",
      "save: /Users/kilian/PycharmProjects/strawb_package/processed_data/PMTSPECTROMETER002/6_2021_05_01_19_51_50.png\n",
      "save: /Users/kilian/PycharmProjects/strawb_package/processed_data/PMTSPECTROMETER002/7_2021_05_01_19_25_16.png\n",
      "save: /Users/kilian/PycharmProjects/strawb_package/processed_data/PMTSPECTROMETER002/8_2021_05_01_19_10_20.png\n",
      "save: /Users/kilian/PycharmProjects/strawb_package/processed_data/PMTSPECTROMETER002/9_2021_05_01_19_33_34.png\n",
      "save: /Users/kilian/PycharmProjects/strawb_package/processed_data/PMTSPECTROMETER002/10_2021_05_01_19_08_40.png\n",
      "save: /Users/kilian/PycharmProjects/strawb_package/processed_data/PMTSPECTROMETER002/11_2021_05_01_19_41_52.png\n",
      "save: /Users/kilian/PycharmProjects/strawb_package/processed_data/PMTSPECTROMETER002/12_2021_05_01_19_28_35.png\n",
      "save: /Users/kilian/PycharmProjects/strawb_package/processed_data/PMTSPECTROMETER002/13_2021_05_01_19_11_59.png\n",
      "save: /Users/kilian/PycharmProjects/strawb_package/processed_data/PMTSPECTROMETER002/14_2021_05_01_19_15_19.png\n",
      "save: /Users/kilian/PycharmProjects/strawb_package/processed_data/PMTSPECTROMETER002/15_2021_05_01_19_38_33.png\n"
     ]
    }
   ],
   "source": [
    "mode_list, mask_list = cam_run.get_lucifer_mask()  # returns a mask for each lucifer setting\n",
    "mask_lucifer = np.any(mask_list, axis=0)  # coomopress the masks to one mask\n",
    "\n",
    "# mask over a threshold + mask invalid frames + mask no lucifer enabled\n",
    "mask = (cam_run.integrated_minus_dark > 1e3) & cam_run.invalid_mask & ~mask_lucifer\n",
    "\n",
    "index = np.argsort(cam_run.integrated_minus_dark)  # sort by charge [min,...,max]\n",
    "index = index[mask[index]]  # remove invalid items  & cam_module.invalid_mask\n",
    "index = index[::-1]  # revers the order\n",
    "cam_run.image2png(index=index, f_name_formatter='{i}_{datetime}.png')  # save the images"
   ]
  },
  {
   "cell_type": "code",
   "execution_count": null,
   "metadata": {},
   "outputs": [],
   "source": []
  }
 ],
 "metadata": {
  "kernelspec": {
   "display_name": "Python 3",
   "language": "python",
   "name": "python3"
  },
  "language_info": {
   "codemirror_mode": {
    "name": "ipython",
    "version": 3
   },
   "file_extension": ".py",
   "mimetype": "text/x-python",
   "name": "python",
   "nbconvert_exporter": "python",
   "pygments_lexer": "ipython3",
   "version": "3.8.5"
  }
 },
 "nbformat": 4,
 "nbformat_minor": 4
}
