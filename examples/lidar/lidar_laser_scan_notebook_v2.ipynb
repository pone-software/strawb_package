{
 "cells": [
  {
   "cell_type": "code",
   "execution_count": null,
   "id": "8faf0852",
   "metadata": {},
   "outputs": [],
   "source": [
    "%matplotlib notebook\n",
    "\n",
    "import strawb\n",
    "from strawb.sensors.lidar.laser_adjustment_scan import LaserAdjustmentScan\n",
    "import pandas \n",
    "\n",
    "import glob\n",
    "import numpy as np\n",
    "from matplotlib import pyplot as plt\n",
    "\n",
    "import os\n",
    "#import matplotlib.colors as colors\n",
    "width  = 9.5\n",
    "height = width / 1.618\n",
    "figsize = np.array((width,height))\n",
    "\n",
    "#import plotly.express as px\n",
    "#from plotly.subplots import make_subplots\n",
    "#import plotly.graph_objects as go\n",
    "#import plotly.io as pio\n",
    "\n",
    "#import datetime\n",
    "\n",
    "# set plotly default to plotly_white and define a presonal colorway\n",
    "#pio.templates[\"myname\"] = go.layout.Template(\n",
    "#    layout=go.Layout(\n",
    "#        colorway=px.colors.qualitative.T10,  # colors\n",
    "#        yaxis = dict(exponentformat = 'SI'),  # exponentformat to SI, i.e., 1e9 -> 1G\n",
    "#    ))\n",
    "#pio.templates.default = \"plotly_white+myname\"  # 'plotly_white' and overwrite with the pramters in 'myname'"
   ]
  },
  {
   "cell_type": "markdown",
   "id": "50a70d74",
   "metadata": {},
   "source": [
    "# Get files from DB\n",
    "\n",
    "Get all laser scan files with file-version >=3 \n"
   ]
  },
  {
   "cell_type": "code",
   "execution_count": null,
   "id": "803604ad",
   "metadata": {},
   "outputs": [],
   "source": [
    "# Check if DB exits, if not load it, but update it anyway\n",
    "if os.path.exists(strawb.Config.pandas_file_sync_db):\n",
    "    db = strawb.SyncDBHandler()  # loads the db from disc\n",
    "else:\n",
    "    db = strawb.SyncDBHandler(load_db=False)  # loads the db from ONC server\n",
    "\n",
    "db.load_onc_db_update(output=True, save_db=True)\n",
    "\n",
    "# mask by device\n",
    "mask = db.dataframe['deviceCode'] == 'TUMLIDAR001'\n",
    "mask |= db.dataframe['deviceCode'] == 'TUMLIDAR002'\n",
    "\n",
    "# and add mask by 'measurement_type'\n",
    "mask &= db.dataframe['measurement_type'] == 'laser_adjustment'\n",
    "\n",
    "#to only get the current measurements, compliant with file_version >= 3\n",
    "mask &= db.dataframe['measurement_steps'] == 10\n",
    "mask &= db.dataframe['measurement_duration'] == 2.0\n",
    "\n",
    "df = db.dataframe[mask]"
   ]
  },
  {
   "cell_type": "markdown",
   "id": "88608c1e",
   "metadata": {},
   "source": [
    "# Analysis\n",
    "1. Initiate lidar with one file of the Dataframe\n",
    "2. loop over all files in the Dataframe and compute the max positions, theta, phi and measurement value\n",
    "3. can't store 2d arrays in datebase, so only max step positions and the date can be stored there"
   ]
  },
  {
   "cell_type": "code",
   "execution_count": null,
   "id": "304a0c23",
   "metadata": {},
   "outputs": [],
   "source": [
    "ana = LaserAdjustmentScan(df.index[-1])\n",
    "ana."
   ]
  },
  {
   "cell_type": "code",
   "execution_count": null,
   "id": "6dec2214",
   "metadata": {},
   "outputs": [],
   "source": [
    "measured_signal_arr = []\n",
    "computed_angles_arr = []\n",
    "datefrom = []\n",
    "max_step_positions = []\n",
    "\n",
    "for file, row in df.iterrows():\n",
    "    ana.file = file\n",
    "    \n",
    "    measured_signal = ana.laser_adjustment_return()\n",
    "    comp_ang = ana.get_angles()\n",
    "    max_steps = ana.get_steps_from_max_value()\n",
    "    \n",
    "    measured_signal_arr.append(measured_signal)\n",
    "    computed_angles_arr.append(comp_ang)\n",
    "    max_step_positions.append(max_steps)\n",
    "    datefrom.append(row[\"dateFrom\"])\n",
    "    \n",
    "measured_signal_arr = np.array(measured_signal_arr)\n",
    "computed_angles_arr = np.array(computed_angles_arr)\n",
    "max_step_positions = np.array(max_step_positions)    \n",
    "datefrom = np.array(datefrom) \n",
    "\n",
    "df_steps = pandas.DataFrame(dict(steps_x=max_step_positions[:,0], \n",
    "                                 steps_y=max_step_positions[:,1],\n",
    "                                 datefrom=df[\"dateFrom\"],\n",
    "                                 whichlidar=df[\"deviceCode\"]\n",
    "                                ))"
   ]
  },
  {
   "cell_type": "markdown",
   "id": "c67fd09b",
   "metadata": {},
   "source": [
    "# Plotting Signal"
   ]
  },
  {
   "cell_type": "code",
   "execution_count": null,
   "id": "340a0d0b",
   "metadata": {},
   "outputs": [],
   "source": [
    "fig = plt.figure(figsize=figsize)\n",
    "ax = fig.add_subplot(111, polar=True)\n",
    "rad2deg = 180/np.pi\n",
    "\n",
    "ind = -2\n",
    "\n",
    "measured_signal = measured_signal_arr[ind]\n",
    "phi_2d = computed_angles_arr[ind,0]\n",
    "theta_2d = computed_angles_arr[ind,1]\n",
    "date = df_steps[\"datefrom\"].iloc[ind]\n",
    "whichlidar = df_steps[\"whichlidar\"].iloc[ind]\n",
    "\n",
    "maxind = np.unravel_index(measured_signal.argmax(), measured_signal.shape)\n",
    "\n",
    "# --- plot measured data ---\n",
    "c = ax.contourf(phi_2d,theta_2d*rad2deg, measured_signal, levels=8, cmap='viridis')\n",
    "\n",
    "# --- plot the angles of the direction from the laser at which the measurement was performed ---\n",
    "ax.plot(phi_2d.flatten(),theta_2d.flatten()*rad2deg, 'k.')\n",
    "ax.plot(phi_2d[maxind].flatten(),theta_2d[maxind].flatten()*rad2deg, 'rx')\n",
    "\n",
    "# --- update r-ticks and labels, to represent theta\n",
    "m = np.max(theta_2d*rad2deg)\n",
    "ticks = np.arange(0,np.ceil(m) + 1)\n",
    "labels = []\n",
    "for i in ticks:\n",
    "    labels.append(f'{i:.0f}°')\n",
    "    \n",
    "cbar = fig.colorbar(c)\n",
    "cbar.set_label(\"average # of detected photons per laser pulse\")\n",
    "ax.tick_params(axis='y', colors='white')\n",
    "\n",
    "ax.set_yticks(ticks)\n",
    "ax.set_yticklabels(labels)\n",
    "plt.title(f'Measurement from {date} on {whichlidar}')\n",
    "#ax.grid()\n",
    "plt.show()"
   ]
  },
  {
   "cell_type": "code",
   "execution_count": null,
   "id": "5bc99d3d",
   "metadata": {},
   "outputs": [],
   "source": []
  }
 ],
 "metadata": {
  "kernelspec": {
   "display_name": "Python 3",
   "language": "python",
   "name": "python3"
  },
  "language_info": {
   "codemirror_mode": {
    "name": "ipython",
    "version": 3
   },
   "file_extension": ".py",
   "mimetype": "text/x-python",
   "name": "python",
   "nbconvert_exporter": "python",
   "pygments_lexer": "ipython3",
   "version": "3.7.10"
  }
 },
 "nbformat": 4,
 "nbformat_minor": 5
}
