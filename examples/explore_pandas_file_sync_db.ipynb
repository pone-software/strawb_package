{
 "cells": [
  {
   "cell_type": "code",
   "execution_count": null,
   "id": "84124a95",
   "metadata": {},
   "outputs": [],
   "source": [
    "# Run this notebook with access to the `strawb.Config.pandas_file_sync_db` file\n",
    "# i.e. on a LRZ vm with mounted dss\n",
    "# or via downloading `/dss/strawb/raw_module_data/pandas_file_sync_db.gz` to your local machine\n",
    "# and adopted 'pandas.read_pickle(strawb.Config.pandas_file_sync_db)' accordingly\n",
    "\n",
    "import plotly.offline\n",
    "plotly.offline.init_notebook_mode(connected=True)\n",
    "\n",
    "import strawb\n",
    "\n",
    "import plotly.express as px\n",
    "from plotly.subplots import make_subplots\n",
    "import plotly.graph_objects as go\n",
    "import plotly.io as pio\n",
    "\n",
    "import pandas\n",
    "\n",
    "import numpy as np\n",
    "import datetime\n",
    "\n",
    "pio.templates.default = \"plotly_white\""
   ]
  },
  {
   "cell_type": "code",
   "execution_count": null,
   "id": "0888762f",
   "metadata": {},
   "outputs": [],
   "source": [
    "pd_sync = pandas.read_pickle(strawb.Config.pandas_file_sync_db)\n",
    "pd_sync = pd_sync.rename(columns={\"outPath\": \"fullPath\"})\n",
    "\n",
    "pd_sync[\"fullPath\"] += '/' + pd_sync['filename']"
   ]
  },
  {
   "cell_type": "code",
   "execution_count": null,
   "id": "e3e4eb0c",
   "metadata": {},
   "outputs": [],
   "source": [
    "pd_sync"
   ]
  },
  {
   "cell_type": "markdown",
   "id": "d6ca4281",
   "metadata": {},
   "source": [
    "## File size by deviceCode"
   ]
  },
  {
   "cell_type": "code",
   "execution_count": null,
   "id": "60a4836d",
   "metadata": {},
   "outputs": [],
   "source": [
    "fig_1 = px.scatter(pd_sync, #[pd_sync['fileSize'] > 5e8],\n",
    "                   x='dateFrom', y='fileSize',\n",
    "                   color='deviceCode',\n",
    "                   hover_data=['filename', 'dataProductCode'],\n",
    "                   opacity=.5,\n",
    "                  )\n",
    "fig_1.show()"
   ]
  },
  {
   "cell_type": "markdown",
   "id": "5a961559",
   "metadata": {},
   "source": [
    "## File size by dataProductCode"
   ]
  },
  {
   "cell_type": "code",
   "execution_count": null,
   "id": "b205318c",
   "metadata": {},
   "outputs": [],
   "source": [
    "fig_2 = px.scatter(pd_sync, #[pd_sync['fileSize'] > 5e8],\n",
    "                   x='dateFrom', y='fileSize',\n",
    "                   color='dataProductCode',\n",
    "                   hover_data=['filename', 'deviceCode'],\n",
    "                   opacity=.5,\n",
    "                  )\n",
    "fig_2.show()"
   ]
  },
  {
   "cell_type": "markdown",
   "id": "a59f7075",
   "metadata": {},
   "source": [
    "## Total File Size per Day and Module"
   ]
  },
  {
   "cell_type": "code",
   "execution_count": null,
   "id": "d1630327",
   "metadata": {},
   "outputs": [],
   "source": [
    "# cal. pins, each day one bin\n",
    "bins = pandas.date_range(start=pd_sync['dateFrom'].min(),\n",
    "                         end=pd_sync['dateFrom'].max() #+ datetime.timedelta(days=1)\n",
    "                        ).to_numpy('datetime64')\n",
    "\n",
    "# cal. for each module the total file size per day (bin)\n",
    "size_per_day = {}\n",
    "for dev_i in pd_sync['deviceCode'].unique():\n",
    "    pd_dev_i = pd_sync[pd_sync['deviceCode']==dev_i]\n",
    "    \n",
    "    # exclude log file, as this is data not produced by the module rather than the ONC daq system\n",
    "    pd_dev_i = pd_dev_i[pd_dev_i['dataProductCode'] != 'LF']\n",
    "    hist, bin_edges = np.histogram(pd_dev_i['dateFrom'].to_numpy('datetime64'),\n",
    "                                   bins=bins,\n",
    "                                   weights=pd_dev_i['uncompressedFileSize'])\n",
    "    \n",
    "    size_per_day[dev_i] = hist\n",
    "\n",
    "# convert it to a DataFrame\n",
    "size_per_day = pandas.DataFrame(size_per_day)\n",
    "size_per_day.index = bins[:-1]  # set day as index of DataFrame"
   ]
  },
  {
   "cell_type": "code",
   "execution_count": null,
   "id": "a0d5728d",
   "metadata": {},
   "outputs": [],
   "source": [
    "# create a scatter plot\n",
    "px.scatter(size_per_day,\n",
    "           marginal_y=\"violin\",\n",
    "           labels={\n",
    "                \"index\": \"Date\",\n",
    "                \"value\": \"File Size per Day (Byte)\",\n",
    "                \"variable\": \"Module\",\n",
    "               },\n",
    "           range_y=(size_per_day[size_per_day!=0].min().min()*.9,\n",
    "                    size_per_day[size_per_day!=0].max().max()*1.1))"
   ]
  },
  {
   "cell_type": "code",
   "execution_count": null,
   "id": "5497405e",
   "metadata": {},
   "outputs": [],
   "source": [
    "# create a line plot\n",
    "fig = px.line(size_per_day, y=size_per_day.keys(), log_y=True, #range_x=[300e3, ]\n",
    "            #markers=True,\n",
    "        \n",
    "        range_y=(49e3, #size_per_day[size_per_day!=0].min().min()*.9,\n",
    "                 size_per_day[size_per_day!=0].max().max()*1.1),  # s_numpy[s_numpy>0].min()*.9\n",
    "        #line_shape=\"spline\",  # 'linear' or \"spline\"\n",
    "        labels={\n",
    "                \"index\": \"Date\",\n",
    "                \"value\": \"File Size per Day (Byte)\",\n",
    "                \"variable\": \"Module\",\n",
    "               },\n",
    "        render_mode=\"svg\")\n",
    "\n",
    "# fig.update_layout({'xaxis': {'linecolor': 'rgb(36,36,36)',\n",
    "#                              'showline': True,\n",
    "#                              'ticks': 'outside'},\n",
    "#                    'yaxis': {'linecolor': 'rgb(36,36,36)',\n",
    "#                              'showline': True,\n",
    "#                              'ticks': 'outside'}\n",
    "#                   })\n",
    "fig.show()"
   ]
  },
  {
   "cell_type": "code",
   "execution_count": null,
   "id": "38bd2284",
   "metadata": {},
   "outputs": [],
   "source": []
  }
 ],
 "metadata": {
  "kernelspec": {
   "display_name": "py39",
   "language": "python",
   "name": "py39"
  },
  "language_info": {
   "codemirror_mode": {
    "name": "ipython",
    "version": 3
   },
   "file_extension": ".py",
   "mimetype": "text/x-python",
   "name": "python",
   "nbconvert_exporter": "python",
   "pygments_lexer": "ipython3",
   "version": "3.7.10"
  }
 },
 "nbformat": 4,
 "nbformat_minor": 5
}
