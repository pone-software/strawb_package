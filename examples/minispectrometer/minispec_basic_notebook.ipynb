{
 "cells": [
  {
   "cell_type": "code",
   "execution_count": null,
   "metadata": {},
   "outputs": [],
   "source": [
    "import pandas\n",
    "import numpy as np\n",
    "\n",
    "import strawb\n",
    "\n",
    "import plotly\n",
    "import plotly.graph_objs as go\n",
    "import plotly.express as px\n",
    "import plotly.io as pio\n",
    "pio.templates.default = \"plotly_white\""
   ]
  },
  {
   "cell_type": "markdown",
   "metadata": {},
   "source": [
    "# Get a working file\n",
    "\n",
    "Get file from DB. The MiniSpectrometer files are labeled with two different dataProductCodes:\n",
    "\n",
    "- 'MSSD': in the SDAQ hdf5 format since ~04.2021. One file covers spectra up to a day.\n",
    "- 'MSRD': previous to ~04.2021 for a single measurement. One file covers one spectra."
   ]
  },
  {
   "cell_type": "code",
   "execution_count": null,
   "metadata": {},
   "outputs": [],
   "source": [
    "# in case execute db.load_entire_db_from_ONC() to load the entire db\n",
    "db = strawb.SyncDBHandler(file_name='Default')  # loads the db"
   ]
  },
  {
   "cell_type": "code",
   "execution_count": null,
   "metadata": {},
   "outputs": [],
   "source": [
    "# mask by device\n",
    "mask = db.dataframe['deviceCode'] == 'TUMPMTSPECTROMETER001'\n",
    "\n",
    "mask &= db.dataframe['dataProductCode'] == 'MSSD'  # we need the MSSD\n",
    "\n",
    "# and add mask by 'measurement_type'\n",
    "#mask &= db.dataframe['synced']\n",
    "\n",
    "db.dataframe[mask]  # plot the table"
   ]
  },
  {
   "cell_type": "markdown",
   "metadata": {},
   "source": [
    "## In case none of the files is synced, download some files"
   ]
  },
  {
   "cell_type": "code",
   "execution_count": null,
   "metadata": {},
   "outputs": [],
   "source": [
    "mask = db.dataframe['deviceCode'] == 'TUMPMTSPECTROMETER001'\n",
    "mask &= db.dataframe['dataProductCode'] == 'MSSD'\n",
    "\n",
    "## select 1day frame around one biolumi event\n",
    "timestamp = np.datetime64('2021-09-24T00:00:00')\n",
    "mask &= db.dataframe.dateFrom >= pandas.Timestamp(np.datetime64(timestamp, \"h\"), tz=\"UTC\")\n",
    "mask &= db.dataframe.dateFrom < pandas.Timestamp(np.datetime64(timestamp, \"h\"), tz=\"UTC\") + np.timedelta64(23, \"h\")\n",
    "\n",
    "### show selected file from the DB - here its 1 file only\n",
    "db.dataframe[mask]"
   ]
  },
  {
   "cell_type": "code",
   "execution_count": null,
   "metadata": {},
   "outputs": [],
   "source": [
    "### this will download the selected file\n",
    "if not db.dataframe.synced[mask].all():\n",
    "    db.update_db_and_load_files(\n",
    "        db.dataframe[mask],\n",
    "        output=True,  # print output to console\n",
    "        download=True,  # download the files\n",
    "        #save_db=True\n",
    "    )\n",
    "    db.save_db()"
   ]
  },
  {
   "cell_type": "markdown",
   "metadata": {},
   "source": [
    "## Load the data"
   ]
  },
  {
   "cell_type": "code",
   "execution_count": null,
   "metadata": {},
   "outputs": [],
   "source": [
    "mini_spec = strawb.sensors.MiniSpectrometer(file=db.dataframe.fullPath[mask].iloc[0])\n",
    "mini_spec.file_handler.file_attributes  # show the file attributes, time in seconds since epoch (1.1.1970) UTC\n",
    "\n",
    "# In a module there can be multiple MiniSpectrometers.\n",
    "# Therefore strawb.sensors.MiniSpectrometer imports them in a list called: mini_spectrometer_list.\n",
    "# The PMTSpectrometer has only 1 MiniSpectrometer. Extract it here to a own variable for simple access.\n",
    "mini_spec_1 = mini_spec.file_handler.mini_spectrometer_list[0]"
   ]
  },
  {
   "cell_type": "markdown",
   "metadata": {},
   "source": [
    "In a module there can be multiple MiniSpectrometers.\n",
    "Therefore `strawb.sensors.MiniSpectrometer` imports them in a list called: `mini_spectrometer_list`.\n",
    "The PMTSpectrometer has only 1 MiniSpectrometer. Extract it here to a own variable for simple access."
   ]
  },
  {
   "cell_type": "code",
   "execution_count": null,
   "metadata": {},
   "outputs": [],
   "source": [
    "mini_spec_1 = mini_spec.file_handler.mini_spectrometer_list[0]"
   ]
  },
  {
   "cell_type": "markdown",
   "metadata": {},
   "source": [
    "# Plots\n",
    "\n",
    "## Average ADC value per pixel"
   ]
  },
  {
   "cell_type": "code",
   "execution_count": null,
   "metadata": {},
   "outputs": [],
   "source": [
    "avg = np.average(mini_spec_1.adc_counts,axis=0)\n",
    "scatter = go.Scatter(x=mini_spec_1.wavelength_arr,\n",
    "                     y=np.average(mini_spec_1.adc_counts,axis=0), \n",
    "                     error_y=go.scatter.ErrorY(array=np.std(mini_spec_1.adc_counts,axis=0)), \n",
    "                     hoverlabel = dict(namelength = -1),\n",
    "                     mode='markers',\n",
    "                 )\n",
    "\n",
    "fig = go.Figure(data=scatter)\n",
    "fig.update_layout(\n",
    "    xaxis_title=r\"Wavelength [nm]\",\n",
    "    yaxis_title='Mean ADC +- Sigma [a.u.]',\n",
    "    )\n",
    "\n",
    "fig.show()"
   ]
  },
  {
   "cell_type": "markdown",
   "metadata": {},
   "source": [
    "## Delta to average in sigma"
   ]
  },
  {
   "cell_type": "code",
   "execution_count": null,
   "metadata": {},
   "outputs": [],
   "source": [
    "def plot_samples(mask):\n",
    "    scatter_list = []\n",
    "    index_arr = np.argwhere(mask).flatten()\n",
    "    colors_arr = px.colors.sample_colorscale('viridis',index_arr.shape[0])\n",
    "\n",
    "    for i, index_i in enumerate(index_arr):\n",
    "        scatter = go.Scatter(x=mini_spec_1.wavelength_arr,\n",
    "                             y=(mini_spec_1.adc_counts[index_i] - np.average(mini_spec_1.adc_counts,axis=0)) / np.std(mini_spec_1.adc_counts,axis=0), \n",
    "                             name=str(mini_spec_1.time.asdatetime()[index_i]).split('.',1)[0],\n",
    "                             text=[str(mini_spec_1.time.asdatetime()[index_i]).split('.',1)[0]],\n",
    "                             hoverlabel = dict(namelength = -1),\n",
    "                             line_color = colors_arr[i],\n",
    "                             mode='markers',\n",
    "    #                          hovertemplate=\"x: %{x:.2f}<br>\" +\n",
    "    #                             \"y: %{y:.2f} %{_xother}<br>\"+\n",
    "    #                             \"text: %{text[0]} <br>,\"\n",
    "    #                             \"<extra></extra>\",\n",
    "                         )\n",
    "        scatter_list.append(scatter)\n",
    "\n",
    "    fig = go.Figure(data=scatter_list)\n",
    "    fig.update_layout(\n",
    "        xaxis_title=r\"Wavelength [nm]\",\n",
    "        yaxis_title='Delta ADC_i / Sigma_i ',\n",
    "        )\n",
    "\n",
    "    fig.show()\n",
    "    "
   ]
  },
  {
   "cell_type": "markdown",
   "metadata": {},
   "source": [
    "### For the period around a birth event in the camera and PMTs: 2021-09-24T21:57:27"
   ]
  },
  {
   "cell_type": "code",
   "execution_count": null,
   "metadata": {},
   "outputs": [],
   "source": [
    "time_mask = mini_spec_1.time.asdatetime()[:] > np.datetime64('2021-09-24T21:45:00')\n",
    "time_mask &= mini_spec_1.time.asdatetime()[:] < np.datetime64('2021-09-24T22:05:00')\n",
    "    \n",
    "plot_samples(time_mask)"
   ]
  },
  {
   "cell_type": "markdown",
   "metadata": {},
   "source": [
    "### For a different period as reference"
   ]
  },
  {
   "cell_type": "code",
   "execution_count": null,
   "metadata": {},
   "outputs": [],
   "source": [
    "time_mask = mini_spec_1.time.asdatetime()[:] > np.datetime64('2021-09-24T10:45:00')\n",
    "time_mask &= mini_spec_1.time.asdatetime()[:] < np.datetime64('2021-09-24T11:05:00')\n",
    "    \n",
    "plot_samples(time_mask)"
   ]
  },
  {
   "cell_type": "code",
   "execution_count": null,
   "metadata": {},
   "outputs": [],
   "source": []
  }
 ],
 "metadata": {
  "kernelspec": {
   "display_name": "Python 3",
   "language": "python",
   "name": "python3"
  },
  "language_info": {
   "codemirror_mode": {
    "name": "ipython",
    "version": 3
   },
   "file_extension": ".py",
   "mimetype": "text/x-python",
   "name": "python",
   "nbconvert_exporter": "python",
   "pygments_lexer": "ipython3",
   "version": "3.7.10"
  }
 },
 "nbformat": 4,
 "nbformat_minor": 4
}
