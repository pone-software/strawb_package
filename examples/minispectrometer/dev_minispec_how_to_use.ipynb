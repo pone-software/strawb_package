{
 "cells": [
  {
   "cell_type": "code",
   "execution_count": null,
   "metadata": {},
   "outputs": [],
   "source": [
    "import numpy as np\n",
    "import matplotlib.pyplot as plt\n",
    "import strawb\n",
    "import strawb.sensors.minispec as minispec\n",
    "import os"
   ]
  },
  {
   "cell_type": "markdown",
   "metadata": {},
   "source": [
    "## 1. Download the files from minispec module(5 devices) and pmtspec(1 devices) module ##"
   ]
  },
  {
   "cell_type": "code",
   "execution_count": null,
   "metadata": {},
   "outputs": [],
   "source": [
    "onc_downloader = strawb.ONCDownloader(showInfo=False)\n",
    "\n",
    "filters = {'deviceCode': 'TUMMINISPECTROMETER001',\n",
    "           'dateFrom': '2021-05-01T19:00:00.000Z',\n",
    "           'dateTo': '2021-05-01T21:59:59.000Z',\n",
    "           'extension': 'hdf5'}\n",
    "\n",
    "# download in foreground\n",
    "onc_downloader.download_file(filters_or_result=filters, allPages=True)"
   ]
  },
  {
   "cell_type": "code",
   "execution_count": null,
   "metadata": {},
   "outputs": [],
   "source": [
    "filters = {'deviceCode': 'TUMPMTSPECTROMETER001',\n",
    "           'dateFrom': '2021-05-01T19:00:00.000Z',\n",
    "           'dateTo': '2021-05-01T21:59:59.000Z',\n",
    "           'extension': 'hdf5'}\n",
    "\n",
    "# download in foreground\n",
    "onc_downloader.download_file(filters_or_result=filters, allPages=True)"
   ]
  },
  {
   "cell_type": "markdown",
   "metadata": {},
   "source": [
    "## 2. test two condition of importing data from module##"
   ]
  },
  {
   "cell_type": "code",
   "execution_count": null,
   "metadata": {},
   "outputs": [],
   "source": [
    "#pmtspec file\n",
    "pmt_file_name = \"TUMPMTSPECTROMETER001_20210501T000000.000Z-SDAQ-MINISPEC.hdf5\"\n",
    "pmt_minispec_run = minispec.FileHandler(pmt_file_name)\n",
    "\n",
    "print(pmt_minispec_run.start_time)\n",
    "print(pmt_minispec_run.end_time)\n",
    "print(pmt_minispec_run.module)\n",
    "print(pmt_minispec_run.device_number)\n",
    "print(pmt_minispec_run.data_array)"
   ]
  },
  {
   "cell_type": "code",
   "execution_count": null,
   "metadata": {},
   "outputs": [],
   "source": [
    "#minispec file\n",
    "minispec_file_name = 'TUMMINISPECTROMETER001_20210501T000000.000Z-SDAQ-MINISPEC.hdf5'\n",
    "minispec_minispec_run = minispec.FileHandler(minispec_file_name)\n",
    "\n",
    "print(minispec_minispec_run.start_time)\n",
    "print(minispec_minispec_run.end_time)\n",
    "print(minispec_minispec_run.module)\n",
    "print(minispec_minispec_run.device_number)\n",
    "print(minispec_minispec_run.data_array[0].CAL_ARR)\n",
    "print(minispec_minispec_run.data_array[2].CAL_ARR)\n",
    "print(minispec_minispec_run.data_array[4].CAL_ARR)"
   ]
  },
  {
   "cell_type": "markdown",
   "metadata": {},
   "source": [
    "## 3. test wavelength and darkcount calibration ##"
   ]
  },
  {
   "cell_type": "code",
   "execution_count": null,
   "metadata": {},
   "outputs": [],
   "source": [
    "print(pmt_minispec_run.if_wavecal)\n",
    "wavelength_before = pmt_minispec_run.data_array[0].WAVELENGTH_ARR\n",
    "#print(pmt_minispec_run.data_array[0].WAVELENGTH_ARR)\n",
    "pmt_minispec_run.calculate_wavelength()\n",
    "print(pmt_minispec_run.if_wavecal)\n",
    "wavelength_after = pmt_minispec_run.data_array[0].WAVELENGTH_ARR\n",
    "#print(pmt_minispec_run.data_array[0].WAVELENGTH_ARR)\n",
    "wavelength_before-wavelength_after\n",
    "\n",
    "# hint: you can also enter \"wavelength_cal=True\"or \"darkcount_cal=True\" to calibrate wavelength \n",
    "# at initialise the minispec_minispec_run. For example :\n",
    "# minispec_minispec_run = minispec.FileHandler(minispec_file_name,wavelength_cal=True,)"
   ]
  },
  {
   "cell_type": "code",
   "execution_count": null,
   "metadata": {},
   "outputs": [],
   "source": [
    "print(pmt_minispec_run.if_darksub)\n",
    "count_before = pmt_minispec_run.data_array[0].ADC_counts\n",
    "#print(pmt_minispec_run.data_array[0].ADC_counts)\n",
    "pmt_minispec_run.calibrate_adc_counts()\n",
    "print(pmt_minispec_run.if_darksub)\n",
    "count_after = pmt_minispec_run.data_array[0].ADC_counts\n",
    "#print(pmt_minispec_run.data_array[0].ADC_counts)\n",
    "wavelength_before-wavelength_after"
   ]
  },
  {
   "cell_type": "code",
   "execution_count": null,
   "metadata": {},
   "outputs": [],
   "source": [
    "test_array= np.array([[1, 2], [3, 4],[5, 6],])\n",
    "input_shape= np.shape(test_array)\n",
    "input_shape[0]"
   ]
  },
  {
   "cell_type": "markdown",
   "metadata": {},
   "source": [
    "## 4. try to plot the spectrum ##"
   ]
  },
  {
   "cell_type": "code",
   "execution_count": null,
   "metadata": {},
   "outputs": [],
   "source": [
    "# simplest plot\n",
    "# in principle there are three kind of possilbe x_data input, choose according your need\n",
    "# raw data: pmt_minispec_run.data_array[0].ADC_counts\n",
    "# dark data: pmt_minispec_run.data_array[0].ADC_counts_dark\n",
    "# raw-dark data : pmt_minispec_run.data_array[0].ADC_counts_cal\n",
    "select_pixel = 2\n",
    "x_data = pmt_minispec_run.data_array[0].WAVELENGTH_ARR\n",
    "y_data = (pmt_minispec_run.data_array[0].ADC_counts)[select_pixel,:]/pmt_minispec_run.data_array[0].exposure_time[select_pixel] #/1e6\n",
    "plt.plot(x_data,y_data,'-',label=\"non-calibrated spectrum\")\n",
    "plt.xlabel(\"wavelength[nm]\")\n",
    "plt.xlabel(\"ADC account\")\n",
    "plt.title(pmt_file_name,y=1.2)\n",
    "plt.rcParams['axes.titley'] = 1.2\n",
    "plt.show()"
   ]
  },
  {
   "cell_type": "markdown",
   "metadata": {},
   "source": [
    "## 5. test combine multiple files ##"
   ]
  },
  {
   "cell_type": "code",
   "execution_count": null,
   "metadata": {},
   "outputs": [],
   "source": [
    "onc_downloader = strawb.ONCDownloader(showInfo=False)\n",
    "filters = {'deviceCode': 'TUMPMTSPECTROMETER001',\n",
    "           'dateFrom': '2021-05-02T00:00:00.000Z',\n",
    "           'dateTo': '2021-05-02T23:59:59.000Z',\n",
    "           'extension': 'hdf5'}\n",
    "\n",
    "# download in foreground\n",
    "onc_downloader.download_file(filters_or_result=filters, allPages=True)"
   ]
  },
  {
   "cell_type": "code",
   "execution_count": null,
   "metadata": {},
   "outputs": [],
   "source": [
    "#first we need a list of file name as input\n",
    "file_name_list = [\"TUMPMTSPECTROMETER001_20210502T000000.000Z-SDAQ-MINISPEC.hdf5\",\n",
    "                 \"TUMPMTSPECTROMETER001_20210501T000000.000Z-SDAQ-MINISPEC.hdf5\"]\n",
    "multi_pmt_minispec_run = minispec.MultiFileHandler(file_name_list)\n",
    "\n",
    "print(multi_pmt_minispec_run.module_name)\n",
    "print(multi_pmt_minispec_run.ADC_counts_dict_0)\n",
    "print(multi_pmt_minispec_run.start_time)\n",
    "print(multi_pmt_minispec_run.end_time)"
   ]
  },
  {
   "cell_type": "code",
   "execution_count": null,
   "metadata": {},
   "outputs": [],
   "source": []
  }
 ],
 "metadata": {
  "kernelspec": {
   "display_name": "Python 3",
   "language": "python",
   "name": "python3"
  },
  "language_info": {
   "codemirror_mode": {
    "name": "ipython",
    "version": 3
   },
   "file_extension": ".py",
   "mimetype": "text/x-python",
   "name": "python",
   "nbconvert_exporter": "python",
   "pygments_lexer": "ipython3",
   "version": "3.7.10"
  }
 },
 "nbformat": 4,
 "nbformat_minor": 4
}
