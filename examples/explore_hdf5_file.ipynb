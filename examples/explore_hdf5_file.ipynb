{
 "cells": [
  {
   "cell_type": "code",
   "execution_count": null,
   "metadata": {},
   "outputs": [],
   "source": [
    "# This examples helps to explore a hdf5 file\n",
    "\n",
    "import h5py\n",
    "import os\n",
    "import strawb"
   ]
  },
  {
   "cell_type": "markdown",
   "metadata": {},
   "source": [
    "## Explore a hdf5 file"
   ]
  },
  {
   "cell_type": "code",
   "execution_count": null,
   "metadata": {},
   "outputs": [],
   "source": [
    "file_dict = {}\n",
    "def print_visit(name):\n",
    "    \"\"\" Find first object with 'foo' anywhere in the name \"\"\"\n",
    "    print(name)\n",
    "    return None\n",
    "\n",
    "def print_visititems(name, obj, limit=10):\n",
    "    \"\"\" Find first object with 'foo' anywhere in the name \"\"\"\n",
    "    if isinstance(obj, h5py.Group):\n",
    "        file_dict.update({name: {}})\n",
    "        print(f'{name:20s}: attrs={dict(obj.attrs.items())}')\n",
    "    else:\n",
    "        name_i = name.rsplit('/', maxsplit=1)\n",
    "        name_i[0] = ' '*2 #' '*len(name_i[0])\n",
    "        print(f'{\"\".join(name_i):25s}: shape={obj.shape}')  #; {obj[:]}\n",
    "    return None\n",
    "\n",
    "f_name = 'TUMPMTSPECTROMETER002_20210501T000000.000Z-SDAQ-MINISPEC.hdf5'\n",
    "f_name = os.path.join(strawb.config_parser.config_parser.Config().raw_data_dir, f_name)\n",
    "\n",
    "with h5py.File(f_name, 'r') as f:\n",
    "    f.visititems(print_visititems)"
   ]
  },
  {
   "cell_type": "code",
   "execution_count": null,
   "metadata": {},
   "outputs": [],
   "source": [
    "file_dict = {}\n",
    "def print_visit(name):\n",
    "    \"\"\" Find first object with 'foo' anywhere in the name \"\"\"\n",
    "    print(name)\n",
    "    return None\n",
    "\n",
    "def print_visititems(name, obj, limit=20):\n",
    "    \"\"\" Find first object with 'foo' anywhere in the name \"\"\"\n",
    "    if isinstance(obj, h5py.Group):\n",
    "        file_dict.update({name: {}})\n",
    "        print(f'{name:20s}: attrs={dict(obj.attrs.items())}')\n",
    "    else:\n",
    "        file_dict.update({name: {}})\n",
    "        name_i = name.rsplit('/', maxsplit=1)\n",
    "        name_i[0] = ' '*2 #' '*len(name_i[0])\n",
    "        print(f'{\"\".join(name_i):25s}: shape={obj.shape}')  #; {obj[:]}\n",
    "    return None\n",
    "\n",
    "f_name = 'TUMMINISPECTROMETER001_20210613T000000.000Z-SDAQ-MODULE.hdf5'\n",
    "f_name = os.path.join(strawb.config_parser.config_parser.Config().raw_data_dir, f_name)\n",
    "\n",
    "with h5py.File(f_name, 'r') as f:\n",
    "    f.visititems(print_visititems)"
   ]
  },
  {
   "cell_type": "code",
   "execution_count": null,
   "metadata": {},
   "outputs": [],
   "source": [
    "file_dict"
   ]
  },
  {
   "cell_type": "code",
   "execution_count": null,
   "metadata": {},
   "outputs": [],
   "source": []
  }
 ],
 "metadata": {
  "kernelspec": {
   "display_name": "Python 3",
   "language": "python",
   "name": "python3"
  },
  "language_info": {
   "codemirror_mode": {
    "name": "ipython",
    "version": 3
   },
   "file_extension": ".py",
   "mimetype": "text/x-python",
   "name": "python",
   "nbconvert_exporter": "python",
   "pygments_lexer": "ipython3",
   "version": "3.7.10"
  }
 },
 "nbformat": 4,
 "nbformat_minor": 4
}
