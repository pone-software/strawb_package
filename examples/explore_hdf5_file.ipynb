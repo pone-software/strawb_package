{
 "cells": [
  {
   "cell_type": "code",
   "execution_count": 1,
   "metadata": {},
   "outputs": [],
   "source": [
    "# This examples helps to explore a hdf5 file\n",
    "\n",
    "import h5py\n",
    "import os\n",
    "import strawb"
   ]
  },
  {
   "cell_type": "markdown",
   "metadata": {},
   "source": [
    "## Explore a hdf5 file"
   ]
  },
  {
   "cell_type": "code",
   "execution_count": 4,
   "metadata": {
    "scrolled": false
   },
   "outputs": [
    {
     "name": "stdout",
     "output_type": "stream",
     "text": [
      "/Users/ruohanli/Documents/Programs/strawb_package/raw_module_data/TUMMINISPECTROMETER001_20210501T000000.000Z-SDAQ-MINISPEC.hdf5\n",
      "1\n",
      "[ 3.10534696e+02  2.70498577e+00 -1.35924145e-03 -5.14485001e-06\n",
      " -1.68125526e-09  2.11549646e-11]\n",
      "2\n",
      "[ 3.09277711e+02  2.71170603e+00 -1.32466082e-03 -5.99323586e-06\n",
      "  2.42147202e-09  1.48818987e-11]\n",
      "3\n",
      "[ 3.12871650e+02  2.69627793e+00 -1.20340938e-03 -6.66349141e-06\n",
      "  4.52566970e-09  1.21575386e-11]\n",
      "4\n",
      "[ 3.08971778e+02  2.71041589e+00 -1.35598251e-03 -5.56849479e-06\n",
      "  9.76527000e-10  1.62540956e-11]\n",
      "5\n",
      "[ 3.07999186e+02  2.70214287e+00 -1.25434292e-03 -5.99610021e-06\n",
      "  1.18790575e-09  1.77112422e-11]\n"
     ]
    }
   ],
   "source": [
    "def print_visit(name):\n",
    "    \"\"\" Find first object with 'foo' anywhere in the name \"\"\"\n",
    "    print(name)\n",
    "    return None\n",
    "\n",
    "def print_visititems(name, obj, limit=10):\n",
    "    \"\"\" Find first object with 'foo' anywhere in the name \"\"\"\n",
    "    if isinstance(obj, h5py.Group):\n",
    "        print(f'{name:20s}: attrs={dict(obj.attrs.items())}')\n",
    "    else:\n",
    "        name_i = name.rsplit('/', maxsplit=1)\n",
    "        name_i[0] = ' '*2 #' '*len(name_i[0])\n",
    "        print(f'{\"\".join(name_i):25s}: shape={obj.shape}')  #; {obj[:]}\n",
    "    return None\n",
    "\n",
    "f_name = 'TUMMINISPECTROMETER001_20210501T000000.000Z-SDAQ-MINISPEC.hdf5'\n",
    "f_name = os.path.join(strawb.config_parser.config_parser.Config().raw_data_dir, f_name)\n",
    "print(f_name)\n",
    "\n",
    "# with h5py.File(f_name, 'r') as f:\n",
    "#     f.visititems(print_visititems)\n",
    "with h5py.File(f_name, 'r') as f:\n",
    "    for name in f:\n",
    "        print(name)\n",
    "        dset = f[name]\n",
    "        print(dset.attrs['CAL.ARR'])"
   ]
  },
  {
   "cell_type": "code",
   "execution_count": 9,
   "metadata": {},
   "outputs": [
    {
     "data": {
      "text/plain": [
       "86385.01075410843"
      ]
     },
     "execution_count": 9,
     "metadata": {},
     "output_type": "execute_result"
    }
   ],
   "source": [
    "1619913541.7090635-1619827156.6983094"
   ]
  },
  {
   "cell_type": "code",
   "execution_count": null,
   "metadata": {},
   "outputs": [],
   "source": []
  }
 ],
 "metadata": {
  "kernelspec": {
   "display_name": "Python 3",
   "language": "python",
   "name": "python3"
  },
  "language_info": {
   "codemirror_mode": {
    "name": "ipython",
    "version": 3
   },
   "file_extension": ".py",
   "mimetype": "text/x-python",
   "name": "python",
   "nbconvert_exporter": "python",
   "pygments_lexer": "ipython3",
   "version": "3.8.5"
  }
 },
 "nbformat": 4,
 "nbformat_minor": 4
}
