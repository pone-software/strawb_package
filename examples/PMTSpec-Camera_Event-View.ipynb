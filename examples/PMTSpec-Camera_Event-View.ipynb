{
 "cells": [
  {
   "cell_type": "markdown",
   "id": "d7027fe3",
   "metadata": {},
   "source": [
    "# This notebook creates a kind of event view for camera pictures and the pmt rates. "
   ]
  },
  {
   "cell_type": "code",
   "execution_count": null,
   "id": "719b6705",
   "metadata": {},
   "outputs": [],
   "source": [
    "%matplotlib notebook\n",
    "\n",
    "# This examples shows who to download files from the ONC server\n",
    "import glob\n",
    "import os\n",
    "\n",
    "import pandas as pd\n",
    "import numpy as np\n",
    "import datetime\n",
    "import matplotlib.pyplot as plt\n",
    "import matplotlib.dates as mdates\n",
    "\n",
    "import strawb\n",
    "import strawb.sensors.pmtspec\n",
    "import strawb.tools\n",
    "\n",
    "import plotly\n",
    "import plotly.graph_objs as go\n",
    "import plotly.express as px\n",
    "import plotly.io as pio\n",
    "pio.templates.default = \"plotly_white\"\n",
    "\n",
    "import random\n",
    "\n",
    "plt.rcParams.update({\"text.usetex\": False})  # fix time fmt of x_ticks"
   ]
  },
  {
   "cell_type": "markdown",
   "id": "06303c41",
   "metadata": {},
   "source": [
    "# Get DB and update"
   ]
  },
  {
   "cell_type": "code",
   "execution_count": null,
   "id": "c17db577",
   "metadata": {},
   "outputs": [],
   "source": [
    "# in case execute db.load_entire_db_from_ONC() to load the entire db\n",
    "db = strawb.SyncDBHandler()  # loads the db\n",
    "db.load_onc_db_update(output=True, save_db=True)"
   ]
  },
  {
   "cell_type": "markdown",
   "id": "b3163d3c",
   "metadata": {},
   "source": [
    "# Select 'event' by timestamp"
   ]
  },
  {
   "cell_type": "code",
   "execution_count": null,
   "id": "1ea0c866",
   "metadata": {},
   "outputs": [],
   "source": [
    "# select the time of interest\n",
    "timestamp = np.datetime64('2021-09-04T20:42:58')  # wide peak, no image\n",
    "timestamp = np.datetime64('2021-09-04T23:44:09')  # blinking\n",
    "timestamp = np.datetime64('2021-09-24T21:57')  # over-saturate 'no filter' channel"
   ]
  },
  {
   "cell_type": "markdown",
   "id": "d1c9331e",
   "metadata": {},
   "source": [
    "# Prepare the files"
   ]
  },
  {
   "cell_type": "code",
   "execution_count": null,
   "id": "db7138c9",
   "metadata": {},
   "outputs": [],
   "source": [
    "# mask by device\n",
    "mask = db.dataframe.deviceCode == 'TUMPMTSPECTROMETER001'\n",
    "# mask &= db.dataframe.dataProductCode == 'PMTSD'\n",
    "\n",
    "# and add mask for synced files only\n",
    "# mask &= db.dataframe.synced\n",
    "\n",
    "# and add mask by 'measurement_type'\n",
    "# mask &= db.dataframe.file_version > 0\n",
    "\n",
    "## select 1h frame around one bioluminescence event\n",
    "# timestamp = np.datetime64('2021-09-04T23:44:09')\n",
    "time_from = np.datetime64(timestamp - np.timedelta64(5, \"m\"), \"h\")  # round down to full hour\n",
    "time_to = np.datetime64(timestamp + np.timedelta64(5, \"m\"), \"h\")  # round down to full hour\n",
    "\n",
    "# files which cover time_from_mask\n",
    "mask_from = db.dataframe.dateFrom <= pd.Timestamp(time_from, tz=\"UTC\")\n",
    "mask_from &= db.dataframe.dateTo >= pd.Timestamp(time_from, tz=\"UTC\")\n",
    "# files which cover time_to_mask\n",
    "mask_to = db.dataframe.dateFrom <= pd.Timestamp(time_to, tz=\"UTC\")\n",
    "mask_to &= db.dataframe.dateTo >= pd.Timestamp(time_to, tz=\"UTC\")\n",
    "\n",
    "# files which cover time_to_mask\n",
    "mask_to = db.dataframe.dateFrom >= pandas.Timestamp(time_from, tz=\"UTC\")\n",
    "mask_to &= db.dataframe.dateTo <= pandas.Timestamp(time_to, tz=\"UTC\")\n",
    "\n",
    "mask &= mask_from | mask_to\n",
    "\n",
    "### show selected file from the DB - here its 1 file only\n",
    "db.dataframe[mask]"
   ]
  },
  {
   "cell_type": "markdown",
   "id": "ca896d24",
   "metadata": {},
   "source": [
    "## In case not all files are synced, do it here"
   ]
  },
  {
   "cell_type": "code",
   "execution_count": null,
   "id": "f452c313",
   "metadata": {},
   "outputs": [],
   "source": [
    "### this will download the selected file\n",
    "if not db.dataframe.synced[mask].all():\n",
    "    db.update_db_and_load_files(\n",
    "        db.dataframe[mask],\n",
    "        output=True,  # print output to console\n",
    "        download=True,  # download the files\n",
    "        #save_db=True\n",
    "    )\n",
    "    db.save_db()"
   ]
  },
  {
   "cell_type": "markdown",
   "id": "96884316",
   "metadata": {},
   "source": [
    "## Load the PMTSpec and Camera file"
   ]
  },
  {
   "cell_type": "code",
   "execution_count": null,
   "id": "c5bcef37",
   "metadata": {},
   "outputs": [],
   "source": [
    "# select the PMTSpec file(s) -> dataProductCode == 'PMTSD'\n",
    "item = db.dataframe[mask & (db.dataframe.dataProductCode == 'PMTSD')]\n",
    "\n",
    "try: # if the pmtspec file is still open\n",
    "    pmtspec.file_handler.close()\n",
    "except:\n",
    "    pass\n",
    "    \n",
    "# generate a virtual hdf5 to combine the datasets if there are multiple files selected\n",
    "if len(item) > 1:\n",
    "    vhdf5 = strawb.VirtualHDF5('PMTSD_event_view.hdf5', item.fullPath.to_list())  \n",
    "    file_name = vhdf5.file_name\n",
    "else:\n",
    "    file_name = item.fullPath[0]\n",
    "    \n",
    "pmtspec = strawb.sensors.PMTSpec(file=file_name)\n",
    "pmtspec.file_handler.file_attributes  # show the file attributes, time in seconds since epoch (1.1.1970) UTC"
   ]
  },
  {
   "cell_type": "code",
   "execution_count": null,
   "id": "cb38f9fd",
   "metadata": {},
   "outputs": [],
   "source": [
    "# select the Camera file(s) -> dataProductCode == 'MSSCD'\n",
    "item = db.dataframe[mask & (db.dataframe.dataProductCode == 'MSSCD')]\n",
    "\n",
    "try:  # if the camera file is still open\n",
    "    camera.file_handler.close()\n",
    "except:\n",
    "    pass\n",
    "    \n",
    "# generate a virtual hdf5 to combine the datasets if there are multiple files selected\n",
    "if len(item) > 1:\n",
    "    vhdf5 = strawb.VirtualHDF5('MSSCD_event_view.hdf5', item.fullPath.to_list())  \n",
    "    file_name = vhdf5.file_name\n",
    "else:\n",
    "    file_name = item.fullPath[0]\n",
    "    \n",
    "camera = strawb.sensors.Camera(file=file_name)\n",
    "camera.file_handler.file_attributes  # show the file attributes, time in seconds since epoch (1.1.1970) UTC"
   ]
  },
  {
   "cell_type": "code",
   "execution_count": null,
   "id": "4e58ef5b",
   "metadata": {},
   "outputs": [],
   "source": [
    "# select the Module file(s) -> dataProductCode == 'MSSCD'\n",
    "item = db.dataframe[mask & (db.dataframe.dataProductCode == 'SMRD')]\n",
    "\n",
    "try:  # if the camera file is still open\n",
    "    module.file_handler.close()\n",
    "except:\n",
    "    pass\n",
    "    \n",
    "# generate a virtual hdf5 to combine the datasets if there are multiple files selected\n",
    "if len(item) > 1:\n",
    "    vhdf5 = strawb.VirtualHDF5('SMRD_event_view.hdf5', item.fullPath.to_list())  \n",
    "    file_name = vhdf5.file_name\n",
    "else:\n",
    "    file_name = item.fullPath[0]\n",
    "    \n",
    "module = strawb.sensors.Module(file=file_name)\n",
    "module.file_handler.file_attributes  # show the file attributes, time in seconds since epoch (1.1.1970) UTC"
   ]
  },
  {
   "cell_type": "markdown",
   "id": "8a8618e1",
   "metadata": {},
   "source": [
    "# prepare colors"
   ]
  },
  {
   "cell_type": "code",
   "execution_count": null,
   "id": "fff573af",
   "metadata": {},
   "outputs": [],
   "source": [
    "# prepare colors\n",
    "### use a nice colormap, or use wavelength_to_rgb for conversion\n",
    "pmtspec.pmt_meta_data.add_colors(\n",
    "        plt.cm.get_cmap('viridis'),\n",
    "        None,\n",
    "        plt.cm.get_cmap(\"gist_heat\") # reddish color\n",
    "    )\n",
    "pmtspec.pmt_meta_data.channel_meta_array"
   ]
  },
  {
   "cell_type": "markdown",
   "id": "5cffa647",
   "metadata": {},
   "source": [
    "# Class which has data for plot"
   ]
  },
  {
   "cell_type": "code",
   "execution_count": null,
   "id": "0ceb3eca",
   "metadata": {},
   "outputs": [],
   "source": [
    "class PlotData:\n",
    "    def __init__(self, pmtspec, camera, index=27, \n",
    "                 #timestamp=np.datetime64('2021-09-04T23:44:09')\n",
    "                 module=None,\n",
    "                ):\n",
    "        #self.timestamp = timestamp\n",
    "        self.pmtspec = pmtspec\n",
    "        self.camera = camera\n",
    "        \n",
    "        # get Camera image\n",
    "        # get the closest frame of the camera in time\n",
    "        self.index = index\n",
    "        self.timestamp = camera.file_handler.time.asdatetime()[self.index]\n",
    "        self.images_rgb = camera.images.load_rgb(None, subtract_dark=True)[index]\n",
    "        self.cam_time, self.cam_capture = self.fill_where_exposed(camera, self.index)\n",
    "        \n",
    "        # select the period of interest and mask data\n",
    "        ### select a couple of seconds around bioluminescence events\n",
    "        ## you can adjust this time for zoom-in/out\n",
    "        exposure_time = np.timedelta64(int(camera.file_handler.exposure_time[self.index]*1e3), \"ms\")\n",
    "        start_time = self.timestamp + np.timedelta64(2, \"s\") # - np.timedelta64(2, \"m\")\n",
    "        end_time = self.timestamp + np.timedelta64(2, \"s\") + exposure_time\n",
    "        \n",
    "        # get PMTSpec data\n",
    "        # raw data, time, mask for the selected time, rate\n",
    "        print('raw rates')\n",
    "        self.raw_time = pmtspec.trb_rates.time_middle\n",
    "        self.raw_mask = (self.raw_time >= start_time) & (self.raw_time <= end_time)\n",
    "        self.raw_rate = pmtspec.trb_rates.rate\n",
    "\n",
    "        # interpolated data, time, mask for the selected time, rate\n",
    "        print('interp frequency')\n",
    "        pmtspec.trb_rates.interp_frequency = 5\n",
    "        self.interp_time = pmtspec.trb_rates.interp_time\n",
    "        self.interp_mask = (self.interp_time >= start_time) & (self.interp_time <= end_time)\n",
    "        self.interp_rate = pmtspec.trb_rates.interp_rate\n",
    "\n",
    "        # interpolated data, time, mask for the selected time, rate\n",
    "        print('interp frequency slow')\n",
    "        pmtspec.trb_rates.interp_frequency = 2\n",
    "        self.interp_time_slow = pmtspec.trb_rates.interp_time\n",
    "        self.interp_rate_slow = pmtspec.trb_rates.interp_rate\n",
    "        self.interp_active_ratio_slow = pmtspec.trb_rates.interp_active_ratio\n",
    "        \n",
    "        # power measurements\n",
    "        print('power measurements')\n",
    "        self.power_devices_list = []\n",
    "        if module is not None:\n",
    "            for i in module.power.all_devices_list:\n",
    "                time_i = strawb.tools.asdatetime(i.time)\n",
    "                mask_i = self.interp_time_slow.min() <= time_i\n",
    "                mask_i &= self.interp_time_slow.max(fill_value=0) >= time_i  # fill_value=0 <-> np.nan -> 0\n",
    "                dev_i = strawb.sensors.module.power.PowerDevice(name = i.name, \n",
    "                                                                time = time_i[mask_i],\n",
    "                                                                current = i.current[mask_i],\n",
    "                                                                voltage = i.voltage[mask_i])\n",
    "                self.power_devices_list.append(dev_i)\n",
    "        \n",
    "    # Camera fill where exposed\n",
    "    @staticmethod\n",
    "    def fill_where_exposed(camera, index=None):\n",
    "        \"\"\"Create an array which is needed to fill the areas where the camera exposed images.\n",
    "\n",
    "        plt.fill_between(strawb.tools.asdatetime(time), 0, 1, \n",
    "                         where=capture>0,  # or >1 for the selected image\n",
    "                         color='gray', \n",
    "                         alpha=0.2, \n",
    "                         label='exposure images',\n",
    "                         transform=plt.gca().get_xaxis_transform())\n",
    "\n",
    "        PARAMETER\n",
    "        ---------\n",
    "        camera: strawb.sensor.Camera\n",
    "        index: int, optional\n",
    "            to maks a selected frame\n",
    "        RETURN\n",
    "        ------\n",
    "        time: ndarray, float\n",
    "            time since epoch in seconds\n",
    "        capture:\n",
    "            the array which indicates 1 if a image was during exposure or 0 otherwise.\n",
    "        \"\"\"\n",
    "\n",
    "        start_time = camera.file_handler.time[:]\n",
    "        stop_time = camera.file_handler.time[:] + camera.file_handler.exposure_time\n",
    "\n",
    "\n",
    "        # points for [dis-, en-, en-, dis-]-able\n",
    "        time = np.array((start_time, start_time, stop_time, stop_time)).T\n",
    "        capture = np.zeros_like(time, dtype=int)\n",
    "        capture[:,1:3] = 1\n",
    "\n",
    "        if index is not None:\n",
    "            capture[index, 1:3] = 2  # the selected frame\n",
    "\n",
    "        return time.flatten(), capture.flatten()"
   ]
  },
  {
   "cell_type": "markdown",
   "id": "3c59d320",
   "metadata": {},
   "source": [
    "# get the index of the frame from the timestamp"
   ]
  },
  {
   "cell_type": "code",
   "execution_count": null,
   "id": "7febb925",
   "metadata": {},
   "outputs": [],
   "source": [
    "index = np.argmin(np.abs(camera.file_handler.time.asdatetime()[:] - timestamp))\n",
    "\n",
    "# The plot includes the indexes of the other frames. \n",
    "# Replace it here and run the code again to select the frame\n",
    "# index = 35\n",
    "print(f'Take picture with index: {index} at {camera.file_handler.time.asdatetime()[index]}')\n",
    "plot_data = PlotData(pmtspec=pmtspec, \n",
    "                     camera=camera, \n",
    "                     index=index, #  timestamp=np.datetime64('2021-09-04T23:40:49')\n",
    "                     module=module,\n",
    "                    )"
   ]
  },
  {
   "cell_type": "markdown",
   "id": "95ab8ba4",
   "metadata": {},
   "source": [
    "# Plot"
   ]
  },
  {
   "cell_type": "code",
   "execution_count": null,
   "id": "35104273",
   "metadata": {},
   "outputs": [],
   "source": [
    "with_timeline = True\n",
    "\n",
    "figsize = np.array([14., 5.]) / 2.54  # cm -> inc\n",
    "nrows = 1\n",
    "height_ratios = [2,]\n",
    "    \n",
    "if with_timeline:\n",
    "    figsize += np.array([0., 7.5]) / 2.54  # cm -> inc\n",
    "    nrows += 3\n",
    "    height_ratios.extend([1, 1, 1])\n",
    "    \n",
    "print(height_ratios)\n",
    "\n",
    "# create the figure\n",
    "fig = plt.figure(figsize=figsize)\n",
    "\n",
    "gs = plt.GridSpec(nrows, 2, \n",
    "                  width_ratios=[1, 2], \n",
    "                  height_ratios=height_ratios\n",
    "                  )\n",
    "\n",
    "ax = [plt.subplot(gs[0, 0]), plt.subplot(gs[0, 1])]\n",
    "      \n",
    "if with_timeline:\n",
    "    ax_row_1 = plt.subplot(gs[1,:])\n",
    "    ax.append(ax_row_1)\n",
    "    ax.append(plt.subplot(gs[2,:], sharex = ax_row_1))\n",
    "    ax.append(plt.subplot(gs[3,:], sharex = ax_row_1))\n",
    "\n",
    "### The image\n",
    "# ax[0].set_title('Image of Event', y=-0.1)\n",
    "ax[0].set_xlabel('Image of Event')\n",
    "# ax[0].axis('off')\n",
    "ax[0].axes.xaxis.set_ticks([])\n",
    "ax[0].axes.yaxis.set_ticks([])\n",
    "ax[0].imshow(plot_data.images_rgb/ 2 ** 16)  # images_rgb is a array, select the first frame\n",
    "\n",
    "### The PMTs\n",
    "# select channels to plot\n",
    "mask = np.zeros_like(pmtspec.pmt_meta_data.channel_meta_array['wavelength'], dtype=bool)\n",
    "\n",
    "# for i in [  0, 350, 400, 425, 450, 460, 470, 480, 492, 510, 525, 550]: # all\n",
    "for i in [0, 400, 450, 480, 492, 510, 550]: \n",
    "    mask |= pmtspec.pmt_meta_data.channel_meta_array['wavelength'] == i\n",
    "\n",
    "# plt.title(timestamp)\n",
    "for ch in pmtspec.pmt_meta_data.channel_meta_array[mask]:\n",
    "    _ = ax[1].plot(\n",
    "        plot_data.interp_time[plot_data.interp_mask],\n",
    "        plot_data.interp_rate[ch[\"index\"], plot_data.interp_mask], \n",
    "        color = ch[\"color\"], #wavelength_to_rgb(ch, gamma=0.4),\n",
    "        label = ch[\"label\"],\n",
    "        #marker=\"o\", lw=0, alpha=0.3, ms=5\n",
    "    )\n",
    "    \n",
    "    if with_timeline:\n",
    "        _ = ax[2].plot(\n",
    "            plot_data.interp_time_slow,\n",
    "            plot_data.interp_rate_slow[ch[\"index\"]], \n",
    "            color = ch[\"color\"], #wavelength_to_rgb(ch, gamma=0.4),\n",
    "    #         label = ch[\"label\"],\n",
    "            #marker=\"o\", lw=0, alpha=0.3, ms=5\n",
    "        )\n",
    "    \n",
    "    if with_timeline:\n",
    "        _ = ax[3].plot(\n",
    "            plot_data.interp_time_slow,\n",
    "            plot_data.interp_active_ratio_slow[ch[\"index\"]], \n",
    "            color = ch[\"color\"], #wavelength_to_rgb(ch, gamma=0.4),\n",
    "    #         label = ch[\"label\"],\n",
    "            #marker=\"o\", lw=0, alpha=0.3, ms=5\n",
    "        )  \n",
    "        \n",
    "    ### plot the RAW Data as points\n",
    "#     _ = ax[1].plot(\n",
    "#         plot_data.raw_time[plot_data.raw_mask],\n",
    "#         plot_data.raw_rate[ch[\"index\"], plot_data.raw_mask], \n",
    "#         color = ch[\"color\"], #wavelength_to_rgb(ch, gamma=0.4),\n",
    "#         # label = ch[\"label\"],\n",
    "#         #alpha=0.3,\n",
    "#         marker=\"o\", lw=0, alpha=0.01, ms=.5\n",
    "#     )\n",
    "\n",
    "# # to show readout frequency \n",
    "# ax[3].plot(\n",
    "#     strawb.tools.asdatetime((pmtspec.file_handler.counts_time[:-1]+pmtspec.file_handler.counts_time[1:])*.5),\n",
    "#     1./np.diff(pmtspec.file_handler.counts_time[:]), \n",
    "#     color = 'gray', #wavelength_to_rgb(ch, gamma=0.4),\n",
    "# #         label = ch[\"label\"],\n",
    "#     # marker=\"o\", lw=0, alpha=0.3, ms=5\n",
    "#     )\n",
    "\n",
    "# ax[3].vlines(plot_data.interp_time_slow.data[plot_data.interp_time_slow.mask],\n",
    "#            ymin=0, ymax=1,\n",
    "#             transform=ax[3].get_xaxis_transform(),\n",
    "#              color = 'steelblue',\n",
    "#            )\n",
    "\n",
    "# Camera\n",
    "if with_timeline:\n",
    "    ax[2].fill_between(strawb.tools.asdatetime(plot_data.cam_time), 0, 1, \n",
    "                       where=plot_data.cam_capture>0,\n",
    "                       color='gray', \n",
    "                       alpha=0.2, \n",
    "                       label='exposure images',\n",
    "                       transform=ax[2].get_xaxis_transform())\n",
    "    ax[2].fill_between(strawb.tools.asdatetime(plot_data.cam_time), 0, 1, \n",
    "                       where=plot_data.cam_capture>1,\n",
    "                       color='steelblue', \n",
    "                       alpha=0.5, \n",
    "                       label='selected image',\n",
    "                       transform=ax[2].get_xaxis_transform())\n",
    "\n",
    "    # print the index to the plots\n",
    "    # the x coords of this transformation are data, and the\n",
    "    # y coord are axes\n",
    "    import matplotlib.transforms as transforms\n",
    "    trans = transforms.blended_transform_factory(ax[2].transData, ax[2].transAxes)\n",
    "    image_index_time = strawb.tools.asdatetime((plot_data.cam_time[::4]+plot_data.cam_time[2::4])*.5)\n",
    "    # add a text for the Image Index - alternative to second xaxis\n",
    "#     for i, t_i in enumerate(image_index_time):\n",
    "#         if i%2 == 0:\n",
    "#             ax[2].text(t_i, 1., i, fontsize=10, horizontalalignment='center', verticalalignment='bottom',\n",
    "#                        transform=trans,\n",
    "#                       )\n",
    "    \n",
    "    # add a second xaxis for the Image Index\n",
    "    ax_x2 = ax[2].secondary_xaxis(\"top\")\n",
    "    xticks_pos = ax[2].convert_xunits(image_index_time)\n",
    "    xticks_lab = np.arange(len(image_index_time))\n",
    "    ax_x2.set_xticks(xticks_pos, minor=True)\n",
    "    ax_x2.set_xticks(xticks_pos[::5], minor=False)\n",
    "    ax_x2.set_xticklabels(xticks_lab[::5], minor=False)\n",
    "    ax_x2.set_xlabel('Image Index')\n",
    "        \n",
    "    ax[2].set_ylabel('PMT Rates [Hz]')\n",
    "    ax[2].legend(loc=1)\n",
    "    ax[2].set_xlim((plot_data.interp_time_slow[0],\n",
    "                    plot_data.interp_time_slow[-1]))\n",
    "    ax[2].grid()\n",
    "    \n",
    "    ax[2].set_yscale('log')\n",
    "    ax[2].set_ylim(1e2)\n",
    "    \n",
    "    ax[3].grid()\n",
    "    ax[3].set_ylim((-0.01))\n",
    "    ax[3].set_ylabel('Active read ratio')\n",
    "    \n",
    "    # power plot\n",
    "    for i in plot_data.power_devices_list:\n",
    "        ax[4].plot(i.time,\n",
    "                 i.watt,\n",
    "                 label=module.power.dev_map(i.name),\n",
    "                )\n",
    "\n",
    "    ax[4].set_ylabel('Power consumption [W]')\n",
    "    ax[4].legend(loc='upper right', ncol=2)\n",
    "    ax[4].grid()\n",
    "    \n",
    "    ax[2].xaxis.set_major_formatter(\n",
    "        mdates.ConciseDateFormatter(ax[2].xaxis.get_major_locator())\n",
    "    )\n",
    "    \n",
    "ax[1].legend(loc='best', # 1\n",
    "             ncol=1, title='Color Channel')\n",
    "ax[1].set_xlabel('Time [s]')\n",
    "ax[1].set_ylabel('PMT Rates [Hz]')\n",
    "ax[1].set_xlim((plot_data.interp_time[plot_data.interp_mask][0],\n",
    "                plot_data.interp_time[plot_data.interp_mask][-1]))\n",
    "ax[1].xaxis.set_major_formatter(\n",
    "    mdates.ConciseDateFormatter(ax[1].xaxis.get_major_locator())\n",
    ")\n",
    "ax[1].grid()\n",
    "\n",
    "# ax[3].grid()\n",
    "# ax[3].set_xlabel('Date')\n",
    "\n",
    "# that's when the camera frame starts\n",
    "#plt.axvline(timestamp, lw=1, color=\"k\")\n",
    "if False:\n",
    "    ax[1].ylim(0, plot_data.raw_rate.T[plot_data.raw_mask].max()*1.05)\n",
    "else:\n",
    "    ax[1].set_yscale('log')\n",
    "    ax[1].set_ylim(1e2)"
   ]
  },
  {
   "cell_type": "code",
   "execution_count": null,
   "id": "6a51668f",
   "metadata": {},
   "outputs": [],
   "source": [
    "import time\n",
    "for i in range(5):\n",
    "    fig.tight_layout()\n",
    "    time.sleep(1)"
   ]
  },
  {
   "cell_type": "code",
   "execution_count": null,
   "id": "bbef0307",
   "metadata": {},
   "outputs": [],
   "source": [
    "fig.tight_layout()"
   ]
  },
  {
   "cell_type": "code",
   "execution_count": null,
   "id": "1fcdeb30",
   "metadata": {},
   "outputs": [],
   "source": [
    "fig.savefig(os.path.expanduser(f'~/Downloads/pmt_event-{str(timestamp).replace(\":\",\"-\")}.pdf'), format='pdf')\n",
    "fig.savefig(os.path.expanduser(f'~/Downloads/pmt_event-{str(timestamp).replace(\":\",\"-\")}.png'), \n",
    "            format='png', facecolor='white')"
   ]
  },
  {
   "cell_type": "markdown",
   "id": "d2d939c5",
   "metadata": {},
   "source": [
    "# RANDOM STUFF\n",
    "should be deleted probably"
   ]
  },
  {
   "cell_type": "code",
   "execution_count": null,
   "id": "516646b6",
   "metadata": {},
   "outputs": [],
   "source": [
    "dt_f = np.diff(pmtspec.file_handler.counts_time[:])\n",
    "dt = np.diff(pmtspec.trb_rates.rate_time)\n",
    "\n",
    "t_f = pmtspec.file_handler.counts_time[:].astype(float)\n",
    "t = pmtspec.trb_rates.rate_time[:]"
   ]
  },
  {
   "cell_type": "code",
   "execution_count": null,
   "id": "10f0bb56",
   "metadata": {},
   "outputs": [],
   "source": [
    "plt.figure()\n",
    "plt.hist(dt_f, bins=np.arange(0, 0.005, 0.00001))\n",
    "plt.yscale('log')\n",
    "plt.grid()"
   ]
  },
  {
   "cell_type": "code",
   "execution_count": null,
   "id": "6cb1e835",
   "metadata": {},
   "outputs": [],
   "source": [
    "def f(x, y_0, m):\n",
    "    return m*x + y_0\n",
    "popt, pcov = scipy.optimize.curve_fit(f, xdata=t, ydata=t_f, p0=[t_f[0],1.])"
   ]
  },
  {
   "cell_type": "code",
   "execution_count": null,
   "id": "bf432f32",
   "metadata": {},
   "outputs": [],
   "source": [
    "popt[0], t_f[0], popt[0]-t_f[0]"
   ]
  },
  {
   "cell_type": "code",
   "execution_count": null,
   "id": "53e2a42c",
   "metadata": {},
   "outputs": [],
   "source": [
    "import scipy.optimize\n",
    "\n",
    "def f(x, y_0, m):\n",
    "    return m*x + y_0\n",
    "\n",
    "p0=[0.,1.]\n",
    "# popt, pcov = scipy.optimize.curve_fit(f, xdata=t[:100], ydata=t_f[:100], absolute_sigma=True, p0=p0)\n",
    "\n",
    "# max_i = \n",
    "plt.figure()\n",
    "\n",
    "plt.plot(t, f(t,*p0), '-', color='gray')\n",
    "plt.plot(t, t_f-t_f[0], 'o', alpha=.2, ms=2)\n",
    "plt.grid()\n",
    "\n",
    "popt, pcov = scipy.optimize.curve_fit(f, xdata=t, ydata=t_f-t_f[0], p0=p0)\n",
    "print(popt)\n",
    "plt.plot(t, f(t,*popt), '-')\n",
    "\n",
    "plt.figure()\n",
    "plt.plot(t, f(t,*popt)-(t_f-t_f[0]), '-')"
   ]
  },
  {
   "cell_type": "code",
   "execution_count": null,
   "id": "15b9e49f",
   "metadata": {},
   "outputs": [],
   "source": [
    "plt.figure()\n",
    "plt.plot(t, t_f, '-')"
   ]
  },
  {
   "cell_type": "code",
   "execution_count": null,
   "id": "47573b12",
   "metadata": {},
   "outputs": [],
   "source": [
    "plt.figure()\n",
    "a = f(t,*popt)-(t_f-t_f[0])\n",
    "\n",
    "plt.plot(t, a, '-')\n",
    "plt.axhline(popt[0], color='k')\n",
    "plt.grid()\n",
    "print(a.max())"
   ]
  },
  {
   "cell_type": "code",
   "execution_count": null,
   "id": "0e0bb6b1",
   "metadata": {},
   "outputs": [],
   "source": [
    "popt[0]+t_f[0]"
   ]
  },
  {
   "cell_type": "code",
   "execution_count": null,
   "id": "fd9f4416",
   "metadata": {},
   "outputs": [],
   "source": [
    "plt.figure()\n",
    "\n",
    "plt.plot(t, t_f-t_f[0], 'o', alpha=.2, ms=2)\n",
    "plt.grid()\n",
    "\n",
    "import scipy.optimize"
   ]
  },
  {
   "cell_type": "code",
   "execution_count": null,
   "id": "b591b5fb",
   "metadata": {},
   "outputs": [],
   "source": [
    "plt.figure()\n",
    "\n",
    "hist, bin_edges = np.histogram(1./dt, bins=np.linspace(0,1e4,int(1e4)), \n",
    "                               #density=True\n",
    "                              )\n",
    "plt.plot(bin_edges, [0, *hist], label='Data')\n",
    "\n",
    "hist, bin_edges = np.histogram(1./dt_f, bins=np.linspace(0,1e4,int(1e4)), \n",
    "                               #density=True\n",
    "                              )\n",
    "plt.plot(bin_edges, [0, *hist], label='Data')\n",
    "plt.yscale('log')"
   ]
  },
  {
   "cell_type": "code",
   "execution_count": null,
   "id": "6c7f3103",
   "metadata": {},
   "outputs": [],
   "source": [
    "np.argwhere(dt == dt.min()), \n",
    "i = dt_f.argmin()\n",
    "i, dt_f[i], dt[i], dt.min()"
   ]
  },
  {
   "cell_type": "code",
   "execution_count": null,
   "id": "d9d853e5",
   "metadata": {},
   "outputs": [],
   "source": [
    "plt.figure()\n",
    "\n",
    "plt.plot(dt, dt_f, 'o', alpha=.2, ms=2)\n",
    "plt.grid()"
   ]
  },
  {
   "cell_type": "code",
   "execution_count": null,
   "id": "54e9a4f6",
   "metadata": {},
   "outputs": [],
   "source": [
    "plt.figure()\n",
    "\n",
    "plt.plot(1./dt, 1./dt_f, 'o', alpha=.2, ms=2)"
   ]
  },
  {
   "cell_type": "code",
   "execution_count": null,
   "id": "8835a4df",
   "metadata": {},
   "outputs": [],
   "source": [
    "plt.figure()\n",
    "mask = dc==dc.min()\n",
    "f_f = 1./dt_f[mask]\n",
    "hist, bin_edges = np.histogram(f_f , np.linspace(0, f_f.max(),int(f_f.max()+1)), \n",
    "                               #density=True\n",
    "                              )\n",
    "plt.plot(bin_edges, [0, *hist],)\n",
    "#plt.yscale('log')"
   ]
  },
  {
   "cell_type": "code",
   "execution_count": null,
   "id": "8bd6ac75",
   "metadata": {},
   "outputs": [],
   "source": [
    "dc = np.diff(pmtspec.file_handler.counts_ch0)"
   ]
  },
  {
   "cell_type": "code",
   "execution_count": null,
   "id": "db61a9b4",
   "metadata": {},
   "outputs": [],
   "source": [
    "dc.max()"
   ]
  },
  {
   "cell_type": "code",
   "execution_count": null,
   "id": "0e27b829",
   "metadata": {},
   "outputs": [],
   "source": [
    "np.linspace(0,dc.max(),int(dc.max()+1))"
   ]
  },
  {
   "cell_type": "code",
   "execution_count": null,
   "id": "afdac16f",
   "metadata": {},
   "outputs": [],
   "source": [
    "plt.figure()\n",
    "\n",
    "hist, bin_edges = np.histogram(dc, bins=np.linspace(0,dc.max(),int(dc.max()+1)), \n",
    "                               #density=True\n",
    "                              )\n",
    "plt.plot(bin_edges, [0, *hist],)\n",
    "plt.yscale('log')"
   ]
  },
  {
   "cell_type": "code",
   "execution_count": null,
   "id": "c5349414",
   "metadata": {},
   "outputs": [],
   "source": [
    "plt.figure()\n",
    "\n",
    "hist, bin_edges = np.histogram(dt, bins=10000, #bins=np.linspace(0,1e4,int(1e4)), \n",
    "                               #density=True\n",
    "                              )\n",
    "plt.plot(bin_edges, [0, *hist], label='Data')\n",
    "plt.yscale('log')\n",
    "plt.grid()"
   ]
  },
  {
   "cell_type": "code",
   "execution_count": null,
   "id": "e67a47c2",
   "metadata": {},
   "outputs": [],
   "source": []
  }
 ],
 "metadata": {
  "kernelspec": {
   "display_name": "py39",
   "language": "python",
   "name": "py39"
  },
  "language_info": {
   "codemirror_mode": {
    "name": "ipython",
    "version": 3
   },
   "file_extension": ".py",
   "mimetype": "text/x-python",
   "name": "python",
   "nbconvert_exporter": "python",
   "pygments_lexer": "ipython3",
   "version": "3.7.10"
  }
 },
 "nbformat": 4,
 "nbformat_minor": 5
}
