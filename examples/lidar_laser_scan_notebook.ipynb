{
 "cells": [
  {
   "cell_type": "code",
   "execution_count": null,
   "metadata": {},
   "outputs": [],
   "source": [
    "# This examples shows who to download files from the ONC server\n",
    "import glob\n",
    "import os\n",
    "\n",
    "import numpy as np\n",
    "import datetime\n",
    "import scipy\n",
    "\n",
    "import strawb\n",
    "import strawb.sensors.lidar\n",
    "import strawb.tools\n",
    "\n",
    "import plotly\n",
    "import plotly.graph_objs as go\n",
    "import plotly.express as px\n",
    "import pandas\n",
    "import plotly.io as pio\n",
    "pio.templates.default = \"plotly_white\"\n",
    "\n",
    "import random"
   ]
  },
  {
   "cell_type": "markdown",
   "metadata": {},
   "source": [
    "## Get the right files"
   ]
  },
  {
   "cell_type": "code",
   "execution_count": null,
   "metadata": {},
   "outputs": [],
   "source": [
    "def get_working_file_randomly(file_list, file_version=1, **file_attributes):\n",
    "    \"\"\"Some files fails with the file_handler, i.e., if a group is missing for older SDAQ versions.\n",
    "    To get one file randomly which works, try it until it works.\n",
    "    \"\"\"\n",
    "\n",
    "    success = False\n",
    "    file_list_trials = file_list.copy()\n",
    "    while len(file_list_trials) > 0 and not success:\n",
    "        i = np.random.randint(0,len(file_list_trials))\n",
    "        full_path = file_list_trials[i]\n",
    "        try:\n",
    "            lidar = strawb.sensors.lidar.FileHandler(full_path)\n",
    "        except Exception as a:\n",
    "            print(f'Error: {full_path} failed with: {a}')\n",
    "        else:\n",
    "            print(f'Success: {full_path}, file_version={lidar.file_version}, len={len(file_list_trials)}')\n",
    "            if lidar.file_version >= file_version:\n",
    "                print(f' file_version match')\n",
    "                # check if all file_attributes are available\n",
    "                if set(file_attributes).difference(lidar.file_attributes) == set():\n",
    "                    # check if all values match\n",
    "                    same_values = [lidar.file_attributes[i] == file_attributes[i] for i in file_attributes]\n",
    "                    print(f' file_attributes match: {same_values}')\n",
    "                    if same_values == [] or any(same_values):\n",
    "                        print(f'Use: {full_path}')\n",
    "                        return full_path\n",
    "                    \n",
    "        file_list_trials.pop(i)\n",
    "            \n",
    "    return None\n",
    "        "
   ]
  },
  {
   "cell_type": "code",
   "execution_count": null,
   "metadata": {},
   "outputs": [],
   "source": [
    "# Get all files available\n",
    "# takes one file randomly, takes some seconds\n",
    "file_list = strawb.sensors.lidar.FileHandler.find_files_glob('*-SDAQ-LIDAR.hdf5',\n",
    "                                           directory=strawb.Config.raw_data_dir,\n",
    "                                           recursive=True,\n",
    "                                           raise_nothing_found=True)"
   ]
  },
  {
   "cell_type": "code",
   "execution_count": null,
   "metadata": {},
   "outputs": [],
   "source": [
    "# in case execute db.load_entire_db_from_ONC() to load the entire db\n",
    "db = strawb.SyncDBHandler(file_name='Default')  # loads the db\n",
    "\n",
    "# mask by device\n",
    "mask = db.dataframe['deviceCode'] == 'TUMLIDAR001'\n",
    "mask |= db.dataframe['deviceCode'] == 'TUMLIDAR002'\n",
    "\n",
    "# and add mask by 'measurement_type'\n",
    "mask &= db.dataframe['measurement_type'] == 'laser_adjustment'\n",
    "\n",
    "db.dataframe[mask]  # plot the table"
   ]
  },
  {
   "cell_type": "code",
   "execution_count": null,
   "metadata": {},
   "outputs": [],
   "source": [
    "file_version = 3  # for LiDARs select one of [1, 2, 3]\n",
    "\n",
    "# select a random file\n",
    "full_path = get_working_file_randomly(file_list,\n",
    "                                      file_version,\n",
    "                                      mes_typ='laser_adjustment',  # or other file_handler.file_attributes\n",
    "                                     )"
   ]
  },
  {
   "cell_type": "markdown",
   "metadata": {},
   "source": [
    "## Load files"
   ]
  },
  {
   "cell_type": "code",
   "execution_count": null,
   "metadata": {},
   "outputs": [],
   "source": [
    "# 2 files of the same scan on both lidars\n",
    "file_lidar1 = strawb.Config.raw_data_dir + '/tumlidar001/2021_10/TUMLIDAR001_20211011T160751.622Z-SDAQ-LIDAR.hdf5'\n",
    "file_lidar2 = strawb.Config.raw_data_dir + '/tumlidar002/2021_10/TUMLIDAR002_20211011T163516.953Z-SDAQ-LIDAR.hdf5'\n",
    "\n",
    "lidar1 = strawb.sensors.lidar.Lidar(file=file_lidar1)\n",
    "print(lidar1.file_handler.file_attributes)  # show the file attributes, time in seconds since epoch (1.1.1970) UTC\n",
    "\n",
    "lidar2 = strawb.sensors.lidar.Lidar(file=file_lidar2)\n",
    "lidar2.file_handler.file_attributes  # show the file attributes, time in seconds since epoch (1.1.1970) UTC"
   ]
  },
  {
   "cell_type": "markdown",
   "metadata": {},
   "source": [
    "# select the device to use for the following"
   ]
  },
  {
   "cell_type": "code",
   "execution_count": null,
   "metadata": {},
   "outputs": [],
   "source": [
    "lidar = lidar1\n",
    "#lidar = lidar2"
   ]
  },
  {
   "cell_type": "markdown",
   "metadata": {},
   "source": [
    "# Set up plotting function"
   ]
  },
  {
   "cell_type": "code",
   "execution_count": null,
   "metadata": {},
   "outputs": [],
   "source": [
    "def multiline_plot(data_frame):\n",
    "    columns = list(set(data_frame.columns).difference(['time']))\n",
    "    \n",
    "    fig = plotly.subplots.make_subplots(shared_xaxes=True,\n",
    "                                        rows=len(columns),\n",
    "                                        cols=1, \n",
    "                                        #subplot_titles=columns\n",
    "                                       )\n",
    "\n",
    "\n",
    "    fig.update_layout(\n",
    "        width=800,\n",
    "        height=150+100*len(columns),)\n",
    "\n",
    "    j = 1\n",
    "    for i, column_i in enumerate(columns):\n",
    "        fig.add_trace(go.Scatter(x=data_frame['time'], \n",
    "                                 y=data_frame[column_i],\n",
    "                                 name=column_i), \n",
    "                      row=i+1, col=1\n",
    "                     )\n",
    "\n",
    "    return fig"
   ]
  },
  {
   "cell_type": "markdown",
   "metadata": {},
   "source": [
    "# Plotting with pandas and plotly"
   ]
  },
  {
   "cell_type": "code",
   "execution_count": null,
   "metadata": {},
   "outputs": [],
   "source": [
    "lidar = lidar1"
   ]
  },
  {
   "cell_type": "code",
   "execution_count": null,
   "metadata": {},
   "outputs": [],
   "source": [
    "df_daq = lidar.file_handler.get_pandas_daq()\n",
    "df_gimbal = lidar.file_handler.get_pandas_gimbal()\n",
    "df_laser = lidar.file_handler.get_pandas_laser()\n",
    "df_tot = lidar.file_handler.get_pandas_tot()\n",
    "df_counts = lidar.file_handler.get_pandas_counts()\n",
    "df_measurement = lidar.file_handler.get_pandas_measurement()\n",
    "\n",
    "df_dcounts = lidar.pds.get_pandas_dcounts()\n",
    "df_rates = lidar.pds.get_pandas_rate()"
   ]
  },
  {
   "cell_type": "code",
   "execution_count": null,
   "metadata": {},
   "outputs": [],
   "source": [
    "df_rates[df_rates['rate_pmt']!=0]"
   ]
  },
  {
   "cell_type": "markdown",
   "metadata": {},
   "source": [
    "# Basic plots direct from file"
   ]
  },
  {
   "cell_type": "code",
   "execution_count": null,
   "metadata": {},
   "outputs": [],
   "source": [
    "fig = multiline_plot(df_daq)\n",
    "fig.show()\n",
    "\n",
    "fig = multiline_plot(df_gimbal)\n",
    "fig.show()\n",
    "\n",
    "fig = multiline_plot(df_laser)\n",
    "fig.show()\n",
    "\n",
    "fig = multiline_plot(df_measurement)\n",
    "fig.show()\n",
    "\n",
    "fig = multiline_plot(df_rates[df_rates['rate_pmt']!=0])\n",
    "fig.show()"
   ]
  },
  {
   "cell_type": "markdown",
   "metadata": {},
   "source": [
    "# Check if measurement steps is valid, i.e.: [0,0,1,1,...,i,i]"
   ]
  },
  {
   "cell_type": "code",
   "execution_count": null,
   "metadata": {},
   "outputs": [],
   "source": [
    "step_r = lidar.file_handler.measurement_step[:].reshape(-1,2)\n",
    "time_r = lidar.file_handler.measurement_time[:].reshape(-1,2)\n",
    "\n",
    "if np.any(step_r[:,0] != step_r[:,1]):\n",
    "    raise ValueError('corrupt data! step_r[:,0] must be step_r[:,1].')"
   ]
  },
  {
   "cell_type": "markdown",
   "metadata": {},
   "source": [
    "# Check DAQ if daq is working properly\n",
    "When step is up, here laser_set_adjust_x.max(), there should be no change of the laser_set_adjust_x/y."
   ]
  },
  {
   "cell_type": "code",
   "execution_count": null,
   "metadata": {},
   "outputs": [],
   "source": [
    "fig = go.Figure()\n",
    "fig.add_trace(go.Scatter(x=lidar.file_handler.laser_time,\n",
    "                         y=lidar.file_handler.laser_set_adjust_x,\n",
    "                         name='adjust_x'))\n",
    "fig.add_trace(go.Scatter(x=lidar.file_handler.laser_time,\n",
    "                         y=lidar.file_handler.laser_set_adjust_y,\n",
    "                         name='adjust_y'))\n",
    "\n",
    "# create a step_line which is high when measurement_step active and low when inactive\n",
    "t_one_off= np.array([lidar.file_handler.measurement_time,\n",
    "                     lidar.file_handler.measurement_time]).T\n",
    "\n",
    "one_off = np.zeros_like(t_one_off)\n",
    "one_off[::2] = [lidar.file_handler.laser_set_adjust_x[:].min(), lidar.file_handler.laser_set_adjust_x[:].max()]\n",
    "one_off[1::2] = [lidar.file_handler.laser_set_adjust_x[:].max(), lidar.file_handler.laser_set_adjust_x[:].min()]\n",
    "\n",
    "fig.add_trace(go.Scatter(x=t_one_off.flatten(),\n",
    "                         y=one_off.flatten(),\n",
    "                         name='steps'))\n"
   ]
  },
  {
   "cell_type": "markdown",
   "metadata": {},
   "source": [
    "# Calculate the values of interest from the scan-measurements"
   ]
  },
  {
   "cell_type": "code",
   "execution_count": null,
   "metadata": {},
   "outputs": [],
   "source": [
    "# the absolute timestamp from the middle of the reading\n",
    "abs_timestamp_middle = lidar.file_handler.counts_time[:-1] + lidar.pds.rate_time*.5\n",
    "\n",
    "bin_counts_pmt, bin_edges, binnumber = scipy.stats.binned_statistic(\n",
    "    abs_timestamp_middle,\n",
    "    lidar.pds.dcounts_pmt,\n",
    "    statistic='sum',\n",
    "    bins=lidar.file_handler.measurement_time)\n",
    "\n",
    "bin_counts_laser, bin_edges, binnumber = scipy.stats.binned_statistic(\n",
    "    abs_timestamp_middle,\n",
    "    lidar.pds.dcounts_laser,\n",
    "    statistic='sum',\n",
    "    bins=lidar.file_handler.measurement_time)\n",
    "\n",
    "# take the middle of the measurement step-time and get the corresponding adjust_x/y values\n",
    "measurement_time = lidar.file_handler.measurement_time[:-1] + np.diff(lidar.file_handler.measurement_time)*.5\n",
    "measurement_adjust_x = np.interp(lidar.file_handler.measurement_time,\n",
    "                                 lidar.file_handler.laser_time,\n",
    "                                 lidar.file_handler.laser_set_adjust_x)\n",
    "\n",
    "measurement_adjust_y = np.interp(lidar.file_handler.measurement_time,\n",
    "                                 lidar.file_handler.laser_time,\n",
    "                                 lidar.file_handler.laser_set_adjust_y)"
   ]
  },
  {
   "cell_type": "code",
   "execution_count": null,
   "metadata": {},
   "outputs": [],
   "source": [
    "# check, should be all ints. If not DAQ isn't working properly.\n",
    "for i in zip(measurement_adjust_x[::2], measurement_adjust_y[::2]):\n",
    "    print(i)"
   ]
  },
  {
   "cell_type": "markdown",
   "metadata": {},
   "source": [
    "## Store the values of interest"
   ]
  },
  {
   "cell_type": "code",
   "execution_count": null,
   "metadata": {},
   "outputs": [],
   "source": [
    "df_scan = pandas.DataFrame({'success_rate': bin_counts_pmt/bin_counts_laser,\n",
    "                            'adjust_x': np.round(measurement_adjust_x[:-1],0).astype(int),\n",
    "                            'adjust_y': np.round(measurement_adjust_y[:-1],0).astype(int)})\n",
    "\n",
    "# df_scan = df_scan[::2]  # cut when moving laser\n",
    "\n",
    "# for 3D and Contour plots\n",
    "x = np.unique(df_scan['adjust_x'])\n",
    "y = np.unique(df_scan['adjust_y'])\n",
    "zz = np.zeros((x.shape[0], y.shape[0]) , dtype=float)\n",
    "zz_err = np.zeros((x.shape[0], y.shape[0]) , dtype=float)\n",
    "\n",
    "\n",
    "for i, x_i in enumerate(x):\n",
    "    for j, y_j in enumerate(y):\n",
    "        mask = (df_scan['adjust_x'].astype(int) == x_i) & (df_scan['adjust_y'].astype(int) == y_j)\n",
    "        zz[i,j] = np.mean(df_scan['success_rate'][mask])\n",
    "        zz_err[i,j] = np.std(df_scan['success_rate'][mask])\n",
    "        \n",
    "dict_scan_3d = {'success_rate': zz,\n",
    "                'success_err': zz_err,\n",
    "                'adjust_x': x,\n",
    "                'adjust_y': y}"
   ]
  },
  {
   "cell_type": "markdown",
   "metadata": {},
   "source": [
    "# 2D scatter with scan track"
   ]
  },
  {
   "cell_type": "code",
   "execution_count": null,
   "metadata": {},
   "outputs": [],
   "source": [
    "go.scatter.Line\n",
    "fig = go.Figure(data=[\n",
    "    go.Scatter(x=df_scan['adjust_x'],\n",
    "               y=df_scan['adjust_y'], \n",
    "               mode='lines+markers',\n",
    "               line=dict(color='gray'),\n",
    "               marker=dict(color=df_scan['success_rate'],\n",
    "                           size=df_scan['success_rate']*2+10,\n",
    "                           colorscale='Viridis',\n",
    "                           colorbar=dict(title=\"Events/Trigger\"),\n",
    "                          ),\n",
    "              ),\n",
    "                     ])\n",
    "fig.update_layout(xaxis_title=\"Adjust X Steps [a.u.]\",\n",
    "                  yaxis_title=\"Adjust Y Steps [a.u.]\",\n",
    "                  width=600, height=500,\n",
    "                  margin=dict(l=0, r=0, b=0, t=0),\n",
    "                 )\n",
    "fig.show()"
   ]
  },
  {
   "cell_type": "code",
   "execution_count": null,
   "metadata": {},
   "outputs": [],
   "source": [
    "go.scatter.Line\n",
    "fig = go.Figure(data=[\n",
    "    go.Scatter3d(x=df_scan['adjust_x'],\n",
    "                 y=df_scan['adjust_y'], \n",
    "                 z=df_scan['success_rate'],\n",
    "                 mode='lines+markers',\n",
    "                 line=dict(color='gray'),\n",
    "                 marker=dict(color=df_scan['success_rate'],\n",
    "                             size=df_scan['success_rate']*2+10,\n",
    "                             colorscale='Viridis',\n",
    "                             colorbar=dict(title=\"Events/Trigger\"),\n",
    "                            )\n",
    "                 ),\n",
    "                     ])\n",
    "\n",
    "fig.update_layout(scene = dict(\n",
    "                    xaxis_title='Adjust X Steps [a.u.]',\n",
    "                    yaxis_title='Adjust Y Steps [a.u.]',\n",
    "                    zaxis_title='Rate [Events/Trigger]'),\n",
    "                  width=900,\n",
    "                  height=700,\n",
    "                  margin=dict(r=0, l=0, b=0, t=0)\n",
    "                 )\n",
    "\n",
    "fig.show()"
   ]
  },
  {
   "cell_type": "markdown",
   "metadata": {},
   "source": [
    "# 3D plot"
   ]
  },
  {
   "cell_type": "code",
   "execution_count": null,
   "metadata": {},
   "outputs": [],
   "source": [
    "fig = go.Figure(data=[go.Surface(x=dict_scan_3d['adjust_x'],\n",
    "                                 y=dict_scan_3d['adjust_y'],\n",
    "                                 z=dict_scan_3d['success_rate'],\n",
    "                                 colorscale='Viridis',\n",
    "                                 colorbar=dict(title=\"Events/Trigger\"),\n",
    "                                )\n",
    "                     ]\n",
    "               )\n",
    "\n",
    "fig.update_layout(autosize=False,\n",
    "#                   width=500, height=500,\n",
    "#                   margin=dict(l=65, r=50, b=65, t=90),\n",
    "                 scene = dict(\n",
    "                    xaxis_title='Adjust X Steps [a.u.]',\n",
    "                    yaxis_title='Adjust Y Steps [a.u.]',\n",
    "                    zaxis_title='Rate [Events/Trigger]'),\n",
    "                  width=900,\n",
    "                  height=700,\n",
    "                  margin=dict(r=0, l=0, b=0, t=0),\n",
    "                 )\n",
    "\n",
    "\n",
    "fig.show()"
   ]
  },
  {
   "cell_type": "code",
   "execution_count": null,
   "metadata": {},
   "outputs": [],
   "source": [
    "fig = go.Figure(data=[go.Contour(x=dict_scan_3d['adjust_x'],\n",
    "                                 y=dict_scan_3d['adjust_y'],\n",
    "                                 z=dict_scan_3d['success_rate'],\n",
    "                                 colorscale='viridis',\n",
    "                                 colorbar=dict(title=\"Events/Trigger\")\n",
    "                                ),\n",
    "                     ]\n",
    "               )\n",
    "\n",
    "fig.update_layout(autosize=False,\n",
    "                  xaxis_title=\"Adjust X Steps [a.u.]\",\n",
    "                  yaxis_title=\"Adjust Y Steps [a.u.]\",\n",
    "                  width=600, height=500,\n",
    "                  margin=dict(l=0, r=0, b=0, t=0),\n",
    "                 )\n",
    "\n",
    "fig.show()\n",
    "\n",
    "fig = go.Figure(data=[go.Contour(x=dict_scan_3d['adjust_x'],\n",
    "                                 y=dict_scan_3d['adjust_y'],\n",
    "                                 z=dict_scan_3d['success_err'],\n",
    "                                 colorscale='viridis',\n",
    "                                 colorbar=dict(title=\"STD Events/Trigger\")\n",
    "                                ),\n",
    "                     ]\n",
    "               )\n",
    "\n",
    "fig.update_layout(autosize=False,\n",
    "                  xaxis_title=\"Adjust X Steps [a.u.]\",\n",
    "                  yaxis_title=\"Adjust Y Steps [a.u.]\",\n",
    "                  width=600, height=500,\n",
    "                  margin=dict(l=0, r=0, b=0, t=0),\n",
    "                 )\n",
    "\n",
    "fig.show()"
   ]
  },
  {
   "cell_type": "code",
   "execution_count": null,
   "metadata": {},
   "outputs": [],
   "source": []
  }
 ],
 "metadata": {
  "kernelspec": {
   "display_name": "Python 3",
   "language": "python",
   "name": "python3"
  },
  "language_info": {
   "codemirror_mode": {
    "name": "ipython",
    "version": 3
   },
   "file_extension": ".py",
   "mimetype": "text/x-python",
   "name": "python",
   "nbconvert_exporter": "python",
   "pygments_lexer": "ipython3",
   "version": "3.7.10"
  }
 },
 "nbformat": 4,
 "nbformat_minor": 4
}
