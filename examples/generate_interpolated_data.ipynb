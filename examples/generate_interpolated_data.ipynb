{
 "cells": [
  {
   "cell_type": "code",
   "execution_count": null,
   "id": "f9736a01",
   "metadata": {},
   "outputs": [],
   "source": [
    "%matplotlib notebook\n",
    "import tqdm\n",
    "import tqdm.notebook\n",
    "\n",
    "import os\n",
    "import shutil\n",
    "import multiprocessing\n",
    "import sys\n",
    "\n",
    "import dateutil\n",
    "import time\n",
    "\n",
    "import numpy as np\n",
    "import strawb\n",
    "\n",
    "import pandas"
   ]
  },
  {
   "cell_type": "markdown",
   "id": "ebdb666f",
   "metadata": {},
   "source": [
    "# Load DB"
   ]
  },
  {
   "cell_type": "code",
   "execution_count": null,
   "id": "824cfe33",
   "metadata": {},
   "outputs": [],
   "source": [
    "db = strawb.SyncDBHandler()\n",
    "db.load_onc_db_update(save_db=True, output=True)"
   ]
  },
  {
   "cell_type": "markdown",
   "id": "dd808c7d",
   "metadata": {},
   "source": [
    "# Mask files of interest: PMTSpec, PMT rates, downloaded, valid, not rate_scan"
   ]
  },
  {
   "cell_type": "code",
   "execution_count": null,
   "id": "e41576fb",
   "metadata": {},
   "outputs": [],
   "source": [
    "mask = db.dataframe.dataProductCode == 'PMTSD'\n",
    "mask &= db.dataframe.deviceCode == 'TUMPMTSPECTROMETER001'\n",
    "mask &= db.dataframe.synced\n",
    "mask &= db.dataframe.file_version > 2\n",
    "mask &= db.dataframe.measurement_type != 'rate_scan'\n",
    "\n",
    "mask_time = db.dataframe.dateFrom>='2021-09-22T04:00'\n",
    "mask_time &= db.dataframe.dateFrom<'2021-09-22T05:00'\n",
    "db.dataframe[mask & mask_time].iloc[0]\n",
    "\n",
    "pmt = strawb.sensors.PMTSpec(db.dataframe[mask & mask_time].fullPath.iloc[0])"
   ]
  },
  {
   "cell_type": "code",
   "execution_count": null,
   "id": "b34154ae",
   "metadata": {},
   "outputs": [],
   "source": [
    "def calculate_interp_rates(t, dataframe, dt, interp_frequency = 1./60., move_to_proc_data_dir=True, force=False):\n",
    "    mask_i = dataframe.dateFrom >= t\n",
    "    mask_i &= dataframe.dateFrom < t+dt\n",
    "    \n",
    "    if len(dataframe[mask_i])==0:\n",
    "        return None\n",
    "    device_code = dataframe[mask_i].deviceCode.unique()[0]\n",
    "\n",
    "    file_name = f'{device_code.lower()}_{t:%Y%m%d}_{dt.freqstr}_{interp_frequency:.2f}_rates_interpolated.hdf5'\n",
    "    file_path_0 = os.path.join(os.path.abspath('.'), file_name)\n",
    "\n",
    "    file_path_proc = os.path.join(strawb.Config.proc_data_dir, device_code.lower()) #, f'{t:%Y%m}')\n",
    "    file_path_proc = os.path.join(os.path.abspath('.'), file_path_proc)\n",
    "    if move_to_proc_data_dir and os.path.exists(file_path_proc) and not force:\n",
    "        print('File exists. Skipp it.')\n",
    "\n",
    "    file_attrs= {'device_code': device_code,\n",
    "                            'file_end': (t+dt).timestamp() - 1e-3,\n",
    "                            'file_start': t.timestamp(),\n",
    "                           }\n",
    "    group_attrs={'interp_frequency': interp_frequency}\n",
    "\n",
    "    err_dict = {}\n",
    "    if os.path.exists(file_path_0):\n",
    "        os.remove(file_path_0)\n",
    "\n",
    "    file = strawb.trb_tools.InterpolatedRatesFile(file_path_0, read_data=False)  # don't read as file doesn't exist\n",
    "\n",
    "    print(f\"Start new file for: {t}\")  # you need this print to see the progress bar of this process\n",
    "#     for i in dataframe.fullPath[mask_i]:\n",
    "    for i in tqdm.tqdm(dataframe.fullPath[mask_i], desc=str(t), file=sys.stdout, smoothing=0):\n",
    "#         print(t, os.path.basename(i))\n",
    "        pmt_i = strawb.sensors.PMTSpec(i)\n",
    "\n",
    "        daq_frequency_readout = pmt_i.file_handler.daq_frequency_readout[:]\n",
    "\n",
    "        # check that readout frequency doesn't change in a file\n",
    "        unique = np.unique(daq_frequency_readout[daq_frequency_readout != -1])\n",
    "        if unique.shape[0] > 1:\n",
    "            print('skipp ', os.path.basename(i), unique)\n",
    "            continue\n",
    "        del daq_frequency_readout, unique\n",
    "\n",
    "        # print(np.unique(daq_frequency_readout[daq_frequency_readout != -1]).shape)\n",
    "        # print(daq_frequency_readout[:], daq_frequency_readout[daq_frequency_readout != -1])\n",
    "        # print(np.unique(daq_frequency_readout[daq_frequency_readout != -1]).shape)\n",
    "        # if len(pmt_i.file_handler.counts_time) < 2:\n",
    "\n",
    "        try:\n",
    "            pmt_i.trb_rates.interp_frequency = interp_frequency\n",
    "        except Exception as a:\n",
    "            err_dict.update({i: a.args})\n",
    "        else:\n",
    "            file.write_to_file(pmt_i.trb_rates, file_attrs=file_attrs, group_attrs=group_attrs)\n",
    "        finally:\n",
    "            del pmt_i\n",
    "\n",
    "    if move_to_proc_data_dir:\n",
    "        os.makedirs(os.path.dirname(file_path_proc), exist_ok=True)\n",
    "        shutil.move(file_path_0, file_path_proc)\n",
    "\n",
    "#     print('--> DONE ', t)\n",
    "    return err_dict"
   ]
  },
  {
   "cell_type": "markdown",
   "id": "901f48a2",
   "metadata": {},
   "source": [
    "# Parse one file"
   ]
  },
  {
   "cell_type": "code",
   "execution_count": null,
   "id": "76fa7e96",
   "metadata": {},
   "outputs": [],
   "source": [
    "err = calculate_interp_rates(t = dateutil.parser.isoparse('2021-09-22 00:00:00+00:00'),\n",
    "                             dt = pandas.offsets.Hour(2),\n",
    "                             dataframe = db.dataframe[mask],\n",
    "                             interp_frequency = 1,\n",
    "                             move_to_proc_data_dir=False)"
   ]
  },
  {
   "cell_type": "markdown",
   "id": "06bc22d5",
   "metadata": {},
   "source": [
    "# Parse multiple files with multiple cores"
   ]
  },
  {
   "cell_type": "code",
   "execution_count": null,
   "id": "c6de6884",
   "metadata": {},
   "outputs": [],
   "source": [
    "# define the interval per file\n",
    "## Candidates for the interval -> pandas.date_range(..., freq=)\n",
    "# pandas.offsets.Second\n",
    "# pandas.offsets.Minute\n",
    "# pandas.offsets.Hour\n",
    "# pandas.offsets.Day\n",
    "# pandas.offsets.Week\n",
    "# pandas.offsets.MonthBegin\n",
    "# pandas.offsets.YearBegin\n",
    "dt = pandas.offsets.MonthBegin(1)\n",
    "\n",
    "# Manualy\n",
    "t_start = dateutil.parser.isoparse('2022-05-01 00:00:00+00:00')\n",
    "t_end = dateutil.parser.isoparse('2022-05-05 10:00:00+00:00')\n",
    "\n",
    "# Take min and max from DB\n",
    "t_start = db.dataframe.dateFrom[mask].min() - dt\n",
    "t_end = db.dataframe.dateFrom[mask].max()\n",
    "\n",
    "\n",
    "dr = pandas.date_range(start=t_start, #db.dataframe.dateFrom[mask].min() - dt,\n",
    "                       end=t_end,\n",
    "                       freq=dt,\n",
    "                       normalize=True\n",
    "                      )\n",
    "\n",
    "dr"
   ]
  },
  {
   "cell_type": "markdown",
   "id": "fcb74034",
   "metadata": {},
   "source": [
    "## Create Multiprocessor"
   ]
  },
  {
   "cell_type": "code",
   "execution_count": null,
   "id": "f827139e",
   "metadata": {},
   "outputs": [],
   "source": [
    "processes = 9\n",
    "mpi = strawb.MProcessIterator(processes=processes,\n",
    "                              progress_bar=tqdm.notebook.tqdm)"
   ]
  },
  {
   "cell_type": "markdown",
   "id": "7a7af036",
   "metadata": {},
   "source": [
    "### Run jobs"
   ]
  },
  {
   "cell_type": "code",
   "execution_count": null,
   "id": "22c1befd",
   "metadata": {},
   "outputs": [],
   "source": [
    "kwargs = {'dataframe': db.dataframe[mask],\n",
    "          'dt': dt,\n",
    "          'interp_frequency': 1,\n",
    "          'move_to_proc_data_dir': False}\n",
    "\n",
    "mpi.run(calculate_interp_rates, dr, pbar_kwargs=dict(smoothing=0, file=sys.stdout), **kwargs)"
   ]
  },
  {
   "cell_type": "code",
   "execution_count": null,
   "id": "a9d599b4",
   "metadata": {},
   "outputs": [],
   "source": [
    "mpi.result_dict"
   ]
  },
  {
   "cell_type": "markdown",
   "id": "f25ee61d",
   "metadata": {},
   "source": [
    "# Test multiprocessing"
   ]
  },
  {
   "cell_type": "code",
   "execution_count": null,
   "id": "f17391f3",
   "metadata": {},
   "outputs": [],
   "source": [
    "# define a dummy function\n",
    "def test(i, bar_position=0, *args, **kwargs):\n",
    "    #print('')  # needed otherwise it doesn't work\n",
    "    for j in tqdm.tqdm(range(5), desc=f'Process {i}', position=bar_position\n",
    "                                ):\n",
    "        time.sleep(.5)\n",
    "        if j == 3 and i == 2:\n",
    "            raise KeyError(i, 'Test')\n",
    "        \n",
    "    return i\n",
    "\n",
    "# iterable for the pool\n",
    "x = np.arange(5)\n",
    "\n",
    "# Process pool\n",
    "pool = multiprocessing.Pool(4)\n",
    "\n",
    "# Total progress bar\n",
    "pbar = tqdm.notebook.tqdm(x, desc='Compile interpolated rates', position=0)\n",
    "\n",
    "# collect results and errors\n",
    "results = []\n",
    "errors = []\n",
    "\n",
    "# called if after a process sucessfully executed the function\n",
    "def update(*a):\n",
    "    results.append(a)\n",
    "    pbar.update()\n",
    "\n",
    "# called if after a process failed to executed the function\n",
    "def update_err(*a):\n",
    "    errors.append(a)\n",
    "    pbar.update()\n",
    "\n",
    "# create the tasks and execute them\n",
    "for i, dr_i in enumerate(x):\n",
    "    pool.apply_async(test,\n",
    "                     args=(dr_i,),\n",
    "                     kwds={'dataframe': db.dataframe[mask],\n",
    "                           #'bar_position': i+1\n",
    "                           },\n",
    "                     callback=update,\n",
    "                     error_callback=update_err)\n",
    "\n",
    "# wait for the process to finish\n",
    "pool.close()\n",
    "pool.join()\n",
    "# close the progress bar\n",
    "pbar.close()\n",
    "\n",
    "# Print errors and results\n",
    "print('Results:', results)\n",
    "print('Errors : ', errors)"
   ]
  },
  {
   "cell_type": "code",
   "execution_count": null,
   "id": "17f7e369",
   "metadata": {},
   "outputs": [],
   "source": []
  }
 ],
 "metadata": {
  "kernelspec": {
   "display_name": "py39",
   "language": "python",
   "name": "py39"
  },
  "language_info": {
   "codemirror_mode": {
    "name": "ipython",
    "version": 3
   },
   "file_extension": ".py",
   "mimetype": "text/x-python",
   "name": "python",
   "nbconvert_exporter": "python",
   "pygments_lexer": "ipython3",
   "version": "3.7.10"
  }
 },
 "nbformat": 4,
 "nbformat_minor": 5
}
