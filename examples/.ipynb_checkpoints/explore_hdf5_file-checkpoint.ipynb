{
 "cells": [
  {
   "cell_type": "code",
   "execution_count": 8,
   "metadata": {},
   "outputs": [],
   "source": [
    "# This examples shows who to download files from the ONC server\n",
    "\n",
    "import numpy as np\n",
    "\n",
    "import strawb\n",
    "import strawb.sensors.camera as camera"
   ]
  },
  {
   "cell_type": "markdown",
   "metadata": {},
   "source": [
    "## Download the files from the ONC server"
   ]
  },
  {
   "cell_type": "code",
   "execution_count": 2,
   "metadata": {},
   "outputs": [
    {
     "name": "stdout",
     "output_type": "stream",
     "text": [
      "Download in directory: /Users/kilian/PycharmProjects/strawb_package/raw_module_data\n",
      "Obtained a list of 5 files to download.\n",
      "   Skipping \"TUMPMTSPECTROMETER002_20210501T000000.000Z-SDAQ-MINISPEC.hdf5\": File already exists.\n",
      "   Skipping \"TUMPMTSPECTROMETER002_20210501T000000.000Z-SDAQ-MODULE.hdf5\": File already exists.\n",
      "   Skipping \"TUMPMTSPECTROMETER002_20210501T190000.000Z-SDAQ-CAMERA.hdf5\": File already exists.\n",
      "   Skipping \"TUMPMTSPECTROMETER002_20210501T200000.000Z-SDAQ-CAMERA.hdf5\": File already exists.\n",
      "   Skipping \"TUMPMTSPECTROMETER002_20210501T210000.000Z-SDAQ-CAMERA.hdf5\": File already exists.\n",
      "0 files (0 Bytes) downloaded\n",
      "Total Download Time: 0.000 seconds\n"
     ]
    }
   ],
   "source": [
    "onc_downloader = strawb.ONCDownloader(showInfo=False)\n",
    "\n",
    "filters = {'deviceCode': 'TUMPMTSPECTROMETER002',\n",
    "           'dateFrom': '2021-05-01T19:00:00.000Z',\n",
    "           'dateTo': '2021-05-01T21:59:59.000Z',\n",
    "           'extension': 'hdf5'}\n",
    "\n",
    "# download in foreground\n",
    "onc_downloader.download_file(filters=filters, allPages=True)"
   ]
  },
  {
   "cell_type": "markdown",
   "metadata": {},
   "source": [
    "# Load a single File"
   ]
  },
  {
   "cell_type": "code",
   "execution_count": 5,
   "metadata": {},
   "outputs": [],
   "source": [
    "file_name = 'TUMPMTSPECTROMETER002_20210501T190000.000Z-SDAQ-CAMERA.hdf5'\n",
    "cam_run = camera.FileHandler(file_name)"
   ]
  },
  {
   "cell_type": "code",
   "execution_count": 11,
   "metadata": {},
   "outputs": [
    {
     "name": "stdout",
     "output_type": "stream",
     "text": [
      "Module: PMTSPECTROMETER002\n",
      "Number of Frames: 35\n",
      "Date: 2021-05-01T19:00:12.800324 - 2021-05-01T19:56:52.366677\n",
      "Exposure Times [s]: [63.5]\n"
     ]
    }
   ],
   "source": [
    "# print some parameters\n",
    "print(f'Module: {cam_run.module}')\n",
    "print(f'Number of Frames: {cam_run.exposure_time.shape[0]}')\n",
    "print(f'Date: {np.min(cam_run.time)} - {np.max(cam_run.time)}')\n",
    "print(f'Exposure Times [s]: {np.unique(cam_run.exposure_time)}')"
   ]
  },
  {
   "cell_type": "code",
   "execution_count": 13,
   "metadata": {},
   "outputs": [
    {
     "data": {
      "text/plain": [
       "array([[[    0,  5984,   224, ..., 11744, 11744, 28704],\n",
       "        [   64,     0,  1184, ..., 10784, 14304, 16384],\n",
       "        [15584,     0,     0, ..., 14944, 14624,  2144],\n",
       "        ...,\n",
       "        [61984, 59904, 65184, ..., 65504, 65504, 65504],\n",
       "        [65504, 53184, 59264, ..., 65504, 65504, 65504],\n",
       "        [65504, 65504, 65504, ..., 65504, 65504, 65504]],\n",
       "\n",
       "       [[    0,     0,  3888, ..., 23088, 11728,  7728],\n",
       "        [ 3248,     0,     0, ...,  6288, 14288,  8208],\n",
       "        [    0,     0,     0, ..., 26768, 10608, 27248],\n",
       "        ...,\n",
       "        [65504, 65504, 65504, ..., 65504, 65504, 65504],\n",
       "        [56688, 62288, 65504, ..., 65504, 65504, 65504],\n",
       "        [65504, 65504, 61488, ..., 65504, 65504, 65504]],\n",
       "\n",
       "       [[ 3344,  6064,  6544, ..., 12944, 18864, 12944],\n",
       "        [ 7504,  1904,     0, ..., 13264, 18064, 15824],\n",
       "        [ 1264,   784, 12304, ..., 15184, 14064, 11024],\n",
       "        ...,\n",
       "        [65504, 47344, 65504, ..., 65504, 65504, 65504],\n",
       "        [65504, 62224, 65504, ..., 65504, 65504, 65504],\n",
       "        [65504, 65504, 65504, ..., 65504, 65504, 65504]]], dtype=uint16)"
      ]
     },
     "execution_count": 13,
     "metadata": {},
     "output_type": "execute_result"
    }
   ],
   "source": [
    "# Rhe raw pixel values are NOT loaded by default to the module to save RAM.\n",
    "# They can be accessed directly from the file with the index, index = None (default) to loads all images\n",
    "cam_run.load_raw(index=[1,3,4])"
   ]
  },
  {
   "cell_type": "markdown",
   "metadata": {},
   "source": [
    "### Store the images with Lucifer enabled"
   ]
  },
  {
   "cell_type": "code",
   "execution_count": 14,
   "metadata": {},
   "outputs": [
    {
     "name": "stdout",
     "output_type": "stream",
     "text": [
      "save: /Users/kilian/PycharmProjects/strawb_package/processed_data/PMTSPECTROMETER002/TORCH_1_15/2021_05_01_19_00_12.png\n",
      "save: /Users/kilian/PycharmProjects/strawb_package/processed_data/PMTSPECTROMETER002/TORCH_2_15/2021_05_01_19_01_55.png\n",
      "save: /Users/kilian/PycharmProjects/strawb_package/processed_data/PMTSPECTROMETER002/TORCH_3_15/2021_05_01_19_03_38.png\n",
      "save: /Users/kilian/PycharmProjects/strawb_package/processed_data/PMTSPECTROMETER002/TORCH_4_15/2021_05_01_19_05_20.png\n",
      "save: /Users/kilian/PycharmProjects/strawb_package/processed_data/PMTSPECTROMETER002/FLASH_0_15_7/2021_05_01_19_53_32.png\n"
     ]
    }
   ],
   "source": [
    "cam_run.image2png_lucifer()"
   ]
  },
  {
   "cell_type": "markdown",
   "metadata": {},
   "source": [
    "### Store the 'brightest' images"
   ]
  },
  {
   "cell_type": "code",
   "execution_count": 23,
   "metadata": {},
   "outputs": [
    {
     "name": "stdout",
     "output_type": "stream",
     "text": [
      "save: /Users/kilian/PycharmProjects/strawb_package/processed_data/PMTSPECTROMETER002/0_2021_05_01_19_26_56.png\n",
      "save: /Users/kilian/PycharmProjects/strawb_package/processed_data/PMTSPECTROMETER002/1_2021_05_01_19_21_57.png\n",
      "save: /Users/kilian/PycharmProjects/strawb_package/processed_data/PMTSPECTROMETER002/2_2021_05_01_19_35_14.png\n",
      "save: /Users/kilian/PycharmProjects/strawb_package/processed_data/PMTSPECTROMETER002/3_2021_05_01_19_40_13.png\n",
      "save: /Users/kilian/PycharmProjects/strawb_package/processed_data/PMTSPECTROMETER002/4_2021_05_01_19_36_53.png\n",
      "save: /Users/kilian/PycharmProjects/strawb_package/processed_data/PMTSPECTROMETER002/5_2021_05_01_19_46_51.png\n",
      "save: /Users/kilian/PycharmProjects/strawb_package/processed_data/PMTSPECTROMETER002/6_2021_05_01_19_51_50.png\n",
      "save: /Users/kilian/PycharmProjects/strawb_package/processed_data/PMTSPECTROMETER002/7_2021_05_01_19_25_16.png\n",
      "save: /Users/kilian/PycharmProjects/strawb_package/processed_data/PMTSPECTROMETER002/8_2021_05_01_19_10_20.png\n",
      "save: /Users/kilian/PycharmProjects/strawb_package/processed_data/PMTSPECTROMETER002/9_2021_05_01_19_33_34.png\n",
      "save: /Users/kilian/PycharmProjects/strawb_package/processed_data/PMTSPECTROMETER002/10_2021_05_01_19_08_40.png\n",
      "save: /Users/kilian/PycharmProjects/strawb_package/processed_data/PMTSPECTROMETER002/11_2021_05_01_19_41_52.png\n",
      "save: /Users/kilian/PycharmProjects/strawb_package/processed_data/PMTSPECTROMETER002/12_2021_05_01_19_28_35.png\n",
      "save: /Users/kilian/PycharmProjects/strawb_package/processed_data/PMTSPECTROMETER002/13_2021_05_01_19_11_59.png\n",
      "save: /Users/kilian/PycharmProjects/strawb_package/processed_data/PMTSPECTROMETER002/14_2021_05_01_19_15_19.png\n",
      "save: /Users/kilian/PycharmProjects/strawb_package/processed_data/PMTSPECTROMETER002/15_2021_05_01_19_38_33.png\n"
     ]
    }
   ],
   "source": [
    "mode_list, mask_list = cam_run.get_lucifer_mask()  # returns a mask for each lucifer setting\n",
    "mask_lucifer = np.any(mask_list, axis=0)  # coomopress the masks to one mask\n",
    "\n",
    "# mask over a threshold + mask invalid frames + mask no lucifer enabled\n",
    "mask = (cam_run.integrated_minus_dark > 1e3) & cam_run.invalid_mask & ~mask_lucifer\n",
    "\n",
    "index = np.argsort(cam_run.integrated_minus_dark)  # sort by charge [min,...,max]\n",
    "index = index[mask[index]]  # remove invalid items  & cam_module.invalid_mask\n",
    "index = index[::-1]  # revers the order\n",
    "cam_run.image2png(index=index, f_name_formatter='{i}_{datetime}.png')  # save the images"
   ]
  },
  {
   "cell_type": "code",
   "execution_count": null,
   "metadata": {},
   "outputs": [],
   "source": []
  }
 ],
 "metadata": {
  "kernelspec": {
   "display_name": "Python 3",
   "language": "python",
   "name": "python3"
  },
  "language_info": {
   "codemirror_mode": {
    "name": "ipython",
    "version": 3
   },
   "file_extension": ".py",
   "mimetype": "text/x-python",
   "name": "python",
   "nbconvert_exporter": "python",
   "pygments_lexer": "ipython3",
   "version": "3.7.9"
  }
 },
 "nbformat": 4,
 "nbformat_minor": 4
}
