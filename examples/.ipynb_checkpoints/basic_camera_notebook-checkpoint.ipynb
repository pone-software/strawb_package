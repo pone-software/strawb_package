{
 "cells": [
  {
   "cell_type": "code",
   "execution_count": null,
   "metadata": {},
   "outputs": [],
   "source": [
    "# This examples shows who to download files from the ONC server\n",
    "\n",
    "import numpy as np\n",
    "\n",
    "import strawb\n",
    "import strawb.sensors.camera as camera\n",
    "reload(strawb)"
   ]
  },
  {
   "cell_type": "markdown",
   "metadata": {},
   "source": [
    "## Download the files from the ONC server"
   ]
  },
  {
   "cell_type": "code",
   "execution_count": null,
   "metadata": {},
   "outputs": [],
   "source": [
    "onc_downloader = strawb.ONCDownloader(showInfo=False)\n",
    "\n",
    "filters = {'deviceCode': 'TUMPMTSPECTROMETER002',\n",
    "           'dateFrom': '2021-05-01T19:00:00.000Z',\n",
    "           'dateTo': '2021-05-01T21:59:59.000Z',\n",
    "           'extension': 'hdf5'}\n",
    "\n",
    "# download in foreground\n",
    "onc_downloader.download_file(filters=filters, allPages=True)"
   ]
  },
  {
   "cell_type": "markdown",
   "metadata": {},
   "source": [
    "# Load a single File"
   ]
  },
  {
   "cell_type": "code",
   "execution_count": null,
   "metadata": {},
   "outputs": [],
   "source": [
    "file_name = 'TUMPMTSPECTROMETER002_20210501T190000.000Z-SDAQ-CAMERA.hdf5'\n",
    "cam_run = camera.FileHandler(file_name)"
   ]
  },
  {
   "cell_type": "code",
   "execution_count": null,
   "metadata": {},
   "outputs": [],
   "source": [
    "# print some parameters\n",
    "print(f'Module: {cam_run.module}')\n",
    "print(f'Number of Frames: {cam_run.exposure_time.shape[0]}')\n",
    "print(f'Date: {np.min(cam_run.time)} - {np.max(cam_run.time)}')\n",
    "print(f'Exposure Times [s]: {np.unique(cam_run.exposure_time)}')"
   ]
  },
  {
   "cell_type": "code",
   "execution_count": null,
   "metadata": {},
   "outputs": [],
   "source": [
    "# Rhe raw pixel values are NOT loaded by default to the module to save RAM.\n",
    "# They can be accessed directly from the file with the index, index = None (default) to loads all images\n",
    "cam_run.load_raw(index=[1,3,4])"
   ]
  },
  {
   "cell_type": "markdown",
   "metadata": {},
   "source": [
    "### Store the images with Lucifer enabled"
   ]
  },
  {
   "cell_type": "code",
   "execution_count": null,
   "metadata": {},
   "outputs": [],
   "source": [
    "cam_run.image2png_lucifer()"
   ]
  },
  {
   "cell_type": "markdown",
   "metadata": {},
   "source": [
    "### Store the 'brightest' images"
   ]
  },
  {
   "cell_type": "code",
   "execution_count": null,
   "metadata": {},
   "outputs": [],
   "source": [
    "mode_list, mask_list = cam_run.get_lucifer_mask()  # returns a mask for each lucifer setting\n",
    "mask_lucifer = np.any(mask_list, axis=0)  # coomopress the masks to one mask\n",
    "\n",
    "# mask over a threshold + mask invalid frames + mask no lucifer enabled\n",
    "mask = (cam_run.integrated_minus_dark > 1e3) & cam_run.invalid_mask & ~mask_lucifer\n",
    "\n",
    "index = np.argsort(cam_run.integrated_minus_dark)  # sort by charge [min,...,max]\n",
    "index = index[mask[index]]  # remove invalid items  & cam_module.invalid_mask\n",
    "index = index[::-1]  # revers the order\n",
    "cam_run.image2png(index=index, f_name_formatter='{i}_{datetime}.png')  # save the images"
   ]
  },
  {
   "cell_type": "code",
   "execution_count": null,
   "metadata": {},
   "outputs": [],
   "source": []
  }
 ],
 "metadata": {
  "kernelspec": {
   "display_name": "Python 3",
   "language": "python",
   "name": "python3"
  },
  "language_info": {
   "codemirror_mode": {
    "name": "ipython",
    "version": 3
   },
   "file_extension": ".py",
   "mimetype": "text/x-python",
   "name": "python",
   "nbconvert_exporter": "python",
   "pygments_lexer": "ipython3",
   "version": "3.7.9"
  }
 },
 "nbformat": 4,
 "nbformat_minor": 4
}
