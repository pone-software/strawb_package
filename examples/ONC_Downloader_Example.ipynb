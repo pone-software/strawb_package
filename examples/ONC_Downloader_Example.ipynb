{
 "cells": [
  {
   "cell_type": "code",
   "execution_count": null,
   "id": "1bb81925",
   "metadata": {},
   "outputs": [],
   "source": [
    "# This examples shows who to download files from the ONC server\n",
    "import strawb\n",
    "\n",
    "# to catch print()'s\n",
    "import io\n",
    "from contextlib import redirect_stdout"
   ]
  },
  {
   "cell_type": "code",
   "execution_count": null,
   "id": "fe21fbee",
   "metadata": {},
   "outputs": [],
   "source": [
    "onc_downloader = strawb.ONCDownloader(showInfo=False)\n",
    "\n",
    "filters = {'deviceCode': 'TUMPMTSPECTROMETER002',\n",
    "           # 'dataProductCode': 'SMRD',\n",
    "           'dateFrom': '2021-05-03T19:00:00.000Z',\n",
    "           'dateTo': '2021-05-03T21:59:59.000Z',\n",
    "           'extension': 'hdf5'}"
   ]
  },
  {
   "cell_type": "markdown",
   "id": "ea7cf444",
   "metadata": {},
   "source": [
    "# Show available files on the ONC server"
   ]
  },
  {
   "cell_type": "code",
   "execution_count": null,
   "id": "d63ea658",
   "metadata": {},
   "outputs": [],
   "source": [
    "onc_downloader.getListByDevice(filters=filters, allPages=True)"
   ]
  },
  {
   "cell_type": "markdown",
   "id": "df3059db",
   "metadata": {},
   "source": [
    "# Basic Download example"
   ]
  },
  {
   "cell_type": "code",
   "execution_count": null,
   "id": "453c10f2",
   "metadata": {},
   "outputs": [],
   "source": [
    "# download in foreground\n",
    "onc_downloader.download_file(filters_or_result=filters, allPages=True)\n",
    "\n",
    "# # to catch the print() of the ONC package\n",
    "# f = io.StringIO()\n",
    "# with redirect_stdout(f):\n",
    "#     onc_downloader.download_file(filters_or_result=filters, allPages=True)\n",
    "# print(f.getvalue())  # print all \n",
    "\n",
    "# # download in background, same as above but the download happens in a thread -> cmd is non blocking\n",
    "# onc_downloader.start(filters=filters, allPages=True)\n",
    "\n",
    "# # download in background, same as above but the download happens in a thread -> cmd is non blocking\n",
    "# onc_downloader.start(filters=filters, allPages=True)"
   ]
  },
  {
   "cell_type": "markdown",
   "id": "980c107b",
   "metadata": {},
   "source": [
    "# Access the info about the download"
   ]
  },
  {
   "cell_type": "code",
   "execution_count": null,
   "id": "e7a820e0",
   "metadata": {},
   "outputs": [],
   "source": [
    "onc_downloader.result"
   ]
  },
  {
   "cell_type": "markdown",
   "id": "08a5d6b5",
   "metadata": {},
   "source": [
    "# Get possible dataProductCodes and dataProductName for a device"
   ]
  },
  {
   "cell_type": "code",
   "execution_count": null,
   "id": "1257a7ab",
   "metadata": {},
   "outputs": [],
   "source": [
    "# get posible dataProductCodes and dataProductName for the device\n",
    "onc_downloader.getDataProducts({'deviceCode':'TUMPMTSPECTROMETER002'})\n",
    "\n",
    "# get posible dataProductCodes and dataProductName for the device only for hdf5-files\n",
    "onc_downloader.getDataProducts({'deviceCode':'TUMPMTSPECTROMETER002', 'extension': 'hdf5'})"
   ]
  },
  {
   "cell_type": "markdown",
   "id": "e87f95eb",
   "metadata": {},
   "source": [
    "# Parallel download files for multiple devices and structured directories"
   ]
  },
  {
   "cell_type": "code",
   "execution_count": null,
   "id": "de0ced62",
   "metadata": {},
   "outputs": [],
   "source": [
    "# get available from ONC server, `download=False` as we want to filter some files.\n",
    "# download_structured does:\n",
    "#  1. download_structured checks for available files, \n",
    "#  2. sets the direcotory for each file ('outPath'),\n",
    "#  (3. if download=True, downloads the files)\n",
    "#  4. returns the result as a pandas.DataFrame\n",
    "pd_result = onc_downloader.download_structured(dev_codes=strawb.dev_codes_deployed[:2],\n",
    "                                               extensions=None,\n",
    "                                               date_from='2021-08-30T00:00:00.000',\n",
    "                                               date_to='2021-08-30T01:00:00.000',\n",
    "                                               download=False,\n",
    "                                               )\n",
    "# select only 5 files\n",
    "pd_result_masked = pd_result[:5]\n",
    "# download the files\n",
    "onc_downloader.getDirectFiles(filters_or_result=pd_result_masked)\n",
    "\n",
    "# show pandas.DataFrame\n",
    "pd_result_masked"
   ]
  },
  {
   "cell_type": "code",
   "execution_count": null,
   "id": "a616c40d",
   "metadata": {},
   "outputs": [],
   "source": []
  }
 ],
 "metadata": {
  "kernelspec": {
   "display_name": "Python 3",
   "language": "python",
   "name": "python3"
  },
  "language_info": {
   "codemirror_mode": {
    "name": "ipython",
    "version": 3
   },
   "file_extension": ".py",
   "mimetype": "text/x-python",
   "name": "python",
   "nbconvert_exporter": "python",
   "pygments_lexer": "ipython3",
   "version": "3.7.10"
  }
 },
 "nbformat": 4,
 "nbformat_minor": 5
}
