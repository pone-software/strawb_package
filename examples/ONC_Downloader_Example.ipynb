{
 "cells": [
  {
   "cell_type": "code",
   "execution_count": 2,
   "id": "1bb81925",
   "metadata": {},
   "outputs": [],
   "source": [
    "# This examples shows who to download files from the ONC server\n",
    "import strawb\n",
    "\n",
    "# to catch print()'s\n",
    "import io\n",
    "from contextlib import redirect_stdout"
   ]
  },
  {
   "cell_type": "code",
   "execution_count": 3,
   "id": "fe21fbee",
   "metadata": {},
   "outputs": [],
   "source": [
    "onc_downloader = strawb.ONCDownloader(showInfo=False)\n",
    "\n",
    "filters = {'deviceCode': 'TUMPMTSPECTROMETER002',\n",
    "           'dateFrom': '2021-05-03T19:00:00.000Z',\n",
    "           'dateTo': '2021-05-03T21:59:59.000Z',\n",
    "           'extension': 'hdf5'}"
   ]
  },
  {
   "cell_type": "markdown",
   "id": "ea7cf444",
   "metadata": {},
   "source": [
    "# Show available files on the ONC server"
   ]
  },
  {
   "cell_type": "code",
   "execution_count": 4,
   "id": "d63ea658",
   "metadata": {},
   "outputs": [
    {
     "data": {
      "text/plain": [
       "{'next': None,\n",
       " 'queryUrl': 'https://data.oceannetworks.ca/api/archivefiles?deviceCode=TUMPMTSPECTROMETER002&dateFrom=2021-05-03T19%3A00%3A00.000Z&dateTo=2021-05-03T21%3A59%3A59.000Z&token=0db751f8-9430-47af-bc11-ed6691b38e22&method=getListByDevice',\n",
       " 'files': ['TUMPMTSPECTROMETER002_20210503T000000.000Z-SDAQ-MINISPEC.hdf5',\n",
       "  'TUMPMTSPECTROMETER002_20210503T000000.000Z-SDAQ-MODULE.hdf5',\n",
       "  'TUMPMTSPECTROMETER002_20210503T190000.000Z-SDAQ-CAMERA.hdf5',\n",
       "  'TUMPMTSPECTROMETER002_20210503T200000.000Z-SDAQ-CAMERA.hdf5',\n",
       "  'TUMPMTSPECTROMETER002_20210503T210000.000Z-SDAQ-CAMERA.hdf5']}"
      ]
     },
     "execution_count": 4,
     "metadata": {},
     "output_type": "execute_result"
    }
   ],
   "source": [
    "onc_downloader.getListByDevice(filters=filters, allPages=True)"
   ]
  },
  {
   "cell_type": "markdown",
   "id": "df3059db",
   "metadata": {},
   "source": [
    "# Basic Download example"
   ]
  },
  {
   "cell_type": "code",
   "execution_count": 5,
   "id": "453c10f2",
   "metadata": {},
   "outputs": [
    {
     "name": "stdout",
     "output_type": "stream",
     "text": [
      "Download in directory: /Users/kilian/PycharmProjects/strawb_package/raw_module_data\n",
      "100%|██████████| 5/5 [00:00<00:00, 46.55file/s, i=TUMPMTSPECTROMETER002_20210503T000000.000Z-SDAQ-MODULE.hdf5]    \n",
      "0 files (0 Bytes) downloaded\n",
      "Total Download Time: 0.000 seconds\n"
     ]
    }
   ],
   "source": [
    "# download in foreground\n",
    "onc_downloader.download_file(filters=filters, allPages=True)\n",
    "\n",
    "# # to catch the print() of the ONC package\n",
    "# f = io.StringIO()\n",
    "# with redirect_stdout(f):\n",
    "#     onc_downloader.download_file(filters=filters, allPages=True)\n",
    "# print(f.getvalue())  # print all \n",
    "\n",
    "# # download in background, same as above but the download happens in a thread -> cmd is non blocking\n",
    "# onc_downloader.start(filters=filters, allPages=True)\n",
    "\n",
    "# # download in background, same as above but the download happens in a thread -> cmd is non blocking\n",
    "# onc_downloader.start(filters=filters, allPages=True)"
   ]
  },
  {
   "cell_type": "markdown",
   "id": "980c107b",
   "metadata": {},
   "source": [
    "# Access the info about the download"
   ]
  },
  {
   "cell_type": "code",
   "execution_count": 10,
   "id": "e7a820e0",
   "metadata": {
    "scrolled": true
   },
   "outputs": [
    {
     "data": {
      "text/plain": [
       "{'downloadResults': [{'url': 'https://data.oceannetworks.ca/api/archivefiles?method=getFile&filename=TUMPMTSPECTROMETER002_20210503T000000.000Z-SDAQ-MINISPEC.hdf5&token=0db751f8-9430-47af-bc11-ed6691b38e22',\n",
       "   'status': 'skipped',\n",
       "   'size': 0,\n",
       "   'downloadTime': 0,\n",
       "   'file': '/Users/kilian/PycharmProjects/strawb_package/raw_module_data/TUMPMTSPECTROMETER002_20210503T000000.000Z-SDAQ-MINISPEC.hdf5'},\n",
       "  {'url': 'https://data.oceannetworks.ca/api/archivefiles?method=getFile&filename=TUMPMTSPECTROMETER002_20210503T000000.000Z-SDAQ-MODULE.hdf5&token=0db751f8-9430-47af-bc11-ed6691b38e22',\n",
       "   'status': 'skipped',\n",
       "   'size': 0,\n",
       "   'downloadTime': 0,\n",
       "   'file': '/Users/kilian/PycharmProjects/strawb_package/raw_module_data/TUMPMTSPECTROMETER002_20210503T000000.000Z-SDAQ-MODULE.hdf5'},\n",
       "  {'url': 'https://data.oceannetworks.ca/api/archivefiles?method=getFile&filename=TUMPMTSPECTROMETER002_20210503T190000.000Z-SDAQ-CAMERA.hdf5&token=0db751f8-9430-47af-bc11-ed6691b38e22',\n",
       "   'status': 'skipped',\n",
       "   'size': 0,\n",
       "   'downloadTime': 0,\n",
       "   'file': '/Users/kilian/PycharmProjects/strawb_package/raw_module_data/TUMPMTSPECTROMETER002_20210503T190000.000Z-SDAQ-CAMERA.hdf5'},\n",
       "  {'url': 'https://data.oceannetworks.ca/api/archivefiles?method=getFile&filename=TUMPMTSPECTROMETER002_20210503T200000.000Z-SDAQ-CAMERA.hdf5&token=0db751f8-9430-47af-bc11-ed6691b38e22',\n",
       "   'status': 'skipped',\n",
       "   'size': 0,\n",
       "   'downloadTime': 0,\n",
       "   'file': '/Users/kilian/PycharmProjects/strawb_package/raw_module_data/TUMPMTSPECTROMETER002_20210503T200000.000Z-SDAQ-CAMERA.hdf5'},\n",
       "  {'url': 'https://data.oceannetworks.ca/api/archivefiles?method=getFile&filename=TUMPMTSPECTROMETER002_20210503T210000.000Z-SDAQ-CAMERA.hdf5&token=0db751f8-9430-47af-bc11-ed6691b38e22',\n",
       "   'status': 'skipped',\n",
       "   'size': 0,\n",
       "   'downloadTime': 0,\n",
       "   'file': '/Users/kilian/PycharmProjects/strawb_package/raw_module_data/TUMPMTSPECTROMETER002_20210503T210000.000Z-SDAQ-CAMERA.hdf5'}],\n",
       " 'stats': {'totalSize': 0, 'downloadTime': 0, 'fileCount': 0}}"
      ]
     },
     "execution_count": 10,
     "metadata": {},
     "output_type": "execute_result"
    }
   ],
   "source": [
    "onc_downloader.result"
   ]
  },
  {
   "cell_type": "markdown",
   "id": "08a5d6b5",
   "metadata": {},
   "source": [
    "# Get possible dataProductCodes and dataProductName for a device"
   ]
  },
  {
   "cell_type": "code",
   "execution_count": 6,
   "id": "1257a7ab",
   "metadata": {
    "scrolled": true
   },
   "outputs": [
    {
     "data": {
      "text/plain": [
       "[{'dataProductCode': 'MSRD',\n",
       "  'dataProductName': 'Mini Spectrometer Raw Data',\n",
       "  'extension': 'hdf5',\n",
       "  'hasDeviceData': True,\n",
       "  'hasPropertyData': False,\n",
       "  'helpDocument': 'https://wiki.oceannetworks.ca/display/DP/167'},\n",
       " {'dataProductCode': 'MSSCD',\n",
       "  'dataProductName': 'Mini Spectrometer Sensor Camera Data',\n",
       "  'extension': 'hdf5',\n",
       "  'hasDeviceData': True,\n",
       "  'hasPropertyData': False,\n",
       "  'helpDocument': 'https://wiki.oceannetworks.ca/display/DP/185'},\n",
       " {'dataProductCode': 'MSSD',\n",
       "  'dataProductName': 'Mini Spectrometer Sensor Data',\n",
       "  'extension': 'hdf5',\n",
       "  'hasDeviceData': True,\n",
       "  'hasPropertyData': False,\n",
       "  'helpDocument': 'https://wiki.oceannetworks.ca/display/DP/184'},\n",
       " {'dataProductCode': 'PMTSD',\n",
       "  'dataProductName': 'PMT Spectrometer Sensor Data',\n",
       "  'extension': 'hdf5',\n",
       "  'hasDeviceData': True,\n",
       "  'hasPropertyData': False,\n",
       "  'helpDocument': 'https://wiki.oceannetworks.ca/display/DP/171'},\n",
       " {'dataProductCode': 'PMTTC',\n",
       "  'dataProductName': 'PMT Spectrometer TRB Counters',\n",
       "  'extension': 'hdf5',\n",
       "  'hasDeviceData': True,\n",
       "  'hasPropertyData': False,\n",
       "  'helpDocument': 'https://wiki.oceannetworks.ca/display/DP/161'},\n",
       " {'dataProductCode': 'SMRD',\n",
       "  'dataProductName': 'Standard Module Raw Data',\n",
       "  'extension': 'hdf5',\n",
       "  'hasDeviceData': True,\n",
       "  'hasPropertyData': False,\n",
       "  'helpDocument': 'https://wiki.oceannetworks.ca/display/DP/157'}]"
      ]
     },
     "execution_count": 6,
     "metadata": {},
     "output_type": "execute_result"
    }
   ],
   "source": [
    "# get posible dataProductCodes and dataProductName for the device\n",
    "onc_downloader.getDataProducts({'deviceCode':'TUMPMTSPECTROMETER002'})\n",
    "\n",
    "# get posible dataProductCodes and dataProductName for the device only for hdf5-files\n",
    "onc_downloader.getDataProducts({'deviceCode':'TUMPMTSPECTROMETER002', 'extension': 'hdf5'})"
   ]
  },
  {
   "cell_type": "markdown",
   "id": "e87f95eb",
   "metadata": {},
   "source": [
    "# Parallel download files for multiple devices and"
   ]
  },
  {
   "cell_type": "code",
   "execution_count": 6,
   "id": "4f290e69",
   "metadata": {
    "scrolled": false
   },
   "outputs": [
    {
     "name": "stdout",
     "output_type": "stream",
     "text": [
      "Download in directory: /Users/kilian/PycharmProjects/strawb_package/raw_module_data\n",
      "100%|██████████| 71/71 [00:00<00:00, 847.85file/s, file=TUMMINISPECTROMETER001_20210613T000000.000Z-SDAQ-MODULE.hdf5]\n",
      "0 files (0 Bytes) downloaded\n",
      "Total Download Time: 0.000 seconds\n",
      "Download in directory: /Users/kilian/PycharmProjects/strawb_package/raw_module_data\n",
      "100%|██████████| 125/125 [00:00<00:00, 690.46file/s, file=TUMLIDAR001_20210719T000000.000Z-SDAQ-MODULE.hdf5]\n",
      "0 files (0 Bytes) downloaded\n",
      "Total Download Time: 0.000 seconds\n",
      "Download in directory: /Users/kilian/PycharmProjects/strawb_package/raw_module_data\n",
      "100%|██████████| 134/134 [00:00<00:00, 802.46file/s, file=TUMSTANDARDMODULE004_20210719T000000.000Z-SDAQ-MODULE.hdf5]\n",
      "0 files (0 Bytes) downloaded\n",
      "Total Download Time: 0.000 seconds\n",
      "Download in directory: /Users/kilian/PycharmProjects/strawb_package/raw_module_data\n",
      "100%|██████████| 123/123 [00:00<00:00, 779.88file/s, file=TUMPMTSPECTROMETER002_20210719T000000.000Z-SDAQ-MODULE.hdf5]\n",
      "0 files (0 Bytes) downloaded\n",
      "Total Download Time: 0.000 seconds\n",
      "Download in directory: /Users/kilian/PycharmProjects/strawb_package/raw_module_data\n",
      "100%|██████████| 134/134 [00:06<00:00, 20.10file/s, file=TUMSTANDARDMODULE001_20210719T000000.000Z-SDAQ-MODULE.hdf5]\n",
      "1 files (2.4 MB) downloaded\n",
      "Total Download Time: 6 seconds\n",
      "Download in directory: /Users/kilian/PycharmProjects/strawb_package/raw_module_data\n",
      "100%|██████████| 288/288 [00:05<00:00, 56.80file/s, file=TUMLIDAR002_20210719T000000.000Z-SDAQ-MODULE.hdf5] \n",
      "1 files (2.7 MB) downloaded\n",
      "Total Download Time: 4 seconds\n",
      "Download in directory: /Users/kilian/PycharmProjects/strawb_package/raw_module_data\n",
      "100%|██████████| 229/229 [00:00<00:00, 741.98file/s, file=TUMMUONTRACKER001_20210511T231716.192Z-SDAQ-MODULE.hdf5]\n",
      "0 files (0 Bytes) downloaded\n",
      "Total Download Time: 0.000 seconds\n",
      "Download in directory: /Users/kilian/PycharmProjects/strawb_package/raw_module_data\n",
      "100%|██████████| 126/126 [00:04<00:00, 29.11file/s, file=TUMPMTSPECTROMETER001_20210719T000000.000Z-SDAQ-MODULE.hdf5]\n",
      "1 files (2.6 MB) downloaded\n",
      "Total Download Time: 4 seconds\n"
     ]
    }
   ],
   "source": [
    "# get all possible dev_codes\n",
    "dev_codes = set([i['dev_code'] for i in strawb.module_onc_id.values()])\n",
    "# subtract not deployed dev_codes\n",
    "dev_codes = dev_codes.difference(['TEST', 'UNITTEST', 'TUMSTANDARDMODULE002', 'TUMSTANDARDMODULE003'])\n",
    "\n",
    "downloader = []\n",
    "\n",
    "# orignial planned as threaded approach, but somehow it doens't work perfectly with the progress bar\n",
    "for dev_i in list(dev_codes):\n",
    "    for i in [#('2021-01-01T00:00:00.000Z', '2021-03-01T23:59:59.000Z'),\n",
    "              #('2021-03-02T00:00:00.000Z', '2021-05-01T23:59:59.000Z'),\n",
    "              ('2021-05-02T00:00:00.000Z', '2022-01-02T23:59:59.000Z')]:\n",
    "        filters = {'deviceCode': dev_i,\n",
    "                   'dataProductCode': 'SMRD',\n",
    "                   'dateFrom': i[0],\n",
    "                   'dateTo': i[1],\n",
    "                   'extension': 'hdf5'}\n",
    "\n",
    "        downloader_i=strawb.ONCDownloader(showInfo=False)  # create ONCDownloader\n",
    "        \n",
    "        # downloader_i.start(filters=filters, allPages=True)  # start the download in a thread (background)\n",
    "        downloader_i.download_file(filters=filters, allPages=True)  # start the download in a thread (background)\n",
    "        \n",
    "        downloader.append(downloader_i)  # append the ONCDownloader to access it later"
   ]
  },
  {
   "cell_type": "code",
   "execution_count": null,
   "id": "3b5e8ca9",
   "metadata": {},
   "outputs": [],
   "source": []
  }
 ],
 "metadata": {
  "kernelspec": {
   "display_name": "Python 3",
   "language": "python",
   "name": "python3"
  },
  "language_info": {
   "codemirror_mode": {
    "name": "ipython",
    "version": 3
   },
   "file_extension": ".py",
   "mimetype": "text/x-python",
   "name": "python",
   "nbconvert_exporter": "python",
   "pygments_lexer": "ipython3",
   "version": "3.7.10"
  }
 },
 "nbformat": 4,
 "nbformat_minor": 5
}
