{
 "cells": [
  {
   "cell_type": "code",
   "execution_count": null,
   "id": "1bb81925",
   "metadata": {},
   "outputs": [],
   "source": [
    "# This examples shows who to download files from the ONC server\n",
    "import strawb\n",
    "\n",
    "# to catch print()'s\n",
    "import io\n",
    "from contextlib import redirect_stdout"
   ]
  },
  {
   "cell_type": "code",
   "execution_count": null,
   "id": "fe21fbee",
   "metadata": {},
   "outputs": [],
   "source": [
    "onc_downloader = strawb.ONCDownloader(showInfo=False)\n",
    "\n",
    "filters = {'deviceCode': 'TUMPMTSPECTROMETER002',\n",
    "           'dateFrom': '2021-05-03T19:00:00.000Z',\n",
    "           'dateTo': '2021-05-03T21:59:59.000Z',\n",
    "           'extension': 'hdf5'}"
   ]
  },
  {
   "cell_type": "markdown",
   "id": "ea7cf444",
   "metadata": {},
   "source": [
    "# Show available files on the ONC server"
   ]
  },
  {
   "cell_type": "code",
   "execution_count": null,
   "id": "d63ea658",
   "metadata": {},
   "outputs": [],
   "source": [
    "onc_downloader.getListByDevice(filters=filters, allPages=True)"
   ]
  },
  {
   "cell_type": "markdown",
   "id": "df3059db",
   "metadata": {},
   "source": [
    "# Basic Download example"
   ]
  },
  {
   "cell_type": "code",
   "execution_count": null,
   "id": "453c10f2",
   "metadata": {},
   "outputs": [],
   "source": [
    "# download in foreground\n",
    "onc_downloader.download_file(filters=filters, allPages=True)\n",
    "\n",
    "# # to catch the print() of the ONC package\n",
    "# f = io.StringIO()\n",
    "# with redirect_stdout(f):\n",
    "#     onc_downloader.download_file(filters=filters, allPages=True)\n",
    "# print(f.getvalue())  # print all \n",
    "\n",
    "# # download in background, same as above but the download happens in a thread -> cmd is non blocking\n",
    "# onc_downloader.start(filters=filters, allPages=True)\n",
    "\n",
    "# # download in background, same as above but the download happens in a thread -> cmd is non blocking\n",
    "# onc_downloader.start(filters=filters, allPages=True)"
   ]
  },
  {
   "cell_type": "markdown",
   "id": "980c107b",
   "metadata": {},
   "source": [
    "# Access the info about the download"
   ]
  },
  {
   "cell_type": "code",
   "execution_count": null,
   "id": "e7a820e0",
   "metadata": {},
   "outputs": [],
   "source": [
    "onc_downloader.result"
   ]
  },
  {
   "cell_type": "markdown",
   "id": "08a5d6b5",
   "metadata": {},
   "source": [
    "# Get possible dataProductCodes and dataProductName for a device"
   ]
  },
  {
   "cell_type": "code",
   "execution_count": null,
   "id": "1257a7ab",
   "metadata": {},
   "outputs": [],
   "source": [
    "# get posible dataProductCodes and dataProductName for the device\n",
    "onc_downloader.getDataProducts({'deviceCode':'TUMPMTSPECTROMETER002'})\n",
    "\n",
    "# get posible dataProductCodes and dataProductName for the device only for hdf5-files\n",
    "onc_downloader.getDataProducts({'deviceCode':'TUMPMTSPECTROMETER002', 'extension': 'hdf5'})"
   ]
  },
  {
   "cell_type": "markdown",
   "id": "e87f95eb",
   "metadata": {},
   "source": [
    "# Parallel download files for multiple devices and"
   ]
  },
  {
   "cell_type": "code",
   "execution_count": null,
   "id": "4f290e69",
   "metadata": {},
   "outputs": [],
   "source": [
    "# get all possible dev_codes\n",
    "dev_codes = set([i['dev_code'] for i in strawb.module_onc_id.values()])\n",
    "# subtract not deployed dev_codes\n",
    "dev_codes = dev_codes.difference(['TEST', 'UNITTEST', 'TUMSTANDARDMODULE002', 'TUMSTANDARDMODULE003'])\n",
    "\n",
    "downloader = []\n",
    "\n",
    "# orignial planned as threaded approach, but somehow it doens't work perfectly with the progress bar\n",
    "for dev_i in list(dev_codes):\n",
    "    for i in [#('2021-01-01T00:00:00.000Z', '2021-03-01T23:59:59.000Z'),\n",
    "              #('2021-03-02T00:00:00.000Z', '2021-05-01T23:59:59.000Z'),\n",
    "              ('2021-05-02T00:00:00.000Z', '2022-01-02T23:59:59.000Z')]:\n",
    "        filters = {'deviceCode': dev_i,\n",
    "                   'dataProductCode': 'SMRD',\n",
    "                   'dateFrom': i[0],\n",
    "                   'dateTo': i[1],\n",
    "                   'extension': 'hdf5'}\n",
    "\n",
    "        downloader_i=strawb.ONCDownloader(showInfo=False)  # create ONCDownloader\n",
    "        \n",
    "        # downloader_i.start(filters=filters, allPages=True)  # start the download in a thread (background)\n",
    "        downloader_i.download_file(filters=filters, allPages=True)  # start the download in a thread (background)\n",
    "        \n",
    "        downloader.append(downloader_i)  # append the ONCDownloader to access it later"
   ]
  },
  {
   "cell_type": "code",
   "execution_count": null,
   "id": "3b5e8ca9",
   "metadata": {},
   "outputs": [],
   "source": []
  }
 ],
 "metadata": {
  "kernelspec": {
   "display_name": "Python 3",
   "language": "python",
   "name": "python3"
  },
  "language_info": {
   "codemirror_mode": {
    "name": "ipython",
    "version": 3
   },
   "file_extension": ".py",
   "mimetype": "text/x-python",
   "name": "python",
   "nbconvert_exporter": "python",
   "pygments_lexer": "ipython3",
   "version": "3.7.10"
  }
 },
 "nbformat": 4,
 "nbformat_minor": 5
}
