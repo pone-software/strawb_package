{
 "cells": [
  {
   "cell_type": "markdown",
   "id": "403820c3",
   "metadata": {},
   "source": [
    "# This examples shows who to download files from the ONC server"
   ]
  },
  {
   "cell_type": "code",
   "execution_count": null,
   "id": "1bb81925",
   "metadata": {},
   "outputs": [],
   "source": [
    "import strawb"
   ]
  },
  {
   "cell_type": "code",
   "execution_count": null,
   "id": "fe21fbee",
   "metadata": {},
   "outputs": [],
   "source": [
    "onc_downloader = strawb.ONCDownloader(showInfo=False)\n",
    "\n",
    "filters = {'deviceCode': 'TUMLIDAR001',\n",
    "           'dateFrom': '2021-09-04T00:00:00.000Z',\n",
    "           'dateTo': '2021-09-04T01:59:59.000Z',\n",
    "           'extension': 'hdf5'}\n",
    "# another filters parameter is: 'dataProductCode': 'SMRD'"
   ]
  },
  {
   "cell_type": "markdown",
   "id": "ea7cf444",
   "metadata": {},
   "source": [
    "# Show available files on the ONC server"
   ]
  },
  {
   "cell_type": "code",
   "execution_count": null,
   "id": "d63ea658",
   "metadata": {},
   "outputs": [],
   "source": [
    "onc_downloader.getListByDevice(filters=filters, allPages=True)"
   ]
  },
  {
   "cell_type": "markdown",
   "id": "1ae38412",
   "metadata": {},
   "source": [
    "## Get the same as Pandas DataFrame + structured 'outPath'"
   ]
  },
  {
   "cell_type": "code",
   "execution_count": null,
   "id": "d3607235",
   "metadata": {},
   "outputs": [],
   "source": [
    "df_result = onc_downloader.download_structured(dev_codes=[filters['deviceCode']],\n",
    "                                               date_from=filters['dateFrom'],\n",
    "                                               date_to=filters['dateTo'],\n",
    "                                               download=False)\n",
    "\n",
    "df_result  # show the pandas DataFrame"
   ]
  },
  {
   "cell_type": "markdown",
   "id": "3262bf08",
   "metadata": {},
   "source": [
    "## and download the files listed in the DataFrame which are <10MB"
   ]
  },
  {
   "cell_type": "code",
   "execution_count": null,
   "id": "c01e5da1",
   "metadata": {},
   "outputs": [],
   "source": [
    "onc_downloader.getDirectFiles(filters_or_result=df_result[df_result['fileSize']<10e6])  # <10MB"
   ]
  },
  {
   "cell_type": "markdown",
   "id": "980c107b",
   "metadata": {},
   "source": [
    "# Access the info about the download"
   ]
  },
  {
   "cell_type": "code",
   "execution_count": null,
   "id": "e7a820e0",
   "metadata": {},
   "outputs": [],
   "source": [
    "onc_downloader.result"
   ]
  },
  {
   "cell_type": "markdown",
   "id": "08a5d6b5",
   "metadata": {},
   "source": [
    "# Get possible dataProductCodes and dataProductName for a device"
   ]
  },
  {
   "cell_type": "code",
   "execution_count": null,
   "id": "1257a7ab",
   "metadata": {},
   "outputs": [],
   "source": [
    "# get possible dataProductCodes and dataProductName for the device\n",
    "onc_downloader.getDataProducts({'deviceCode': filters['deviceCode']})"
   ]
  },
  {
   "cell_type": "code",
   "execution_count": null,
   "id": "dbc9b7f3",
   "metadata": {},
   "outputs": [],
   "source": [
    "# get possible dataProductCodes and dataProductName for the device only for hdf5-files\n",
    "onc_downloader.getDataProducts({'deviceCode': filters['deviceCode'], 'extension': 'hdf5'})"
   ]
  },
  {
   "cell_type": "code",
   "execution_count": null,
   "id": "25a475c9",
   "metadata": {},
   "outputs": [],
   "source": []
  }
 ],
 "metadata": {
  "kernelspec": {
   "display_name": "Python 3",
   "language": "python",
   "name": "python3"
  },
  "language_info": {
   "codemirror_mode": {
    "name": "ipython",
    "version": 3
   },
   "file_extension": ".py",
   "mimetype": "text/x-python",
   "name": "python",
   "nbconvert_exporter": "python",
   "pygments_lexer": "ipython3",
   "version": "3.7.10"
  }
 },
 "nbformat": 4,
 "nbformat_minor": 5
}
