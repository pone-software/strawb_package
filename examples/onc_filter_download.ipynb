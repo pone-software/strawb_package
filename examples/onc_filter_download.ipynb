{
 "cells": [
  {
   "cell_type": "markdown",
   "id": "403820c3",
   "metadata": {},
   "source": [
    "# This examples shows how to interact with the ONC API and additional featrues from `strawb`\n",
    "The methods "
   ]
  },
  {
   "cell_type": "code",
   "execution_count": null,
   "id": "1bb81925",
   "metadata": {},
   "outputs": [],
   "source": [
    "import pandas\n",
    "import plotly.express as px\n",
    "import numpy as np\n",
    "\n",
    "import strawb"
   ]
  },
  {
   "cell_type": "code",
   "execution_count": null,
   "id": "fe21fbee",
   "metadata": {},
   "outputs": [],
   "source": [
    "onc_downloader = strawb.ONCDownloader(showInfo=False, timeout=60)\n",
    "\n",
    "# select a device: e.g. 'ONCMJB016' the STRAWb MiniJB; or a module: 'TUMLIDAR001', 'TUMMUONTRACKER001',..\n",
    "filters = {'deviceCode': 'ONCMJB016',\n",
    "           'dateFrom': '2021-10-11T00:00:00.000Z',\n",
    "           'dateTo': '2021-10-12T00:00:00.000Z',\n",
    "           # 'extension': 'hdf5'\n",
    "          }\n",
    "\n",
    "# More `filters` parameter are: \n",
    "# 'dataProductCode': 'SMRD'  # use onc_downloader.getDataProducts(...) (see below) to check for posible entries \n",
    "# 'extension': 'hdf5'  # use onc_downloader.getDataProducts(...) (see below) to check for posible entries"
   ]
  },
  {
   "cell_type": "markdown",
   "id": "ea7cf444",
   "metadata": {},
   "source": [
    "# 1. Get available files from the ONC server"
   ]
  },
  {
   "cell_type": "markdown",
   "id": "a805e8d5",
   "metadata": {},
   "source": [
    "## 1.1. Basic method from the ONC API (not recomended)\n",
    "the returned dict has a list with filenames under 'files'"
   ]
  },
  {
   "cell_type": "code",
   "execution_count": null,
   "id": "d63ea658",
   "metadata": {},
   "outputs": [],
   "source": [
    "onc_downloader.getListByDevice(filters=filters, allPages=True)"
   ]
  },
  {
   "cell_type": "markdown",
   "id": "1ae38412",
   "metadata": {},
   "source": [
    "## 1.2. STRAWb method (recomended): \n",
    "### 1.2.1 Get the files as a Pandas DataFrame + a structured 'outPath'\n",
    "The columns are infromations from the ONC DB. The column 'synced' shows if the file is available localy."
   ]
  },
  {
   "cell_type": "code",
   "execution_count": null,
   "id": "d3607235",
   "metadata": {},
   "outputs": [],
   "source": [
    "df_result = onc_downloader.get_files_structured(dev_codes=[filters['deviceCode']],\n",
    "                                                date_from=filters['dateFrom'],\n",
    "                                                date_to=filters['dateTo'],\n",
    "#                                                 extensions=['txt', 'hdf5', 'hld']\n",
    "                                               )\n",
    "\n",
    "df_result  # show the pandas DataFrame"
   ]
  },
  {
   "cell_type": "markdown",
   "id": "0ef491e5",
   "metadata": {},
   "source": [
    "### 1.2.2 Mask the resulting DataFrame this has more features as provided by the filters"
   ]
  },
  {
   "cell_type": "code",
   "execution_count": null,
   "id": "e9202c8f",
   "metadata": {},
   "outputs": [],
   "source": [
    "mask = df_result['fileSize']<10e3\n",
    "df_result[mask]  # show the filterd files"
   ]
  },
  {
   "cell_type": "markdown",
   "id": "3262bf08",
   "metadata": {},
   "source": [
    "# 2. Download files \n",
    "\n",
    "## 2.1 Basic method from the ONC API (not recomended -> #)"
   ]
  },
  {
   "cell_type": "code",
   "execution_count": null,
   "id": "c79d2c41",
   "metadata": {},
   "outputs": [],
   "source": [
    "# onc_downloader.getDirectFiles(filters_or_result=filters)"
   ]
  },
  {
   "cell_type": "markdown",
   "id": "afa2ebe9",
   "metadata": {},
   "source": [
    "## 2.2 STRAWb method (recomended)\n",
    "use the mask and DataFrame from 1.2.1 and 1.2.2"
   ]
  },
  {
   "cell_type": "code",
   "execution_count": null,
   "id": "c01e5da1",
   "metadata": {},
   "outputs": [],
   "source": [
    "onc_downloader.getDirectFiles(filters_or_result=df_result[mask])"
   ]
  },
  {
   "cell_type": "markdown",
   "id": "3068388d",
   "metadata": {},
   "source": [
    "## 2.3 STRAWb method (recomended, too)"
   ]
  },
  {
   "cell_type": "code",
   "execution_count": null,
   "id": "80ff7f12",
   "metadata": {},
   "outputs": [],
   "source": [
    "# as standalone\n",
    "onc_downloader.download_structured(dev_codes=[filters['deviceCode']],\n",
    "                                   date_from=filters['dateFrom'],\n",
    "                                   date_to=filters['dateTo'],\n",
    "                                   max_file_size=10e3,\n",
    "#                                  extensions=['txt', 'hdf5', 'hld']\n",
    "                                  )"
   ]
  },
  {
   "cell_type": "code",
   "execution_count": null,
   "id": "c15c4378",
   "metadata": {},
   "outputs": [],
   "source": [
    "# based on the DataFrame\n",
    "onc_downloader.download_structured(pd_result=df_result[mask])"
   ]
  },
  {
   "cell_type": "markdown",
   "id": "980c107b",
   "metadata": {},
   "source": [
    "### Access the info about the download\n",
    "works with all options from 2."
   ]
  },
  {
   "cell_type": "code",
   "execution_count": null,
   "id": "e7a820e0",
   "metadata": {},
   "outputs": [],
   "source": [
    "onc_downloader.result"
   ]
  },
  {
   "cell_type": "markdown",
   "id": "08a5d6b5",
   "metadata": {},
   "source": [
    "# 3. Explore the ONC DB\n",
    "## 3.1 Get Data Products\n",
    "possible dataProductCodes and dataProductName for a device"
   ]
  },
  {
   "cell_type": "code",
   "execution_count": null,
   "id": "1257a7ab",
   "metadata": {},
   "outputs": [],
   "source": [
    "# get possible dataProductCodes and dataProductName for the device\n",
    "onc_downloader.getDataProducts(filters={'deviceCode': filters['deviceCode'],\n",
    "                                        # 'extension': 'hdf5',  # more filter options possible\n",
    "                                        # 'dataProductCode': 'LF',\n",
    "                                        }\n",
    "                              )"
   ]
  },
  {
   "cell_type": "markdown",
   "id": "51e0b70b",
   "metadata": {},
   "source": [
    "## 3.2 Get Locations"
   ]
  },
  {
   "cell_type": "code",
   "execution_count": null,
   "id": "c0eeda68",
   "metadata": {},
   "outputs": [],
   "source": [
    "result = onc_downloader.getLocations()\n",
    "\n",
    "result"
   ]
  },
  {
   "cell_type": "code",
   "execution_count": null,
   "id": "f8ff53f0",
   "metadata": {},
   "outputs": [],
   "source": [
    "# convert the result to a DataFrame\n",
    "df = pandas.DataFrame(data=result)\n",
    "\n",
    "# filter out locations which are located at 'Cascadia' Basin\n",
    "mask = df.description.str.contains('Cascadia')\n",
    "mask &= ~df.description.isnull()\n",
    "\n",
    "# show the dataframe\n",
    "df[mask]"
   ]
  },
  {
   "cell_type": "code",
   "execution_count": null,
   "id": "b2ace681",
   "metadata": {},
   "outputs": [],
   "source": [
    "# Style dataframe for plotting\n",
    "\n",
    "# add location column to group data\n",
    "df['location'] = 'Others'\n",
    "df.loc[mask, 'location'] = 'Cascadia Basin'\n",
    "\n",
    "# mask invalid parameters that `fig.update_geos(fitbounds=\"locations\")` works\n",
    "mask_invalid = df.lon.abs() > 180.\n",
    "mask_invalid | df.lat.abs() > 90.\n",
    "\n",
    "# detect positions where either 'lon', 'lat' or both is Nan\n",
    "# must be `mask_invalid = ` here <-> pandas...\n",
    "mask_invalid = mask_invalid | df[['lon', 'lat']].isnull().any(axis=1)"
   ]
  },
  {
   "cell_type": "code",
   "execution_count": null,
   "id": "b0ad08aa",
   "metadata": {},
   "outputs": [],
   "source": [
    "# Plot locations\n",
    "fig = px.scatter_geo(df[~mask_invalid],\n",
    "                    lat='lat',\n",
    "                    lon='lon',\n",
    "                    color='location',\n",
    "                    hover_data=[\"locationName\", 'locationCode'])\n",
    "\n",
    "fig.update_geos(fitbounds=\"locations\")\n",
    "\n",
    "# to tune the plot\n",
    "# fig.update_layout(\n",
    "#     geo = dict(\n",
    "#         #scope = 'north america',\n",
    "#         showland = True,\n",
    "#         #showlakes = True,\n",
    "#         #showsubunits = True,\n",
    "#         showcountries = True,\n",
    "#         #showrivers=True, #rivercolor=\"Blue\",\n",
    "#         resolution = 110,  # either 110 or 50\n",
    "#         #projection = dict(\n",
    "#         #    type = \"natural earth\",\n",
    "#         #    rotation_lon = -100\n",
    "#         #),\n",
    "#         lonaxis = dict(\n",
    "#             showgrid = True,\n",
    "#             gridwidth = .5,\n",
    "#             #range= [ -140.0, -55.0 ],\n",
    "#             dtick = 5\n",
    "#         ),\n",
    "#         lataxis = dict (\n",
    "#             showgrid = True,\n",
    "#             gridwidth = .5,\n",
    "#             #range= [ 30.0, 90.0 ],\n",
    "#             dtick = 5\n",
    "#         )\n",
    "#     ),\n",
    "# )\n",
    "\n",
    "fig.show()"
   ]
  },
  {
   "cell_type": "code",
   "execution_count": null,
   "id": "8bebfccc",
   "metadata": {},
   "outputs": [],
   "source": []
  }
 ],
 "metadata": {
  "kernelspec": {
   "display_name": "Python 3",
   "language": "python",
   "name": "python3"
  },
  "language_info": {
   "codemirror_mode": {
    "name": "ipython",
    "version": 3
   },
   "file_extension": ".py",
   "mimetype": "text/x-python",
   "name": "python",
   "nbconvert_exporter": "python",
   "pygments_lexer": "ipython3",
   "version": "3.7.10"
  }
 },
 "nbformat": 4,
 "nbformat_minor": 5
}
