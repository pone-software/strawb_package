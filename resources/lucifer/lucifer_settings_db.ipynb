{
 "cells": [
  {
   "cell_type": "markdown",
   "id": "cce5a6a2",
   "metadata": {},
   "source": [
    "# Scan all SDAQ-MODULE.hdf5 files and extract Lucifer settings"
   ]
  },
  {
   "cell_type": "code",
   "execution_count": null,
   "id": "2cf7f6ed",
   "metadata": {},
   "outputs": [],
   "source": [
    "import os\n",
    "import strawb\n",
    "import pandas\n",
    "import tqdm.notebook\n",
    "import h5py"
   ]
  },
  {
   "cell_type": "code",
   "execution_count": null,
   "id": "042af566",
   "metadata": {},
   "outputs": [],
   "source": [
    "def scan_lucifer_options(db):\n",
    "    # mask by device and dataProductCode\n",
    "    mask = db.dataframe.dataProductCode == 'SMRD'\n",
    "    # From file_version 2 there are lucifer data \n",
    "    mask &= db.dataframe.file_version > 1\n",
    "\n",
    "    df = pandas.DataFrame()\n",
    "\n",
    "    for file_i in tqdm.notebook.tqdm(db.dataframe.fullPath[mask]):\n",
    "        module = strawb.Module(file_i)\n",
    "        df_i = pandas.DataFrame()\n",
    "\n",
    "        # loop over individual lucifer\n",
    "        for lucifer_j in module.file_handler.lucifer_list:\n",
    "            data = {}\n",
    "            \n",
    "            # get data from hdf5 files\n",
    "            for key_h in ['id', 'current', 'current_mA', 'duration', 'duration_seconds', 'mode', 'time', 'version']:\n",
    "                a = lucifer_j.__getattribute__(key_h)\n",
    "                if isinstance(a, h5py.Dataset):\n",
    "                    a = a[:]\n",
    "                data.update({key_h: a})\n",
    "\n",
    "            df_i = df_i.append(pandas.DataFrame(data))\n",
    "\n",
    "        df_i['deviceCode'] = module.file_handler.module\n",
    "        df = df.append(df_i)\n",
    "\n",
    "    df.time = pandas.to_datetime(strawb.tools.asdatetime(df.time))\n",
    "    df.sort_values('time', inplace=True)\n",
    "    df.reset_index(inplace = True, drop = True)\n",
    "    \n",
    "    return df\n",
    "\n",
    "def remove_no_change(df):\n",
    "    # remove doubles\n",
    "    gb = df.groupby(['deviceCode', 'id'])#[['current','duration', 'mode']].size()\n",
    "    df_c = pandas.DataFrame()\n",
    "    for i in gb.groups:\n",
    "        df_i = gb.get_group(i)\n",
    "        m = df_i[['current','duration', 'mode']].diff().any(axis=1)\n",
    "        m.iloc[0] = True\n",
    "        df_c = df_c.append(df_i[m])\n",
    "    return df_c"
   ]
  },
  {
   "cell_type": "code",
   "execution_count": null,
   "id": "26c85d6e",
   "metadata": {},
   "outputs": [],
   "source": [
    "## Load ONC DB"
   ]
  },
  {
   "cell_type": "code",
   "execution_count": null,
   "id": "49601ad2",
   "metadata": {},
   "outputs": [],
   "source": [
    "# in case execute db.load_entire_db_from_ONC() to load the entire db\n",
    "if os.path.exists(strawb.Config.pandas_file_sync_db):\n",
    "    db = strawb.SyncDBHandler()  # loads the db from disc\n",
    "else:\n",
    "    db = strawb.SyncDBHandler(load_db=False)  # doesn't load from disc\n",
    "db.load_onc_db_update(output=True, save_db=True)  # get updates"
   ]
  },
  {
   "cell_type": "code",
   "execution_count": null,
   "id": "f08bf33e",
   "metadata": {},
   "outputs": [],
   "source": [
    "df = scan_lucifer_options(db)\n",
    "df = remove_no_change(df)\n",
    "\n",
    "str_formater = 'lucifer_settings_{t_start:%Y%m%dT%H%M%S}_{t_end:%Y%m%dT%H%M%S}.gz'\n",
    "\n",
    "formater_dict = {'t_start': df.time.min(),\n",
    "                 't_end': df.time.max()}\n",
    "\n",
    "file_name = str_formater.format(**formater_dict)\n",
    "file_name = os.path.join(strawb.Config.proc_data_dir, file_name)\n",
    "\n",
    "db_lucifer = strawb.ONCDeviceDB(file_name=file_name, load_db=False)\n",
    "db_lucifer.dataframe = df\n",
    "db_lucifer.save_db()"
   ]
  },
  {
   "cell_type": "code",
   "execution_count": null,
   "id": "ebce5284",
   "metadata": {},
   "outputs": [],
   "source": []
  }
 ],
 "metadata": {
  "kernelspec": {
   "display_name": "py39",
   "language": "python",
   "name": "py39"
  },
  "language_info": {
   "codemirror_mode": {
    "name": "ipython",
    "version": 3
   },
   "file_extension": ".py",
   "mimetype": "text/x-python",
   "name": "python",
   "nbconvert_exporter": "python",
   "pygments_lexer": "ipython3",
   "version": "3.7.10"
  }
 },
 "nbformat": 4,
 "nbformat_minor": 5
}
