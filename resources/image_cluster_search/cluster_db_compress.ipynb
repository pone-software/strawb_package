{
 "cells": [
  {
   "cell_type": "code",
   "execution_count": null,
   "id": "744f37ea",
   "metadata": {},
   "outputs": [],
   "source": [
    "# %matplotlib notebook\n",
    "import tqdm\n",
    "import tqdm.notebook\n",
    "import h5py\n",
    "\n",
    "import os\n",
    "\n",
    "import dateutil\n",
    "import datetime\n",
    "import time\n",
    "\n",
    "import numpy as np\n",
    "import strawb\n",
    "\n",
    "import pandas\n",
    "import gc\n",
    "import glob"
   ]
  },
  {
   "cell_type": "code",
   "execution_count": null,
   "id": "a4ef84b2",
   "metadata": {},
   "outputs": [],
   "source": [
    "force_update = False\n",
    "\n",
    "# define root path of image cluster data\n",
    "path = os.path.join(strawb.Config.proc_data_dir, 'image_cluster_search')\n",
    "path"
   ]
  },
  {
   "cell_type": "markdown",
   "id": "d0f0a9b4",
   "metadata": {},
   "source": [
    "# Merge DBs"
   ]
  },
  {
   "cell_type": "markdown",
   "id": "fc139592",
   "metadata": {},
   "source": [
    "## Search for monthly DBs"
   ]
  },
  {
   "cell_type": "code",
   "execution_count": null,
   "id": "1c6a216a",
   "metadata": {},
   "outputs": [],
   "source": [
    "file_dict = {'fullPath': [], 'deviceCode': [], 'dateFrom':[], 'dateTo':[], 'filesize':[]}\n",
    "search_str = os.path.join(path, '*_image_cluster.gz')\n",
    "\n",
    "for i in glob.glob(search_str):\n",
    "    file_name = os.path.basename(i)\n",
    "    dev_i, d_f, d_t, _ = file_name.split('_', 3)\n",
    "    \n",
    "    file_dict['deviceCode'].append(dev_i)\n",
    "    file_dict['dateFrom'].append(d_f)\n",
    "    file_dict['dateTo'].append(d_t)\n",
    "    \n",
    "    file_dict['fullPath'].append(os.path.abspath(i))\n",
    "    file_dict['filesize'].append(os.path.getsize(i))\n",
    "    \n",
    "    \n",
    "df = pandas.DataFrame(file_dict)\n",
    "del file_dict\n",
    "df.dateFrom = pandas.to_datetime(df.dateFrom, unit='ns')\n",
    "df.dateTo = pandas.to_datetime(df.dateTo, unit='ns')\n",
    "\n",
    "df.sort_values('dateFrom', inplace=True)\n",
    "\n",
    "df"
   ]
  },
  {
   "cell_type": "markdown",
   "id": "2e1fbae5",
   "metadata": {},
   "source": [
    "## Compress monthly DB and generate new DB for each device"
   ]
  },
  {
   "cell_type": "code",
   "execution_count": null,
   "id": "5639d138",
   "metadata": {},
   "outputs": [],
   "source": [
    "# gen filename\n",
    "\n",
    "min_n_pixel = 15\n",
    "str_formater = '{dev_code}_{t_start:%Y%m%dT%H%M%S}_{t_end:%Y%m%dT%H%M%S}_image_cluster_merge_npixel{min_n_pixel}.gz'\n",
    "\n",
    "for dev_i in df.deviceCode.unique():\n",
    "    df_i = df[df.deviceCode==dev_i]\n",
    "    formater_dict = {'dev_code': dev_i,\n",
    "                     't_start': df_i.dateFrom.min(),\n",
    "                     't_end': df_i.dateTo.max(),\n",
    "                     'min_n_pixel': min_n_pixel}\n",
    "    file_name = str_formater.format(**formater_dict)\n",
    "    file_name = os.path.join(path, file_name)\n",
    "\n",
    "    if os.path.exists(file_name) and not force_update:\n",
    "        print(f'File Exists - skip it - {file_name}')\n",
    "        continue\n",
    "    print(file_name)\n",
    "    \n",
    "    db_merg = strawb.sync_db_handler.ImageClusterDB(file_name=file_name, load_db=False)\n",
    "    \n",
    "    for f_j in tqdm.notebook.tqdm(df_i.fullPath, desc=dev_i):\n",
    "        db_merg_j = strawb.sync_db_handler.ImageClusterDB(file_name=f_j)\n",
    "        \n",
    "        # mask by size, but take the label 0 to get at least one entry for every picture\n",
    "        mask_df = (db_merg_j.dataframe.n_pixel >= min_n_pixel) | (db_merg_j.dataframe.label<=0)\n",
    "        dataframe_j = db_merg_j.dataframe[db_merg_j.dataframe.n_pixel >= min_n_pixel].copy()\n",
    "        \n",
    "        print(os.path.basename(f_j), f'{len(dataframe_j)/len(db_merg_j.dataframe):.3f}', len(db_merg_j.dataframe), len(dataframe_j))\n",
    "        \n",
    "        dataframe_j.sort_values('time', inplace=True)\n",
    "        dataframe_j.time = pandas.to_datetime(dataframe_j.time, utc=True)\n",
    "        dataframe_j.mean_std_start = pandas.to_datetime(dataframe_j.mean_std_start, utc=True)\n",
    "        dataframe_j.mean_std_stop = pandas.to_datetime(dataframe_j.mean_std_stop, utc=True)\n",
    "        dataframe_j.sort_values(['mean_std_start', 'time', 'label'], axis=0, inplace=True, ignore_index=True)  # , 'time', 'label']\n",
    "\n",
    "\n",
    "        if db_merg.dataframe is None:\n",
    "            db_merg.dataframe = dataframe_j\n",
    "        else:\n",
    "            db_merg.dataframe = db_merg.dataframe.append(dataframe_j, ignore_index=True)\n",
    "\n",
    "    db_merg.save_db()\n",
    "\n",
    "    print(strawb.tools.human_size(os.path.getsize(file_name)))"
   ]
  },
  {
   "cell_type": "code",
   "execution_count": null,
   "id": "a17774d9",
   "metadata": {},
   "outputs": [],
   "source": []
  }
 ],
 "metadata": {
  "kernelspec": {
   "display_name": "py39",
   "language": "python",
   "name": "py39"
  },
  "language_info": {
   "codemirror_mode": {
    "name": "ipython",
    "version": 3
   },
   "file_extension": ".py",
   "mimetype": "text/x-python",
   "name": "python",
   "nbconvert_exporter": "python",
   "pygments_lexer": "ipython3",
   "version": "3.7.10"
  }
 },
 "nbformat": 4,
 "nbformat_minor": 5
}
