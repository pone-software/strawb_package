{
 "cells": [
  {
   "cell_type": "code",
   "execution_count": 2,
   "metadata": {},
   "outputs": [],
   "source": [
    "%matplotlib inline\n",
    "import numpy as np\n",
    "import pandas as pd\n",
    "\n",
    "import strawb\n",
    "import os\n",
    "import matplotlib.pyplot as plt\n",
    "import matplotlib.dates as mdates\n",
    "\n",
    "import scipy.ndimage\n",
    "import random\n",
    "import scipy.spatial\n",
    "import cv2\n",
    "import scipy.interpolate\n",
    "\n",
    "import matplotlib.colors\n",
    "import copy\n",
    "import matplotlib.ticker\n",
    "import matplotlib.patches"
   ]
  },
  {
   "cell_type": "code",
   "execution_count": 6,
   "metadata": {},
   "outputs": [
    {
     "data": {
      "text/plain": [
       "(array([[   0,    0],\n",
       "        [   0,    1],\n",
       "        [   0,    2],\n",
       "        ...,\n",
       "        [1279,  957],\n",
       "        [1279,  958],\n",
       "        [1279,  959]]),\n",
       " (550996, 2))"
      ]
     },
     "execution_count": 6,
     "metadata": {},
     "output_type": "execute_result"
    },
    {
     "data": {
      "image/png": "[encoded data removed]",
      "text/plain": [
       "<Figure size 432x288 with 2 Axes>"
      ]
     },
     "metadata": {
      "needs_background": "light"
     },
     "output_type": "display_data"
    }
   ],
   "source": [
    "with np.load('LED_images.npz') as f:\n",
    "    images = f['images']\n",
    "\n",
    "image = images[4]\n",
    "blue = image[:,:,2]\n",
    "green = image[:,:,1]\n",
    "red = image[:,:,0]\n",
    "\n",
    "mounting_blue = blue < 0.15\n",
    "mounting_green = green < 0.15\n",
    "mounting_red = red < 0.15\n",
    "\n",
    "mounting = mounting_blue & mounting_green & mounting_red  \n",
    "\n",
    "mounting_labeled, n = scipy.ndimage.measurements.label(mounting)#, structure=s)  \n",
    "\n",
    "mask = mounting_labeled == mounting_labeled[-1]\n",
    "mask = ~mask # invert the mask\n",
    "\n",
    "mask_labeled, n_mask = scipy.ndimage.measurements.label(mask)#, structure=s)  \n",
    "\n",
    "mask_area = scipy.ndimage.measurements.sum(mask, mask_labeled, index=np.arange(mask_labeled.max() + 1)) \n",
    "\n",
    "mask_size = mask_area[mask_labeled]  # set value of each pixel to the size of the cluster it belongs to \n",
    "m = np.where(mask_size == mask_area.max(), True, False)\n",
    "\n",
    "plt.imshow(m, cmap='Blues_r')\n",
    "plt.colorbar()\n",
    "\n",
    "mounting_coo = np.argwhere(m == False)\n",
    "mounting_coo, mounting_coo.shape"
   ]
  },
  {
   "cell_type": "code",
   "execution_count": null,
   "metadata": {},
   "outputs": [],
   "source": []
  }
 ],
 "metadata": {
  "kernelspec": {
   "display_name": "Python 3.8.8 ('base')",
   "language": "python",
   "name": "python3"
  },
  "language_info": {
   "codemirror_mode": {
    "name": "ipython",
    "version": 3
   },
   "file_extension": ".py",
   "mimetype": "text/x-python",
   "name": "python",
   "nbconvert_exporter": "python",
   "pygments_lexer": "ipython3",
   "version": "3.8.8"
  },
  "orig_nbformat": 4,
  "vscode": {
   "interpreter": {
    "hash": "3dbe8948e6ba6f7b500cbad156adccce2d4d02afc71091580e98904bda0c5804"
   }
  }
 },
 "nbformat": 4,
 "nbformat_minor": 2
}
