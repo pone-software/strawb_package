{
 "cells": [
  {
   "cell_type": "code",
   "execution_count": null,
   "metadata": {},
   "outputs": [],
   "source": [
    "#%matplotlib inline\n",
    "%matplotlib notebook\n",
    "import numpy as np\n",
    "import os\n",
    "\n",
    "import strawb\n",
    "import shapely.geometry\n",
    "import cv2\n",
    "\n",
    "import matplotlib.pyplot as plt\n",
    "\n",
    "import strawb\n",
    "import scipy.ndimage\n",
    "import scipy.spatial\n",
    "import scipy.interpolate\n",
    "\n",
    "path = os.path.join(strawb.Config.repository_home, 'resources/image_cluster_search')"
   ]
  },
  {
   "cell_type": "markdown",
   "metadata": {},
   "source": [
    "# Load images"
   ]
  },
  {
   "cell_type": "code",
   "execution_count": null,
   "metadata": {},
   "outputs": [],
   "source": [
    "mounting_mod_dict = {\n",
    "    'TUMPMTSPECTROMETER001': cv2.imread(os.path.join(path, 'TUMPMTSPECTROMETER001_mounting_mod.png'))[:,:,::-1],\n",
    "    'TUMPMTSPECTROMETER002': cv2.imread(os.path.join(path, 'TUMPMTSPECTROMETER002_mounting_mod.png'))[:,:,::-1],\n",
    "}\n",
    "\n",
    "# gen. masked array for all devices\n",
    "devices = list(mounting_mod_dict.keys())\n",
    "\n",
    "for i in devices:\n",
    "    img = np.ma.array(mounting_mod_dict[i],\n",
    "                      mask=np.zeros_like(mounting_mod_dict[i])\n",
    "                     )   \n",
    "\n",
    "    # define the color threshold\n",
    "    m = img[:,:,0] > 200\n",
    "    m &= img[:,:,1] < 50\n",
    "    m &= img[:,:,2] < 50\n",
    "\n",
    "    img.mask |= m.reshape((*m.shape, 1))\n",
    "    mounting_mod_dict[i] = img"
   ]
  },
  {
   "cell_type": "markdown",
   "metadata": {},
   "source": [
    "## Plot images"
   ]
  },
  {
   "cell_type": "code",
   "execution_count": null,
   "metadata": {},
   "outputs": [],
   "source": [
    "fig, ax = plt.subplots(nrows=2, ncols=len(mounting_mod_dict), squeeze=False, sharex=True, sharey=True)\n",
    "print(ax.shape)\n",
    "\n",
    "for i, dev_i in enumerate(mounting_mod_dict):\n",
    "    ax[0, i].set_title(dev_i.replace('TUMPMTSPECTROMETER','PMTSpec'))\n",
    "    \n",
    "    ax[0, i].imshow(mounting_mod_dict[dev_i])\n",
    "    ax[1, i].imshow(mounting_mod_dict[dev_i].filled((0,0,0)))\n",
    "    \n",
    "ax[0, 0].set_ylabel('mod.png')\n",
    "ax[1, 0].set_ylabel('masked')\n",
    "\n",
    "plt.tight_layout()"
   ]
  },
  {
   "cell_type": "markdown",
   "metadata": {},
   "source": [
    "## Save the mask\n",
    "strawb takes the mounting_mask.npz for the config"
   ]
  },
  {
   "cell_type": "code",
   "execution_count": null,
   "metadata": {},
   "outputs": [],
   "source": [
    "# save the mask in separate file\n",
    "file_name = os.path.abspath(os.path.join(strawb.Config.repository_home,\n",
    "                                         'src/strawb/sensors/camera/mounting_mask.npz'))\n",
    "np.savez(file_name, **{i: np.any(~mounting_mod_dict[i].mask, axis=-1) for i in mounting_mod_dict})\n",
    "\n",
    "# for testing if written\n",
    "file_test = np.load(file_name)\n",
    "file_test.files"
   ]
  },
  {
   "cell_type": "markdown",
   "metadata": {},
   "source": [
    "# Cut FOV"
   ]
  },
  {
   "cell_type": "code",
   "execution_count": null,
   "metadata": {},
   "outputs": [],
   "source": [
    "ncols = 4\n",
    "fig, ax = plt.subplots(ncols=ncols, nrows=len(mounting_mod_dict), squeeze=False, \n",
    "                       #sharex='row', sharey='row'\n",
    "                      )\n",
    "ax = ax.flatten()\n",
    "\n",
    "c = 255//2\n",
    "\n",
    "for i, dev_i in enumerate(mounting_mod_dict):\n",
    "    cam_conf = strawb.camera.Config(dev_i)\n",
    "    rect = cv2.minAreaRect(np.argwhere(cam_conf.mask_mounting))\n",
    "    points = cv2.boxPoints(rect)\n",
    "    print(dev_i, ' ', rect)\n",
    "\n",
    "    img = mounting_mod_dict[dev_i]\n",
    "    ax[ncols*i].set_ylabel(dev_i.replace('TUM', ''))\n",
    "    ax[ncols*i].imshow(img)\n",
    "    ax[ncols*i+1].imshow(img.filled((c,c,c)))\n",
    "    \n",
    "    cs = ax[ncols*i+1].contourf(~img.mask.any(axis=-1), 1, hatches=['xxx', ''], alpha=1, )\n",
    "    # ------------------------------\n",
    "    # New bit here that handles changing the color of hatches\n",
    "    colors = ['maroon', 'red', 'darkorange', 'gold', 'forestgreen',\n",
    "              'darkturquoise', 'dodgerblue', 'darkviolet']\n",
    "    # For each level, we set the color of its hatch \n",
    "    for j, collection in enumerate(cs.collections):\n",
    "    #     collection.set_edgecolor(colors[j % len(colors)])\n",
    "        collection.set_edgecolor('C0')\n",
    "        collection.set_facecolor('none')#(0,0,0,0))\n",
    "\n",
    "    # Doing this also colors in the box around each level\n",
    "    # We can remove the colored line around the levels by setting the linewidth to 0\n",
    "    for collection in cs.collections:\n",
    "        collection.set_linewidth(1.)\n",
    "    \n",
    "    img_cut = strawb.camera.tools.cut_fov(img, rect=rect)\n",
    "    ax[ncols*i+2].imshow(img_cut.filled((c,c,c)))\n",
    "    ax[ncols*i+3].imshow(strawb.camera.tools.equalization(img_cut.filled((c,c,c))))\n",
    "    \n",
    "ax[0].set_title('Modified')\n",
    "ax[1].set_title('masked red')\n",
    "ax[2].set_title('+ cropped')\n",
    "ax[3].set_title('+ equalization')\n",
    "plt.tight_layout()"
   ]
  },
  {
   "cell_type": "markdown",
   "metadata": {},
   "source": [
    "# Get contour as polygon and simplify the polygon"
   ]
  },
  {
   "cell_type": "code",
   "execution_count": null,
   "metadata": {},
   "outputs": [],
   "source": [
    "# Plot all contours for all devices. There should be only one contour per device\n",
    "plt.figure()\n",
    "for i, dev_i in enumerate(mounting_mod_dict):\n",
    "    cam_conf = strawb.camera.Config(dev_i)\n",
    "    contours, hierarchy = strawb.camera.tools.get_contours_simplify(cam_conf.mask_mounting)\n",
    "\n",
    "    if len(contours) != 1:\n",
    "        print(f\"WARNING: {dev_i} doesn't has exacly 1 contour. Got: {len(contours)}\")\n",
    "    for j, c_j in enumerate(contours):\n",
    "        plt.plot(*c_j.T, label=f'{dev_i.replace(\"TUM\",\"\")}_contour_{j}')\n",
    "        \n",
    "plt.legend()"
   ]
  },
  {
   "cell_type": "markdown",
   "metadata": {},
   "source": [
    "# Modifiy picture by hand to mask mounting\n",
    "you can export the images stored in LED_images.npz to a png. Modify the image that the mounting is red ([255,0,0]) e.g. with photoshop"
   ]
  },
  {
   "cell_type": "code",
   "execution_count": null,
   "metadata": {},
   "outputs": [],
   "source": [
    "with np.load('LED_images.npz') as f:\n",
    "        images = f['images']\n",
    "        \n",
    "# select one bright image\n",
    "image = images[-1]\n",
    "        \n",
    "# True, to export the image\n",
    "if False:\n",
    "    # Write image as png to modify it that the mounting is red ([255,0,0]) e.g. with photoshop\n",
    "    # imwrite needs 16bit uint and BGR instead of RGB <-> [:,:,::-1]\n",
    "    cv2.imwrite('mounting.png', (image * 2**16).astype(np.uint16)[:,:,::-1])"
   ]
  },
  {
   "cell_type": "code",
   "execution_count": null,
   "metadata": {},
   "outputs": [],
   "source": [
    "images_list = list(images.astype(np.float32))\n",
    "\n",
    "images_list_show = [images_list[1], images_list[3], images_list[-1]]\n",
    "fig, ax = plt.subplots(figsize=(10,5), ncols=len(images_list_show), sharex=True, sharey=True, squeeze=False)\n",
    "ax = ax.flatten()\n",
    "for i, img_i in enumerate(images_list_show):\n",
    "    ax[i].imshow(strawb.camera.tools.equalization(img_i))"
   ]
  },
  {
   "cell_type": "markdown",
   "metadata": {},
   "source": [
    "# Get position of module above"
   ]
  },
  {
   "cell_type": "code",
   "execution_count": null,
   "metadata": {},
   "outputs": [],
   "source": [
    "# lower limits of the RGB valuse [red, green, blue]\n",
    "limit = np.ones(3) * .1\n",
    "\n",
    "box_list = []\n",
    "images_list_show = [images_list[1], images_list[3]]\n",
    "\n",
    "fig, ax = plt.subplots(figsize=(10,5), ncols=len(images_list_show), sharex=True, sharey=True, squeeze=False)\n",
    "ax = ax.flatten()\n",
    "\n",
    "for i, img_i in enumerate(images_list_show):\n",
    "    \n",
    "    mask = img_i[:,:,0] > limit[0]\n",
    "    mask &= img_i[:,:,1] > limit[1]\n",
    "    mask &= img_i[:,:,2] > limit[2]\n",
    "\n",
    "    box = cv2.minAreaRect(np.argwhere(mask))\n",
    "    box_list.append(box)\n",
    "    points = cv2.boxPoints(box)\n",
    "\n",
    "    ax[i].imshow(strawb.camera.tools.equalization(img_i))\n",
    "\n",
    "    ax[i].scatter(*box[0][::-1], alpha=.5, color='w')\n",
    "    ax[i].plot(*strawb.tools.connect_polar(points).T[::-1], alpha=.5, color='w' )\n",
    "\n",
    "# added to strawb.camera.Config.position_dict: device_code: {'module' : ...}\n",
    "print(f'Mean position of {len(images_list_show)} pictures')\n",
    "print(f\"'module' : {np.array([i[0] for i in box_list]).mean(axis=0)}\")"
   ]
  },
  {
   "cell_type": "markdown",
   "metadata": {},
   "source": [
    "# Plot imges with labels"
   ]
  },
  {
   "cell_type": "code",
   "execution_count": null,
   "metadata": {},
   "outputs": [],
   "source": [
    "# plot\n",
    "cmap = strawb.tools.cmap_manipulator('Reds', alpha_min=0)\n",
    "fig, ax = plt.subplots(figsize=(10,5), ncols=len(mounting_mod_dict),\n",
    "                       sharex=True, sharey=True, squeeze=False)\n",
    "ax = ax.flatten()\n",
    "\n",
    "for i, dev_i in enumerate(mounting_mod_dict):\n",
    "    cam_conf = strawb.camera.Config(dev_i)\n",
    "\n",
    "    img = mounting_mod_dict[dev_i]\n",
    "    ax[i].imshow(img.filled(0))\n",
    "    # plt.imshow(cv2.cvtColor(image.astype(np.float32), cv2.COLOR_BGR2GRAY), cmap='gray_r')\n",
    "    # plt.imshow(mask, label='2D Mask', cmap=cmap, alpha=mask.astype(int))\n",
    "\n",
    "    # for i, c_i in enumerate(contours):\n",
    "    #     plt.plot(*c_i.T, '-', label=f'cv2 contours {i}')\n",
    "\n",
    "    contours, hierarchy = strawb.camera.tools.get_contours_simplify(cam_conf.mask_mounting)\n",
    "    print(dev_i, img.shape)\n",
    "    for j, c_j in enumerate(contours):\n",
    "        ax[i].plot(*c_j.T, ':', label=f'FoV boundary', lw=3, color='w')\n",
    "\n",
    "    # cs = plt.contourf(mounting_mask, levels=1, hatches=['/', ''], alpha=1)\n",
    "    # # ------------------------------\n",
    "    # # New bit here that handles changing the color of hatches\n",
    "    # colors = ['maroon', 'red', 'darkorange', 'gold', 'forestgreen',\n",
    "    #           'darkturquoise', 'dodgerblue', 'darkviolet']\n",
    "    # # For each level, we set the color of its hatch \n",
    "    # for i, collection in enumerate(cs.collections):\n",
    "    # #     collection.set_edgecolor(colors[i % len(colors)])\n",
    "    #     collection.set_edgecolor('gray')\n",
    "    #     collection.set_facecolor('none')#(0,0,0,0))\n",
    "\n",
    "    # # Doing this also colors in the box around each level\n",
    "    # # We can remove the colored line around the levels by setting the linewidth to 0\n",
    "    #     collection.set_linewidth(1.)\n",
    "\n",
    "    ax[i].plot(*cam_conf.data_cable, label='Data Cable')\n",
    "    ax[i].plot(*cam_conf.steel_cable, label='Steel Cable')\n",
    "    ax[i].plot(*cam_conf.position_module, 'o', label='Module')\n",
    "\n",
    "    ax[i].legend(loc=1, ncol=2)\n",
    "# min_xy = points.min(axis=0).astype(int)\n",
    "# max_xy = points.max(axis=0).astype(int)\n",
    "# plt.ylim(min_xy[0]-10, max_xy[0]+10)\n",
    "# plt.xlim(min_xy[1]-10, max_xy[1]+10)\n",
    "# plt.gca().invert_yaxis()\n",
    "plt.tight_layout()"
   ]
  },
  {
   "cell_type": "code",
   "execution_count": null,
   "metadata": {},
   "outputs": [],
   "source": []
  }
 ],
 "metadata": {
  "kernelspec": {
   "display_name": "py39",
   "language": "python",
   "name": "py39"
  },
  "language_info": {
   "codemirror_mode": {
    "name": "ipython",
    "version": 3
   },
   "file_extension": ".py",
   "mimetype": "text/x-python",
   "name": "python",
   "nbconvert_exporter": "python",
   "pygments_lexer": "ipython3",
   "version": "3.7.10"
  },
  "vscode": {
   "interpreter": {
    "hash": "3dbe8948e6ba6f7b500cbad156adccce2d4d02afc71091580e98904bda0c5804"
   }
  }
 },
 "nbformat": 4,
 "nbformat_minor": 2
}
