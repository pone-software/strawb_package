{
 "cells": [
  {
   "cell_type": "code",
   "execution_count": 1,
   "metadata": {},
   "outputs": [],
   "source": [
    "import numpy as np\n",
    "\n",
    "import fourth_day\n",
    "from organism import Organism\n",
    "from camera_visualisation import CameraVisualisation\n",
    "from fourth_day_interface import InterfaceFourthDay\n"
   ]
  },
  {
   "cell_type": "markdown",
   "metadata": {},
   "source": [
    "---"
   ]
  },
  {
   "cell_type": "markdown",
   "metadata": {},
   "source": [
    "### Simulate the organisms with the fourth_day package"
   ]
  },
  {
   "cell_type": "markdown",
   "metadata": {},
   "source": [
    "First, change any settings in the simulation to fit it to your requirements. To simulate images like those taken by the cameras in straw-b, I used the following adaptions (the duration of the simulation is longer than the exposure time of the cameras so that organisms are visible on the virtually created image):"
   ]
  },
  {
   "cell_type": "code",
   "execution_count": 12,
   "metadata": {},
   "outputs": [],
   "source": [
    "fourth_day.config['scenario'] = {\n",
    "    'class':'New',                  # Scenario Class - New: Run a new Monte Carlo simulation. Statistics are saved\n",
    "    \"statistics storage\": {         # Save and load string\n",
    "            \"store\": False,\n",
    "            \"location\": \"../data/statistics/\",\n",
    "            \"name\": \"example_run_1\"\n",
    "        },\n",
    "    \"premature break\": True,        # Break when no organisms in volume\n",
    "    \"duration\": 120,                 # Length of simulation in seconds\n",
    "    \"population size\": 100,          # The population\n",
    "    \"inital distribution\": \"Uniform\",# Starting distribution -Uniform: Organisms are randomly distributed at the beginning\n",
    "    \"injection\": {                  # Injection rate\n",
    "        \"rate\": 3e-1,               # Number of organisms to inject per second\n",
    "        \"y range\": [0., 15.],       # The injection is treated as a binomial distro with p=0.5 for rate >= 1, else rate = p\n",
    "    },                              \n",
    "    \"exclusion\": True,              # If an exclusion zone should be used\n",
    "    \"bounce back\": 0.001,           # Bounce back\n",
    "    \"encounters\": True,            # Encounters on / off\n",
    "    \"organism movement\": True,     # Switch for organisms movement\n",
    "    \"detector\" : {                  # The detector\n",
    "        \"switch\": True,\n",
    "        \"type\": \"PMTSpec\",\n",
    "        \"response\": True,\n",
    "        \"acceptance\": \"Flat\",\n",
    "        \"mean detection prob\": 1\n",
    "    },\n",
    "    'light prop': {\n",
    "        'switch': False,\n",
    "        'x_pos': 3,\n",
    "        'y_pos': 0.5 * 15. - 0.15\n",
    "    },\n",
    "    'detection type': 'Flat'\n",
    "}\n",
    "\n",
    "x_length = 30.\n",
    "y_length = 15.\n",
    "\n",
    "# Geometry\n",
    "# These settings define the geometry of the system\n",
    "# Typically a box (simulation volume) with a spherical exclusion zone (detector)\n",
    "fourth_day.config['geometry']['volume'] = {\n",
    "    'function': 'rectangle',\n",
    "    'x_length': x_length,\n",
    "    'y_length': y_length,\n",
    "    'offset': None,\n",
    "}\n",
    "# Reduce the observation size to reduce the computational load\n",
    "fourth_day.config['geometry']['observation'] = {\n",
    "    'function': 'rectangle',\n",
    "    'x_length': x_length,\n",
    "    'y_length': y_length,\n",
    "    \"offset\": np.array([0., 0.]),\n",
    "}\n",
    "# The detector volume\n",
    "fourth_day.config['geometry'][\"exclusion\"] = {\n",
    "    \"function\": \"sphere\",\n",
    "    \"radius\": 0.042,  # diameter of the straw-b cable: 8.4 mm\n",
    "    \"x_pos\": 3.,\n",
    "    \"y_pos\": 0.5 * y_length,\n",
    "}\n",
    "\n",
    "# Organisms\n",
    "fourth_day.config['organisms'][\"minimal shear stress\"] = 0.005\n",
    "fourth_day.config['organisms']['filter'] = 'depth'\n",
    "fourth_day.config['organisms']['depth filter'] = 1500\n",
    "\n",
    "#fourth_day.config[\"general\"][\"random state seed\"] = 10"
   ]
  },
  {
   "cell_type": "code",
   "execution_count": 13,
   "metadata": {},
   "outputs": [],
   "source": [
    "# to get different initial states, use different seeds for the random number generator \n",
    "fourth_day.config[\"general\"][\"random state seed\"] = np.random.randint(0, 2**32 - 1)\n",
    "\n",
    "# simulate \n",
    "fd = fourth_day.Fourth_Day()\n",
    "fd.sim()"
   ]
  },
  {
   "cell_type": "code",
   "execution_count": 14,
   "metadata": {},
   "outputs": [],
   "source": [
    "# use interface class to get extract the properties for each simulated organism\n",
    "\n",
    "interface = InterfaceFourthDay(fourthday=fd, cam_device_code='TUMPMTSPECTROMETER001', z_min=0, z_max=10)\n",
    "all_orgs = interface.org_df()  # list of dataframes of which each is describing one organism\n",
    "characteristics = interface.characteristics()  # some characteristics of the organisms"
   ]
  },
  {
   "cell_type": "markdown",
   "metadata": {},
   "source": [
    "---"
   ]
  },
  {
   "cell_type": "markdown",
   "metadata": {},
   "source": [
    "### Example: Visualize one organism"
   ]
  },
  {
   "cell_type": "code",
   "execution_count": 16,
   "metadata": {},
   "outputs": [],
   "source": [
    "# choose your organism (the one with the longest dataframe in all_orgs might be a good choice \n",
    "# to see the organism on the image)\n",
    "\n",
    "index = 1"
   ]
  },
  {
   "cell_type": "code",
   "execution_count": 17,
   "metadata": {},
   "outputs": [],
   "source": [
    "# get the properties of our chosen organism\n",
    "positions = np.array([all_orgs[index].x_sim, all_orgs[index].y_sim, all_orgs[index].z_sim])\n",
    "intensity = all_orgs[index].photons \n",
    "species = characteristics[1][index]\n",
    "radius = characteristics[2][index]\n",
    "mean_emission = characteristics[3][index]\n",
    "sd_mean = characteristics[4][index]"
   ]
  },
  {
   "cell_type": "code",
   "execution_count": 18,
   "metadata": {},
   "outputs": [],
   "source": [
    "# convert the trajectory of the organism\n",
    "org = Organism(species=species, radius=radius, positions=positions, mean_emission=mean_emission,\n",
    "                      sd_mean_emission=sd_mean, intensity=intensity)\n",
    "\n",
    "int_pdf = org.intensity_pdf(n_times=1000)\n",
    "traj_interp = org.points_along_trajectory(times=int_pdf[1])\n",
    "final_points = org.points_along_trajectory_on_organism_surface(points=traj_interp[0], \n",
    "                                                               trajectory_interp_xy=traj_interp[1], \n",
    "                                                               trajectory_interp_xz=traj_interp[2])\n",
    "int_times = org.intensity_at_timestep(times=int_pdf[1])"
   ]
  },
  {
   "cell_type": "markdown",
   "metadata": {},
   "source": [
    "---"
   ]
  },
  {
   "cell_type": "markdown",
   "metadata": {},
   "source": [
    "### Visualize the organism"
   ]
  },
  {
   "cell_type": "code",
   "execution_count": 19,
   "metadata": {},
   "outputs": [],
   "source": [
    "# get the x, y and z values for the chosen organism and create a virtual image\n",
    "\n",
    "x = [i[0] for i in final_points]\n",
    "y = [i[1] for i in final_points]\n",
    "z = [i[2] for i in final_points]\n",
    "\n",
    "vis = CameraVisualisation(positions=np.array([x,y,z]), \n",
    "                          intensity=int_times, \n",
    "                          cam_device_code='TUMPMTSPECTROMETER001', \n",
    "                          cam_pos_x=3.3, cam_pos_y=7.5, cam_pos_z=0)"
   ]
  },
  {
   "cell_type": "code",
   "execution_count": 25,
   "metadata": {},
   "outputs": [
    {
     "name": "stderr",
     "output_type": "stream",
     "text": [
      "Clipping input data to the valid range for imshow with RGB data ([0..1] for floats or [0..255] for integers).\n"
     ]
    },
    {
     "data": {
      "image/png": "[encoded data removed]",
      "text/plain": [
       "<Figure size 400x600 with 1 Axes>"
      ]
     },
     "metadata": {},
     "output_type": "display_data"
    }
   ],
   "source": [
    "# show image here\n",
    "# an organism might activate only a few pixels and thus be too small to see\n",
    "# to check if the organism is there (any pixel values are != 0), go to next cell\n",
    "vis.generate_image()"
   ]
  },
  {
   "cell_type": "code",
   "execution_count": 24,
   "metadata": {},
   "outputs": [
    {
     "name": "stdout",
     "output_type": "stream",
     "text": [
      "Organism is there!\n"
     ]
    }
   ],
   "source": [
    "# check which pixels are activated by the organism\n",
    "\n",
    "grid = vis.get_intensity_grid()\n",
    "\n",
    "if np.any(grid != 0): \n",
    "    print('Organism is there!')\n",
    "else: \n",
    "    print('No organism is there.')"
   ]
  },
  {
   "cell_type": "markdown",
   "metadata": {},
   "source": [
    "---"
   ]
  }
 ],
 "metadata": {
  "kernelspec": {
   "display_name": "Python 3",
   "language": "python",
   "name": "python3"
  },
  "language_info": {
   "codemirror_mode": {
    "name": "ipython",
    "version": 3
   },
   "file_extension": ".py",
   "mimetype": "text/x-python",
   "name": "python",
   "nbconvert_exporter": "python",
   "pygments_lexer": "ipython3",
   "version": "3.8.8"
  }
 },
 "nbformat": 4,
 "nbformat_minor": 2
}
